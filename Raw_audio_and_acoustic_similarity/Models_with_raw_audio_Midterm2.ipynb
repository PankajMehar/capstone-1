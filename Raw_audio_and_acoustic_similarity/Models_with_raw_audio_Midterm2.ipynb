{
 "cells": [
  {
   "cell_type": "code",
   "execution_count": 3,
   "metadata": {
    "collapsed": true
   },
   "outputs": [],
   "source": [
    "#importing module spotipy to make api calls to spotify\n",
    "import spotipy\n",
    "# module to extract song from url\n",
    "import urllib\n",
    "# OAuth Credenials\n",
    "from spotipy.oauth2 import SpotifyClientCredentials\n",
    "from multiprocessing import Process, Queue\n",
    "import pandas as pd \n",
    "import numpy as np\n",
    "from sklearn import datasets, linear_model\n",
    "from sklearn.model_selection import cross_val_predict\n",
    "from sklearn import linear_model\n",
    "import matplotlib.pyplot as plt\n",
    "import numpy as np\n",
    "\n",
    "from sklearn.datasets import load_boston\n",
    "from sklearn.ensemble import RandomForestRegressor\n",
    "from sklearn.ensemble import RandomForestClassifier\n",
    "from sklearn.pipeline import Pipeline\n",
    "from sklearn.preprocessing import Imputer\n",
    "from sklearn.model_selection import cross_val_score\n",
    "from sklearn.decomposition import PCA\n",
    "\n",
    "client_credentials_manager = SpotifyClientCredentials(client_id='4a1a457d14c0445a96e7021a5523905b', client_secret='45b186d601544fdcbb4fe07c7b23cce5')\n",
    "sp = spotipy.Spotify(client_credentials_manager=client_credentials_manager)\n"
   ]
  },
  {
   "cell_type": "code",
   "execution_count": 4,
   "metadata": {
    "collapsed": false
   },
   "outputs": [],
   "source": [
    "# tracks_total contains audio tracks for 14887 songs\n",
    "import glob, os\n",
    "os.chdir(\"/Users/sonumehta/Desktop/Sem2/Capstone/PyAudio_tools/pyAudioAnalysis/tracks_total\")\n",
    "track_ids  = []\n",
    "for file in glob.glob(\"*.wav\"):\n",
    "    track_ids.append(file[5:-4])\n",
    "\n"
   ]
  },
  {
   "cell_type": "code",
   "execution_count": 5,
   "metadata": {
    "collapsed": false
   },
   "outputs": [
    {
     "name": "stdout",
     "output_type": "stream",
     "text": [
      "['002iHpz1z9UbrIzJ8xcx3M', '003z7jJLt6uHFL7MXNoiFG', '00BEfnRBx4462R8DEqIht2', '00BuKLSAFkaEkaVAgIMbeA', '00cbPJvsvWKM7v2XJ7iUSz', '00cP99zN0bsUZSpXbAlQXg', '00fbABFSx3C0IGbBZwZ6my', '00FhepGny3cj4PuxZHRRGz', '00Hxf3pBkAasP9itOoAtWv', '00jlyC6x233qlS1vhLHdA3', '00k4IcdhoUtt3fBATrDyhh', '00kzys67XYXiB31cSP5jfo', '00Lv5XnSWvhYx89KkuiYPe', '00myZYBi2sZMbd8IikZgQh', '00OzUEgsPIqPK1LGaQBHMk']\n"
     ]
    }
   ],
   "source": [
    "len(track_ids)\n",
    "print(track_ids[:15])"
   ]
  },
  {
   "cell_type": "code",
   "execution_count": 4,
   "metadata": {
    "collapsed": true
   },
   "outputs": [],
   "source": [
    "# get the populrity of track given track id\n",
    "def get_popularity(offset, numLoops, queue, track_ids, limit=10):\n",
    "    # store all tracks of all playlists \n",
    "    print('Starting')\n",
    "    track_ids_all= []\n",
    "    popularity = []\n",
    "    preview_urls_all =[]\n",
    "    for loopIndex in range(numLoops):\n",
    "        start = offset + limit*loopIndex\n",
    "        end = start +50\n",
    "        tracks_list = sp.tracks(track_ids[start:end])\n",
    "        \n",
    "        \n",
    "        for track in tracks_list['tracks']:\n",
    "            \n",
    "            try:\n",
    "                preview_urls_all.append(track['preview_url'])\n",
    "                track_ids_all.append(track['id'])\n",
    "                popularity.append(track['popularity'])\n",
    "            except:\n",
    "            #    a=0\n",
    "                print(\"NO METADATA\")\n",
    "        \n",
    "\n",
    "    track_data = pd.DataFrame({\n",
    "    'preview_url': preview_urls_all,\n",
    "    'id': track_ids_all,\n",
    "    'popularity': popularity        \n",
    "    \n",
    "   \n",
    "    })\n",
    "    q.put(track_data)\n",
    "    track_data.to_csv(\"all_tracks_data.csv\")\n",
    "\n",
    "\n",
    "    #name = multiprocessing.current_process().name\n",
    "    print('Exiting')\n"
   ]
  },
  {
   "cell_type": "code",
   "execution_count": 5,
   "metadata": {
    "collapsed": false
   },
   "outputs": [
    {
     "name": "stdout",
     "output_type": "stream",
     "text": [
      "Starting\n",
      "Starting\n",
      "Starting\n",
      "Starting\n",
      "Starting\n",
      "Starting\n",
      "Starting\n",
      "Starting\n",
      "Starting\n",
      "Starting\n",
      "Starting\n",
      "Starting\n",
      "Starting\n",
      "Starting\n",
      "Starting\n",
      "Starting\n",
      "Starting\n",
      "Starting\n",
      "Starting\n",
      "Starting\n",
      "Starting\n",
      "Starting\n",
      "Starting\n",
      "Starting\n",
      "Starting\n",
      "Starting\n",
      "Starting\n",
      "Starting\n",
      "Starting\n",
      "Starting\n",
      "retrying ...7secs\n",
      "retrying ...7secs\n",
      "retrying ...7secs\n",
      "retrying ...7secs\n",
      "retrying ...7secs\n",
      "retrying ...7secs\n",
      "retrying ...7secs\n",
      "retrying ...7secs\n",
      "retrying ...7secs\n",
      "retrying ...7secs\n",
      "retrying ...7secs\n",
      "retrying ...7secs\n",
      "retrying ...7secs\n",
      "retrying ...7secs\n",
      "retrying ...7secs\n",
      "retrying ...7secs\n",
      "retrying ...7secs\n",
      "retrying ...7secs\n",
      "retrying ...7secs\n",
      "retrying ...7secs\n",
      "retrying ...7secs\n",
      "retrying ...7secs\n",
      "retrying ...7secs\n",
      "retrying ...7secs\n",
      "retrying ...7secs\n",
      "retrying ...7secs\n",
      "retrying ...7secs\n",
      "retrying ...7secs\n",
      "retrying ...5secs\n",
      "retrying ...5secs\n",
      "retrying ...0secs\n",
      "retrying ...0secs\n",
      "retrying ...0secs\n",
      "retrying ...0secs\n",
      "retrying ...0secs\n",
      "retrying ...0secs\n",
      "retrying ...0secs\n",
      "retrying ...0secs\n",
      "retrying ...0secs\n",
      "retrying ...7secs\n",
      "retrying ...7secs\n",
      "retrying ...7secs\n",
      "retrying ...7secs\n",
      "retrying ...7secs\n",
      "retrying ...6secs\n",
      "retrying ...6secs\n",
      "retrying ...6secs\n",
      "retrying ...6secs\n",
      "retrying ...6secs\n",
      "retrying ...6secs\n",
      "retrying ...6secs\n",
      "retrying ...6secs\n",
      "retrying ...6secs\n",
      "retrying ...6secs\n",
      "retrying ...6secs\n",
      "retrying ...6secs\n",
      "retrying ...6secs\n",
      "retrying ...6secs\n",
      "retrying ...6secs\n",
      "retrying ...6secs\n",
      "retrying ...6secs\n",
      "retrying ...6secs\n",
      "retrying ...6secs\n",
      "retrying ...6secs\n",
      "retrying ...6secs\n",
      "retrying ...6secs\n",
      "retrying ...6secs\n",
      "retrying ...6secs\n",
      "retrying ...6secs\n",
      "retrying ...0secs\n",
      "retrying ...0secs\n",
      "retrying ...0secs\n",
      "retrying ...0secs\n",
      "retrying ...0secs\n",
      "retrying ...0secs\n",
      "retrying ...0secs\n",
      "retrying ...0secs\n",
      "retrying ...0secs\n",
      "retrying ...0secs\n",
      "retrying ...0secs\n",
      "retrying ...0secs\n",
      "retrying ...0secs\n",
      "retrying ...0secs\n",
      "retrying ...0secs\n",
      "retrying ...0secs\n",
      "retrying ...0secs\n",
      "retrying ...0secs\n",
      "retrying ...0secs\n",
      "retrying ...0secs\n",
      "retrying ...0secs\n",
      "retrying ...0secs\n",
      "retrying ...0secs\n",
      "retrying ...0secs\n",
      "retrying ...0secs\n",
      "retrying ...0secs\n",
      "retrying ...0secs\n",
      "retrying ...0secs\n",
      "retrying ...0secs\n",
      "retrying ...0secs\n",
      "retrying ...0secs\n",
      "retrying ...0secs\n",
      "retrying ...0secs\n",
      "retrying ...0secs\n",
      "retrying ...0secs\n",
      "retrying ...0secs\n",
      "retrying ...0secs\n",
      "retrying ...0secs\n",
      "retrying ...0secs\n",
      "retrying ...0secs\n",
      "retrying ...0secs\n",
      "retrying ...0secs\n",
      "retrying ...0secs\n",
      "retrying ...0secs\n",
      "retrying ...0secs\n",
      "retrying ...0secs\n",
      "retrying ...0secs\n",
      "retrying ...0secs\n",
      "retrying ...0secs\n",
      "retrying ...0secs\n",
      "retrying ...0secs\n",
      "retrying ...0secs\n",
      "retrying ...0secs\n",
      "retrying ...0secs\n",
      "retrying ...0secs\n",
      "Exiting\n",
      "Exiting\n",
      "Exiting\n",
      "Exiting\n",
      "Exiting\n",
      "Exiting\n",
      "Exiting\n",
      "Exiting\n",
      "Exiting\n",
      "Exiting\n",
      "Exiting\n",
      "Exiting\n",
      "Exiting\n",
      "Exiting\n",
      "Exiting\n",
      "Exiting\n",
      "Exiting\n",
      "Exiting\n",
      "Exiting\n",
      "Exiting\n",
      "Exiting\n",
      "Exiting\n",
      "Exiting\n",
      "Exiting\n",
      "Exiting\n",
      "Exiting\n",
      "Exiting\n",
      "Exiting\n",
      "Exiting\n",
      "Exiting\n"
     ]
    }
   ],
   "source": [
    "if __name__ == '__main__':\n",
    "    q = Queue()\n",
    "    for offset in [0,500,1000,1500,2000,2500,3000,3500,4000,4500,5000,5500,6000,6500,7000,7500,8000,8500,9000,9500,10000,10500,11000,11500,12000,12500,13000,13500,14000,14500]:\n",
    "        Process(target=get_popularity, args=(offset,10,q, track_ids)).start()\n",
    "    #p.start()\n",
    "    #print(q.get())    # prints \"[42, None, 'hello']\"\n",
    "    #p.join()"
   ]
  },
  {
   "cell_type": "code",
   "execution_count": 6,
   "metadata": {
    "collapsed": false
   },
   "outputs": [],
   "source": [
    "# combining  data  from different processes into 1 frame\n",
    "all_dfs = []\n",
    "for _ in range(30):\n",
    "    all_dfs.append(q.get())"
   ]
  },
  {
   "cell_type": "code",
   "execution_count": 7,
   "metadata": {
    "collapsed": false
   },
   "outputs": [],
   "source": [
    "playlist_data = all_dfs[0]\n",
    "for each in all_dfs[1:]:\n",
    "    playlist_data = playlist_data.append(each,ignore_index=True)"
   ]
  },
  {
   "cell_type": "code",
   "execution_count": 11,
   "metadata": {
    "collapsed": false
   },
   "outputs": [],
   "source": [
    "# saving data into csv\n",
    "playlist_data.to_csv(\"all_tracks_data.csv\")"
   ]
  },
  {
   "cell_type": "code",
   "execution_count": 5,
   "metadata": {
    "collapsed": false
   },
   "outputs": [
    {
     "data": {
      "text/html": [
       "<div>\n",
       "<table border=\"1\" class=\"dataframe\">\n",
       "  <thead>\n",
       "    <tr style=\"text-align: right;\">\n",
       "      <th></th>\n",
       "      <th>Unnamed: 0</th>\n",
       "      <th>id</th>\n",
       "      <th>popularity</th>\n",
       "      <th>preview_url</th>\n",
       "    </tr>\n",
       "  </thead>\n",
       "  <tbody>\n",
       "    <tr>\n",
       "      <th>0</th>\n",
       "      <td>0</td>\n",
       "      <td>5bF6crgJa5Q58IWgbdUbuO</td>\n",
       "      <td>48</td>\n",
       "      <td>https://p.scdn.co/mp3-preview/8ca5cd7ee7279899...</td>\n",
       "    </tr>\n",
       "    <tr>\n",
       "      <th>1</th>\n",
       "      <td>1</td>\n",
       "      <td>5BFMUpscSbYVT2V9j5d275</td>\n",
       "      <td>46</td>\n",
       "      <td>https://p.scdn.co/mp3-preview/0c6334f2acda0ab8...</td>\n",
       "    </tr>\n",
       "    <tr>\n",
       "      <th>2</th>\n",
       "      <td>2</td>\n",
       "      <td>5bFxSkRAr1kiESBIkArOiP</td>\n",
       "      <td>24</td>\n",
       "      <td>https://p.scdn.co/mp3-preview/8beed2be330e16ce...</td>\n",
       "    </tr>\n",
       "    <tr>\n",
       "      <th>3</th>\n",
       "      <td>3</td>\n",
       "      <td>5bG5GUKVJztKR5nff1CwUp</td>\n",
       "      <td>31</td>\n",
       "      <td>https://p.scdn.co/mp3-preview/7d082bccb3e53698...</td>\n",
       "    </tr>\n",
       "    <tr>\n",
       "      <th>4</th>\n",
       "      <td>4</td>\n",
       "      <td>5BgC5vVuhfWHHawbcXRr7h</td>\n",
       "      <td>31</td>\n",
       "      <td>https://p.scdn.co/mp3-preview/2984ca0f925048f2...</td>\n",
       "    </tr>\n",
       "  </tbody>\n",
       "</table>\n",
       "</div>"
      ],
      "text/plain": [
       "   Unnamed: 0                      id  popularity  \\\n",
       "0           0  5bF6crgJa5Q58IWgbdUbuO          48   \n",
       "1           1  5BFMUpscSbYVT2V9j5d275          46   \n",
       "2           2  5bFxSkRAr1kiESBIkArOiP          24   \n",
       "3           3  5bG5GUKVJztKR5nff1CwUp          31   \n",
       "4           4  5BgC5vVuhfWHHawbcXRr7h          31   \n",
       "\n",
       "                                         preview_url  \n",
       "0  https://p.scdn.co/mp3-preview/8ca5cd7ee7279899...  \n",
       "1  https://p.scdn.co/mp3-preview/0c6334f2acda0ab8...  \n",
       "2  https://p.scdn.co/mp3-preview/8beed2be330e16ce...  \n",
       "3  https://p.scdn.co/mp3-preview/7d082bccb3e53698...  \n",
       "4  https://p.scdn.co/mp3-preview/2984ca0f925048f2...  "
      ]
     },
     "execution_count": 5,
     "metadata": {},
     "output_type": "execute_result"
    }
   ],
   "source": [
    "# reading data from csv\n",
    "import glob, os\n",
    "os.chdir(\"/Users/sonumehta/Desktop/Sem2/Capstone/PyAudio_tools/pyAudioAnalysis/tracks_total\")\n",
    "\n",
    "data_frame1 = pd.read_csv('all_tracks_data.csv')\n",
    "data_frame1.head()\n"
   ]
  },
  {
   "cell_type": "code",
   "execution_count": 12,
   "metadata": {
    "collapsed": false
   },
   "outputs": [],
   "source": [
    "# extracting  features at each timestamp and taking the mean  \n",
    "features = []\n",
    "track_final = []\n",
    "popularity_final = []\n",
    "for i in range(data_frame1['id'].shape[0]):\n",
    "    id1  =data_frame1['id'].iloc[i]\n",
    "    name = \"track\"+ id1+\".wav_st.csv\"\n",
    "\n",
    "    a  = pd.read_csv(name, header = None)\n",
    "    if (np.ravel(a).shape[0]) == 1020:\n",
    "        \n",
    "        #b = np.ravel(np.reshape(np.ravel(a), (1020,1)))\n",
    "        b = np.mean(a, axis = 0)\n",
    "\n",
    "        features.append(b)\n",
    "        track_final.append(id1)\n",
    "        popularity_final.append(data_frame1['popularity'].iloc[i])\n",
    "features = np.array(features)"
   ]
  },
  {
   "cell_type": "code",
   "execution_count": null,
   "metadata": {
    "collapsed": true
   },
   "outputs": [],
   "source": [
    "# saving all data into a csv\n",
    "features.shape\n",
    "import pandas as pd \n",
    "df = pd.DataFrame(features)\n",
    "df.to_csv(\"mean_features.csv\")\n",
    "df = pd.DataFrame(popularity_final)\n",
    "df.to_csv(\"mean_popularity.csv\")\n",
    "\n"
   ]
  },
  {
   "cell_type": "code",
   "execution_count": 6,
   "metadata": {
    "collapsed": false
   },
   "outputs": [],
   "source": [
    "# reading data back from csv\n",
    "popularity = pd.read_csv('mean_popularity.csv', header= None)\n",
    "features = pd.read_csv('mean_features.csv', header=None)\n",
    "popularity = np.array(popularity)\n",
    "popularity[1:,1].shape\n",
    "features = np.array(features)\n",
    "features[1:,1:].shape\n",
    "y = popularity[1:,1]\n",
    "X = features[1:,1:]\n"
   ]
  },
  {
   "cell_type": "code",
   "execution_count": 7,
   "metadata": {
    "collapsed": false
   },
   "outputs": [
    {
     "data": {
      "text/plain": [
       "(14887,)"
      ]
     },
     "execution_count": 7,
     "metadata": {},
     "output_type": "execute_result"
    }
   ],
   "source": [
    "# size of popularity\n",
    "popularity = np.array(popularity)\n",
    "popularity[1:,1].shape"
   ]
  },
  {
   "cell_type": "code",
   "execution_count": 8,
   "metadata": {
    "collapsed": false
   },
   "outputs": [
    {
     "data": {
      "text/plain": [
       "(14887, 34)"
      ]
     },
     "execution_count": 8,
     "metadata": {},
     "output_type": "execute_result"
    }
   ],
   "source": [
    "# dimension of features\n",
    "features = np.array(features)\n",
    "features[1:,1:].shape"
   ]
  },
  {
   "cell_type": "code",
   "execution_count": 9,
   "metadata": {
    "collapsed": false
   },
   "outputs": [],
   "source": [
    "# response and predictors for track popularity prediction\n",
    "y = popularity[1:,1]\n",
    "X = features[1:,1:]\n",
    "popularity = y"
   ]
  },
  {
   "cell_type": "code",
   "execution_count": 10,
   "metadata": {
    "collapsed": false
   },
   "outputs": [],
   "source": [
    "# function to calculate R2\n",
    "def R2(ytrue, ypred):\n",
    "    sse = np.array([i*i for i in (ytrue-ypred)])\n",
    "    #print(sse.shape)\n",
    "    sse = np.sum(sse)\n",
    "    diff_val = (ytrue-np.mean(ytrue))\n",
    "    #print(diff_val.shape)\n",
    "    tss = np.array([i*i for i in diff_val])\n",
    "    tss = np.sum(tss)\n",
    "    print(sse, tss)\n",
    "    res = 1-sse/tss\n",
    "    return res\n",
    "\n"
   ]
  },
  {
   "cell_type": "code",
   "execution_count": 11,
   "metadata": {
    "collapsed": false
   },
   "outputs": [],
   "source": [
    "# diving response variable into 4 bins\n",
    "y_new = popularity.copy()\n",
    "y_new[popularity <= 25 ] = 1\n",
    "y_new[(popularity > 25) &  (popularity <= 50) ] = 2\n",
    "y_new[(popularity > 50) &  (popularity <= 75) ] = 3\n",
    "y_new[(popularity > 75)] = 4\n"
   ]
  },
  {
   "cell_type": "code",
   "execution_count": 12,
   "metadata": {
    "collapsed": false
   },
   "outputs": [
    {
     "data": {
      "image/png": "[encoded data removed]",
      "text/plain": [
       "<matplotlib.figure.Figure at 0x1101c91d0>"
      ]
     },
     "metadata": {},
     "output_type": "display_data"
    },
    {
     "name": "stdout",
     "output_type": "stream",
     "text": [
      "(6188.6824079455819, 7973.4611405924643)\n",
      "('R2 :', 0.22383989853047248)\n"
     ]
    }
   ],
   "source": [
    "# cross-validation linear regression ##\n",
    "\n",
    "lr = linear_model.LinearRegression()\n",
    "\n",
    "y = y_new\n",
    "\n",
    "# cross_val_predict returns an array of the same size as `y` where each entry\n",
    "# is a prediction obtained by cross validation:\n",
    "predicted = cross_val_predict(lr, X, y, cv=5)\n",
    "\n",
    "fig, ax = plt.subplots()\n",
    "ax.scatter(y, predicted)\n",
    "ax.plot([y.min(), y.max()], [y.min(), y.max()], 'k--', lw=4)\n",
    "ax.set_xlabel('Measured')\n",
    "ax.set_ylabel('Predicted')\n",
    "plt.show()\n",
    "print(\"R2 :\", R2(y, predicted))"
   ]
  },
  {
   "cell_type": "code",
   "execution_count": 13,
   "metadata": {
    "collapsed": false
   },
   "outputs": [
    {
     "name": "stdout",
     "output_type": "stream",
     "text": [
      "(6200.2653644686843, 7973.4611405924643)\n",
      "('R2 :', 0.22238720987759442)\n"
     ]
    }
   ],
   "source": [
    "# Ridge regression\n",
    "reg = linear_model.Ridge(alpha = .5)\n",
    "predicted = cross_val_predict(reg, X, y, cv=10)\n",
    "print(\"R2 :\", R2(y, predicted))\n",
    "# fig, ax = plt.subplots()\n",
    "# ax.scatter(y, predicted)\n",
    "# ax.plot([y.min(), y.max()], [y.min(), y.max()], 'k--', lw=4)\n",
    "# ax.set_xlabel('Measured')\n",
    "# ax.set_ylabel('Predicted')\n",
    "# plt.show()"
   ]
  },
  {
   "cell_type": "code",
   "execution_count": null,
   "metadata": {
    "collapsed": true
   },
   "outputs": [],
   "source": [
    "# Support vector regression \n",
    "# takes too long to run\n",
    "from sklearn.model_selection import cross_val_predict\n",
    "from sklearn.svm import SVR\n",
    "svr_lin = SVR(kernel='linear', C=1e3)\n",
    "predicted = cross_val_predict(svr_lin, X, y, cv=10)\n",
    "metrics.accuracy_score(y, predicted) "
   ]
  },
  {
   "cell_type": "code",
   "execution_count": 14,
   "metadata": {
    "collapsed": false
   },
   "outputs": [
    {
     "name": "stdout",
     "output_type": "stream",
     "text": [
      "Strting\n",
      "Score with the entire dataset = 0.24\n"
     ]
    }
   ],
   "source": [
    "# random forest regressor\n",
    "\n",
    "rng = np.random.RandomState(0)\n",
    "\n",
    "print(\"Strting\")\n",
    "# Estimate the score on the entire dataset, with no missing values\n",
    "estimator = RandomForestRegressor(random_state=0, n_estimators=34)\n",
    "score = cross_val_score(estimator, X, y).mean()\n",
    "print(\"Score with the entire dataset = %.2f\" % score)"
   ]
  },
  {
   "cell_type": "code",
   "execution_count": 15,
   "metadata": {
    "collapsed": true
   },
   "outputs": [],
   "source": [
    "# df = pd.DataFrame(X)\n",
    "# coerr = df.corr()\n",
    "# # import seaborn as sns\n",
    "# # sns.heatmap(df)"
   ]
  },
  {
   "cell_type": "code",
   "execution_count": 16,
   "metadata": {
    "collapsed": false
   },
   "outputs": [
    {
     "name": "stdout",
     "output_type": "stream",
     "text": [
      "Strting\n",
      "Score with the entire dataset = 0.58\n"
     ]
    }
   ],
   "source": [
    "# Random forest regressor with sample weights\n",
    "rng = np.random.RandomState(0)\n",
    "\n",
    "print(\"Strting\")\n",
    "weights = dict()\n",
    "weights[1] = 1\n",
    "weights[2] = 1\n",
    "weights[3] = 10\n",
    "weights[4] = 1\n",
    "# Estimate the score on the entire dataset, with no missing values\n",
    "estimator = RandomForestClassifier(random_state=0, n_estimators=34, class_weight=weights)\n",
    "#estimator = RandomForestClassifier(random_state=0, n_estimators=34)\n",
    "score = cross_val_score(estimator, X, y_new).mean()\n",
    "print(\"Score with the entire dataset = %.2f\" % score)"
   ]
  },
  {
   "cell_type": "code",
   "execution_count": 17,
   "metadata": {
    "collapsed": false
   },
   "outputs": [
    {
     "data": {
      "text/plain": [
       "array([[1853, 1993,  162,    0],\n",
       "       [ 588, 6100,  633,    0],\n",
       "       [  88, 2523,  809,    0],\n",
       "       [   0,   90,   37,   11]])"
      ]
     },
     "execution_count": 17,
     "metadata": {},
     "output_type": "execute_result"
    }
   ],
   "source": [
    "from sklearn.metrics import confusion_matrix\n",
    "y_pred = cross_val_predict(estimator, X, y_new, cv = 5)\n",
    "\n",
    "confusion_matrix(y_new, y_pred)"
   ]
  },
  {
   "cell_type": "code",
   "execution_count": 18,
   "metadata": {
    "collapsed": false
   },
   "outputs": [],
   "source": [
    "# dividing response variable into 6 bins\n",
    "y_new = popularity.copy()\n",
    "y_new[popularity <= 10 ] = 1\n",
    "y_new[(popularity > 10) &  (popularity <= 20) ] = 1\n",
    "y_new[(popularity > 20) &  (popularity <= 30) ] = 1\n",
    "y_new[(popularity > 30) &  (popularity <= 40) ] = 1\n",
    "y_new[(popularity > 40) &  (popularity <= 50) ] = 1\n",
    "y_new[(popularity > 50) &  (popularity <= 60) ] = 6\n",
    "y_new[(popularity > 60) &  (popularity <= 70) ] = 7\n",
    "y_new[(popularity > 70) &  (popularity <= 80) ] = 8\n",
    "y_new[(popularity > 80) &  (popularity <= 90) ] = 9\n",
    "\n",
    "\n",
    "y_new[(popularity > 90)] = 10\n"
   ]
  },
  {
   "cell_type": "markdown",
   "metadata": {},
   "source": [
    "The following the best model with accuracy 76% and precision = 1, sensitivity = 1 for high popularity class"
   ]
  },
  {
   "cell_type": "code",
   "execution_count": 19,
   "metadata": {
    "collapsed": false
   },
   "outputs": [
    {
     "name": "stdout",
     "output_type": "stream",
     "text": [
      "Strting\n",
      "Score with the entire dataset = 0.76\n"
     ]
    }
   ],
   "source": [
    "# Random forest regressor with sample weights\n",
    "# best model  with the given values\n",
    "# ran this model with differnet sample weights and n_estimators, the best value is with the given set of parameters\n",
    "\n",
    "rng = np.random.RandomState(0)\n",
    "\n",
    "print(\"Strting\")\n",
    "weights = dict()\n",
    "weights[1] = 1\n",
    "weights[6] = 1\n",
    "weights[7] = 1\n",
    "weights[8] = 10\n",
    "weights[9] = 10\n",
    "weights[10] = 1\n",
    "# Estimate the score on the entire dataset, with no missing values\n",
    "estimator = RandomForestClassifier(random_state=0, n_estimators=34, class_weight=weights)\n",
    "#estimator = RandomForestClassifier(random_state=0, n_estimators=10)\n",
    "score = cross_val_score(estimator, X, y_new).mean()\n",
    "print(\"Score with the entire dataset = %.2f\" % score)"
   ]
  },
  {
   "cell_type": "code",
   "execution_count": 21,
   "metadata": {
    "collapsed": false
   },
   "outputs": [
    {
     "name": "stdout",
     "output_type": "stream",
     "text": [
      "[[11232    91     2     4     0     0]\n",
      " [ 2147    52    12     0     0     0]\n",
      " [  948    19    36     3     0     0]\n",
      " [  241     4     4    43     0     0]\n",
      " [   30     0     0     0    14     0]\n",
      " [    0     0     0     0     0     5]]\n"
     ]
    }
   ],
   "source": [
    "from sklearn.metrics import confusion_matrix\n",
    "y_pred = cross_val_predict(estimator, X, y_new, cv = 5)\n",
    "\n",
    "C = confusion_matrix(y_new, y_pred)\n",
    "print(C)"
   ]
  },
  {
   "cell_type": "code",
   "execution_count": 20,
   "metadata": {
    "collapsed": false
   },
   "outputs": [],
   "source": [
    "model  = RandomForestClassifier.fit(estimator,X, y_new)\n",
    "a=model.feature_importances_\n"
   ]
  },
  {
   "cell_type": "code",
   "execution_count": 37,
   "metadata": {
    "collapsed": false
   },
   "outputs": [
    {
     "name": "stdout",
     "output_type": "stream",
     "text": [
      "[ 5 23  3  0 25  7 14 24  9 22 16 32 27  6 31 30 11 26 21 10 20 15 19 13 29\n",
      " 18 33 17 28 12  4  2  8  1]\n"
     ]
    },
    {
     "data": {
      "text/plain": [
       "array([ 0.02182815,  0.0666794 ,  0.04629009,  0.02176988,  0.04271895,\n",
       "        0.01963187,  0.0260812 ,  0.02227552,  0.04908586,  0.02393441,\n",
       "        0.02714524,  0.02646295,  0.03522998,  0.02975027,  0.02331791,\n",
       "        0.02793604,  0.02451426,  0.03369906,  0.0301474 ,  0.02850781,\n",
       "        0.02740565,  0.02684943,  0.02421134,  0.02138641,  0.0234785 ,\n",
       "        0.02219989,  0.02658709,  0.0253327 ,  0.03482936,  0.02991624,\n",
       "        0.0262058 ,  0.02619435,  0.02515505,  0.03324194])"
      ]
     },
     "execution_count": 37,
     "metadata": {},
     "output_type": "execute_result"
    }
   ],
   "source": [
    "# rinting the ids of features based on their importance. The most important feature is id 1 which is energy.\n",
    "#More details can be found on pyaudio analysis website\n",
    "b = np.argsort(a)\n",
    "print(b)\n",
    "a"
   ]
  },
  {
   "cell_type": "code",
   "execution_count": 43,
   "metadata": {
    "collapsed": false
   },
   "outputs": [
    {
     "name": "stdout",
     "output_type": "stream",
     "text": [
      "Strting\n",
      "Score with the entire dataset = 0.77\n"
     ]
    }
   ],
   "source": [
    "# diviion into 3 classes\n",
    "y_new = popularity.copy()\n",
    "y_new[popularity <= 10 ] = 1\n",
    "y_new[(popularity > 10) &  (popularity <= 20) ] = 1\n",
    "y_new[(popularity > 20) &  (popularity <= 30) ] = 1\n",
    "y_new[(popularity > 30) &  (popularity <= 40) ] = 1\n",
    "y_new[(popularity > 40) &  (popularity <= 50) ] = 1\n",
    "y_new[(popularity > 50) &  (popularity <= 60) ] = 2\n",
    "y_new[(popularity > 60) &  (popularity <= 70) ] = 2\n",
    "y_new[(popularity > 70) &  (popularity <= 80) ] = 2\n",
    "y_new[(popularity > 80) &  (popularity <= 90) ] = 3\n",
    "\n",
    "\n",
    "y_new[(popularity > 90)] = 3\n",
    "\n",
    "import numpy as np\n",
    "from sklearn.model_selection import cross_val_predict\n",
    "from sklearn.datasets import load_boston\n",
    "from sklearn.ensemble import RandomForestRegressor\n",
    "from sklearn.ensemble import RandomForestClassifier\n",
    "from sklearn.pipeline import Pipeline\n",
    "from sklearn.preprocessing import Imputer\n",
    "from sklearn.model_selection import cross_val_score\n",
    "from sklearn.decomposition import PCA\n",
    "\n",
    "rng = np.random.RandomState(0)\n",
    "\n",
    "print(\"Strting\")\n",
    "weights = dict()\n",
    "weights[1] = 10\n",
    "weights[2] = 10\n",
    "weights[3] = 1\n",
    "# Estimate the score on the entire dataset, with no missing values\n",
    "estimator = RandomForestClassifier(random_state=0, n_estimators=34, class_weight=weights)\n",
    "#estimator = RandomForestClassifier(random_state=0, n_estimators=10)\n",
    "score = cross_val_score(estimator, X, y_new).mean()\n",
    "print(\"Score with the entire dataset = %.2f\" % score)"
   ]
  },
  {
   "cell_type": "code",
   "execution_count": 44,
   "metadata": {
    "collapsed": false
   },
   "outputs": [
    {
     "name": "stdout",
     "output_type": "stream",
     "text": [
      "[[10900   429     0]\n",
      " [ 2994   515     0]\n",
      " [   24     6    19]]\n"
     ]
    }
   ],
   "source": [
    "from sklearn.metrics import confusion_matrix\n",
    "y_pred = cross_val_predict(estimator, X, y_new, cv = 5)\n",
    "\n",
    "C = confusion_matrix(y_new, y_pred)\n",
    "print(C)"
   ]
  }
 ],
 "metadata": {
  "anaconda-cloud": {},
  "kernelspec": {
   "display_name": "Python [conda root]",
   "language": "python",
   "name": "conda-root-py"
  },
  "language_info": {
   "codemirror_mode": {
    "name": "ipython",
    "version": 2
   },
   "file_extension": ".py",
   "mimetype": "text/x-python",
   "name": "python",
   "nbconvert_exporter": "python",
   "pygments_lexer": "ipython2",
   "version": "2.7.12"
  }
 },
 "nbformat": 4,
 "nbformat_minor": 1
}
