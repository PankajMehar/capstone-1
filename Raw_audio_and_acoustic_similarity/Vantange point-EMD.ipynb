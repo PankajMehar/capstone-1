{
 "cells": [
  {
   "cell_type": "code",
   "execution_count": 1,
   "metadata": {
    "collapsed": true
   },
   "outputs": [],
   "source": [
    "#importing module spotipy to make api calls to spotify\n",
    "import spotipy\n",
    "# module to extract song from url\n",
    "import urllib\n",
    "# OAuth Credenials\n",
    "from spotipy.oauth2 import SpotifyClientCredentials\n",
    "from multiprocessing import Process, Queue\n",
    "import pandas as pd \n",
    "import numpy as np\n",
    "from sklearn import datasets, linear_model\n",
    "from sklearn.model_selection import cross_val_predict\n",
    "from sklearn import linear_model\n",
    "import matplotlib.pyplot as plt\n",
    "import numpy as np\n",
    "from sklearn import mixture\n",
    "from sklearn.cluster import KMeans\n",
    "from sklearn.datasets import load_boston\n",
    "from sklearn.ensemble import RandomForestRegressor\n",
    "from sklearn.ensemble import RandomForestClassifier\n",
    "from sklearn.pipeline import Pipeline\n",
    "from sklearn.preprocessing import Imputer\n",
    "from sklearn.model_selection import cross_val_score\n",
    "from sklearn.decomposition import PCA\n",
    "from scipy.optimize import linprog\n",
    "from pyemd import emd\n",
    "\n",
    "client_credentials_manager = SpotifyClientCredentials(client_id='4a1a457d14c0445a96e7021a5523905b', client_secret='45b186d601544fdcbb4fe07c7b23cce5')\n",
    "sp = spotipy.Spotify(client_credentials_manager=client_credentials_manager)\n"
   ]
  },
  {
   "cell_type": "code",
   "execution_count": 2,
   "metadata": {
    "collapsed": true
   },
   "outputs": [],
   "source": [
    "# The below cells contain code for GMMs which need to be run once.\n",
    "# This data is saved in clustering.csv .Later  this df is used to calculate emd"
   ]
  },
  {
   "cell_type": "code",
   "execution_count": 3,
   "metadata": {
    "collapsed": false
   },
   "outputs": [],
   "source": [
    "# tracks_total contains audio tracks for 14887 songs\n",
    "import glob, os\n",
    "os.chdir(\"/Users/sonumehta/Desktop/Sem2/Capstone/PyAudio_tools/pyAudioAnalysis/tracks_total\")\n",
    "track_ids  = []\n",
    "for file in glob.glob(\"*.wav\"):\n",
    "    track_ids.append(file[5:-4])\n",
    "\n"
   ]
  },
  {
   "cell_type": "code",
   "execution_count": 4,
   "metadata": {
    "collapsed": false
   },
   "outputs": [
    {
     "name": "stdout",
     "output_type": "stream",
     "text": [
      "00pQYMt0mNh6fAWhgvAdMA\n"
     ]
    }
   ],
   "source": [
    "len(track_ids)\n",
    "print(track_ids[16])"
   ]
  },
  {
   "cell_type": "code",
   "execution_count": 5,
   "metadata": {
    "collapsed": false
   },
   "outputs": [
    {
     "data": {
      "text/html": [
       "<div>\n",
       "<table border=\"1\" class=\"dataframe\">\n",
       "  <thead>\n",
       "    <tr style=\"text-align: right;\">\n",
       "      <th></th>\n",
       "      <th>Unnamed: 0</th>\n",
       "      <th>id</th>\n",
       "      <th>popularity</th>\n",
       "      <th>preview_url</th>\n",
       "    </tr>\n",
       "  </thead>\n",
       "  <tbody>\n",
       "    <tr>\n",
       "      <th>0</th>\n",
       "      <td>0</td>\n",
       "      <td>5bF6crgJa5Q58IWgbdUbuO</td>\n",
       "      <td>48</td>\n",
       "      <td>https://p.scdn.co/mp3-preview/8ca5cd7ee7279899...</td>\n",
       "    </tr>\n",
       "    <tr>\n",
       "      <th>1</th>\n",
       "      <td>1</td>\n",
       "      <td>5BFMUpscSbYVT2V9j5d275</td>\n",
       "      <td>46</td>\n",
       "      <td>https://p.scdn.co/mp3-preview/0c6334f2acda0ab8...</td>\n",
       "    </tr>\n",
       "    <tr>\n",
       "      <th>2</th>\n",
       "      <td>2</td>\n",
       "      <td>5bFxSkRAr1kiESBIkArOiP</td>\n",
       "      <td>24</td>\n",
       "      <td>https://p.scdn.co/mp3-preview/8beed2be330e16ce...</td>\n",
       "    </tr>\n",
       "    <tr>\n",
       "      <th>3</th>\n",
       "      <td>3</td>\n",
       "      <td>5bG5GUKVJztKR5nff1CwUp</td>\n",
       "      <td>31</td>\n",
       "      <td>https://p.scdn.co/mp3-preview/7d082bccb3e53698...</td>\n",
       "    </tr>\n",
       "    <tr>\n",
       "      <th>4</th>\n",
       "      <td>4</td>\n",
       "      <td>5BgC5vVuhfWHHawbcXRr7h</td>\n",
       "      <td>31</td>\n",
       "      <td>https://p.scdn.co/mp3-preview/2984ca0f925048f2...</td>\n",
       "    </tr>\n",
       "  </tbody>\n",
       "</table>\n",
       "</div>"
      ],
      "text/plain": [
       "   Unnamed: 0                      id  popularity  \\\n",
       "0           0  5bF6crgJa5Q58IWgbdUbuO          48   \n",
       "1           1  5BFMUpscSbYVT2V9j5d275          46   \n",
       "2           2  5bFxSkRAr1kiESBIkArOiP          24   \n",
       "3           3  5bG5GUKVJztKR5nff1CwUp          31   \n",
       "4           4  5BgC5vVuhfWHHawbcXRr7h          31   \n",
       "\n",
       "                                         preview_url  \n",
       "0  https://p.scdn.co/mp3-preview/8ca5cd7ee7279899...  \n",
       "1  https://p.scdn.co/mp3-preview/0c6334f2acda0ab8...  \n",
       "2  https://p.scdn.co/mp3-preview/8beed2be330e16ce...  \n",
       "3  https://p.scdn.co/mp3-preview/7d082bccb3e53698...  \n",
       "4  https://p.scdn.co/mp3-preview/2984ca0f925048f2...  "
      ]
     },
     "execution_count": 5,
     "metadata": {},
     "output_type": "execute_result"
    }
   ],
   "source": [
    "# reading data from csv\n",
    "import glob, os\n",
    "os.chdir(\"/Users/sonumehta/Desktop/Sem2/Capstone/PyAudio_tools/pyAudioAnalysis/tracks_total\")\n",
    "\n",
    "data_frame1 = pd.read_csv('all_tracks_data.csv')\n",
    "data_frame1.head()\n"
   ]
  },
  {
   "cell_type": "code",
   "execution_count": 21,
   "metadata": {
    "collapsed": false
   },
   "outputs": [
    {
     "name": "stdout",
     "output_type": "stream",
     "text": [
      "(30, 34)\n"
     ]
    }
   ],
   "source": [
    "# extracting  features at each timestamp and taking the mean  \n",
    "clustering_df = pd.DataFrame()\n",
    "clustering_df['id1'] = 0\n",
    "clustering_df['mean'] = 0\n",
    "clustering_df['var'] = 0\n",
    "clustering_df['weight'] = 0\n",
    "# cluster assigment\n",
    "clustering_df['y'] = 0\n",
    "\n",
    "row = 0\n",
    "row_list = []\n",
    "# clusetring using kmeans\n",
    "for i in range(data_frame1['id'].shape[0]):\n",
    "    id1  =data_frame1['id'].iloc[i]\n",
    "    name = \"track\"+ id1+\".wav_st.csv\"\n",
    "\n",
    "    a  = pd.read_csv(name, header = None)\n",
    "    print(a.shape)\n",
    "    if (np.ravel(a).shape[0]) == 1020:\n",
    "        \n",
    "        \n",
    "        \n",
    "        clf = mixture.GaussianMixture(n_components=4, covariance_type='full')\n",
    "        clf.fit(a)\n",
    "        #clustering_df.loc[row] = [id1, clf.means_, clf.covariances_, clf.weights_]\n",
    "        row_list.append([id1, clf.means_, clf.covariances_, clf.weights_, clf.predict(a)])\n",
    "\n",
    "        row+=1\n",
    "        \n",
    "    break\n",
    "clustering_df_4 = pd.DataFrame(row_list)        \n",
    "#clustering_df.to_csv(\"clustering_data_16.csv\")        \n"
   ]
  },
  {
   "cell_type": "code",
   "execution_count": 6,
   "metadata": {
    "collapsed": false
   },
   "outputs": [
    {
     "data": {
      "text/html": [
       "<div>\n",
       "<table border=\"1\" class=\"dataframe\">\n",
       "  <thead>\n",
       "    <tr style=\"text-align: right;\">\n",
       "      <th></th>\n",
       "      <th>id</th>\n",
       "      <th>means</th>\n",
       "      <th>var</th>\n",
       "      <th>weights</th>\n",
       "      <th>y</th>\n",
       "    </tr>\n",
       "  </thead>\n",
       "  <tbody>\n",
       "    <tr>\n",
       "      <th>0</th>\n",
       "      <td>5bF6crgJa5Q58IWgbdUbuO</td>\n",
       "      <td>[[0.0324534947882, 0.0232605357739, 3.12293189...</td>\n",
       "      <td>[[[4.19586290687e-05, -1.1575460579e-05, 0.000...</td>\n",
       "      <td>[0.6, 0.0666666666667, 0.166666666667, 0.16666...</td>\n",
       "      <td>[0, 0, 0, 0, 0, 2, 1, 1, 3, 3, 3, 0, 2, 2, 0, ...</td>\n",
       "    </tr>\n",
       "    <tr>\n",
       "      <th>1</th>\n",
       "      <td>5BFMUpscSbYVT2V9j5d275</td>\n",
       "      <td>[[0.0781219528788, 0.0688425814589, 3.15123236...</td>\n",
       "      <td>[[[5.24945067971e-05, -2.72043591698e-05, 8.89...</td>\n",
       "      <td>[0.333333333333, 0.3, 0.2, 0.166666666667]</td>\n",
       "      <td>[2, 2, 1, 1, 0, 1, 0, 0, 1, 1, 0, 0, 0, 0, 3, ...</td>\n",
       "    </tr>\n",
       "    <tr>\n",
       "      <th>2</th>\n",
       "      <td>5bFxSkRAr1kiESBIkArOiP</td>\n",
       "      <td>[[0.059111317717, 0.102087157318, 3.2537810706...</td>\n",
       "      <td>[[[0.000165105059827, 7.3669213458e-05, 0.0003...</td>\n",
       "      <td>[0.133333333333, 0.2, 0.166666666667, 0.5]</td>\n",
       "      <td>[3, 3, 3, 0, 2, 2, 3, 3, 3, 3, 0, 1, 1, 1, 0, ...</td>\n",
       "    </tr>\n",
       "    <tr>\n",
       "      <th>3</th>\n",
       "      <td>5bG5GUKVJztKR5nff1CwUp</td>\n",
       "      <td>[[0.0331526791991, 0.0119810774695, 3.09705938...</td>\n",
       "      <td>[[[7.33860605294e-05, -3.20977106883e-06, 0.00...</td>\n",
       "      <td>[0.266666666667, 0.0666666666667, 0.3, 0.36666...</td>\n",
       "      <td>[2, 2, 2, 3, 0, 0, 0, 2, 3, 2, 3, 0, 0, 3, 3, ...</td>\n",
       "    </tr>\n",
       "    <tr>\n",
       "      <th>4</th>\n",
       "      <td>5BgC5vVuhfWHHawbcXRr7h</td>\n",
       "      <td>[[0.0701444477199, 0.0532890612875, 3.05055710...</td>\n",
       "      <td>[[[0.000950877668389, -7.72290896836e-05, -0.0...</td>\n",
       "      <td>[0.333333333333, 0.266666666667, 0.23333333333...</td>\n",
       "      <td>[0, 0, 0, 0, 3, 0, 0, 1, 1, 2, 1, 1, 1, 3, 1, ...</td>\n",
       "    </tr>\n",
       "  </tbody>\n",
       "</table>\n",
       "</div>"
      ],
      "text/plain": [
       "                       id                                              means  \\\n",
       "0  5bF6crgJa5Q58IWgbdUbuO  [[0.0324534947882, 0.0232605357739, 3.12293189...   \n",
       "1  5BFMUpscSbYVT2V9j5d275  [[0.0781219528788, 0.0688425814589, 3.15123236...   \n",
       "2  5bFxSkRAr1kiESBIkArOiP  [[0.059111317717, 0.102087157318, 3.2537810706...   \n",
       "3  5bG5GUKVJztKR5nff1CwUp  [[0.0331526791991, 0.0119810774695, 3.09705938...   \n",
       "4  5BgC5vVuhfWHHawbcXRr7h  [[0.0701444477199, 0.0532890612875, 3.05055710...   \n",
       "\n",
       "                                                 var  \\\n",
       "0  [[[4.19586290687e-05, -1.1575460579e-05, 0.000...   \n",
       "1  [[[5.24945067971e-05, -2.72043591698e-05, 8.89...   \n",
       "2  [[[0.000165105059827, 7.3669213458e-05, 0.0003...   \n",
       "3  [[[7.33860605294e-05, -3.20977106883e-06, 0.00...   \n",
       "4  [[[0.000950877668389, -7.72290896836e-05, -0.0...   \n",
       "\n",
       "                                             weights  \\\n",
       "0  [0.6, 0.0666666666667, 0.166666666667, 0.16666...   \n",
       "1         [0.333333333333, 0.3, 0.2, 0.166666666667]   \n",
       "2         [0.133333333333, 0.2, 0.166666666667, 0.5]   \n",
       "3  [0.266666666667, 0.0666666666667, 0.3, 0.36666...   \n",
       "4  [0.333333333333, 0.266666666667, 0.23333333333...   \n",
       "\n",
       "                                                   y  \n",
       "0  [0, 0, 0, 0, 0, 2, 1, 1, 3, 3, 3, 0, 2, 2, 0, ...  \n",
       "1  [2, 2, 1, 1, 0, 1, 0, 0, 1, 1, 0, 0, 0, 0, 3, ...  \n",
       "2  [3, 3, 3, 0, 2, 2, 3, 3, 3, 3, 0, 1, 1, 1, 0, ...  \n",
       "3  [2, 2, 2, 3, 0, 0, 0, 2, 3, 2, 3, 0, 0, 3, 3, ...  \n",
       "4  [0, 0, 0, 0, 3, 0, 0, 1, 1, 2, 1, 1, 1, 3, 1, ...  "
      ]
     },
     "execution_count": 6,
     "metadata": {},
     "output_type": "execute_result"
    }
   ],
   "source": [
    "clustering_df = pd.read_pickle(\"/Users/sonumehta/Desktop/Sem2/Capstone/PyAudio_tools/pyAudioAnalysis/tracks_total/Clustering_pickle_4\")\n",
    "clustering_df.head()"
   ]
  },
  {
   "cell_type": "code",
   "execution_count": 7,
   "metadata": {
    "collapsed": false
   },
   "outputs": [
    {
     "data": {
      "text/plain": [
       "(14887, 5)"
      ]
     },
     "execution_count": 7,
     "metadata": {},
     "output_type": "execute_result"
    }
   ],
   "source": [
    "clustering_df.shape"
   ]
  },
  {
   "cell_type": "code",
   "execution_count": 9,
   "metadata": {
    "collapsed": false
   },
   "outputs": [
    {
     "data": {
      "text/html": [
       "<div>\n",
       "<table border=\"1\" class=\"dataframe\">\n",
       "  <thead>\n",
       "    <tr style=\"text-align: right;\">\n",
       "      <th></th>\n",
       "      <th>0</th>\n",
       "      <th>1</th>\n",
       "      <th>2</th>\n",
       "      <th>3</th>\n",
       "      <th>4</th>\n",
       "      <th>5</th>\n",
       "      <th>6</th>\n",
       "      <th>7</th>\n",
       "      <th>8</th>\n",
       "      <th>9</th>\n",
       "      <th>...</th>\n",
       "      <th>24</th>\n",
       "      <th>25</th>\n",
       "      <th>26</th>\n",
       "      <th>27</th>\n",
       "      <th>28</th>\n",
       "      <th>29</th>\n",
       "      <th>30</th>\n",
       "      <th>31</th>\n",
       "      <th>32</th>\n",
       "      <th>33</th>\n",
       "    </tr>\n",
       "  </thead>\n",
       "  <tbody>\n",
       "    <tr>\n",
       "      <th>0</th>\n",
       "      <td>0.034331</td>\n",
       "      <td>0.027217</td>\n",
       "      <td>3.032119</td>\n",
       "      <td>0.100629</td>\n",
       "      <td>0.144193</td>\n",
       "      <td>0.094455</td>\n",
       "      <td>0.001504</td>\n",
       "      <td>0.038918</td>\n",
       "      <td>-20.449001</td>\n",
       "      <td>2.142264</td>\n",
       "      <td>...</td>\n",
       "      <td>0.000298</td>\n",
       "      <td>0.000543</td>\n",
       "      <td>0.000259</td>\n",
       "      <td>0.000311</td>\n",
       "      <td>0.000444</td>\n",
       "      <td>0.000484</td>\n",
       "      <td>0.000725</td>\n",
       "      <td>0.000527</td>\n",
       "      <td>0.000368</td>\n",
       "      <td>0.000397</td>\n",
       "    </tr>\n",
       "    <tr>\n",
       "      <th>1</th>\n",
       "      <td>0.080249</td>\n",
       "      <td>0.063066</td>\n",
       "      <td>3.154067</td>\n",
       "      <td>0.179655</td>\n",
       "      <td>0.186982</td>\n",
       "      <td>0.676640</td>\n",
       "      <td>0.000210</td>\n",
       "      <td>0.105036</td>\n",
       "      <td>-17.555998</td>\n",
       "      <td>0.956587</td>\n",
       "      <td>...</td>\n",
       "      <td>0.000607</td>\n",
       "      <td>0.000924</td>\n",
       "      <td>0.001856</td>\n",
       "      <td>0.000515</td>\n",
       "      <td>0.001718</td>\n",
       "      <td>0.001182</td>\n",
       "      <td>0.001021</td>\n",
       "      <td>0.001049</td>\n",
       "      <td>0.001231</td>\n",
       "      <td>0.000844</td>\n",
       "    </tr>\n",
       "    <tr>\n",
       "      <th>2</th>\n",
       "      <td>0.055129</td>\n",
       "      <td>0.094738</td>\n",
       "      <td>3.248476</td>\n",
       "      <td>0.168248</td>\n",
       "      <td>0.191879</td>\n",
       "      <td>0.350973</td>\n",
       "      <td>0.000328</td>\n",
       "      <td>0.043137</td>\n",
       "      <td>-17.683683</td>\n",
       "      <td>2.139082</td>\n",
       "      <td>...</td>\n",
       "      <td>0.000728</td>\n",
       "      <td>0.001474</td>\n",
       "      <td>0.000988</td>\n",
       "      <td>0.001536</td>\n",
       "      <td>0.002911</td>\n",
       "      <td>0.000818</td>\n",
       "      <td>0.001129</td>\n",
       "      <td>0.000644</td>\n",
       "      <td>0.001056</td>\n",
       "      <td>0.001052</td>\n",
       "    </tr>\n",
       "    <tr>\n",
       "      <th>3</th>\n",
       "      <td>0.035782</td>\n",
       "      <td>0.026939</td>\n",
       "      <td>3.152187</td>\n",
       "      <td>0.107575</td>\n",
       "      <td>0.149364</td>\n",
       "      <td>0.172294</td>\n",
       "      <td>0.001276</td>\n",
       "      <td>0.039265</td>\n",
       "      <td>-20.296906</td>\n",
       "      <td>2.452144</td>\n",
       "      <td>...</td>\n",
       "      <td>0.001188</td>\n",
       "      <td>0.001199</td>\n",
       "      <td>0.002105</td>\n",
       "      <td>0.000745</td>\n",
       "      <td>0.002304</td>\n",
       "      <td>0.003827</td>\n",
       "      <td>0.003836</td>\n",
       "      <td>0.004233</td>\n",
       "      <td>0.003712</td>\n",
       "      <td>0.003389</td>\n",
       "    </tr>\n",
       "    <tr>\n",
       "      <th>4</th>\n",
       "      <td>0.057428</td>\n",
       "      <td>0.062834</td>\n",
       "      <td>3.061450</td>\n",
       "      <td>0.131380</td>\n",
       "      <td>0.152100</td>\n",
       "      <td>0.427569</td>\n",
       "      <td>0.000472</td>\n",
       "      <td>0.075542</td>\n",
       "      <td>-17.584650</td>\n",
       "      <td>1.820407</td>\n",
       "      <td>...</td>\n",
       "      <td>0.001268</td>\n",
       "      <td>0.000912</td>\n",
       "      <td>0.001501</td>\n",
       "      <td>0.002080</td>\n",
       "      <td>0.001376</td>\n",
       "      <td>0.002700</td>\n",
       "      <td>0.004059</td>\n",
       "      <td>0.001817</td>\n",
       "      <td>0.001280</td>\n",
       "      <td>0.002206</td>\n",
       "    </tr>\n",
       "  </tbody>\n",
       "</table>\n",
       "<p>5 rows × 34 columns</p>\n",
       "</div>"
      ],
      "text/plain": [
       "          0         1         2         3         4         5         6  \\\n",
       "0  0.034331  0.027217  3.032119  0.100629  0.144193  0.094455  0.001504   \n",
       "1  0.080249  0.063066  3.154067  0.179655  0.186982  0.676640  0.000210   \n",
       "2  0.055129  0.094738  3.248476  0.168248  0.191879  0.350973  0.000328   \n",
       "3  0.035782  0.026939  3.152187  0.107575  0.149364  0.172294  0.001276   \n",
       "4  0.057428  0.062834  3.061450  0.131380  0.152100  0.427569  0.000472   \n",
       "\n",
       "          7          8         9    ...           24        25        26  \\\n",
       "0  0.038918 -20.449001  2.142264    ...     0.000298  0.000543  0.000259   \n",
       "1  0.105036 -17.555998  0.956587    ...     0.000607  0.000924  0.001856   \n",
       "2  0.043137 -17.683683  2.139082    ...     0.000728  0.001474  0.000988   \n",
       "3  0.039265 -20.296906  2.452144    ...     0.001188  0.001199  0.002105   \n",
       "4  0.075542 -17.584650  1.820407    ...     0.001268  0.000912  0.001501   \n",
       "\n",
       "         27        28        29        30        31        32        33  \n",
       "0  0.000311  0.000444  0.000484  0.000725  0.000527  0.000368  0.000397  \n",
       "1  0.000515  0.001718  0.001182  0.001021  0.001049  0.001231  0.000844  \n",
       "2  0.001536  0.002911  0.000818  0.001129  0.000644  0.001056  0.001052  \n",
       "3  0.000745  0.002304  0.003827  0.003836  0.004233  0.003712  0.003389  \n",
       "4  0.002080  0.001376  0.002700  0.004059  0.001817  0.001280  0.002206  \n",
       "\n",
       "[5 rows x 34 columns]"
      ]
     },
     "execution_count": 9,
     "metadata": {},
     "output_type": "execute_result"
    }
   ],
   "source": [
    "# reading data with features extracted\n",
    "mean_features_data = pd.read_csv('/Users/sonumehta/Desktop/Sem2/Capstone/PyAudio_tools/pyAudioAnalysis/tracks_total/mean_features.csv').drop('Unnamed: 0', axis = 1)\n",
    "mean_features_data.head()"
   ]
  },
  {
   "cell_type": "code",
   "execution_count": 10,
   "metadata": {
    "collapsed": false
   },
   "outputs": [
    {
     "name": "stdout",
     "output_type": "stream",
     "text": [
      "[1438, 94, 3596, 517, 2378, 789, 1983, 660, 202]\n"
     ]
    }
   ],
   "source": [
    "# Kmeans clustering of the entire dataset into 10 clusters\n",
    "from sklearn.cluster import KMeans\n",
    "kmeans = KMeans(n_clusters=10, random_state=0).fit(mean_features_data)\n",
    "cl = []\n",
    "for i in range(1,10):\n",
    "    cl.append(mean_features_data[kmeans.labels_ == i].shape[0])\n",
    "#kmeans.predict(mean_features_data.iloc[0].reshape(1, -1))\n",
    "print(cl)"
   ]
  },
  {
   "cell_type": "code",
   "execution_count": 55,
   "metadata": {
    "collapsed": false
   },
   "outputs": [
    {
     "data": {
      "text/plain": [
       "PCA(copy=True, iterated_power='auto', n_components=2, random_state=None,\n",
       "  svd_solver='auto', tol=0.0, whiten=False)"
      ]
     },
     "execution_count": 55,
     "metadata": {},
     "output_type": "execute_result"
    }
   ],
   "source": [
    "# code to plot songs on PCA plot with vantnage points\n",
    "from sklearn.decomposition import PCA\n",
    "pca = PCA(n_components=2)\n",
    "pca.fit(mean_features_data)"
   ]
  },
  {
   "cell_type": "code",
   "execution_count": 65,
   "metadata": {
    "collapsed": false
   },
   "outputs": [
    {
     "data": {
      "text/plain": [
       "(1438, 2)"
      ]
     },
     "execution_count": 65,
     "metadata": {},
     "output_type": "execute_result"
    }
   ],
   "source": [
    "pca_data = pca.transform(mean_features_data)\n",
    "pca_data.shape\n",
    "vantage_pts = pca.transform(kmeans.cluster_centers_)\n",
    "#kmeans.predict(mean_features_data.iloc[0].reshape(1, -1))\n",
    "clnew = []\n",
    "for i in range(1,10):\n",
    "    clnew.append(pca.transform(mean_features_data[kmeans.labels_ == i]))\n"
   ]
  },
  {
   "cell_type": "code",
   "execution_count": 116,
   "metadata": {
    "collapsed": false
   },
   "outputs": [
    {
     "data": {
      "image/png": "[encoded data removed]",
      "text/plain": [
       "<matplotlib.figure.Figure at 0x13bce65d0>"
      ]
     },
     "metadata": {},
     "output_type": "display_data"
    }
   ],
   "source": [
    "#plt.scatter(pca_data[:,0], pca_data[:,1],alpha = 0.3, color = 'red', label = 'Tracks')\n",
    "colors = ['blue', 'green', 'red', 'cyan', 'magenta', 'yellow', 'gray', 'brown', 'orange'] \n",
    "plt.figure(figsize=(10,5))\n",
    "for i in range(0,9):\n",
    "    plt.scatter(clnew[i][:,0], clnew[i][:,1], alpha = 0.4, color = colors[i])\n",
    "        \n",
    "plt.scatter(vantage_pts[:,0], vantage_pts[:,1], color = 'black', marker = '*', s = 25, label = 'Vantage points')\n",
    "plt.legend(loc = 'best')\n",
    "plt.xlabel('PCA dim1')\n",
    "plt.ylabel('PCA dim2')\n",
    "plt.savefig('vantagept.png')\n",
    "plt.show()"
   ]
  },
  {
   "cell_type": "markdown",
   "metadata": {},
   "source": [
    "**Earth Movers Distance**"
   ]
  },
  {
   "cell_type": "code",
   "execution_count": 13,
   "metadata": {
    "collapsed": false
   },
   "outputs": [],
   "source": [
    "# KL divergence distance to calculate distance betweeb clusters\n",
    "def distance_between_clusters(mu_1, sig_1, mu_2, sig_2):\n",
    "    \n",
    "    means_diff_1 = mu_1- mu_2\n",
    "    means_diff_2 = mu_2- mu_1\n",
    "    sig_1_inv = np.linalg.inv(sig_1)\n",
    "    sig_2_inv = np.linalg.inv(sig_2)\n",
    "    dist = np.trace(np.dot(np.linalg.inv(sig_1) , sig_2)) + np.trace(np.dot(np.linalg.inv(sig_2) , sig_1)) + np.dot(np.dot(means_diff_1.T,sig_1_inv),means_diff_1) +np.dot(np.dot(means_diff_2.T,sig_2_inv),means_diff_2) \n",
    "    return dist\n",
    "\n",
    "# # sample run for two clusters\n",
    "# sig_1 = clustering_df.iloc[0]['var'][0]\n",
    "# sig_2 = clustering_df.iloc[1]['var'][0]\n",
    "# mu_1 = clustering_df.iloc[0]['means'][0]\n",
    "# mu_2 = clustering_df.iloc[1]['means'][0]\n",
    "# distance_between_clusters(mu_1, sig_1, mu_2, sig_2)"
   ]
  },
  {
   "cell_type": "code",
   "execution_count": 14,
   "metadata": {
    "collapsed": false
   },
   "outputs": [],
   "source": [
    "# code to calculate emd between two songs using Linear programming approach\n",
    "def calc_emd(signature_1, signature_2):\n",
    "    p_list = []\n",
    "    for i in signature_1['weights']:\n",
    "        p_list.append(i)\n",
    "    \n",
    "    q_list = []\n",
    "    for i in signature_2['weights']:\n",
    "        q_list.append(i)\n",
    "    \n",
    "    clus_1 = signature_1['means'].shape[0]\n",
    "    clus_2 = signature_2['means'].shape[0]\n",
    "    dist = np.zeros((clus_1*clus_2))\n",
    "    p_list = np.array(p_list)\n",
    "    q_list = np.array(q_list)\n",
    "    col = 0\n",
    "    for i in range(0, clus_1):\n",
    "        for j in range(0, clus_2):\n",
    "            dist[col]=distance_between_clusters(signature_1['means'][i],signature_1['var'][i], signature_2['means'][j], signature_2['var'][j])\n",
    "            col+=1\n",
    "    #clus_1 = clus_2 = 4\n",
    "    A_ub = np.zeros((clus_1+clus_2, clus_1*clus_2))\n",
    "    j = 0\n",
    "    for i in range(0, clus_1):\n",
    "        A_ub[i][j:j+clus_2] = 1\n",
    "        j+=clus_2\n",
    "\n",
    "    #print(A_ub)\n",
    "    k = 0\n",
    "    for i in range(clus_1, clus_1+clus_2):\n",
    "        \n",
    "        for j in range(k, clus_1*clus_2, clus_2):\n",
    "            \n",
    "            A_ub[i][j] = 1\n",
    "        k = k+1\n",
    "    #print(A_ub)\n",
    "    b_ub = np.zeros(clus_1 + clus_2)\n",
    "    b_ub[0:clus_1] = p_list\n",
    "    b_ub[clus_1:] = q_list\n",
    "    A_eq = np.ones((1,clus_1*clus_2))\n",
    "    b_eq = min(np.sum(p_list), np.sum(q_list))\n",
    "\n",
    "    res = linprog(c = dist,A_ub = A_ub,b_ub= b_ub,A_eq = A_eq, b_eq = b_eq,options={\"disp\": False})\n",
    "    \n",
    "    f_star = np.array(res['x'])\n",
    "\n",
    "    num = np.dot(f_star, dist)\n",
    "    denom = np.sum(f_star)\n",
    "    #print(f_star, num, denom)\n",
    "    return(num/denom)\n",
    "\n",
    "\n",
    "    \n",
    "# example for two songs\n",
    "\n",
    "# p_list = np.array([0.2, 0.8])\n",
    "# q_list = np.array([0.8, 0.2])\n",
    "\n",
    "# c = np.array([[0,1],[1,0]])\n",
    "# c = np.transpose(np.ravel(c))\n",
    "# print(\"c\",c)\n",
    "# A_ub  = np.array([[1,1,0,0], [0,0,1,1], [1,0,1,0], [0,1,0,1]])\n",
    "# print(\"A_ub\",A_ub)\n",
    "# b_ub  =np.array([p_list[0], p_list[1], q_list[0], q_list[1]])\n",
    "# b_ub = np.transpose(b_ub)\n",
    "# print(\"b_ub \", b_ub)\n",
    "# A_eq = np.array([[1,1,1,1]])\n",
    "# b_eq = min(np.sum(p_list), np.sum(q_list))\n",
    "# #print(A_eq, b_eq)\n",
    "# res = linprog(c = c,A_ub = A_ub,b_ub= b_ub,A_eq = A_eq, b_eq = b_eq,options={\"disp\": True})\n",
    "# f_star = np.array(res['x'])\n",
    "# num = np.dot(f_star, c)\n",
    "# denom = np.sum(f_star)\n",
    "# print(num/denom)\n",
    "\n",
    "\n"
   ]
  },
  {
   "cell_type": "markdown",
   "metadata": {
    "collapsed": false
   },
   "source": [
    "raw audio feature extraction\n",
    "https://github.com/tyiannak/pyAudioAnalysis/wiki/2.-General"
   ]
  },
  {
   "cell_type": "code",
   "execution_count": 11,
   "metadata": {
    "collapsed": false
   },
   "outputs": [
    {
     "data": {
      "text/html": [
       "<div>\n",
       "<table border=\"1\" class=\"dataframe\">\n",
       "  <thead>\n",
       "    <tr style=\"text-align: right;\">\n",
       "      <th></th>\n",
       "      <th>Unnamed: 0</th>\n",
       "      <th>trackid</th>\n",
       "    </tr>\n",
       "  </thead>\n",
       "  <tbody>\n",
       "    <tr>\n",
       "      <th>0</th>\n",
       "      <td>0</td>\n",
       "      <td>5bF6crgJa5Q58IWgbdUbuO</td>\n",
       "    </tr>\n",
       "    <tr>\n",
       "      <th>1</th>\n",
       "      <td>1</td>\n",
       "      <td>5BFMUpscSbYVT2V9j5d275</td>\n",
       "    </tr>\n",
       "    <tr>\n",
       "      <th>2</th>\n",
       "      <td>2</td>\n",
       "      <td>5bFxSkRAr1kiESBIkArOiP</td>\n",
       "    </tr>\n",
       "    <tr>\n",
       "      <th>3</th>\n",
       "      <td>3</td>\n",
       "      <td>5bG5GUKVJztKR5nff1CwUp</td>\n",
       "    </tr>\n",
       "    <tr>\n",
       "      <th>4</th>\n",
       "      <td>4</td>\n",
       "      <td>5BgC5vVuhfWHHawbcXRr7h</td>\n",
       "    </tr>\n",
       "  </tbody>\n",
       "</table>\n",
       "</div>"
      ],
      "text/plain": [
       "   Unnamed: 0                 trackid\n",
       "0           0  5bF6crgJa5Q58IWgbdUbuO\n",
       "1           1  5BFMUpscSbYVT2V9j5d275\n",
       "2           2  5bFxSkRAr1kiESBIkArOiP\n",
       "3           3  5bG5GUKVJztKR5nff1CwUp\n",
       "4           4  5BgC5vVuhfWHHawbcXRr7h"
      ]
     },
     "execution_count": 11,
     "metadata": {},
     "output_type": "execute_result"
    }
   ],
   "source": [
    "from pyAudioAnalysis import audioBasicIO\n",
    "from pyAudioAnalysis import audioFeatureExtraction\n",
    "import matplotlib.pyplot as plt\n",
    "import numpy as np\n",
    "import glob, os\n",
    "# track-ids for the entire dataset\n",
    "track_id = pd.read_csv('/Users/sonumehta/Desktop/Sem2/Capstone/PyAudio_tools/pyAudioAnalysis/tracks_total/track_id_new.csv')\n",
    "track_id.head()\n",
    "# os.chdir(\"/Users/sonumehta/Desktop/Sem2/Capstone/PyAudio_tools/pyAudioAnalysis/raw_audio\")\n",
    "\n",
    "# features = []\n",
    "\n",
    "# for file in glob.glob(\"*.wav\"):\n",
    "#     [Fs, x] = audioBasicIO.readAudioFile(\"track0A71OLE9BN4ImZ3XTCOHP7.wav\");\n",
    "#     F = audioFeatureExtraction.stFeatureExtraction(x[:,1], Fs, 1* Fs, 1*Fs);\n",
    "    \n",
    "#     features.append(np.mean(F, axis = 1))\n",
    "#     break\n",
    "# print(np.array(features).shape)\n",
    "    \n",
    "# features is array with 12 song having 24 features each.\n",
    "\n"
   ]
  },
  {
   "cell_type": "code",
   "execution_count": 16,
   "metadata": {
    "collapsed": false
   },
   "outputs": [
    {
     "name": "stdout",
     "output_type": "stream",
     "text": [
      "['2oO9xKPU8vkd02W3yOhv5v' '23sSN73Ki9t3dz7RMJcimp' '2O3BRyrdPgauBAAH5vxxvc'\n",
      " '0mto4XYo8GISKnDxlLdK2a' '0lMrWcrVXHPEuVBuc0nRzZ' '0L7PQ2hmYJJeJd2eVF7z3r'\n",
      " '24nRdDUUIdM2mv1YdwMdu6' '4RG9Ulx2XrTg2achBTPaoo' '2OCaxDthsgzStjTPkIpOo0'\n",
      " '4RAXUNZeC54ZOKtp2TzdPI' '2o9t9pNUSFd65QuYDs1Pea' '26vtbOV0FFwoaXYxtufOby'\n",
      " '0mZNKyrUmsrlDRoYHWsyMu' '3HWg28LpALXQsUdGJXE9wf' '25ocTlbdByPTuaQQaNMlO3'\n",
      " '4SLU0Vm12zHv7yazIXT63b' '5BNwBYyavs7IHs9vdHOuIc' '3IlydY2uasgMzSxhFJ0rpw'\n",
      " '0MummVPmpClkFZ3rgXooD6' '5CqTNuCVxrM8t3MFVRAncD' '4R1PxCbF63bFGrCB8XonB5'\n",
      " '5cdvRz9jm2Uzm64wYjfY1F' '2O3BRyrdPgauBAAH5vxxvc' '2OfSiAmFRsC9c65EFv8DG1'\n",
      " '2nOYxyusxAfqjZCUSxfNZ4' '2NUGWOB8IwiB4v0b55BxWs' '0LUjlWjQtsHgbUFdBYRwXw'\n",
      " '5C8szoUrtmYOizu1ykbK0C' '5D4E92sKjCTS7xH53mAqrP' '5cvKxdKn1bz1bj55W4Co0Q'\n",
      " '3HQPoMlE12HrgOGm5HkbYY' '4qpIk2rvkmxJEVvt38tepd' '5C1g7DYonUudv5Jn74J19e'\n",
      " '0m06w8BMJPYMLpDSge03t2' '3iudOmlAzKCHpsTP3DDgvf' '0mUyMawtxj1CJ76kn9gIZK'\n",
      " '4sQMalN597HdggTu196aL0' '3hb2ScEVkGchcAQqrPLP0R' '3HUTl3dLwwz9pufuRYko0K'\n",
      " '0mQhrGlPgwWPscwMfC6WfI' '0LTSNmOLBt25GMjHlxp9OR' '0MLZgxAe28WhMLIepQ48f9'\n",
      " '4rHlMGnFRKKSFIX5is4rg9' '0MDucKNCKc4DYM0ooqh9iB' '2oRYmxg7nju2kHXaHn8ViS'\n",
      " '26PnyFUmYdeRG7nQrsTpHc' '4s2BWgnSQ9NZiOQM4PP4HB' '3I5UBKsSIMHLWbyUpIc4lO'\n",
      " '26uo4Onlc2As4DAggrjUMd' '3HAz95DTm3TThMUjUoychR' '3heuIY0TVaGIBie2u50ukf'\n",
      " '2NVpYQqdraEcQwqT7GhUkh' '0LH5xRQz5D36FpIkYUFv2e' '3i508xSmrzqtAGl6wYPGae'\n",
      " '4RJnzmVL12aIuWpMoXu2u4' '0MsimcpWhbK9P1mE6uVkgd' '3iBqpDVAPA2IH7CkFUyzDJ'\n",
      " '2NUGWOB8IwiB4v0b55BxWs' '0lEuZJ8PePuU8xzyMbLInl' '5cdvRz9jm2Uzm64wYjfY1F'\n",
      " '0mXx5VqKAGxH4S9XHrSrbO' '5ClDPw47BORurTM0yTwuS7' '3XdnNX0cPynrR7KdRoyjwa'\n",
      " '5CRFwQisqkS1lLs6l48qaD' '2OBIZ8Zgdsuioj7TwQiEPk' '3X7ge0mHBUk8YzvGa1cusg'\n",
      " '3XorCFmcupSm5QS6hA9g4N' '2OqkSQe1kA8oRgEbw064dS' '0lP4HYLmvowOKdsQ7CVkuq'\n",
      " '0MzjNOd0Q4JOM1pyGGSCeI' '4RAXSgWjXAFczeUjgLSKpZ' '5DDx7lVobjWfLyvRDtW7BX'\n",
      " '3ihp0qYSN89GBnrgF6GhRh' '0MUZAcbdUHYqvMRzIVixqV' '2OBIZ8Zgdsuioj7TwQiEPk'\n",
      " '3X3TLnvtp1PPSEuDIKG5C9' '2oMQQ9k7peCL5J3ajuCwOu' '0Mwz24aiD1F8Lfam1MBPHF'\n",
      " '4RTVEUrOSl4ybKejVsN9vy' '0LkSPQPUIS4wtPAftcS13e' '5clz8BOBulxx7q2yHxqOCk'\n",
      " '3xA8CCfAh4d81VtPIZA9xK' '4sLcQNXZ8ay3mU3D8PTSw4' '3wXXDUsbanWuIQjon3JEC7'\n",
      " '0mI9EWu1Ka6PyCCaYUKc7u' '26BdZRCNwzeafIiPhTGtVh' '3XN07Hnu1o8M2DvGo3wYFC'\n",
      " '5CTc5YCNKT5FGe9dWvJZFd' '4s8kxu7ipl6uAFyncBX4RR' '3I7krC8kr0gFR7P6vInR1I'\n",
      " '4sG3QE7shDNk1DKJwEAiz5' '259atFXzoftwTws0p2TZKr' '0mQnLhHH5WwRc5gtnzLtK6'\n",
      " '2OEcNwsOd8cwG7jpN2kGzj' '0lUUoFhb6ulRwl2EEmFvKf' '5CezMbMOxf5GTbDKVA84Xt'\n",
      " '2oteckvYYwS495SSUyf2yK' '4rdgMm0xFpiArdkUkCySmf' '0LzsNy1SqlM0qkRGL2RJfv'\n",
      " '4r0sIeDuoi9m5amNMjJtbI' '4rmPQGwcLQjCoFq5NrTA0D' '24IHwt3oO37js9tC48hWMr'\n",
      " '3iBqpDVAPA2IH7CkFUyzDJ' '0msvJRzTrTPDk6QlycSPVJ' '25KwUCiGvdCP3Xy3waYffE'\n",
      " '5C9GfhtrJTFpUFtcLjXs1f' '2N3WIaHGMJVISw9HPUcq4J' '26SpVTazBNaVINTPs2nZyO'\n",
      " '0n3TDqqbs7epxzHUi3QbC5' '3HgjksB8KZTfsphUeKLol5' '5BZOekIFhqGyfK9IFyp8qB'\n",
      " '0mtexYFnZVCYqGRDCE6GzF' '3hHWhvw2hjwfngWcFjIzqr' '3xjxCrTCkzHW3A5CcDfVuN'\n",
      " '5cm47Nc1MWBVIkRFaXxvHY' '4sGJEM8PFJTvM3AcVRs8G4' '0mUyMawtxj1CJ76kn9gIZK'\n",
      " '25p135vXI5XO4jaGaubwPH' '3hccRLElirZOGOTHfCbg9p' '2OBU3S3Mc3XOYG7wCAYW3Z'\n",
      " '4SF1747p541umnykBp352Q' '2nBWxgSZ79w9l6t2rUg6pl' '3i3GeK0qLQybu4ah42YmCY'\n",
      " '4SF1747p541umnykBp352Q' '2MRpLORsZ2AwJ3nylbUM7U' '4S7QHx2yZ0DZlm9MkYPLi6'\n",
      " '0LWTCU6Z12tALHXUz4rPN6' '4RJnzmVL12aIuWpMoXu2u4' '3WzTqTiSXXIFeKEYqd7U5b'\n",
      " '3HmTAX89DPqLAEAkzGX249' '4RG9Ulx2XrTg2achBTPaoo' '24MXOVmDlkQxoAmsJVbt2c'\n",
      " '4rpzPAbwJboZQw2p9T5T3f' '5DOCSV6LBkMLq0nZLFeX1c' '5cLsk5E7Au4hkTvCQFWHMJ'\n",
      " '3hflfTviLuTU2a0Ht8Ppor' '2nyP49IyoHWKf99T3ofzFz' '3iwZOA51h58QHa3KLyAKyu'\n",
      " '0MGlHpo9P4HN4AsgG44GG7' '5CtgLojr3iSiljoa4RA8vl' '5BS78s5zhQZVMBgSyIWPgR'\n",
      " '3xrn9i8zhNZsTtcoWgQEAd' '3HdcqQpq7zb5GbEKBDY34p' '4RagweKs4qJJBavRuPoyuE'\n",
      " '5c2w0SnU1t8AfxZJfwcHq9' '25hrRL7AzlYSLtttKIoY5l' '3XkXJNMHJB0UiKiVz83yD7'\n",
      " '3WxksalSl9j5N3JkvFn8lY' '3I2j9uOUl4YkyoZgjSo9vF' '4s4yRYLjjzAjzDUEts5ryL'\n",
      " '0LcnsVlyLopCADPuV8znMF' '2nprtIQ0PlmTkhqi0CvanM' '0MummVPmpClkFZ3rgXooD6'\n",
      " '0MYNeFsKpzBHwrJGfWZysV' '25WbZC6FWY8vLPaSJfm44G' '4SI6ia4b6L5J1n6k42WeHC'\n",
      " '4SFhZOKPoNMUTWTms2gAPf' '3HAz95DTm3TThMUjUoychR' '0LrA0EtiJsr4tDHIGw82OW'\n",
      " '3iFpcLOCmI4KLoQLO4FsXr' '5ciVbeefBaNOmaDXsN0amO' '0mI9EWu1Ka6PyCCaYUKc7u'\n",
      " '23H9dsGP14ughPC1nBsTnS' '3iP2BRN5ztBsDV1mJbfQv5' '3HQPoMlE12HrgOGm5HkbYY'\n",
      " '4RKtugI8uLJ8aF1BrLPVEl' '0lLdorYw7lVrJydTINhWdI' '4RUCMtsSMsPQlt08nwmix8'\n",
      " '4ROTFdm6iprdH8GefQ68xQ' '5CLnvsBxPQcSfASvPs490I' '0MlvgyyKrlrfQk7NvXQbPo'\n",
      " '24AIahNHzBxm9S12peXbnG' '0MqjKvmJPGJ6t0EQ83jcd2' '23L5CiUhw2jV1OIMwthR3S'\n",
      " '4SACGhs89thPJCJD3bWyXZ' '3xvJKgVCpppdfBmBr5wkKG' '4sAgUTEsFjp9yw4ZAlizU0'\n",
      " '2mTjtdoxpffwa5rXVyZZaS' '3XwsSV4oLtNzwZyxIrWkQQ' '4r2ZjN7p4ceHWjcwbUvKVO'\n",
      " '3idthQ24V2aPRcthv7Aq5o' '2oBidqrsAh6fbShOhikBdv' '2OdpZeTpnbqPqBrclk2pib'\n",
      " '26xQcLViZwwFDI80p4QKDp' '0MSLsXJIhsMDpwga1wF1eC' '0mRWl4amZn1FtRx2cE5jf3'\n",
      " '3HgjksB8KZTfsphUeKLol5' '4qWb8fJ5xScpaJz1DK8dVS' '4sAgUTEsFjp9yw4ZAlizU0'\n",
      " '3HuT410IPRyqhN4FXVS9FH' '26rdOwwjC2UnweK3xeS58u' '5DDx7lVobjWfLyvRDtW7BX'\n",
      " '0Ll5xn9cgYYWYppP9bcnmK' '2nprtIQ0PlmTkhqi0CvanM' '3hUepKDdsvTQ3tr8LU4Lwq'\n",
      " '2OawRn0NvWkStuemgdae4i' '26uo4Onlc2As4DAggrjUMd' '0mTtWQ6A4zKzlDfUvXDmwe'\n",
      " '4qZwVr553XcQNdeqjueeE3' '0LbxQWuLCO3Zx3BT5hyEg7']\n"
     ]
    }
   ],
   "source": [
    "new_df = clustering_df\n",
    "def return_candidate_songs(seed_song): # seed_song is the track_id\n",
    "    \n",
    "    # extract raw audio #\n",
    "    track_spotify = sp.tracks([seed_song])['tracks'][0]\n",
    "        \n",
    "    \n",
    "    #print(track_spotify['preview_url'])  \n",
    "    urllib.urlretrieve(track_spotify['preview_url'], \"track\"+track_spotify['id']+\".wav\")\n",
    "                    \n",
    "    # extract acoustic features\n",
    "    \n",
    "    [Fs, x] = audioBasicIO.readAudioFile(\"track\"+track_spotify['id']+\".wav\");\n",
    "    F = audioFeatureExtraction.stFeatureExtraction(x[:,1], Fs, 1* Fs, 1*Fs);\n",
    "#    F = pd.read_csv('/Users/sonumehta/Desktop/Sem2/Capstone/PyAudio_tools/pyAudioAnalysis/raw_audio/7k2lqQ4Vt9435X24qUISki.csv', header = None)\n",
    "    vp_nearest = kmeans.predict(np.mean(F, axis = 1).reshape(1,-1))\n",
    "    F = F.T\n",
    "    #print(F.shape)\n",
    "    \n",
    "    clf = mixture.GaussianMixture(n_components=4, covariance_type='full')\n",
    "    clf.fit(F)\n",
    "        #clustering_df.loc[row] = [id1, clf.means_, clf.covariances_, clf.weights_]\n",
    "\n",
    "    rowlist = [[seed_song , clf.means_, clf.covariances_, clf.weights_, clf.predict(F)]]\n",
    "    seed_song_df = pd.DataFrame(rowlist)\n",
    "\n",
    "    seed_song_df.columns = ['id', 'means', 'var', 'weights','y']\n",
    "\n",
    "    \n",
    "    \n",
    "    #     # predict the nearest vantage point\n",
    "\n",
    "\n",
    "    \n",
    "    #print(vp_nearest)\n",
    "    #All songs in that cluster\n",
    "    nearest_song_index = np.where(kmeans.labels_ == vp_nearest)\n",
    "    \n",
    "    \n",
    "    \n",
    "    \n",
    "    \n",
    "    n = np.array(nearest_song_index).shape[1]\n",
    "    \n",
    "    emd_list = []\n",
    "    signature_song_1 = (seed_song_df.iloc[0])\n",
    "    p_list=  seed_song_df.iloc[0]['weights']\n",
    "    for song_index in range(0,n):\n",
    "\n",
    "        q = nearest_song_index[0][song_index]\n",
    "        signature_song_2 = (new_df.iloc[q])\n",
    "\n",
    "\n",
    "        \n",
    "        q_list = new_df.iloc[q]['weights']\n",
    "        dist = np.zeros((4,4))\n",
    "        for i in range(0, 4):\n",
    "                for j in range(0, 4):\n",
    "                    dist[i][j]=distance_between_clusters(signature_song_1['means'][i],signature_song_1['var'][i], signature_song_2['means'][j], signature_song_2['var'][j])\n",
    "\n",
    "\n",
    "\n",
    "        emd_list.append(emd(p_list, q_list,dist))\n",
    "    list_near= np.argsort(emd_list)\n",
    "    #print(list_near)\n",
    "    no_of_songs = min(n, 200)\n",
    "    #print(no_of_songs)\n",
    "    return(track_id.iloc[list_near[:no_of_songs]]['trackid'].values)\n",
    "    \n",
    "\n",
    "\n",
    "    #return(track_id.iloc[nearest_song_index]['trackid'].values)\n",
    "print(return_candidate_songs('6txo4X8yd8FekwFFtI82Ea'))\n"
   ]
  },
  {
   "cell_type": "code",
   "execution_count": null,
   "metadata": {
    "collapsed": true
   },
   "outputs": [],
   "source": []
  }
 ],
 "metadata": {
  "anaconda-cloud": {},
  "kernelspec": {
   "display_name": "Python [conda root]",
   "language": "python",
   "name": "conda-root-py"
  },
  "language_info": {
   "codemirror_mode": {
    "name": "ipython",
    "version": 2
   },
   "file_extension": ".py",
   "mimetype": "text/x-python",
   "name": "python",
   "nbconvert_exporter": "python",
   "pygments_lexer": "ipython2",
   "version": "2.7.12"
  }
 },
 "nbformat": 4,
 "nbformat_minor": 1
}
