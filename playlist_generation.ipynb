{
 "cells": [
  {
   "cell_type": "markdown",
   "metadata": {},
   "source": [
    "# Playlist Generation\n",
    "\n",
    "### Goal: \n",
    "\n",
    "- Step 1: Top tracks: From a seed song find all top tracks from all related artists\n",
    "- Step 2: Similar songs: From a seed song find all songs from related artists, and filter by similar songs based on Spotify API audio features \n",
    "- Step 3: Simple sampling to find the best playlist\n",
    "- Step 4: Simulated Annealing to find the best playlist\n",
    "- Step 5: Comparison and validation of methods"
   ]
  },
  {
   "cell_type": "markdown",
   "metadata": {},
   "source": [
    "# Generate lists of candidate songs that fit into four buckets"
   ]
  },
  {
   "cell_type": "markdown",
   "metadata": {},
   "source": [
    "**4 buckets of songs**\n",
    "\n",
    "1. Top tracks from related artists\n",
    "2. Tracks from related artists\n",
    "3. Tracks from related artists identified as similar songs (using manhattan distance + Spotify API features)\n",
    "3. Tracks from our database identified as similar (using raw audio  + vantage point method)"
   ]
  },
  {
   "cell_type": "markdown",
   "metadata": {},
   "source": [
    "### Import Libraries and create spotify credentials manager"
   ]
  },
  {
   "cell_type": "code",
   "execution_count": 416,
   "metadata": {
    "collapsed": false
   },
   "outputs": [],
   "source": [
    "#!pip install pyemd"
   ]
  },
  {
   "cell_type": "code",
   "execution_count": 417,
   "metadata": {
    "collapsed": false
   },
   "outputs": [],
   "source": [
    "%matplotlib inline\n",
    "import matplotlib.pyplot as plt\n",
    "#importing module spotipy to make api calls to spotify\n",
    "import spotipy\n",
    "# module to extract song from url\n",
    "import urllib\n",
    "# OAuth Credenials\n",
    "from spotipy.oauth2 import SpotifyClientCredentials\n",
    "from multiprocessing import Process, Queue\n",
    "import pandas as pd \n",
    "import numpy as np\n",
    "from sklearn import datasets, linear_model\n",
    "#from sklearn.model_selection import cross_val_predict\n",
    "from sklearn import linear_model\n",
    "import matplotlib.pyplot as plt\n",
    "import math\n",
    "client_credentials_manager = SpotifyClientCredentials(client_id='4a1a457d14c0445a96e7021a5523905b', client_secret='45b186d601544fdcbb4fe07c7b23cce5')\n",
    "sp = spotipy.Spotify(client_credentials_manager=client_credentials_manager)\n",
    "#importing module spotipy to make api calls to spotify\n",
    "# module to extract song from url\n",
    "\n",
    "# OAuth Credenials\n",
    "\n",
    "from sklearn.model_selection import cross_val_predict\n",
    "from sklearn import linear_model\n",
    "from sklearn import mixture\n",
    "from sklearn.cluster import KMeans\n",
    "from sklearn.datasets import load_boston\n",
    "from sklearn.ensemble import RandomForestRegressor\n",
    "from sklearn.ensemble import RandomForestClassifier\n",
    "from sklearn.pipeline import Pipeline\n",
    "from sklearn.preprocessing import Imputer\n",
    "from sklearn.model_selection import cross_val_score\n",
    "from sklearn.decomposition import PCA\n",
    "from scipy.optimize import linprog\n",
    "from pyemd import emd\n"
   ]
  },
  {
   "cell_type": "code",
   "execution_count": 418,
   "metadata": {
    "collapsed": false
   },
   "outputs": [
    {
     "data": {
      "text/html": [
       "<div>\n",
       "<table border=\"1\" class=\"dataframe\">\n",
       "  <thead>\n",
       "    <tr style=\"text-align: right;\">\n",
       "      <th></th>\n",
       "      <th>0</th>\n",
       "      <th>1</th>\n",
       "      <th>2</th>\n",
       "      <th>3</th>\n",
       "      <th>4</th>\n",
       "      <th>5</th>\n",
       "      <th>6</th>\n",
       "      <th>7</th>\n",
       "      <th>8</th>\n",
       "      <th>9</th>\n",
       "      <th>...</th>\n",
       "      <th>25</th>\n",
       "      <th>26</th>\n",
       "      <th>27</th>\n",
       "      <th>28</th>\n",
       "      <th>29</th>\n",
       "      <th>30</th>\n",
       "      <th>31</th>\n",
       "      <th>32</th>\n",
       "      <th>33</th>\n",
       "      <th>id</th>\n",
       "    </tr>\n",
       "  </thead>\n",
       "  <tbody>\n",
       "    <tr>\n",
       "      <th>0</th>\n",
       "      <td>0.034331</td>\n",
       "      <td>0.027217</td>\n",
       "      <td>3.032119</td>\n",
       "      <td>0.100629</td>\n",
       "      <td>0.144193</td>\n",
       "      <td>0.094455</td>\n",
       "      <td>0.001504</td>\n",
       "      <td>0.038918</td>\n",
       "      <td>-20.449001</td>\n",
       "      <td>2.142264</td>\n",
       "      <td>...</td>\n",
       "      <td>0.000543</td>\n",
       "      <td>0.000259</td>\n",
       "      <td>0.000311</td>\n",
       "      <td>0.000444</td>\n",
       "      <td>0.000484</td>\n",
       "      <td>0.000725</td>\n",
       "      <td>0.000527</td>\n",
       "      <td>0.000368</td>\n",
       "      <td>0.000397</td>\n",
       "      <td>5bF6crgJa5Q58IWgbdUbuO</td>\n",
       "    </tr>\n",
       "    <tr>\n",
       "      <th>1</th>\n",
       "      <td>0.080249</td>\n",
       "      <td>0.063066</td>\n",
       "      <td>3.154067</td>\n",
       "      <td>0.179655</td>\n",
       "      <td>0.186982</td>\n",
       "      <td>0.676640</td>\n",
       "      <td>0.000210</td>\n",
       "      <td>0.105036</td>\n",
       "      <td>-17.555998</td>\n",
       "      <td>0.956587</td>\n",
       "      <td>...</td>\n",
       "      <td>0.000924</td>\n",
       "      <td>0.001856</td>\n",
       "      <td>0.000515</td>\n",
       "      <td>0.001718</td>\n",
       "      <td>0.001182</td>\n",
       "      <td>0.001021</td>\n",
       "      <td>0.001049</td>\n",
       "      <td>0.001231</td>\n",
       "      <td>0.000844</td>\n",
       "      <td>5BFMUpscSbYVT2V9j5d275</td>\n",
       "    </tr>\n",
       "    <tr>\n",
       "      <th>2</th>\n",
       "      <td>0.055129</td>\n",
       "      <td>0.094738</td>\n",
       "      <td>3.248476</td>\n",
       "      <td>0.168248</td>\n",
       "      <td>0.191879</td>\n",
       "      <td>0.350973</td>\n",
       "      <td>0.000328</td>\n",
       "      <td>0.043137</td>\n",
       "      <td>-17.683683</td>\n",
       "      <td>2.139082</td>\n",
       "      <td>...</td>\n",
       "      <td>0.001474</td>\n",
       "      <td>0.000988</td>\n",
       "      <td>0.001536</td>\n",
       "      <td>0.002911</td>\n",
       "      <td>0.000818</td>\n",
       "      <td>0.001129</td>\n",
       "      <td>0.000644</td>\n",
       "      <td>0.001056</td>\n",
       "      <td>0.001052</td>\n",
       "      <td>5bFxSkRAr1kiESBIkArOiP</td>\n",
       "    </tr>\n",
       "    <tr>\n",
       "      <th>3</th>\n",
       "      <td>0.035782</td>\n",
       "      <td>0.026939</td>\n",
       "      <td>3.152187</td>\n",
       "      <td>0.107575</td>\n",
       "      <td>0.149364</td>\n",
       "      <td>0.172294</td>\n",
       "      <td>0.001276</td>\n",
       "      <td>0.039265</td>\n",
       "      <td>-20.296906</td>\n",
       "      <td>2.452144</td>\n",
       "      <td>...</td>\n",
       "      <td>0.001199</td>\n",
       "      <td>0.002105</td>\n",
       "      <td>0.000745</td>\n",
       "      <td>0.002304</td>\n",
       "      <td>0.003827</td>\n",
       "      <td>0.003836</td>\n",
       "      <td>0.004233</td>\n",
       "      <td>0.003712</td>\n",
       "      <td>0.003389</td>\n",
       "      <td>5bG5GUKVJztKR5nff1CwUp</td>\n",
       "    </tr>\n",
       "    <tr>\n",
       "      <th>4</th>\n",
       "      <td>0.057428</td>\n",
       "      <td>0.062834</td>\n",
       "      <td>3.061450</td>\n",
       "      <td>0.131380</td>\n",
       "      <td>0.152100</td>\n",
       "      <td>0.427569</td>\n",
       "      <td>0.000472</td>\n",
       "      <td>0.075542</td>\n",
       "      <td>-17.584650</td>\n",
       "      <td>1.820407</td>\n",
       "      <td>...</td>\n",
       "      <td>0.000912</td>\n",
       "      <td>0.001501</td>\n",
       "      <td>0.002080</td>\n",
       "      <td>0.001376</td>\n",
       "      <td>0.002700</td>\n",
       "      <td>0.004059</td>\n",
       "      <td>0.001817</td>\n",
       "      <td>0.001280</td>\n",
       "      <td>0.002206</td>\n",
       "      <td>5BgC5vVuhfWHHawbcXRr7h</td>\n",
       "    </tr>\n",
       "  </tbody>\n",
       "</table>\n",
       "<p>5 rows × 35 columns</p>\n",
       "</div>"
      ],
      "text/plain": [
       "          0         1         2         3         4         5         6  \\\n",
       "0  0.034331  0.027217  3.032119  0.100629  0.144193  0.094455  0.001504   \n",
       "1  0.080249  0.063066  3.154067  0.179655  0.186982  0.676640  0.000210   \n",
       "2  0.055129  0.094738  3.248476  0.168248  0.191879  0.350973  0.000328   \n",
       "3  0.035782  0.026939  3.152187  0.107575  0.149364  0.172294  0.001276   \n",
       "4  0.057428  0.062834  3.061450  0.131380  0.152100  0.427569  0.000472   \n",
       "\n",
       "          7          8         9           ...                  25        26  \\\n",
       "0  0.038918 -20.449001  2.142264           ...            0.000543  0.000259   \n",
       "1  0.105036 -17.555998  0.956587           ...            0.000924  0.001856   \n",
       "2  0.043137 -17.683683  2.139082           ...            0.001474  0.000988   \n",
       "3  0.039265 -20.296906  2.452144           ...            0.001199  0.002105   \n",
       "4  0.075542 -17.584650  1.820407           ...            0.000912  0.001501   \n",
       "\n",
       "         27        28        29        30        31        32        33  \\\n",
       "0  0.000311  0.000444  0.000484  0.000725  0.000527  0.000368  0.000397   \n",
       "1  0.000515  0.001718  0.001182  0.001021  0.001049  0.001231  0.000844   \n",
       "2  0.001536  0.002911  0.000818  0.001129  0.000644  0.001056  0.001052   \n",
       "3  0.000745  0.002304  0.003827  0.003836  0.004233  0.003712  0.003389   \n",
       "4  0.002080  0.001376  0.002700  0.004059  0.001817  0.001280  0.002206   \n",
       "\n",
       "                       id  \n",
       "0  5bF6crgJa5Q58IWgbdUbuO  \n",
       "1  5BFMUpscSbYVT2V9j5d275  \n",
       "2  5bFxSkRAr1kiESBIkArOiP  \n",
       "3  5bG5GUKVJztKR5nff1CwUp  \n",
       "4  5BgC5vVuhfWHHawbcXRr7h  \n",
       "\n",
       "[5 rows x 35 columns]"
      ]
     },
     "execution_count": 418,
     "metadata": {},
     "output_type": "execute_result"
    }
   ],
   "source": [
    "mean_features_data = pd.read_csv('mean_features_data_with_id.csv').drop('Unnamed: 0', axis = 1)\n",
    "mean_features_data.head()"
   ]
  },
  {
   "cell_type": "code",
   "execution_count": 419,
   "metadata": {
    "collapsed": false
   },
   "outputs": [],
   "source": [
    "from sklearn.cluster import KMeans\n",
    "cols = np.array(range(0,34))\n",
    "kmeans = KMeans(n_clusters=300, random_state=0).fit(mean_features_data[cols])"
   ]
  },
  {
   "cell_type": "code",
   "execution_count": 420,
   "metadata": {
    "collapsed": true
   },
   "outputs": [],
   "source": [
    "def distance_between_clusters(mu_1, sig_1, mu_2, sig_2):\n",
    "    \n",
    "    means_diff_1 = mu_1- mu_2\n",
    "    means_diff_2 = mu_2- mu_1\n",
    "    sig_1_inv = np.linalg.inv(sig_1)\n",
    "    sig_2_inv = np.linalg.inv(sig_2)\n",
    "    dist = np.trace(np.dot(np.linalg.inv(sig_1) , sig_2)) + np.trace(np.dot(np.linalg.inv(sig_2) , sig_1)) + np.dot(np.dot(means_diff_1.T,sig_1_inv),means_diff_1) +np.dot(np.dot(means_diff_2.T,sig_2_inv),means_diff_2) \n",
    "    return dist\n"
   ]
  },
  {
   "cell_type": "code",
   "execution_count": 421,
   "metadata": {
    "collapsed": true
   },
   "outputs": [],
   "source": [
    "# code to calculate emd between two songs\n",
    "def calc_emd(signature_1, signature_2):\n",
    "    p_list = []\n",
    "    for i in signature_1['weights']:\n",
    "        p_list.append(i)\n",
    "    \n",
    "    q_list = []\n",
    "    for i in signature_2['weights']:\n",
    "        q_list.append(i)\n",
    "    \n",
    "    clus_1 = signature_1['means'].shape[0]\n",
    "    clus_2 = signature_2['means'].shape[0]\n",
    "    dist = np.zeros((clus_1*clus_2))\n",
    "    p_list = np.array(p_list)\n",
    "    q_list = np.array(q_list)\n",
    "    col = 0\n",
    "    for i in range(0, clus_1):\n",
    "        for j in range(0, clus_2):\n",
    "            dist[col]=distance_between_clusters(signature_1['means'][i],signature_1['var'][i], signature_2['means'][j], signature_2['var'][j])\n",
    "            col+=1\n",
    "    #clus_1 = clus_2 = 4\n",
    "    A_ub = np.zeros((clus_1+clus_2, clus_1*clus_2))\n",
    "    j = 0\n",
    "    for i in range(0, clus_1):\n",
    "        A_ub[i][j:j+clus_2] = 1\n",
    "        j+=clus_2\n",
    "\n",
    "    #print(A_ub)\n",
    "    k = 0\n",
    "    for i in range(clus_1, clus_1+clus_2):\n",
    "        \n",
    "        for j in range(k, clus_1*clus_2, clus_2):\n",
    "            \n",
    "            A_ub[i][j] = 1\n",
    "        k = k+1\n",
    "    #print(A_ub)\n",
    "    b_ub = np.zeros(clus_1 + clus_2)\n",
    "    b_ub[0:clus_1] = p_list\n",
    "    b_ub[clus_1:] = q_list\n",
    "    A_eq = np.ones((1,clus_1*clus_2))\n",
    "    b_eq = min(np.sum(p_list), np.sum(q_list))\n",
    "\n",
    "    res = linprog(c = dist,A_ub = A_ub,b_ub= b_ub,A_eq = A_eq, b_eq = b_eq,options={\"disp\": True})\n",
    "    \n",
    "    f_star = np.array(res['x'])\n",
    "\n",
    "    num = np.dot(f_star, dist)\n",
    "    denom = np.sum(f_star)\n",
    "    #print(f_star, num, denom)\n",
    "    return(num/denom)\n",
    "\n",
    "\n",
    "    \n",
    "# example for two songs\n",
    "\n",
    "# p_list = np.array([0.2, 0.8])\n",
    "# q_list = np.array([0.8, 0.2])\n",
    "\n",
    "# c = np.array([[0,1],[1,0]])\n",
    "# c = np.transpose(np.ravel(c))\n",
    "# print(\"c\",c)\n",
    "# A_ub  = np.array([[1,1,0,0], [0,0,1,1], [1,0,1,0], [0,1,0,1]])\n",
    "# print(\"A_ub\",A_ub)\n",
    "# b_ub  =np.array([p_list[0], p_list[1], q_list[0], q_list[1]])\n",
    "# b_ub = np.transpose(b_ub)\n",
    "# print(\"b_ub \", b_ub)\n",
    "# A_eq = np.array([[1,1,1,1]])\n",
    "# b_eq = min(np.sum(p_list), np.sum(q_list))\n",
    "# #print(A_eq, b_eq)\n",
    "# res = linprog(c = c,A_ub = A_ub,b_ub= b_ub,A_eq = A_eq, b_eq = b_eq,options={\"disp\": True})\n",
    "# f_star = np.array(res['x'])\n",
    "# num = np.dot(f_star, c)\n",
    "# denom = np.sum(f_star)\n",
    "# print(num/denom)\n",
    "\n",
    "\n"
   ]
  },
  {
   "cell_type": "code",
   "execution_count": 422,
   "metadata": {
    "collapsed": false
   },
   "outputs": [],
   "source": [
    "track_id = pd.read_csv('track_id_new.csv')"
   ]
  },
  {
   "cell_type": "markdown",
   "metadata": {},
   "source": [
    "### Read in csv that has the track ids from all Spotify playlists"
   ]
  },
  {
   "cell_type": "code",
   "execution_count": 423,
   "metadata": {
    "collapsed": false
   },
   "outputs": [
    {
     "name": "stdout",
     "output_type": "stream",
     "text": [
      "14887 example track ids \n",
      "\n",
      "['1tPGSiwtvmMVAqmniJ7oHp', '1tpShM80HMT9vKjRiA3EzW', '1TPUbLdzpfgF7wrPEXIAAB', '1tQGRq2WOBXjL3JWdWMONg', '1TqmZVIyeD4aN4Wa0wbnfy', '1TquBahz02HCaxj8jy5tTo', '1Tr4K5MU5XYE44umXGDndd', '1tRlCCMVLSVQrrN9PPgtf0', '1TScJLsDWzDVBFpCU5vJDo', '1TSjS0q24cPW2S4pYj2wEK', '1Tt4sE4pXi57mTD1GCzsqm', '1TtdHZ4KvN56LCt9evBUaL', '1TTiZwoorWMR4KmaI0irjU', '1TtJJ7YP6JCQ3aH8PQpreD', '1TTOAw90zzNWKnUgzzcvZW']\n"
     ]
    }
   ],
   "source": [
    "track_info = pd.read_csv(\"kmeans_output.csv\")\n",
    "track_ids = list(track_info['id'])\n",
    "print(len(track_ids), \"example track ids\", \"\\n\")\n",
    "print(track_ids[:15])\n",
    "track_result = sp.tracks([\"1tpShM80HMT9vKjRiA3EzW\"])"
   ]
  },
  {
   "cell_type": "markdown",
   "metadata": {},
   "source": [
    "---------"
   ]
  },
  {
   "cell_type": "markdown",
   "metadata": {},
   "source": [
    "### Input a seed track"
   ]
  },
  {
   "cell_type": "code",
   "execution_count": 424,
   "metadata": {
    "collapsed": false
   },
   "outputs": [
    {
     "name": "stdout",
     "output_type": "stream",
     "text": [
      "ID:  7k2lqQ4Vt9435X24qUISki \n",
      " \n",
      " Artist name:  Ciele \n",
      " Track name:  Daydream\n"
     ]
    }
   ],
   "source": [
    "seed_id = '7k2lqQ4Vt9435X24qUISki'# \"7qiZfU4dY1lWllzX7mPBI3\" #'6txo4X8yd8FekwFFtI82Ea' #\n",
    "track_info = sp.tracks([seed_id])\n",
    "name = track_info['tracks'][0]['name']\n",
    "seed_preview_url = track_info['tracks'][0]['preview_url']\n",
    "print(\"ID: \", seed_id, \"\\n \\n Artist name: \",track_info['tracks'][0]['artists'][0]['name'], \"\\n Track name: \",name)"
   ]
  },
  {
   "cell_type": "markdown",
   "metadata": {},
   "source": [
    "### Get the track's artists"
   ]
  },
  {
   "cell_type": "code",
   "execution_count": 425,
   "metadata": {
    "collapsed": false
   },
   "outputs": [
    {
     "name": "stdout",
     "output_type": "stream",
     "text": [
      "[u'Ciele', u'Chris Ho']\n",
      "[u'1ox8Ch0uaAeuJvVyKO8Okg', u'3RKOByto5bCzCDjK5ViM6w'] \n",
      "\n",
      "2 artist(s)\n"
     ]
    }
   ],
   "source": [
    "artist_names = []\n",
    "artist_ids = []\n",
    "for each in track_info['tracks'][0]['artists']:\n",
    "    artist_names.append(each['name'])\n",
    "    artist_ids.append(each['id'])\n",
    "print(artist_names)\n",
    "print(artist_ids,\"\\n\")\n",
    "print(len(artist_names), \"artist(s)\")"
   ]
  },
  {
   "cell_type": "code",
   "execution_count": 426,
   "metadata": {
    "collapsed": false
   },
   "outputs": [
    {
     "data": {
      "text/plain": [
       "[u'1ox8Ch0uaAeuJvVyKO8Okg', u'3RKOByto5bCzCDjK5ViM6w']"
      ]
     },
     "execution_count": 426,
     "metadata": {},
     "output_type": "execute_result"
    }
   ],
   "source": [
    "artist_ids"
   ]
  },
  {
   "cell_type": "markdown",
   "metadata": {},
   "source": [
    "### Get related artists"
   ]
  },
  {
   "cell_type": "code",
   "execution_count": 427,
   "metadata": {
    "collapsed": false
   },
   "outputs": [
    {
     "name": "stdout",
     "output_type": "stream",
     "text": [
      "1ox8Ch0uaAeuJvVyKO8Okg\n",
      "3RKOByto5bCzCDjK5ViM6w\n",
      "42 related artists\n"
     ]
    }
   ],
   "source": [
    "all_related_artists_names = []\n",
    "all_related_artists_ids = []\n",
    "all_related_artists_names.extend(artist_names)\n",
    "all_related_artists_ids.extend(artist_ids)\n",
    "\n",
    "for each in artist_ids:\n",
    "    print(each)\n",
    "    related = sp.artist_related_artists(each)\n",
    "    for related_artist in related['artists']:\n",
    "        all_related_artists_names.append(related_artist['name'])\n",
    "        all_related_artists_ids.append(related_artist['id'])\n",
    "all_related_artists_ids = np.array(all_related_artists_ids)\n",
    "all_related_artists_ids_unique = np.unique(all_related_artists_ids)\n",
    "print(len(all_related_artists_ids_unique), \"related artists\")"
   ]
  },
  {
   "cell_type": "markdown",
   "metadata": {},
   "source": [
    "### Bucket #1: Top tracks from the related artists"
   ]
  },
  {
   "cell_type": "code",
   "execution_count": 428,
   "metadata": {
    "collapsed": false
   },
   "outputs": [
    {
     "name": "stdout",
     "output_type": "stream",
     "text": [
      "336 top tracks from related artists\n"
     ]
    }
   ],
   "source": [
    "top_tracks_related_artists = []\n",
    "for each in all_related_artists_ids_unique:    \n",
    "    top_tracks_one_artist = sp.artist_top_tracks(each)\n",
    "\n",
    "    for each in top_tracks_one_artist['tracks']:\n",
    "        song = each['id']\n",
    "        top_tracks_related_artists.append(song)\n",
    "        \n",
    "print(len(top_tracks_related_artists),\"top tracks from related artists\")"
   ]
  },
  {
   "cell_type": "markdown",
   "metadata": {},
   "source": [
    "### Bucket #2: Songs from related artists that are not in top tracks but are similar"
   ]
  },
  {
   "cell_type": "code",
   "execution_count": 429,
   "metadata": {
    "collapsed": false
   },
   "outputs": [
    {
     "name": "stdout",
     "output_type": "stream",
     "text": [
      "Finding albums from related artists...\n",
      "Finding songs from those albums...\n",
      "0\n",
      "50\n",
      "100\n",
      "150\n",
      "200\n",
      "250\n",
      "300\n",
      "350\n",
      "2729  songs from related artists\n"
     ]
    }
   ],
   "source": [
    "print(\"Finding albums from related artists...\")\n",
    "all_related_albums = []\n",
    "for each in all_related_artists_ids_unique:    \n",
    "    albums = sp.artist_albums(each, album_type=None, country=None, limit=50, offset=0)\n",
    "    for each in albums['items']:\n",
    "        album_id = each['id']\n",
    "        all_related_albums.append(album_id)\n",
    "sp.album_tracks(all_related_albums[1], limit=50, offset=0)\n",
    "print(\"Finding songs from those albums...\")\n",
    "\n",
    "all_related_songs = []\n",
    "all_related_preview_urls = []\n",
    "for index, each_album in enumerate(all_related_albums):\n",
    "    album_tracks = sp.album_tracks(each_album, limit=50, offset=0)\n",
    "    if index%50==0: print(index)\n",
    "    for each in album_tracks['items']:\n",
    "        all_related_songs.append(each['id'])\n",
    "        all_related_preview_urls.append(each['preview_url'])\n",
    "all_related_songs = np.array(all_related_songs)\n",
    "all_related_songs = list(np.unique(all_related_songs))\n",
    "combined = [seed_id]\n",
    "combined.extend(all_related_songs)\n",
    "all_related_songs = combined\n",
    "print(len(all_related_songs), \" songs from related artists\")"
   ]
  },
  {
   "cell_type": "markdown",
   "metadata": {},
   "source": [
    "### Test to make sure the songs sound like they're from related artists"
   ]
  },
  {
   "cell_type": "code",
   "execution_count": 430,
   "metadata": {
    "collapsed": true
   },
   "outputs": [],
   "source": [
    "from IPython.core.display import HTML"
   ]
  },
  {
   "cell_type": "code",
   "execution_count": 431,
   "metadata": {
    "collapsed": false
   },
   "outputs": [
    {
     "data": {
      "text/html": [
       "<a href=https://p.scdn.co/mp3-preview/db320fd9db78da2fe97dad2fcc09298ccf105b0e?cid=4a1a457d14c0445a96e7021a5523905b>preview input song</a>"
      ],
      "text/plain": [
       "<IPython.core.display.HTML object>"
      ]
     },
     "execution_count": 431,
     "metadata": {},
     "output_type": "execute_result"
    }
   ],
   "source": [
    "link = '<a href=' + str(seed_preview_url) + '>preview input song</a>'\n",
    "#display(HTML(link))\n",
    "HTML(link)\n"
   ]
  },
  {
   "cell_type": "code",
   "execution_count": 432,
   "metadata": {
    "collapsed": false
   },
   "outputs": [
    {
     "data": {
      "text/html": [
       "<a href=https://p.scdn.co/mp3-preview/0af15210935a111691a3cfa7abd6ce0e2ae7e72a?cid=4a1a457d14c0445a96e7021a5523905b>preview related song</a>"
      ],
      "text/plain": [
       "<IPython.core.display.HTML object>"
      ]
     },
     "execution_count": 432,
     "metadata": {},
     "output_type": "execute_result"
    }
   ],
   "source": [
    "link = '<a href=' + str(all_related_preview_urls[10]) + '>preview related song</a>'\n",
    "HTML(link)\n"
   ]
  },
  {
   "cell_type": "markdown",
   "metadata": {},
   "source": [
    "### Bucket 4"
   ]
  },
  {
   "cell_type": "code",
   "execution_count": 433,
   "metadata": {
    "collapsed": false
   },
   "outputs": [
    {
     "name": "stdout",
     "output_type": "stream",
     "text": [
      "(34, 30)\n",
      "[294]\n"
     ]
    },
    {
     "name": "stderr",
     "output_type": "stream",
     "text": [
      "/Users/lw20302/anaconda/lib/python2.7/site-packages/ipykernel/__main__.py:17: FutureWarning: reshape is deprecated and will raise in a subsequent release. Please use .values.reshape(...) instead\n"
     ]
    }
   ],
   "source": [
    "def return_candidate_songs(seed_song): # seed_song is the track_id\n",
    "    \n",
    "    # extract raw audio #\n",
    "    track_spotify = sp.tracks([seed_song])['tracks'][0]\n",
    "        \n",
    "    \n",
    "    #print(track_spotify['preview_url'])  \n",
    "    urllib.urlretrieve(track_spotify['preview_url'], \"track\"+track_spotify['id']+\".wav\")\n",
    "                    \n",
    "    # extract acoustic features\n",
    "    \n",
    "#     [Fs, x] = audioBasicIO.readAudioFile(\"track\"+track_spotify['id']+\".wav\");\n",
    "#     F = audioFeatureExtraction.stFeatureExtraction(x[:,1], Fs, 1* Fs, 1*Fs);\n",
    "    F = pd.read_csv(seed_song + '.csv', header = None)\n",
    "    print(F.shape)\n",
    "#     # predict the nearest vantage point\n",
    "    vp_nearest = kmeans.predict(np.mean(F, axis = 1).reshape(1,-1))\n",
    "    print(vp_nearest)\n",
    "    #All songs in that cluster\n",
    "    nearest_song_index = np.where(kmeans.labels_ == vp_nearest)\n",
    "    return(track_id.iloc[nearest_song_index]['trackid'].values)\n",
    "bucket4_ids = return_candidate_songs('7qiZfU4dY1lWllzX7mPBI3')"
   ]
  },
  {
   "cell_type": "markdown",
   "metadata": {},
   "source": [
    "### Function to get Spotify API features given a list of track ids"
   ]
  },
  {
   "cell_type": "code",
   "execution_count": 434,
   "metadata": {
    "collapsed": false
   },
   "outputs": [],
   "source": [
    "def get_spotify_features(track_ids,numLoops=None):\n",
    "    track_ids_all= []\n",
    "    popularity = []\n",
    "    preview_urls_all =[]\n",
    "    artists_all = []\n",
    "    names_all = []\n",
    "    track_numbers_all = []\n",
    "    num_markets = []\n",
    "    \n",
    "    # set parameters\n",
    "    offset=0\n",
    "    limit=50\n",
    "    if numLoops==None: \n",
    "        numLoops=int(math.floor(len(track_ids)/50)+1)\n",
    "    aud_features = np.empty((limit*numLoops, 13))\n",
    "    for loopIndex in range(numLoops):\n",
    "        start = offset + limit*loopIndex # start \n",
    "        tracks = track_ids[start:start+limit]\n",
    "        try:\n",
    "            tracks_list = sp.tracks(tracks)\n",
    "            features = sp.audio_features(tracks=tracks)\n",
    "        except:\n",
    "            print(\"Couldn't get data\", index)\n",
    "            continue\n",
    "        for index, track in enumerate(tracks_list['tracks']):\n",
    "            \n",
    "            try:\n",
    "                if (start+index)%1000==0: \n",
    "                    print(index+1+start)\n",
    "                preview_urls_all.append(track['preview_url'])\n",
    "                track_ids_all.append(track['id'])\n",
    "                popularity.append(track['popularity'])\n",
    "                names_all.append(track['name'])\n",
    "                artists_all.append(track['artists'][0]['name'])\n",
    "                track_numbers_all.append(track['track_number'])\n",
    "                num_markets.append(track['available_markets'])\n",
    "                songData = features[index]\n",
    "                aud_features[index+start][0] = songData['acousticness']\n",
    "                aud_features[index+start][1] = songData['danceability']\n",
    "                aud_features[index+start][2] = songData['energy']\n",
    "                aud_features[index+start][3] = songData['instrumentalness']\n",
    "                aud_features[index+start][4] = songData['key']\n",
    "                aud_features[index+start][5] = songData['liveness']\n",
    "                aud_features[index+start][6] = songData['loudness']\n",
    "                aud_features[index+start][7] = songData['mode']\n",
    "                aud_features[index+start][8] = songData['tempo']\n",
    "                aud_features[index+start][9] = songData['time_signature']\n",
    "                aud_features[index+start][10] = songData['valence']\n",
    "                aud_features[index+start][11] = songData['duration_ms']\n",
    "                aud_features[index+start][12] = songData['speechiness']\n",
    "                 \n",
    "            except:\n",
    "                print(\"Some fields not available\", index)\n",
    "\n",
    "    aud_features = aud_features[:len(names_all),]\n",
    "    track_data = pd.DataFrame({\n",
    "    'preview_url': preview_urls_all,\n",
    "    'id': track_ids_all,\n",
    "    'popularity': popularity,\n",
    "    'artists': artists_all,\n",
    "    'names': names_all,\n",
    "    'acousticness': aud_features[:,0],\n",
    "    'danceability': aud_features[:,1],\n",
    "    'energy': aud_features[:,2],\n",
    "    'instrumentalness': aud_features[:,3],\n",
    "    'key': aud_features[:,4],\n",
    "    'liveness': aud_features[:,5],\n",
    "    'loudness': aud_features[:,6],\n",
    "    'mode': aud_features[:,7],\n",
    "    'tempo': aud_features[:,8],\n",
    "    'time_signature': aud_features[:,9],\n",
    "    'valence': aud_features[:,10],\n",
    "    'duration': aud_features[:,11],\n",
    "    'speechiness': aud_features[:,12],\n",
    "    'available_markets': num_markets\n",
    "    \n",
    "   \n",
    "    })\n",
    "    #q.put(track_data)\n",
    "    print(len(num_markets), len(popularity), aud_features.shape)\n",
    "    #name = multiprocessing.current_process().name\n",
    "    print('Exiting')\n",
    "    return track_data\n"
   ]
  },
  {
   "cell_type": "markdown",
   "metadata": {},
   "source": [
    "### Get all Spotify features for Bucket 1"
   ]
  },
  {
   "cell_type": "code",
   "execution_count": 435,
   "metadata": {
    "collapsed": false
   },
   "outputs": [
    {
     "name": "stdout",
     "output_type": "stream",
     "text": [
      "336\n",
      "1\n",
      "336 336 (336, 13)\n",
      "Exiting\n"
     ]
    }
   ],
   "source": [
    "print(len(top_tracks_related_artists))\n",
    "top_tracks_df = get_spotify_features(track_ids=top_tracks_related_artists) "
   ]
  },
  {
   "cell_type": "code",
   "execution_count": 436,
   "metadata": {
    "collapsed": false
   },
   "outputs": [
    {
     "data": {
      "text/html": [
       "<div>\n",
       "<table border=\"1\" class=\"dataframe\">\n",
       "  <thead>\n",
       "    <tr style=\"text-align: right;\">\n",
       "      <th></th>\n",
       "      <th>acousticness</th>\n",
       "      <th>artists</th>\n",
       "      <th>available_markets</th>\n",
       "      <th>danceability</th>\n",
       "      <th>duration</th>\n",
       "      <th>energy</th>\n",
       "      <th>id</th>\n",
       "      <th>instrumentalness</th>\n",
       "      <th>key</th>\n",
       "      <th>liveness</th>\n",
       "      <th>loudness</th>\n",
       "      <th>mode</th>\n",
       "      <th>names</th>\n",
       "      <th>popularity</th>\n",
       "      <th>preview_url</th>\n",
       "      <th>speechiness</th>\n",
       "      <th>tempo</th>\n",
       "      <th>time_signature</th>\n",
       "      <th>valence</th>\n",
       "    </tr>\n",
       "  </thead>\n",
       "  <tbody>\n",
       "    <tr>\n",
       "      <th>0</th>\n",
       "      <td>0.04640</td>\n",
       "      <td>Humpback Oak</td>\n",
       "      <td>[AD, AR, AT, AU, BE, BG, BO, BR, CA, CH, CL, C...</td>\n",
       "      <td>0.465</td>\n",
       "      <td>218333.0</td>\n",
       "      <td>0.755</td>\n",
       "      <td>5UMrTvoee2LLiwXlq2Kisa</td>\n",
       "      <td>0.006060</td>\n",
       "      <td>5.0</td>\n",
       "      <td>0.0999</td>\n",
       "      <td>-11.004</td>\n",
       "      <td>0.0</td>\n",
       "      <td>Lower Girl</td>\n",
       "      <td>1</td>\n",
       "      <td>https://p.scdn.co/mp3-preview/1f484f32e8added8...</td>\n",
       "      <td>0.0276</td>\n",
       "      <td>143.879</td>\n",
       "      <td>4.0</td>\n",
       "      <td>0.861</td>\n",
       "    </tr>\n",
       "    <tr>\n",
       "      <th>1</th>\n",
       "      <td>0.04940</td>\n",
       "      <td>The Nonames</td>\n",
       "      <td>[AD, AR, AT, AU, BE, BG, BO, BR, CA, CH, CL, C...</td>\n",
       "      <td>0.501</td>\n",
       "      <td>223244.0</td>\n",
       "      <td>0.685</td>\n",
       "      <td>00PeEIoBs1WTVrW8AVBc4w</td>\n",
       "      <td>0.000000</td>\n",
       "      <td>1.0</td>\n",
       "      <td>0.1800</td>\n",
       "      <td>-8.973</td>\n",
       "      <td>1.0</td>\n",
       "      <td>Resurrection Kid</td>\n",
       "      <td>2</td>\n",
       "      <td>https://p.scdn.co/mp3-preview/157f0d32a685ef34...</td>\n",
       "      <td>0.3690</td>\n",
       "      <td>85.494</td>\n",
       "      <td>5.0</td>\n",
       "      <td>0.425</td>\n",
       "    </tr>\n",
       "    <tr>\n",
       "      <th>2</th>\n",
       "      <td>0.08230</td>\n",
       "      <td>The Nonames</td>\n",
       "      <td>[AD, AR, AT, AU, BE, BG, BO, BR, CA, CH, CL, C...</td>\n",
       "      <td>0.482</td>\n",
       "      <td>227199.0</td>\n",
       "      <td>0.761</td>\n",
       "      <td>79PzUCoYq6Co89mxICQOH8</td>\n",
       "      <td>0.000033</td>\n",
       "      <td>8.0</td>\n",
       "      <td>0.1840</td>\n",
       "      <td>-10.955</td>\n",
       "      <td>1.0</td>\n",
       "      <td>Shallow</td>\n",
       "      <td>0</td>\n",
       "      <td>https://p.scdn.co/mp3-preview/ea42572a49b46a7e...</td>\n",
       "      <td>0.4110</td>\n",
       "      <td>79.131</td>\n",
       "      <td>4.0</td>\n",
       "      <td>0.471</td>\n",
       "    </tr>\n",
       "    <tr>\n",
       "      <th>3</th>\n",
       "      <td>0.00651</td>\n",
       "      <td>The Nonames</td>\n",
       "      <td>[AD, AR, AT, AU, BE, BG, BO, BR, CA, CH, CL, C...</td>\n",
       "      <td>0.558</td>\n",
       "      <td>256351.0</td>\n",
       "      <td>0.955</td>\n",
       "      <td>0RAsLh8vE0jyEWiwEHET6L</td>\n",
       "      <td>0.918000</td>\n",
       "      <td>9.0</td>\n",
       "      <td>0.3170</td>\n",
       "      <td>-6.272</td>\n",
       "      <td>1.0</td>\n",
       "      <td>Come On Shoot A Goal - England Anthem</td>\n",
       "      <td>0</td>\n",
       "      <td>https://p.scdn.co/mp3-preview/72292364ad15f325...</td>\n",
       "      <td>0.0423</td>\n",
       "      <td>130.010</td>\n",
       "      <td>4.0</td>\n",
       "      <td>0.710</td>\n",
       "    </tr>\n",
       "    <tr>\n",
       "      <th>4</th>\n",
       "      <td>0.04120</td>\n",
       "      <td>The Nonames</td>\n",
       "      <td>[AD, AR, AT, AU, BE, BG, BO, BR, CA, CH, CL, C...</td>\n",
       "      <td>0.407</td>\n",
       "      <td>202857.0</td>\n",
       "      <td>0.847</td>\n",
       "      <td>4ogWT57PF2GiA0JK2SoInN</td>\n",
       "      <td>0.886000</td>\n",
       "      <td>0.0</td>\n",
       "      <td>0.2590</td>\n",
       "      <td>-11.896</td>\n",
       "      <td>1.0</td>\n",
       "      <td>Pepinako</td>\n",
       "      <td>0</td>\n",
       "      <td>https://p.scdn.co/mp3-preview/c942da15728064ef...</td>\n",
       "      <td>0.1290</td>\n",
       "      <td>82.480</td>\n",
       "      <td>4.0</td>\n",
       "      <td>0.223</td>\n",
       "    </tr>\n",
       "  </tbody>\n",
       "</table>\n",
       "</div>"
      ],
      "text/plain": [
       "   acousticness       artists  \\\n",
       "0       0.04640  Humpback Oak   \n",
       "1       0.04940   The Nonames   \n",
       "2       0.08230   The Nonames   \n",
       "3       0.00651   The Nonames   \n",
       "4       0.04120   The Nonames   \n",
       "\n",
       "                                   available_markets  danceability  duration  \\\n",
       "0  [AD, AR, AT, AU, BE, BG, BO, BR, CA, CH, CL, C...         0.465  218333.0   \n",
       "1  [AD, AR, AT, AU, BE, BG, BO, BR, CA, CH, CL, C...         0.501  223244.0   \n",
       "2  [AD, AR, AT, AU, BE, BG, BO, BR, CA, CH, CL, C...         0.482  227199.0   \n",
       "3  [AD, AR, AT, AU, BE, BG, BO, BR, CA, CH, CL, C...         0.558  256351.0   \n",
       "4  [AD, AR, AT, AU, BE, BG, BO, BR, CA, CH, CL, C...         0.407  202857.0   \n",
       "\n",
       "   energy                      id  instrumentalness  key  liveness  loudness  \\\n",
       "0   0.755  5UMrTvoee2LLiwXlq2Kisa          0.006060  5.0    0.0999   -11.004   \n",
       "1   0.685  00PeEIoBs1WTVrW8AVBc4w          0.000000  1.0    0.1800    -8.973   \n",
       "2   0.761  79PzUCoYq6Co89mxICQOH8          0.000033  8.0    0.1840   -10.955   \n",
       "3   0.955  0RAsLh8vE0jyEWiwEHET6L          0.918000  9.0    0.3170    -6.272   \n",
       "4   0.847  4ogWT57PF2GiA0JK2SoInN          0.886000  0.0    0.2590   -11.896   \n",
       "\n",
       "   mode                                  names  popularity  \\\n",
       "0   0.0                             Lower Girl           1   \n",
       "1   1.0                       Resurrection Kid           2   \n",
       "2   1.0                                Shallow           0   \n",
       "3   1.0  Come On Shoot A Goal - England Anthem           0   \n",
       "4   1.0                               Pepinako           0   \n",
       "\n",
       "                                         preview_url  speechiness    tempo  \\\n",
       "0  https://p.scdn.co/mp3-preview/1f484f32e8added8...       0.0276  143.879   \n",
       "1  https://p.scdn.co/mp3-preview/157f0d32a685ef34...       0.3690   85.494   \n",
       "2  https://p.scdn.co/mp3-preview/ea42572a49b46a7e...       0.4110   79.131   \n",
       "3  https://p.scdn.co/mp3-preview/72292364ad15f325...       0.0423  130.010   \n",
       "4  https://p.scdn.co/mp3-preview/c942da15728064ef...       0.1290   82.480   \n",
       "\n",
       "   time_signature  valence  \n",
       "0             4.0    0.861  \n",
       "1             5.0    0.425  \n",
       "2             4.0    0.471  \n",
       "3             4.0    0.710  \n",
       "4             4.0    0.223  "
      ]
     },
     "execution_count": 436,
     "metadata": {},
     "output_type": "execute_result"
    }
   ],
   "source": [
    "top_tracks_df.head()"
   ]
  },
  {
   "cell_type": "code",
   "execution_count": 437,
   "metadata": {
    "collapsed": false
   },
   "outputs": [],
   "source": [
    "top_tracks_df = top_tracks_df.dropna()\n",
    "top_tracks_df = top_tracks_df.reset_index(drop=True)"
   ]
  },
  {
   "cell_type": "markdown",
   "metadata": {},
   "source": [
    "### Get Spotify API Features for Bucket 2"
   ]
  },
  {
   "cell_type": "code",
   "execution_count": 438,
   "metadata": {
    "collapsed": false
   },
   "outputs": [
    {
     "name": "stdout",
     "output_type": "stream",
     "text": [
      "1\n",
      "1001\n",
      "2001\n",
      "2729 2729 (2729, 13)\n",
      "Exiting\n"
     ]
    }
   ],
   "source": [
    "features_df = get_spotify_features(track_ids=all_related_songs)"
   ]
  },
  {
   "cell_type": "code",
   "execution_count": 439,
   "metadata": {
    "collapsed": false
   },
   "outputs": [
    {
     "data": {
      "text/html": [
       "<div>\n",
       "<table border=\"1\" class=\"dataframe\">\n",
       "  <thead>\n",
       "    <tr style=\"text-align: right;\">\n",
       "      <th></th>\n",
       "      <th>acousticness</th>\n",
       "      <th>artists</th>\n",
       "      <th>available_markets</th>\n",
       "      <th>danceability</th>\n",
       "      <th>duration</th>\n",
       "      <th>energy</th>\n",
       "      <th>id</th>\n",
       "      <th>instrumentalness</th>\n",
       "      <th>key</th>\n",
       "      <th>liveness</th>\n",
       "      <th>loudness</th>\n",
       "      <th>mode</th>\n",
       "      <th>names</th>\n",
       "      <th>popularity</th>\n",
       "      <th>preview_url</th>\n",
       "      <th>speechiness</th>\n",
       "      <th>tempo</th>\n",
       "      <th>time_signature</th>\n",
       "      <th>valence</th>\n",
       "    </tr>\n",
       "  </thead>\n",
       "  <tbody>\n",
       "    <tr>\n",
       "      <th>0</th>\n",
       "      <td>0.69800</td>\n",
       "      <td>Ciele</td>\n",
       "      <td>[AD, AR, AT, AU, BE, BG, BO, BR, CA, CH, CL, C...</td>\n",
       "      <td>0.685</td>\n",
       "      <td>218404.0</td>\n",
       "      <td>0.2120</td>\n",
       "      <td>7k2lqQ4Vt9435X24qUISki</td>\n",
       "      <td>0.000045</td>\n",
       "      <td>4.0</td>\n",
       "      <td>0.1660</td>\n",
       "      <td>-11.233</td>\n",
       "      <td>1.0</td>\n",
       "      <td>Daydream</td>\n",
       "      <td>54</td>\n",
       "      <td>https://p.scdn.co/mp3-preview/db320fd9db78da2f...</td>\n",
       "      <td>0.0354</td>\n",
       "      <td>139.955</td>\n",
       "      <td>3.0</td>\n",
       "      <td>0.299</td>\n",
       "    </tr>\n",
       "    <tr>\n",
       "      <th>1</th>\n",
       "      <td>0.00255</td>\n",
       "      <td>The Great Spy Experiment</td>\n",
       "      <td>[AR, AT, AU, BE, BO, BR, CH, CL, CO, CR, CY, C...</td>\n",
       "      <td>0.428</td>\n",
       "      <td>329627.0</td>\n",
       "      <td>0.8180</td>\n",
       "      <td>006J0U8vgXGcXvyAX1dIVQ</td>\n",
       "      <td>0.427000</td>\n",
       "      <td>0.0</td>\n",
       "      <td>0.0817</td>\n",
       "      <td>-5.713</td>\n",
       "      <td>1.0</td>\n",
       "      <td>In The Sun</td>\n",
       "      <td>10</td>\n",
       "      <td>None</td>\n",
       "      <td>0.0461</td>\n",
       "      <td>128.026</td>\n",
       "      <td>4.0</td>\n",
       "      <td>0.119</td>\n",
       "    </tr>\n",
       "    <tr>\n",
       "      <th>2</th>\n",
       "      <td>0.09060</td>\n",
       "      <td>Leigh Nash</td>\n",
       "      <td>[AT, CH, DE, LI]</td>\n",
       "      <td>0.175</td>\n",
       "      <td>300800.0</td>\n",
       "      <td>0.5650</td>\n",
       "      <td>00INNo7RXNNClwc22p1nNM</td>\n",
       "      <td>0.000003</td>\n",
       "      <td>1.0</td>\n",
       "      <td>0.1570</td>\n",
       "      <td>-6.315</td>\n",
       "      <td>0.0</td>\n",
       "      <td>With Every Breath</td>\n",
       "      <td>0</td>\n",
       "      <td>https://p.scdn.co/mp3-preview/5ff7eaa7f6f5e714...</td>\n",
       "      <td>0.0336</td>\n",
       "      <td>82.964</td>\n",
       "      <td>4.0</td>\n",
       "      <td>0.182</td>\n",
       "    </tr>\n",
       "    <tr>\n",
       "      <th>3</th>\n",
       "      <td>0.27000</td>\n",
       "      <td>Imaginary Future</td>\n",
       "      <td>[AD, AR, AT, AU, BE, BG, BO, BR, CA, CH, CL, C...</td>\n",
       "      <td>0.675</td>\n",
       "      <td>214367.0</td>\n",
       "      <td>0.6040</td>\n",
       "      <td>00Jn6weiHJPHb4B0ZAHmrG</td>\n",
       "      <td>0.000000</td>\n",
       "      <td>8.0</td>\n",
       "      <td>0.1380</td>\n",
       "      <td>-6.567</td>\n",
       "      <td>1.0</td>\n",
       "      <td>Sunlight</td>\n",
       "      <td>27</td>\n",
       "      <td>None</td>\n",
       "      <td>0.0244</td>\n",
       "      <td>146.005</td>\n",
       "      <td>4.0</td>\n",
       "      <td>0.613</td>\n",
       "    </tr>\n",
       "    <tr>\n",
       "      <th>4</th>\n",
       "      <td>0.90300</td>\n",
       "      <td>Imaginary Future</td>\n",
       "      <td>[AD, AR, AT, AU, BE, BG, BO, BR, CA, CH, CL, C...</td>\n",
       "      <td>0.673</td>\n",
       "      <td>208407.0</td>\n",
       "      <td>0.0966</td>\n",
       "      <td>00NVEk72v1fLLZL36jKqhT</td>\n",
       "      <td>0.005110</td>\n",
       "      <td>6.0</td>\n",
       "      <td>0.1120</td>\n",
       "      <td>-19.641</td>\n",
       "      <td>1.0</td>\n",
       "      <td>Wherever You Go</td>\n",
       "      <td>20</td>\n",
       "      <td>https://p.scdn.co/mp3-preview/673ceb45cbeff158...</td>\n",
       "      <td>0.0317</td>\n",
       "      <td>104.950</td>\n",
       "      <td>4.0</td>\n",
       "      <td>0.197</td>\n",
       "    </tr>\n",
       "  </tbody>\n",
       "</table>\n",
       "</div>"
      ],
      "text/plain": [
       "   acousticness                   artists  \\\n",
       "0       0.69800                     Ciele   \n",
       "1       0.00255  The Great Spy Experiment   \n",
       "2       0.09060                Leigh Nash   \n",
       "3       0.27000          Imaginary Future   \n",
       "4       0.90300          Imaginary Future   \n",
       "\n",
       "                                   available_markets  danceability  duration  \\\n",
       "0  [AD, AR, AT, AU, BE, BG, BO, BR, CA, CH, CL, C...         0.685  218404.0   \n",
       "1  [AR, AT, AU, BE, BO, BR, CH, CL, CO, CR, CY, C...         0.428  329627.0   \n",
       "2                                   [AT, CH, DE, LI]         0.175  300800.0   \n",
       "3  [AD, AR, AT, AU, BE, BG, BO, BR, CA, CH, CL, C...         0.675  214367.0   \n",
       "4  [AD, AR, AT, AU, BE, BG, BO, BR, CA, CH, CL, C...         0.673  208407.0   \n",
       "\n",
       "   energy                      id  instrumentalness  key  liveness  loudness  \\\n",
       "0  0.2120  7k2lqQ4Vt9435X24qUISki          0.000045  4.0    0.1660   -11.233   \n",
       "1  0.8180  006J0U8vgXGcXvyAX1dIVQ          0.427000  0.0    0.0817    -5.713   \n",
       "2  0.5650  00INNo7RXNNClwc22p1nNM          0.000003  1.0    0.1570    -6.315   \n",
       "3  0.6040  00Jn6weiHJPHb4B0ZAHmrG          0.000000  8.0    0.1380    -6.567   \n",
       "4  0.0966  00NVEk72v1fLLZL36jKqhT          0.005110  6.0    0.1120   -19.641   \n",
       "\n",
       "   mode              names  popularity  \\\n",
       "0   1.0           Daydream          54   \n",
       "1   1.0         In The Sun          10   \n",
       "2   0.0  With Every Breath           0   \n",
       "3   1.0           Sunlight          27   \n",
       "4   1.0    Wherever You Go          20   \n",
       "\n",
       "                                         preview_url  speechiness    tempo  \\\n",
       "0  https://p.scdn.co/mp3-preview/db320fd9db78da2f...       0.0354  139.955   \n",
       "1                                               None       0.0461  128.026   \n",
       "2  https://p.scdn.co/mp3-preview/5ff7eaa7f6f5e714...       0.0336   82.964   \n",
       "3                                               None       0.0244  146.005   \n",
       "4  https://p.scdn.co/mp3-preview/673ceb45cbeff158...       0.0317  104.950   \n",
       "\n",
       "   time_signature  valence  \n",
       "0             3.0    0.299  \n",
       "1             4.0    0.119  \n",
       "2             4.0    0.182  \n",
       "3             4.0    0.613  \n",
       "4             4.0    0.197  "
      ]
     },
     "execution_count": 439,
     "metadata": {},
     "output_type": "execute_result"
    }
   ],
   "source": [
    "features_df.head()"
   ]
  },
  {
   "cell_type": "code",
   "execution_count": 440,
   "metadata": {
    "collapsed": false
   },
   "outputs": [],
   "source": [
    "features_df = features_df.dropna()\n",
    "features_df = features_df.reset_index(drop=True)"
   ]
  },
  {
   "cell_type": "markdown",
   "metadata": {},
   "source": [
    "## Find most similar songs acoustically"
   ]
  },
  {
   "cell_type": "markdown",
   "metadata": {},
   "source": [
    "### Calculate the distance between the input song and related songs"
   ]
  },
  {
   "cell_type": "code",
   "execution_count": 441,
   "metadata": {
    "collapsed": false
   },
   "outputs": [
    {
     "data": {
      "text/html": [
       "<div>\n",
       "<table border=\"1\" class=\"dataframe\">\n",
       "  <thead>\n",
       "    <tr style=\"text-align: right;\">\n",
       "      <th></th>\n",
       "      <th>acousticness</th>\n",
       "      <th>danceability</th>\n",
       "      <th>duration</th>\n",
       "      <th>energy</th>\n",
       "      <th>instrumentalness</th>\n",
       "      <th>liveness</th>\n",
       "      <th>loudness</th>\n",
       "      <th>speechiness</th>\n",
       "      <th>tempo</th>\n",
       "      <th>valence</th>\n",
       "    </tr>\n",
       "  </thead>\n",
       "  <tbody>\n",
       "    <tr>\n",
       "      <th>0</th>\n",
       "      <td>0.6980</td>\n",
       "      <td>0.685</td>\n",
       "      <td>218404.0</td>\n",
       "      <td>0.2120</td>\n",
       "      <td>0.000045</td>\n",
       "      <td>0.1660</td>\n",
       "      <td>-11.233</td>\n",
       "      <td>0.0354</td>\n",
       "      <td>139.955</td>\n",
       "      <td>0.299</td>\n",
       "    </tr>\n",
       "    <tr>\n",
       "      <th>1</th>\n",
       "      <td>0.0906</td>\n",
       "      <td>0.175</td>\n",
       "      <td>300800.0</td>\n",
       "      <td>0.5650</td>\n",
       "      <td>0.000003</td>\n",
       "      <td>0.1570</td>\n",
       "      <td>-6.315</td>\n",
       "      <td>0.0336</td>\n",
       "      <td>82.964</td>\n",
       "      <td>0.182</td>\n",
       "    </tr>\n",
       "    <tr>\n",
       "      <th>2</th>\n",
       "      <td>0.9030</td>\n",
       "      <td>0.673</td>\n",
       "      <td>208407.0</td>\n",
       "      <td>0.0966</td>\n",
       "      <td>0.005110</td>\n",
       "      <td>0.1120</td>\n",
       "      <td>-19.641</td>\n",
       "      <td>0.0317</td>\n",
       "      <td>104.950</td>\n",
       "      <td>0.197</td>\n",
       "    </tr>\n",
       "    <tr>\n",
       "      <th>3</th>\n",
       "      <td>0.0494</td>\n",
       "      <td>0.501</td>\n",
       "      <td>223244.0</td>\n",
       "      <td>0.6850</td>\n",
       "      <td>0.000000</td>\n",
       "      <td>0.1800</td>\n",
       "      <td>-8.973</td>\n",
       "      <td>0.3690</td>\n",
       "      <td>85.494</td>\n",
       "      <td>0.425</td>\n",
       "    </tr>\n",
       "    <tr>\n",
       "      <th>4</th>\n",
       "      <td>0.3380</td>\n",
       "      <td>0.545</td>\n",
       "      <td>196547.0</td>\n",
       "      <td>0.5840</td>\n",
       "      <td>0.000001</td>\n",
       "      <td>0.0931</td>\n",
       "      <td>-7.174</td>\n",
       "      <td>0.0297</td>\n",
       "      <td>132.261</td>\n",
       "      <td>0.604</td>\n",
       "    </tr>\n",
       "  </tbody>\n",
       "</table>\n",
       "</div>"
      ],
      "text/plain": [
       "   acousticness  danceability  duration  energy  instrumentalness  liveness  \\\n",
       "0        0.6980         0.685  218404.0  0.2120          0.000045    0.1660   \n",
       "1        0.0906         0.175  300800.0  0.5650          0.000003    0.1570   \n",
       "2        0.9030         0.673  208407.0  0.0966          0.005110    0.1120   \n",
       "3        0.0494         0.501  223244.0  0.6850          0.000000    0.1800   \n",
       "4        0.3380         0.545  196547.0  0.5840          0.000001    0.0931   \n",
       "\n",
       "   loudness  speechiness    tempo  valence  \n",
       "0   -11.233       0.0354  139.955    0.299  \n",
       "1    -6.315       0.0336   82.964    0.182  \n",
       "2   -19.641       0.0317  104.950    0.197  \n",
       "3    -8.973       0.3690   85.494    0.425  \n",
       "4    -7.174       0.0297  132.261    0.604  "
      ]
     },
     "execution_count": 441,
     "metadata": {},
     "output_type": "execute_result"
    }
   ],
   "source": [
    "from scipy.spatial.distance import cityblock\n",
    "distance_features = features_df[['acousticness', 'danceability', \n",
    "                                 'duration', 'energy', 'instrumentalness', 'liveness', \n",
    "                                 'loudness', 'speechiness', 'tempo', 'valence']]\n",
    "distance_features.head()"
   ]
  },
  {
   "cell_type": "code",
   "execution_count": 442,
   "metadata": {
    "collapsed": false
   },
   "outputs": [
    {
     "name": "stdout",
     "output_type": "stream",
     "text": [
      "2640\n",
      "(2640,)\n"
     ]
    }
   ],
   "source": [
    "seed_features = distance_features.ix[0,]\n",
    "related_features = distance_features.ix[1:,]\n",
    "print(len(related_features))\n",
    "sample_size = len(related_features)\n",
    "distance_vector = np.empty((sample_size))\n",
    "for index,row in related_features.iterrows():\n",
    "    if index>sample_size-1: break\n",
    "    #print(row)\n",
    "    distance_vector[index]=cityblock(seed_features, row)\n",
    "print(distance_vector.shape)\n",
    "#distance_vector[10015]"
   ]
  },
  {
   "cell_type": "markdown",
   "metadata": {},
   "source": [
    "### Sort the distance output and find the 500 most acoustically similar songs"
   ]
  },
  {
   "cell_type": "code",
   "execution_count": 443,
   "metadata": {
    "collapsed": false
   },
   "outputs": [
    {
     "data": {
      "text/html": [
       "<a href=https://p.scdn.co/mp3-preview/db320fd9db78da2fe97dad2fcc09298ccf105b0e?cid=4a1a457d14c0445a96e7021a5523905b>preview seed song</a>"
      ],
      "text/plain": [
       "<IPython.core.display.HTML object>"
      ]
     },
     "metadata": {},
     "output_type": "display_data"
    },
    {
     "name": "stdout",
     "output_type": "stream",
     "text": [
      "Ciele\n",
      "Ciele 7k2lqQ4Vt9435X24qUISki\n"
     ]
    },
    {
     "data": {
      "text/html": [
       "<a href=https://p.scdn.co/mp3-preview/db320fd9db78da2fe97dad2fcc09298ccf105b0e?cid=4a1a457d14c0445a96e7021a5523905b>preview related song #0</a>"
      ],
      "text/plain": [
       "<IPython.core.display.HTML object>"
      ]
     },
     "metadata": {},
     "output_type": "display_data"
    },
    {
     "name": "stdout",
     "output_type": "stream",
     "text": [
      "Ciele\n",
      "Ciele 7k2lqQ4Vt9435X24qUISki\n"
     ]
    },
    {
     "data": {
      "text/html": [
       "<a href=https://p.scdn.co/mp3-preview/db320fd9db78da2fe97dad2fcc09298ccf105b0e?cid=4a1a457d14c0445a96e7021a5523905b>preview related song #1</a>"
      ],
      "text/plain": [
       "<IPython.core.display.HTML object>"
      ]
     },
     "metadata": {},
     "output_type": "display_data"
    },
    {
     "name": "stdout",
     "output_type": "stream",
     "text": [
      "Craig Cardiff\n",
      "Craig Cardiff 7q7giLDRB8BdE2omYzv7EV\n"
     ]
    },
    {
     "data": {
      "text/html": [
       "<a href=https://p.scdn.co/mp3-preview/90019c3193f0041ae8f8b3f5dc2139f8f7e7e894?cid=4a1a457d14c0445a96e7021a5523905b>preview related song #2</a>"
      ],
      "text/plain": [
       "<IPython.core.display.HTML object>"
      ]
     },
     "metadata": {},
     "output_type": "display_data"
    },
    {
     "name": "stdout",
     "output_type": "stream",
     "text": [
      "Humpback Oak\n",
      "Humpback Oak 5UMrTvoee2LLiwXlq2Kisa\n"
     ]
    },
    {
     "data": {
      "text/html": [
       "<a href=https://p.scdn.co/mp3-preview/1f484f32e8added8fb10e73268d57f394dea3682?cid=4a1a457d14c0445a96e7021a5523905b>preview related song #3</a>"
      ],
      "text/plain": [
       "<IPython.core.display.HTML object>"
      ]
     },
     "metadata": {},
     "output_type": "display_data"
    },
    {
     "name": "stdout",
     "output_type": "stream",
     "text": [
      "Craig Cardiff\n",
      "Craig Cardiff 2sG3a7VLWgifQJ9NHYIOVz\n"
     ]
    },
    {
     "data": {
      "text/html": [
       "<a href=https://p.scdn.co/mp3-preview/690a5b0a686fa9351e37247dba1e5596b45c55c8?cid=4a1a457d14c0445a96e7021a5523905b>preview related song #4</a>"
      ],
      "text/plain": [
       "<IPython.core.display.HTML object>"
      ]
     },
     "metadata": {},
     "output_type": "display_data"
    },
    {
     "name": "stdout",
     "output_type": "stream",
     "text": [
      "Lori Lieberman\n",
      "Lori Lieberman 1f4W78UL8izjwSGhQa9dXd\n"
     ]
    },
    {
     "data": {
      "text/html": [
       "<a href=https://p.scdn.co/mp3-preview/c28d53189fcf67fa31c0e2aeec9046994175dd8f?cid=4a1a457d14c0445a96e7021a5523905b>preview related song #5</a>"
      ],
      "text/plain": [
       "<IPython.core.display.HTML object>"
      ]
     },
     "metadata": {},
     "output_type": "display_data"
    },
    {
     "name": "stdout",
     "output_type": "stream",
     "text": [
      "Leonard T\n",
      "Leonard T 7cinlbzzEWJtJjDkDmx5O4\n"
     ]
    },
    {
     "data": {
      "text/html": [
       "<a href=https://p.scdn.co/mp3-preview/b452efd1440361bd65e4fd6d4a02a9be02609743?cid=4a1a457d14c0445a96e7021a5523905b>preview related song #6</a>"
      ],
      "text/plain": [
       "<IPython.core.display.HTML object>"
      ]
     },
     "metadata": {},
     "output_type": "display_data"
    },
    {
     "name": "stdout",
     "output_type": "stream",
     "text": [
      "Craig Cardiff\n",
      "Craig Cardiff 4viyKGiVj92VvsQCDTXrFE\n"
     ]
    },
    {
     "data": {
      "text/html": [
       "<a href=https://p.scdn.co/mp3-preview/aaed2f7c5f504923d7e3e45d0a04e5f128272edc?cid=4a1a457d14c0445a96e7021a5523905b>preview related song #7</a>"
      ],
      "text/plain": [
       "<IPython.core.display.HTML object>"
      ]
     },
     "metadata": {},
     "output_type": "display_data"
    },
    {
     "name": "stdout",
     "output_type": "stream",
     "text": [
      "Tom Munch\n",
      "Tom Munch 3xnNpmGE52bMOXKPIZnZsQ\n"
     ]
    },
    {
     "data": {
      "text/html": [
       "<a href=https://p.scdn.co/mp3-preview/601190ba32aa56d3e482db4ed533f83e573b6b0d?cid=4a1a457d14c0445a96e7021a5523905b>preview related song #8</a>"
      ],
      "text/plain": [
       "<IPython.core.display.HTML object>"
      ]
     },
     "metadata": {},
     "output_type": "display_data"
    },
    {
     "name": "stdout",
     "output_type": "stream",
     "text": [
      "Lori Lieberman\n",
      "Lori Lieberman 1XOuBNYq60EyaEmJ15MxaW\n"
     ]
    },
    {
     "data": {
      "text/html": [
       "<a href=https://p.scdn.co/mp3-preview/8ef8ec624b9ee6d83d046148496d80d301d63300?cid=4a1a457d14c0445a96e7021a5523905b>preview related song #9</a>"
      ],
      "text/plain": [
       "<IPython.core.display.HTML object>"
      ]
     },
     "metadata": {},
     "output_type": "display_data"
    }
   ],
   "source": [
    "from IPython.display import HTML, display\n",
    "min_indices = distance_vector.argsort()[0:500:]\n",
    "top_similarity_index = min_indices[2]\n",
    "top_similarity_index\n",
    "related_all_features_with_seed = features_df.ix[:]\n",
    "seed_all_features = features_df.ix[0,]\n",
    "link = '<a href=' + str(seed_all_features['preview_url']) + '>preview seed song</a>'\n",
    "display(HTML(link))\n",
    "for each in range(10):\n",
    "    print(related_all_features_with_seed['artists'][min_indices[each]])\n",
    "    print(related_all_features_with_seed['artists'][min_indices[each]], related_all_features_with_seed['id'][min_indices[each]])\n",
    "    link = '<a href=' + str(related_all_features_with_seed['preview_url'][min_indices[each]]) + '>preview related song #'+str(each)+ '</a>'\n",
    "    display(HTML(link))"
   ]
  },
  {
   "cell_type": "code",
   "execution_count": 444,
   "metadata": {
    "collapsed": true
   },
   "outputs": [],
   "source": [
    "#features_df.to_csv('related_songs.csv', encoding='utf-8')"
   ]
  },
  {
   "cell_type": "markdown",
   "metadata": {},
   "source": [
    "### Bucket 1: Top tracks from related artists"
   ]
  },
  {
   "cell_type": "code",
   "execution_count": 445,
   "metadata": {
    "collapsed": false
   },
   "outputs": [
    {
     "name": "stdout",
     "output_type": "stream",
     "text": [
      "(334, 19)\n",
      "(332, 19)\n"
     ]
    },
    {
     "data": {
      "text/plain": [
       "array([u'5UMrTvoee2LLiwXlq2Kisa', u'00PeEIoBs1WTVrW8AVBc4w',\n",
       "       u'79PzUCoYq6Co89mxICQOH8', u'0RAsLh8vE0jyEWiwEHET6L',\n",
       "       u'4ogWT57PF2GiA0JK2SoInN'], dtype=object)"
      ]
     },
     "execution_count": 445,
     "metadata": {},
     "output_type": "execute_result"
    }
   ],
   "source": [
    "print(top_tracks_df.shape)\n",
    "nona = top_tracks_df.drop_duplicates(subset='id', keep='first', inplace=False)\n",
    "print(nona.shape)\n",
    "bucket1 = nona['id'].values\n",
    "bucket1[:5]"
   ]
  },
  {
   "cell_type": "markdown",
   "metadata": {},
   "source": [
    "### Bucket 2: Any tracks from related artists"
   ]
  },
  {
   "cell_type": "code",
   "execution_count": 446,
   "metadata": {
    "collapsed": false
   },
   "outputs": [
    {
     "name": "stdout",
     "output_type": "stream",
     "text": [
      "(2640, 19)\n",
      "(2640,)\n"
     ]
    },
    {
     "data": {
      "text/plain": [
       "array([u'7k2lqQ4Vt9435X24qUISki', u'00INNo7RXNNClwc22p1nNM',\n",
       "       u'00NVEk72v1fLLZL36jKqhT', u'00PeEIoBs1WTVrW8AVBc4w',\n",
       "       u'00Y1JrxdwDRLl6BUlXjpKZ'], dtype=object)"
      ]
     },
     "execution_count": 446,
     "metadata": {},
     "output_type": "execute_result"
    }
   ],
   "source": [
    "nona = features_df.drop_duplicates(subset='id', keep='first', inplace=False)\n",
    "print(nona.shape)\n",
    "all_related_songs = nona['id'].values\n",
    "print(all_related_songs.shape)\n",
    "bucket2 = all_related_songs\n",
    "bucket2[:5]"
   ]
  },
  {
   "cell_type": "markdown",
   "metadata": {},
   "source": [
    "### Bucket 3: Tracks from related artists identified as similar songs (using manhattan distance + Spotify API features)"
   ]
  },
  {
   "cell_type": "code",
   "execution_count": 447,
   "metadata": {
    "collapsed": false
   },
   "outputs": [
    {
     "data": {
      "text/plain": [
       "array([u'7k2lqQ4Vt9435X24qUISki', u'7k2lqQ4Vt9435X24qUISki',\n",
       "       u'7q7giLDRB8BdE2omYzv7EV', u'5UMrTvoee2LLiwXlq2Kisa',\n",
       "       u'2sG3a7VLWgifQJ9NHYIOVz'], dtype=object)"
      ]
     },
     "execution_count": 447,
     "metadata": {},
     "output_type": "execute_result"
    }
   ],
   "source": [
    "bucket3 = related_all_features_with_seed['id'][min_indices].values\n",
    "bucket3[:5]"
   ]
  },
  {
   "cell_type": "markdown",
   "metadata": {},
   "source": [
    "### Bucket 4: Tracks from our database identified as similar (using raw audio  + vantage point method)"
   ]
  },
  {
   "cell_type": "code",
   "execution_count": 448,
   "metadata": {
    "collapsed": false
   },
   "outputs": [
    {
     "name": "stdout",
     "output_type": "stream",
     "text": [
      "1\n",
      "97 97 (97, 13)\n",
      "Exiting\n"
     ]
    }
   ],
   "source": [
    "bucket4_df = get_spotify_features(track_ids=bucket4_ids)"
   ]
  },
  {
   "cell_type": "code",
   "execution_count": 449,
   "metadata": {
    "collapsed": false
   },
   "outputs": [],
   "source": [
    "bucket4_df = bucket4_df.dropna()\n",
    "bucket4_df = bucket4_df.reset_index(drop=True)\n",
    "bucket4 = bucket4_df['id'].values"
   ]
  },
  {
   "cell_type": "markdown",
   "metadata": {},
   "source": [
    "# Optimization\n",
    "\n",
    "### Train Random Forest Model"
   ]
  },
  {
   "cell_type": "code",
   "execution_count": 450,
   "metadata": {
    "collapsed": false
   },
   "outputs": [],
   "source": [
    "## Popularity Prediction for New Playlist\n",
    "\n",
    "#libraries\n",
    "\n",
    "import pandas as pd\n",
    "import numpy as np\n",
    "from sklearn.ensemble import RandomForestClassifier as RFC\n",
    "from sklearn.cross_validation import train_test_split\n",
    "import spotipy\n",
    "import spotipy.util as util\n",
    "from spotipy.oauth2 import SpotifyClientCredentials\n",
    "import sys\n",
    "from sklearn.metrics import mean_squared_error\n",
    "from math import sqrt\n",
    "\n",
    "# Step 1 - train the random forest\n",
    "\n",
    "api_data = pd.read_csv('playlist_data_with_sequencing_4.8.17.csv')\n",
    "api_data = api_data.dropna()\n",
    "del api_data['Unnamed: 0']\n",
    "del api_data['names']\n",
    "del api_data['playlist_id']\n",
    "api_data.head()\n",
    "\n",
    "a = pd.qcut(api_data[\"followers\"], 5,labels=range(1,6))\n",
    "api_data['followers'] = np.array(a)\n",
    "\n",
    "y = api_data['followers']\n",
    "X = api_data.drop(['followers'],axis=1)\n",
    "X = X.drop(['featured'],axis=1)\n",
    "X_train, X_test, y_train, y_test = train_test_split(X, y, test_size=0.33)\n",
    "\n",
    "\n",
    "rfc = RFC(n_estimators = 100, max_depth = 29)\n",
    "rfc.fit(X_train, y_train)\n",
    "\n",
    "client_credentials_manager = SpotifyClientCredentials(client_id='df846cfd28e745178054587b3484f91c',client_secret='e3d39fc92a954e028ff1490288f3fe5c')\n",
    "sp = spotipy.Spotify(client_credentials_manager=client_credentials_manager)\n"
   ]
  },
  {
   "cell_type": "markdown",
   "metadata": {},
   "source": [
    "### Function to generate predicted class probabilities for playlist popularity from a list of input track ids"
   ]
  },
  {
   "cell_type": "code",
   "execution_count": 451,
   "metadata": {
    "collapsed": false
   },
   "outputs": [],
   "source": [
    "def getTrack(track_id):\n",
    "    #print(track_id)\n",
    "    try:\n",
    "        listing = features_df[features_df['id']==track_id]\n",
    "        popularity = listing['popularity'].values[0]\n",
    "    except IndexError:\n",
    "        try:\n",
    "            listing = top_tracks_df[top_tracks_df['id']==track_id]\n",
    "            popularity = listing['popularity'].values[0]\n",
    "        except IndexError:\n",
    "            listing = bucket4_df[bucket4_df['id']==track_id]      \n",
    "            popularity = listing['popularity'].values[0]\n",
    "    num_markets = listing['available_markets'].values[0]\n",
    "    return {\"popularity\": popularity,\n",
    "           'available_markets': num_markets}\n",
    "\n",
    "def getAudioFeatures(list_of_ids):\n",
    "    try:\n",
    "        listing = features_df[features_df['id'].isin(list_of_ids)]\n",
    "        acousticness = listing['acousticness'].values[0]\n",
    "    except:\n",
    "        listing = top_tracks_df[top_tracks_df['id'].isin(list_of_ids)]\n",
    "        if listing.shape[0]==0:\n",
    "            listing = bucket4_df[bucket4_df['id'].isin(list_of_ids)]\n",
    "    return listing[['acousticness', 'danceability', 'energy', 'instrumentalness', 'key','liveness', 'loudness', 'mode','tempo','time_signature','valence','duration']].values\n",
    "def chunks(seq, num):\n",
    "    avg = len(seq) / float(num)\n",
    "    out = []\n",
    "    last = 0.0\n",
    "    \n",
    "    while last < len(seq):\n",
    "        out.append(seq[int(last):int(last + avg)])\n",
    "        last += avg\n",
    "        \n",
    "    return out\n",
    "\n",
    "def gen_row(list_of_tracks):\n",
    "            \n",
    "    parts = chunks(list_of_tracks,4)\n",
    "                    \n",
    "    p1 = parts[0]\n",
    "    p2 = parts[1]\n",
    "    p3 = parts[2]\n",
    "    p4 = parts[3]\n",
    "    \n",
    "    t_popularities = []\n",
    "    t_num_markets = []\n",
    "                \n",
    "    for track in list_of_tracks:\n",
    "        listing = getTrack(track)\n",
    "        t_popularities.append(listing['popularity'])\n",
    "        t_num_markets.append(len(listing['available_markets']))\n",
    "                                        \n",
    "    t_pop = np.mean(t_popularities)\n",
    "    t_av_num_markets = np.mean(t_num_markets)\n",
    "\n",
    "    #t_features = sp.audio_features(tracks = list_of_tracks)\n",
    "    feat_len = len(list_of_tracks)\n",
    "    #t_feature_matrix = np.empty((feat_len,12))\n",
    "    t_feature_matrix = getAudioFeatures(list_of_tracks)\n",
    "#     for ix, song in enumerate(t_features):\n",
    "  \n",
    "#         t_feature_matrix[ix][0] = song['acousticness']\n",
    "#         t_feature_matrix[ix][1] = song['danceability']\n",
    "#         t_feature_matrix[ix][2] = song['energy']\n",
    "#         t_feature_matrix[ix][3] = song['instrumentalness']\n",
    "#         t_feature_matrix[ix][4] = song['key']\n",
    "#         t_feature_matrix[ix][5] = song['liveness']\n",
    "#         t_feature_matrix[ix][6] = song['loudness']\n",
    "#         t_feature_matrix[ix][7] = song['mode']\n",
    "#         t_feature_matrix[ix][8] = song['tempo']\n",
    "#         t_feature_matrix[ix][9] = song['time_signature']\n",
    "#         t_feature_matrix[ix][10] = song['valence']\n",
    "#         t_feature_matrix[ix][11] = song['duration_ms']\n",
    "                            \n",
    "    t_feature_median = np.percentile(t_feature_matrix,50,axis=0)\n",
    "                    # Part 1\n",
    "                    \n",
    "    p1_popularities = []\n",
    "    p1_num_markets = []\n",
    "                    \n",
    "    for track in p1:\n",
    "        listing = getTrack(track)\n",
    "        p1_popularities.append(listing['popularity'])\n",
    "        p1_num_markets.append(len(listing['available_markets']))\n",
    "    \n",
    "    p1_pop = np.mean(p1_popularities)\n",
    "    p1_av_num_markets = np.mean(p1_num_markets)\n",
    "    \n",
    "    #p1_features = sp.audio_features(tracks = p1)\n",
    "    p1_len = len(p1)\n",
    "    #p1_feature_matrix = np.empty((p1_len,12))\n",
    "    p1_feature_matrix = getAudioFeatures(p1)\n",
    "                    \n",
    "#     for ix, song in enumerate(p1_features):\n",
    "#         p1_feature_matrix[ix][0] = song['acousticness']\n",
    "#         p1_feature_matrix[ix][1] = song['danceability']\n",
    "#         p1_feature_matrix[ix][2] = song['energy']\n",
    "#         p1_feature_matrix[ix][3] = song['instrumentalness']\n",
    "#         p1_feature_matrix[ix][4] = song['key']\n",
    "#         p1_feature_matrix[ix][5] = song['liveness']\n",
    "#         p1_feature_matrix[ix][6] = song['loudness']\n",
    "#         p1_feature_matrix[ix][7] = song['mode']\n",
    "#         p1_feature_matrix[ix][8] = song['tempo']\n",
    "#         p1_feature_matrix[ix][9] = song['time_signature']\n",
    "#         p1_feature_matrix[ix][10] = song['valence']\n",
    "#         p1_feature_matrix[ix][11] = song['duration_ms']\n",
    "    p1_feature_median = np.percentile(p1_feature_matrix,50,axis=0)\n",
    "    \n",
    "                    # Part 2\n",
    "                    \n",
    "    p2_popularities = []\n",
    "    p2_num_markets = []\n",
    "                    \n",
    "    for track in p2:\n",
    "        listing = getTrack(track)\n",
    "        p2_popularities.append(listing['popularity'])\n",
    "        p2_num_markets.append(len(listing['available_markets']))\n",
    "    \n",
    "    p2_pop = np.mean(p2_popularities)\n",
    "    p2_av_num_markets = np.mean(p2_num_markets)\n",
    "    \n",
    "    #p2_features = sp.audio_features(tracks = p2)\n",
    "\n",
    "    p2_len = len(p2)\n",
    "    #p2_feature_matrix = np.empty((p2_len,12))\n",
    "    p2_feature_matrix = getAudioFeatures(p2)\n",
    "                 \n",
    "#     for ix, song in enumerate(p2_features):\n",
    "#         p2_feature_matrix[ix][0] = song['acousticness']\n",
    "#         p2_feature_matrix[ix][1] = song['danceability']\n",
    "#         p2_feature_matrix[ix][2] = song['energy']\n",
    "#         p2_feature_matrix[ix][3] = song['instrumentalness']\n",
    "#         p2_feature_matrix[ix][4] = song['key']\n",
    "#         p2_feature_matrix[ix][5] = song['liveness']\n",
    "#         p2_feature_matrix[ix][6] = song['loudness']\n",
    "#         p2_feature_matrix[ix][7] = song['mode']\n",
    "#         p2_feature_matrix[ix][8] = song['tempo']\n",
    "#         p2_feature_matrix[ix][9] = song['time_signature']\n",
    "#         p2_feature_matrix[ix][10] = song['valence']\n",
    "#         p2_feature_matrix[ix][11] = song['duration_ms']\n",
    "                        \n",
    "    p2_feature_median = np.percentile(p2_feature_matrix,50,axis=0)\n",
    "    \n",
    "                        # Part 3\n",
    "                    \n",
    "    p3_popularities = []\n",
    "    p3_num_markets = []\n",
    "                  \n",
    "    for track in p3:\n",
    "        listing = getTrack(track)\n",
    "        p3_popularities.append(listing['popularity'])\n",
    "        p3_num_markets.append(len(listing['available_markets']))\n",
    "    \n",
    "    p3_pop = np.mean(p3_popularities)\n",
    "    p3_av_num_markets = np.mean(p3_num_markets)\n",
    "    \n",
    "    #p3_features = sp.audio_features(tracks = p3)\n",
    "    p3_len = len(p3)\n",
    "    #p3_feature_matrix = np.empty((p3_len,12))\n",
    "    p3_feature_matrix = getAudioFeatures(p3)\n",
    "                \n",
    "#     for ix, song in enumerate(p3_features):\n",
    "#         p3_feature_matrix[ix][0] = song['acousticness']\n",
    "#         p3_feature_matrix[ix][1] = song['danceability']\n",
    "#         p3_feature_matrix[ix][2] = song['energy']\n",
    "#         p3_feature_matrix[ix][3] = song['instrumentalness']\n",
    "#         p3_feature_matrix[ix][4] = song['key']\n",
    "#         p3_feature_matrix[ix][5] = song['liveness']\n",
    "#         p3_feature_matrix[ix][6] = song['loudness']\n",
    "#         p3_feature_matrix[ix][7] = song['mode']\n",
    "#         p3_feature_matrix[ix][8] = song['tempo']\n",
    "#         p3_feature_matrix[ix][9] = song['time_signature']\n",
    "#         p3_feature_matrix[ix][10] = song['valence']\n",
    "#         p3_feature_matrix[ix][11] = song['duration_ms']\n",
    "                        \n",
    "    p3_feature_median = np.percentile(p3_feature_matrix,50,axis=0)\n",
    "    \n",
    "                        # Part 4\n",
    "                    \n",
    "    p4_popularities = []\n",
    "    p4_num_markets = []\n",
    "                    \n",
    "    for track in p4:\n",
    "        listing = getTrack(track)\n",
    "        p4_popularities.append(listing['popularity'])\n",
    "        p4_num_markets.append(len(listing['available_markets']))\n",
    "    \n",
    "    p4_pop = np.mean(p4_popularities)\n",
    "    p4_av_num_markets = np.mean(p4_num_markets)\n",
    "    \n",
    "    #p4_features = sp.audio_features(tracks = p4)\n",
    "    p4_len = len(p4)\n",
    "    #p4_feature_matrix = np.empty((p4_len,12))\n",
    "    p4_feature_matrix = getAudioFeatures(p4)\n",
    "             \n",
    "#     for ix, song in enumerate(p4_features):\n",
    "#         p4_feature_matrix[ix][0] = song['acousticness']\n",
    "#         p4_feature_matrix[ix][1] = song['danceability']\n",
    "#         p4_feature_matrix[ix][2] = song['energy']\n",
    "#         p4_feature_matrix[ix][3] = song['instrumentalness']\n",
    "#         p4_feature_matrix[ix][4] = song['key']\n",
    "#         p4_feature_matrix[ix][5] = song['liveness']\n",
    "#         p4_feature_matrix[ix][6] = song['loudness']\n",
    "#         p4_feature_matrix[ix][7] = song['mode']\n",
    "#         p4_feature_matrix[ix][8] = song['tempo']\n",
    "#         p4_feature_matrix[ix][9] = song['time_signature']\n",
    "#         p4_feature_matrix[ix][10] = song['valence']\n",
    "#         p4_feature_matrix[ix][11] = song['duration_ms']\n",
    "                        \n",
    "    p4_feature_median = np.percentile(p4_feature_matrix,50,axis=0)\n",
    "           \n",
    "    playlist_data = pd.Series({\n",
    "                    #'followers': followers,\n",
    "                    #'names' : names,\n",
    "                    #'playlist_id' : playlist_ids,\n",
    "                    'total_tracks' : len(list_of_tracks),\n",
    "                    #'featured' : featured,\n",
    "                    'acousticness': p1_feature_median[0],\n",
    "                    'danceability': p1_feature_median[1],\n",
    "                    'energy': p1_feature_median[2],\n",
    "                    'instrumentalness': p1_feature_median[3],\n",
    "                    'key': p1_feature_median[4],\n",
    "                    'liveness': p1_feature_median[5],\n",
    "                    'loudness': p1_feature_median[6],\n",
    "                    'mode': p1_feature_median[7],\n",
    "                    'tempo': p1_feature_median[8],\n",
    "                    'time_signature': p1_feature_median[9],\n",
    "                    'valence': p1_feature_median[10],\n",
    "                    'duration': p1_feature_median[11],\n",
    "                    'popularity':np.mean(t_pop),\n",
    "                    'mean_num_markets': np.mean(t_av_num_markets),\n",
    "                    #'avg_years' : t_release_date,\n",
    "\n",
    "                    'p1_acousticness': p1_feature_median[0],\n",
    "                    'p1_danceability': p1_feature_median[1],\n",
    "                    'p1_energy': p1_feature_median[2],\n",
    "                    'p1_instrumentalness': p1_feature_median[3],\n",
    "                    'p1_key': p1_feature_median[4],\n",
    "                    'p1_liveness': p1_feature_median[5],\n",
    "                    'p1_loudness': p1_feature_median[6],\n",
    "                    'p1_mode': p1_feature_median[7],\n",
    "                    'p1_tempo': p1_feature_median[8],\n",
    "                    'p1_time_signature': p1_feature_median[9],\n",
    "                    'p1_valence': p1_feature_median[10],\n",
    "                    'p1_duration': p1_feature_median[11],\n",
    "                    'p1_popularity': p1_pop,\n",
    "                    'p1_mean_num_markets': p1_av_num_markets,\n",
    "                    #'p1_avg_years': p1_release_date,\n",
    "\n",
    "                    'p2_acousticness': p2_feature_median[0],\n",
    "                    'p2_danceability': p2_feature_median[1],\n",
    "                    'p2_energy': p2_feature_median[2],\n",
    "                    'p2_instrumentalness': p2_feature_median[3],\n",
    "                    'p2_key': p2_feature_median[4],\n",
    "                    'p2_liveness': p2_feature_median[5],\n",
    "                    'p2_loudness': p2_feature_median[6],\n",
    "                    'p2_mode': p2_feature_median[7],\n",
    "                    'p2_tempo': p2_feature_median[8],\n",
    "                    'p2_time_signature': p2_feature_median[9],\n",
    "                    'p2_valence': p2_feature_median[10],\n",
    "                    'p2_duration': p2_feature_median[11],\n",
    "                    'p2_popularity': p2_pop,\n",
    "                    'p2_mean_num_markets': p2_av_num_markets,\n",
    "                    #'p2_avg_years': p2_release_date,\n",
    "\n",
    "                    'p3_acousticness': p3_feature_median[0],\n",
    "                    'p3_danceability': p3_feature_median[1],\n",
    "                    'p3_energy': p3_feature_median[2],\n",
    "                    'p3_instrumentalness': p3_feature_median[3],\n",
    "                    'p3_key': p3_feature_median[4],\n",
    "                    'p3_liveness': p3_feature_median[5],\n",
    "                    'p3_loudness': p3_feature_median[6],\n",
    "                    'p3_mode': p3_feature_median[7],\n",
    "                    'p3_tempo': p3_feature_median[8],\n",
    "                    'p3_time_signature': p3_feature_median[9],\n",
    "                    'p3_valence': p3_feature_median[10],\n",
    "                    'p3_duration': p3_feature_median[11],\n",
    "                    'p3_popularity': p3_pop,\n",
    "                    'p3_mean_num_markets': p3_av_num_markets,\n",
    "                    #'p3_avg_years': p3_release_date,\n",
    "\n",
    "                    'p4_acousticness': p4_feature_median[0],\n",
    "                    'p4_danceability': p4_feature_median[1],\n",
    "                    'p4_energy': p4_feature_median[2],\n",
    "                    'p4_instrumentalness': p4_feature_median[3],\n",
    "                    'p4_key': p4_feature_median[4],\n",
    "                    'p4_liveness': p4_feature_median[5],\n",
    "                    'p4_loudness': p4_feature_median[6],\n",
    "                    'p4_mode': p4_feature_median[7],\n",
    "                    'p4_tempo': p4_feature_median[8],\n",
    "                    'p4_time_signature': p4_feature_median[9],\n",
    "                    'p4_valence': p4_feature_median[10],\n",
    "                    'p4_duration': p4_feature_median[11],\n",
    "                    'p4_popularity': p4_pop,\n",
    "                    'p4_mean_num_markets': p4_av_num_markets\n",
    "                    #'p4_avg_years': p4_release_date\n",
    "        })\n",
    "    return playlist_data\n",
    "\n",
    "def gen_score(list_of_tracks):\n",
    "    row = gen_row(list_of_tracks)\n",
    "    list_of_proba = rfc.predict_proba(row.reshape(1,-1))[0]\n",
    "    #print(row)\n",
    "    #list_of_proba = rfc.predict(row.reshape(1,-1))[0]\n",
    "    return list_of_proba"
   ]
  },
  {
   "cell_type": "code",
   "execution_count": 452,
   "metadata": {
    "collapsed": false
   },
   "outputs": [
    {
     "name": "stdout",
     "output_type": "stream",
     "text": [
      "[u'00INNo7RXNNClwc22p1nNM' u'00NVEk72v1fLLZL36jKqhT'\n",
      " u'00PeEIoBs1WTVrW8AVBc4w' u'00Y1JrxdwDRLl6BUlXjpKZ']\n"
     ]
    },
    {
     "name": "stderr",
     "output_type": "stream",
     "text": [
      "/Users/lw20302/anaconda/lib/python2.7/site-packages/ipykernel/__main__.py:303: FutureWarning: reshape is deprecated and will raise in a subsequent release. Please use .values.reshape(...) instead\n"
     ]
    },
    {
     "data": {
      "text/plain": [
       "array([ 0.22 ,  0.244,  0.286,  0.15 ,  0.1  ])"
      ]
     },
     "execution_count": 452,
     "metadata": {},
     "output_type": "execute_result"
    }
   ],
   "source": [
    "print(all_related_songs[1:5])\n",
    "result = gen_score(bucket4[:30])\n",
    "result"
   ]
  },
  {
   "cell_type": "markdown",
   "metadata": {},
   "source": [
    "## 2. Simple model: 1000 random samples without replacement"
   ]
  },
  {
   "cell_type": "code",
   "execution_count": 453,
   "metadata": {
    "collapsed": false
   },
   "outputs": [],
   "source": [
    "# best_result = 0\n",
    "# best_playlist = []\n",
    "# for i in range(100):\n",
    "#     if i%50==0: \n",
    "#         print(i)\n",
    "#     random_sample_10 = np.random.choice(bucket4, replace=False,size=30)\n",
    "#     result = gen_score(random_sample_10)\n",
    "#     result = 0.7*result[4] + 0.3*result[3]\n",
    "#     if result >best_result:\n",
    "#         best_result=result\n",
    "#         best_playlist = random_sample_10"
   ]
  },
  {
   "cell_type": "code",
   "execution_count": 454,
   "metadata": {
    "collapsed": false
   },
   "outputs": [],
   "source": [
    "# random_result = gen_score(best_playlist)\n",
    "# def energy1(result):\n",
    "#     return 10000*(1.0-(np.array([0,0,0,0.25,0.75])*result).sum())\n",
    "# print(\"Resulting loss: \", energy1(random_result))\n",
    "# print(\"Random sampling (1000 samples without replacement, optimized on weighted average between class 4 and 5) class probabilties: \",random_result)\n",
    "# plt.bar(range(len(random_result)), random_result)\n",
    "# plt.xticks(range(len(random_result)), [1,2,3,4,5], size='small')\n",
    "# locs, labels = plt.xticks()\n",
    "# plt.show()"
   ]
  },
  {
   "cell_type": "markdown",
   "metadata": {},
   "source": [
    "## 3. Simulated annealing"
   ]
  },
  {
   "cell_type": "code",
   "execution_count": 455,
   "metadata": {
    "collapsed": false
   },
   "outputs": [],
   "source": [
    "#Adapted from simanneal package\n",
    "from __future__ import division\n",
    "from __future__ import print_function\n",
    "from __future__ import absolute_import\n",
    "from __future__ import unicode_literals\n",
    "import copy\n",
    "import math\n",
    "import sys\n",
    "import time\n",
    "import random\n",
    "import signal\n",
    "import pickle\n",
    "import datetime\n",
    "import abc\n",
    "\n",
    "\n",
    "def round_figures(x, n):\n",
    "    \"\"\"Returns x rounded to n significant figures.\"\"\"\n",
    "    return round(x, int(n - math.ceil(math.log10(abs(x)))))\n",
    "\n",
    "\n",
    "def time_string(seconds):\n",
    "    \"\"\"Returns time in seconds as a string formatted HHHH:MM:SS.\"\"\"\n",
    "    s = int(round(seconds))  # round to nearest second\n",
    "    h, s = divmod(s, 3600)   # get hours and remainder\n",
    "    m, s = divmod(s, 60)     # split remainder into minutes and seconds\n",
    "    return '%4i:%02i:%02i' % (h, m, s)\n",
    "\n",
    "\n",
    "class Annealer(object):\n",
    "\n",
    "    \"\"\"Performs simulated annealing by calling functions to calculate\n",
    "    energy and make moves on a state.  The temperature schedule for\n",
    "    annealing may be provided manually or estimated automatically.\n",
    "    \"\"\"\n",
    "\n",
    "    __metaclass__ = abc.ABCMeta\n",
    "    Tmax = 25000.0\n",
    "    Tmin = 2.5\n",
    "    steps = 50000\n",
    "    updates = 100\n",
    "    copy_strategy = 'deepcopy'\n",
    "    user_exit = False\n",
    "    save_state_on_exit = True\n",
    "    best_state = None\n",
    "\n",
    "    def __init__(self, initial_state=None, load_state=None):\n",
    "        if initial_state:\n",
    "            self.state = self.copy_state(initial_state)\n",
    "        elif load_state:\n",
    "            with open(load_state, 'rb') as fh:\n",
    "                self.state = pickle.load(fh)\n",
    "        else:\n",
    "            raise ValueError('No valid values supplied for neither \\\n",
    "            initial_state nor load_state')\n",
    "\n",
    "        signal.signal(signal.SIGINT, self.set_user_exit)\n",
    "\n",
    "    def save_state(self, fname=None):\n",
    "        \"\"\"Saves state\"\"\"\n",
    "        if not fname:\n",
    "            date = datetime.datetime.now().strftime(\"%Y-%m-%dT%Hh%Mm%Ss\")\n",
    "            fname = date + \"_energy_\" + str(self.energy()) + \".state\"\n",
    "        with open(fname, \"wb\") as fh:\n",
    "            pickle.dump(self.state, fh)\n",
    "\n",
    "    @abc.abstractmethod\n",
    "    def move(self):\n",
    "        \"\"\"Create a state change\"\"\"\n",
    "        pass\n",
    "\n",
    "    @abc.abstractmethod\n",
    "    def energy(self):\n",
    "        \"\"\"Calculate state's energy\"\"\"\n",
    "        pass\n",
    "\n",
    "    def set_user_exit(self, signum, frame):\n",
    "        \"\"\"Raises the user_exit flag, further iterations are stopped\n",
    "        \"\"\"\n",
    "        self.user_exit = True\n",
    "\n",
    "    def set_schedule(self, schedule):\n",
    "        \"\"\"Takes the output from `auto` and sets the attributes\n",
    "        \"\"\"\n",
    "        self.Tmax = schedule['tmax']\n",
    "        self.Tmin = schedule['tmin']\n",
    "        self.steps = int(schedule['steps'])\n",
    "        self.updates = int(schedule['updates'])\n",
    "\n",
    "    def copy_state(self, state):\n",
    "        \"\"\"Returns an exact copy of the provided state\n",
    "        Implemented according to self.copy_strategy, one of\n",
    "        * deepcopy : use copy.deepcopy (slow but reliable)\n",
    "        * slice: use list slices (faster but only works if state is list-like)\n",
    "        * method: use the state's copy() method\n",
    "        \"\"\"\n",
    "        if self.copy_strategy == 'deepcopy':\n",
    "            return copy.deepcopy(state)\n",
    "        elif self.copy_strategy == 'slice':\n",
    "            return state[:]\n",
    "        elif self.copy_strategy == 'method':\n",
    "            return state.copy()\n",
    "\n",
    "    def update(self, *args, **kwargs):\n",
    "        \"\"\"Wrapper for internal update.\n",
    "        If you override the self.update method,\n",
    "        you can chose to call the self.default_update method\n",
    "        from your own Annealer.\n",
    "        \"\"\"\n",
    "        self.default_update(*args, **kwargs)\n",
    "\n",
    "    def default_update(self, step, T, E, acceptance, improvement):\n",
    "        \"\"\"Default update, outputs to stderr.\n",
    "        Prints the current temperature, energy, acceptance rate,\n",
    "        improvement rate, elapsed time, and remaining time.\n",
    "        The acceptance rate indicates the percentage of moves since the last\n",
    "        update that were accepted by the Metropolis algorithm.  It includes\n",
    "        moves that decreased the energy, moves that left the energy\n",
    "        unchanged, and moves that increased the energy yet were reached by\n",
    "        thermal excitation.\n",
    "        The improvement rate indicates the percentage of moves since the\n",
    "        last update that strictly decreased the energy.  At high\n",
    "        temperatures it will include both moves that improved the overall\n",
    "        state and moves that simply undid previously accepted moves that\n",
    "        increased the energy by thermal excititation.  At low temperatures\n",
    "        it will tend toward zero as the moves that can decrease the energy\n",
    "        are exhausted and moves that would increase the energy are no longer\n",
    "        thermally accessible.\"\"\"\n",
    "\n",
    "        elapsed = time.time() - self.start\n",
    "        if step == 0:\n",
    "            print(' Temperature        Energy    Accept   Improve     Elapsed   Remaining',\n",
    "                  file=sys.stderr)\n",
    "            print('\\r%12.5f  %12.2f                      %s            ' %\n",
    "                  (T, E, time_string(elapsed)), file=sys.stderr, end=\"\\r\"),\n",
    "            sys.stderr.flush()\n",
    "        else:\n",
    "            remain = (self.steps - step) * (elapsed / step)\n",
    "            print('\\r%12.5f  %12.2f  %7.2f%%  %7.2f%%  %s  %s\\r' %\n",
    "                  (T, E, 100.0 * acceptance, 100.0 * improvement,\n",
    "                   time_string(elapsed), time_string(remain)), file=sys.stderr, end=\"\\r\"),\n",
    "            sys.stderr.flush()\n",
    "\n",
    "    def anneal(self):\n",
    "        \"\"\"Minimizes the energy of a system by simulated annealing.\n",
    "        Parameters\n",
    "        state : an initial arrangement of the system\n",
    "        Returns\n",
    "        (state, energy): the best state and energy found.\n",
    "        \"\"\"\n",
    "        step = 0\n",
    "        self.start = time.time()\n",
    "\n",
    "        # Precompute factor for exponential cooling from Tmax to Tmin\n",
    "        if self.Tmin <= 0.0:\n",
    "            raise Exception('Exponential cooling requires a minimum \"\\\n",
    "                \"temperature greater than zero.')\n",
    "        Tfactor = -math.log(self.Tmax / self.Tmin)\n",
    "\n",
    "        # Note initial state\n",
    "        T = self.Tmax\n",
    "        E = self.energy()\n",
    "        prevState = self.copy_state(self.state)\n",
    "        prevEnergy = E\n",
    "        self.best_state = self.copy_state(self.state)\n",
    "        self.best_energy = E\n",
    "        trials, accepts, improves = 0, 0, 0\n",
    "        if self.updates > 0:\n",
    "            updateWavelength = self.steps / self.updates\n",
    "            self.update(step, T, E, None, None)\n",
    "\n",
    "        # Attempt moves to new states\n",
    "        while step < self.steps and not self.user_exit:\n",
    "            step += 1\n",
    "            T = self.Tmax * math.exp(Tfactor * step / self.steps)\n",
    "            #print(T)\n",
    "            self.allt.append(T)\n",
    "            self.allE.append(E)\n",
    "            self.move()\n",
    "            E = self.energy()\n",
    "            dE = E - prevEnergy\n",
    "            trials += 1\n",
    "            if dE > 0.0 and math.exp(-dE / T) < random.random():\n",
    "                # Restore previous state\n",
    "                self.state = self.copy_state(prevState)\n",
    "                E = prevEnergy\n",
    "            else:\n",
    "                # Accept new state and compare to best state\n",
    "                accepts += 1\n",
    "                if dE < 0.0:\n",
    "                    improves += 1\n",
    "                prevState = self.copy_state(self.state)\n",
    "                prevEnergy = E\n",
    "                if E < self.best_energy:\n",
    "                    self.best_state = self.copy_state(self.state)\n",
    "                    self.best_energy = E\n",
    "            if self.updates > 1:\n",
    "                if (step // updateWavelength) > ((step - 1) // updateWavelength):\n",
    "                    self.update(\n",
    "                        step, T, E, accepts / trials, improves / trials)\n",
    "                    trials, accepts, improves = 0, 0, 0\n",
    "\n",
    "        # line break after progress output\n",
    "        print('')\n",
    "\n",
    "        self.state = self.copy_state(self.best_state)\n",
    "        if self.save_state_on_exit:\n",
    "            self.save_state()\n",
    "        # Return best state and energy\n",
    "        return self.best_state, self.best_energy\n",
    "\n",
    "    def auto(self, minutes, steps=2000):\n",
    "        \"\"\"Minimizes the energy of a system by simulated annealing with\n",
    "        automatic selection of the temperature schedule.\n",
    "        Keyword arguments:\n",
    "        state -- an initial arrangement of the system\n",
    "        minutes -- time to spend annealing (after exploring temperatures)\n",
    "        steps -- number of steps to spend on each stage of exploration\n",
    "        Returns the best state and energy found.\"\"\"\n",
    "\n",
    "        def run(T, steps):\n",
    "            \"\"\"Anneals a system at constant temperature and returns the state,\n",
    "            energy, rate of acceptance, and rate of improvement.\"\"\"\n",
    "            E = self.energy()\n",
    "            prevState = self.copy_state(self.state)\n",
    "            prevEnergy = E\n",
    "            accepts, improves = 0, 0\n",
    "            for step in range(steps):\n",
    "                self.move()\n",
    "                E = self.energy()\n",
    "                dE = E - prevEnergy\n",
    "                if dE > 0.0 and math.exp(-dE / T) < random.random():\n",
    "                    self.state = self.copy_state(prevState)\n",
    "                    E = prevEnergy\n",
    "                else:\n",
    "                    accepts += 1\n",
    "                    if dE < 0.0:\n",
    "                        improves += 1\n",
    "                    prevState = self.copy_state(self.state)\n",
    "                    prevEnergy = E\n",
    "            return E, float(accepts) / steps, float(improves) / steps\n",
    "\n",
    "        step = 0\n",
    "        self.start = time.time()\n",
    "\n",
    "        # Attempting automatic simulated anneal...\n",
    "        # Find an initial guess for temperature\n",
    "        T = 0.0\n",
    "        E = self.energy()\n",
    "        self.update(step, T, E, None, None)\n",
    "        while T == 0.0:\n",
    "            step += 1\n",
    "            self.move()\n",
    "            T = abs(self.energy() - E)\n",
    "\n",
    "        # Search for Tmax - a temperature that gives 98% acceptance\n",
    "        E, acceptance, improvement = run(T, steps)\n",
    "\n",
    "        step += steps\n",
    "        while acceptance > 0.98:\n",
    "            T = round_figures(T / 1.5, 2)\n",
    "            E, acceptance, improvement = run(T, steps)\n",
    "            step += steps\n",
    "            self.update(step, T, E, acceptance, improvement)\n",
    "        while acceptance < 0.98:\n",
    "            T = round_figures(T * 1.5, 2)\n",
    "            E, acceptance, improvement = run(T, steps)\n",
    "            step += steps\n",
    "            self.update(step, T, E, acceptance, improvement)\n",
    "        Tmax = T\n",
    "\n",
    "        # Search for Tmin - a temperature that gives 0% improvement\n",
    "        while improvement > 0.0:\n",
    "            T = round_figures(T / 1.5, 2)\n",
    "            E, acceptance, improvement = run(T, steps)\n",
    "            step += steps\n",
    "            self.update(step, T, E, acceptance, improvement)\n",
    "        Tmin = T\n",
    "\n",
    "        # Calculate anneal duration\n",
    "        elapsed = time.time() - self.start\n",
    "        duration = round_figures(int(60.0 * minutes * step / elapsed), 2)\n",
    "\n",
    "        print('')  # New line after auto() output\n",
    "        # Don't perform anneal, just return params\n",
    "        return {'tmax': Tmax, 'tmin': Tmin, 'steps': duration}\n",
    "    \n",
    "#Contact GitHub API Training Shop Blog About\n",
    "#© 2017 GitHub, Inc. Terms Privacy Security Status Help"
   ]
  },
  {
   "cell_type": "code",
   "execution_count": 456,
   "metadata": {
    "collapsed": false
   },
   "outputs": [],
   "source": [
    "#import simanneal\n",
    "from __future__ import print_function\n",
    "import math\n",
    "import random\n",
    "#from simanneal import Annealer"
   ]
  },
  {
   "cell_type": "code",
   "execution_count": 457,
   "metadata": {
    "collapsed": false
   },
   "outputs": [],
   "source": [
    "class TravellingSalesmanProblem(Annealer):\n",
    "\n",
    "    \"\"\"Test annealer with a travelling salesman problem.\n",
    "    \"\"\"\n",
    "    \n",
    "    # pass extra data (the distance matrix) into the constructor\n",
    "    def __init__(self, candidate_songs, init_playlist=None):\n",
    "        #self.state = np.array(['2LBkiUn4HmZQN1iV4Q09cn', '3Y10xQQJVB1yjwFQ0ItrY6'])\n",
    "        if seed_id in candidate_songs:\n",
    "            candidate_songs = candidate_songs[candidate_songs!=seed_id]\n",
    "        if init_playlist !=None:\n",
    "            state = init_playlist\n",
    "        else:\n",
    "            state = np.random.choice(candidate_songs,size=30,replace=False)\n",
    "        self.starting = state\n",
    "        self.candidate_songs = np.setdiff1d(candidate_songs,state)\n",
    "        self.allt = []\n",
    "        self.allE = []\n",
    "        state=list(state)\n",
    "        #self.features = features\n",
    "        super(TravellingSalesmanProblem, self).__init__(state)  # important! \n",
    "\n",
    "    def move(self):\n",
    "        \"\"\"Swaps two cities in the route.\"\"\"\n",
    "        a = random.randint(0, len(self.state) - 1)\n",
    "        b = random.randint(0, len(self.candidate_songs) - 1)\n",
    "        #b = random.randint(0, len(self.state) - 1)\n",
    "        #self.state[a], self.state[b] = self.state[b], self.state[a]\n",
    "        #print(self.state[a],self.candidate_songs[b])\n",
    "        #reject = self.state[a]\n",
    "        if self.candidate_songs[b] not in self.state:\n",
    "        #    self.state[a] = self.candidate_songs[b]\n",
    "        #    self.candidate_songs[b] = reject\n",
    "            self.state[a], self.candidate_songs[b] = self.candidate_songs[b], self.state[a]\n",
    "        #print(len(np.unique(self.state)))\n",
    "        #print(self.state[a],self.candidate_songs[b])\n",
    "        \n",
    "    def energy(self): ## calculates the predicted number of followers\n",
    "        \"\"\"Calculates the predicted number of followers.\"\"\"\n",
    "        #print(self.state)\n",
    "        result = gen_score(self.state)\n",
    "        #print(\"Calculating energy: \", result)\n",
    "        #return 1000*(1-(0.67*result[4] + 0.33*result[3]))\n",
    "        return 10000*(1.0-(np.array([0,0,0,0.25,0.75])*result).sum())"
   ]
  },
  {
   "cell_type": "markdown",
   "metadata": {},
   "source": [
    "### Tune the energy function for simulated annealing. \n",
    "#### We want ~40-60% initial chance of acceptance for a significant decrease in energy"
   ]
  },
  {
   "cell_type": "code",
   "execution_count": 458,
   "metadata": {
    "collapsed": false
   },
   "outputs": [
    {
     "data": {
      "text/plain": [
       "0.51594004821404"
      ]
     },
     "execution_count": 458,
     "metadata": {},
     "output_type": "execute_result"
    }
   ],
   "source": [
    "def energy1(result):\n",
    "    return 10000*(1.0-(np.array([0,0,0,0.25,0.75])*result).sum())\n",
    "\n",
    "prevEnergy=energy1([ 0.23,  0.25,  0.19,  0.23,  0.1])\n",
    "E = energy1([ 0.23,  0.25,  0.19,  0.23,  0.04])\n",
    "# We want this kind of decrease in energy to be associated with something like 70% chance acceptance at first\n",
    "dE = E - prevEnergy\n",
    "T = 680\n",
    "math.exp(-dE / T)"
   ]
  },
  {
   "cell_type": "markdown",
   "metadata": {},
   "source": [
    "### Tune Simulated annealing"
   ]
  },
  {
   "cell_type": "code",
   "execution_count": 459,
   "metadata": {
    "collapsed": true
   },
   "outputs": [],
   "source": [
    "def tuneSimAnneal(candidates):\n",
    "    tsp = TravellingSalesmanProblem(candidates)\n",
    "    tsp.copy_strategy = \"slice\"  \n",
    "    auto_schedule = tsp.auto(minutes=1.5, steps=10)\n",
    "    auto_schedule['updates'] = auto_schedule['steps']/10\n",
    "    return auto_schedule"
   ]
  },
  {
   "cell_type": "code",
   "execution_count": 460,
   "metadata": {
    "collapsed": false
   },
   "outputs": [
    {
     "name": "stderr",
     "output_type": "stream",
     "text": [
      "/Users/lw20302/anaconda/lib/python2.7/site-packages/ipykernel/__main__.py:303: FutureWarning: reshape is deprecated and will raise in a subsequent release. Please use .values.reshape(...) instead\n",
      " Temperature        Energy    Accept   Improve     Elapsed   Remaining\n",
      "     7.30000       8325.00    10.00%     0.00%     0:00:18     1:30:29 Temperature        Energy    Accept   Improve     Elapsed   Remaining\n",
      "     0.00000       9375.00                         0:00:00            \r"
     ]
    },
    {
     "name": "stdout",
     "output_type": "stream",
     "text": [
      "\n",
      "Bucket # 1  parameters:  {u'steps': 830.0, u'tmax': 660.0, u'tmin': 7.3, u'updates': 83.0}\n"
     ]
    },
    {
     "name": "stderr",
     "output_type": "stream",
     "text": [
      "    22.00000       8850.00    10.00%     0.00%     0:00:09     1:29:54 Temperature        Energy    Accept   Improve     Elapsed   Remaining\n",
      "     0.00000       9200.00                         0:00:00            \r"
     ]
    },
    {
     "name": "stdout",
     "output_type": "stream",
     "text": [
      "\n",
      "Bucket # 2  parameters:  {u'steps': 830.0, u'tmax': 170.0, u'tmin': 22.0, u'updates': 83.0}\n"
     ]
    },
    {
     "name": "stderr",
     "output_type": "stream",
     "text": [
      "    10.00000       8475.00     0.00%     0.00%     0:00:16     1:28:45 Temperature        Energy    Accept   Improve     Elapsed   Remaining\n",
      "     0.00000       8075.00                         0:00:00            \r"
     ]
    },
    {
     "name": "stdout",
     "output_type": "stream",
     "text": [
      "\n",
      "Bucket # 3  parameters:  {u'steps': 840.0, u'tmax': 390.0, u'tmin': 10.0, u'updates': 84.0}\n"
     ]
    },
    {
     "name": "stderr",
     "output_type": "stream",
     "text": [
      "    57.00000       7775.00   100.00%     0.00%     0:00:06     2:35:14"
     ]
    },
    {
     "name": "stdout",
     "output_type": "stream",
     "text": [
      "\n",
      "Bucket # 4  parameters:  {u'steps': 480.0, u'tmax': 57.0, u'tmin': 57.0, u'updates': 48.0}\n"
     ]
    }
   ],
   "source": [
    "schedules = []\n",
    "for index, bucket in  enumerate([bucket1,bucket2,bucket3, bucket4]):\n",
    "    schedules.append(tuneSimAnneal(bucket))\n",
    "    print(\"Bucket #\", index+1,\" parameters: \", schedules[index])"
   ]
  },
  {
   "cell_type": "markdown",
   "metadata": {},
   "source": [
    "### Run Simulated Annealing"
   ]
  },
  {
   "cell_type": "code",
   "execution_count": 461,
   "metadata": {
    "collapsed": false
   },
   "outputs": [],
   "source": [
    "def oldRunSimulatedAnnealing(candidates, schedule, init_playlist=None):\n",
    "    \n",
    "    # Run sim anneal\n",
    "    tsp = TravellingSalesmanProblem(candidates, init_playlist)\n",
    "    tsp.set_schedule(schedule)\n",
    "    state, e = tsp.anneal()\n",
    "    resulting_playlist_sim_anneal = state\n",
    "    start = gen_score(tsp.starting)\n",
    "    print(schedule)\n",
    "\n",
    "    # Visualize annealing\n",
    "    plt.plot(range(int(schedule['steps'])), tsp.allE)\n",
    "    plt.show()\n",
    "    plt.plot(range(int(schedule['steps'])), tsp.allt)\n",
    "    plt.show()\n",
    "#     print(tsp.allE, tsp.allt)\n",
    "#     plt.bar(range(len(tsp.st)), start)\n",
    "#     plt.xticks(range(len(start)), [1,2,3,4,5], size='small')\n",
    "#     locs, labels = plt.xticks()\n",
    "#     plt.show()\n",
    "#     end = gen_score(resulting_playlist_sim_anneal)\n",
    "\n",
    "    # Visualize starting point\n",
    "    print(\"Starting class probabilties: \",start)\n",
    "    print(energy1(start))\n",
    "    plt.bar(range(len(start)), start)\n",
    "    plt.xticks(range(len(start)), [1,2,3,4,5], size='small')\n",
    "    locs, labels = plt.xticks()\n",
    "    plt.show()\n",
    "    end = gen_score(resulting_playlist_sim_anneal)\n",
    "\n",
    "    # Visualize ending point\n",
    "    print(\"Ending class probabilties: \",end )\n",
    "    print(energy1(end))\n",
    "    plt.bar(range(len(end)), end)\n",
    "    plt.xticks(range(len(end)), [1,2,3,4,5], size='small')\n",
    "    locs, labels = plt.xticks()\n",
    "    plt.show()\n",
    "\n",
    "    return resulting_playlist_sim_anneal\n"
   ]
  },
  {
   "cell_type": "code",
   "execution_count": 462,
   "metadata": {
    "collapsed": true
   },
   "outputs": [],
   "source": [
    "from multiprocessing import Process, Queue\n",
    "\n",
    "def runSimulatedAnnealing(candidates, schedule, init_playlist=None):\n",
    "    def run(candidates, schedule, init_playlist, q):\n",
    "        # Run sim anneal\n",
    "        tsp = TravellingSalesmanProblem(candidates, init_playlist)\n",
    "        tsp.set_schedule(schedule)\n",
    "        state, e = tsp.anneal()\n",
    "        resulting_playlist_sim_anneal = state\n",
    "        start = gen_score(tsp.starting)\n",
    "        end = gen_score(resulting_playlist_sim_anneal)\n",
    "        result = e, tsp, start, end, state, resulting_playlist_sim_anneal\n",
    "        q.put(result)\n",
    "        return result\n",
    "    procs = []\n",
    "    q = Queue()\n",
    "    for _ in range(4):\n",
    "        p = Process(target=run, args=(candidates, schedule, init_playlist, q))\n",
    "        procs.append(p)\n",
    "        print(\"Starting\", _)\n",
    "        p.start()\n",
    "\n",
    "    \n",
    "\n",
    "    resultdict = []\n",
    "    for i in range(4):\n",
    "        output = q.get()\n",
    "        #print(output)\n",
    "        resultdict.append(output)\n",
    "\n",
    "    for p in procs:\n",
    "        p.join()\n",
    "        \n",
    "    all_results = np.array(resultdict)\n",
    "    print(all_results[:,0])\n",
    "    best_index = np.argmin(all_results[:,0])\n",
    "    print(\"Best index\", best_index)\n",
    "    e, tsp, start, end, state, resulting_playlist_sim_anneal = resultdict[best_index]\n",
    "\n",
    "    # Visualize annealing\n",
    "    plt.plot(range(int(schedule['steps'])), tsp.allE)\n",
    "    plt.show()\n",
    "    plt.plot(range(int(schedule['steps'])), tsp.allt)\n",
    "    plt.show()\n",
    "    \n",
    "#     print(tsp.allE, tsp.allt)\n",
    "#     plt.bar(range(len(tsp.st)), start)\n",
    "#     plt.xticks(range(len(start)), [1,2,3,4,5], size='small')\n",
    "#     locs, labels = plt.xticks()\n",
    "#     plt.show()\n",
    "#     end = gen_score(resulting_playlist_sim_anneal)\n",
    "\n",
    "    # Visualize starting point\n",
    "    print(\"Starting class probabilties: \",start)\n",
    "    print(energy1(start))\n",
    "    plt.bar(range(len(start)), start)\n",
    "    plt.xticks(range(len(start)), [1,2,3,4,5], size='small')\n",
    "    locs, labels = plt.xticks()\n",
    "    plt.show()\n",
    "    end = gen_score(resulting_playlist_sim_anneal)\n",
    "\n",
    "    # Visualize ending point\n",
    "    print(\"Ending class probabilties: \",end )\n",
    "    print(energy1(end))\n",
    "    plt.bar(range(len(end)), end)\n",
    "    plt.xticks(range(len(end)), [1,2,3,4,5], size='small')\n",
    "    locs, labels = plt.xticks()\n",
    "    plt.show()\n",
    "\n",
    "    return resulting_playlist_sim_anneal, resultdict[best_index]\n"
   ]
  },
  {
   "cell_type": "markdown",
   "metadata": {},
   "source": [
    "### Bucket 1 results: Top tracks from related artists"
   ]
  },
  {
   "cell_type": "code",
   "execution_count": 463,
   "metadata": {
    "collapsed": false
   },
   "outputs": [
    {
     "name": "stdout",
     "output_type": "stream",
     "text": [
      "Starting 0\n",
      "Starting 1\n",
      "Starting 2\n",
      "Starting 3\n"
     ]
    },
    {
     "name": "stderr",
     "output_type": "stream",
     "text": [
      "/Users/lw20302/anaconda/lib/python2.7/site-packages/ipykernel/__main__.py:303: FutureWarning: reshape is deprecated and will raise in a subsequent release. Please use .values.reshape(...) instead\n",
      "/Users/lw20302/anaconda/lib/python2.7/site-packages/ipykernel/__main__.py:303: FutureWarning: reshape is deprecated and will raise in a subsequent release. Please use .values.reshape(...) instead\n",
      "/Users/lw20302/anaconda/lib/python2.7/site-packages/ipykernel/__main__.py:303: FutureWarning: reshape is deprecated and will raise in a subsequent release. Please use .values.reshape(...) instead\n",
      "/Users/lw20302/anaconda/lib/python2.7/site-packages/ipykernel/__main__.py:303: FutureWarning: reshape is deprecated and will raise in a subsequent release. Please use .values.reshape(...) instead\n",
      " Temperature        Energy    Accept   Improve     Elapsed   Remaining\n",
      " Temperature        Energy    Accept   Improve     Elapsed   Remaining\n",
      " Temperature        Energy    Accept   Improve     Elapsed   Remaining\n",
      " Temperature        Energy    Accept   Improve     Elapsed   Remaining\n",
      "     7.30000       7525.00    80.00%     0.00%     0:01:36     0:00:00"
     ]
    },
    {
     "name": "stdout",
     "output_type": "stream",
     "text": [
      "\n"
     ]
    },
    {
     "name": "stderr",
     "output_type": "stream",
     "text": [
      "\r",
      "     7.30000       7450.00    70.00%     0.00%     0:01:36     0:00:00\r",
      "\r"
     ]
    },
    {
     "name": "stdout",
     "output_type": "stream",
     "text": [
      "\n"
     ]
    },
    {
     "name": "stderr",
     "output_type": "stream",
     "text": [
      "\r",
      "     7.30000       7175.00    60.00%     0.00%     0:01:37     0:00:00\r",
      "\r"
     ]
    },
    {
     "name": "stdout",
     "output_type": "stream",
     "text": [
      "\n"
     ]
    },
    {
     "name": "stderr",
     "output_type": "stream",
     "text": [
      "\r",
      "     7.30000       7075.00    60.00%     0.00%     0:01:37     0:00:00\r",
      "\r"
     ]
    },
    {
     "name": "stdout",
     "output_type": "stream",
     "text": [
      "\n",
      "[7450.0 7524.9999999999991 7175.0 7075.0]\n",
      "Best index 3\n"
     ]
    },
    {
     "data": {
      "image/png": "[encoded data removed]",
      "text/plain": [
       "<matplotlib.figure.Figure at 0x11fda9d90>"
      ]
     },
     "metadata": {},
     "output_type": "display_data"
    },
    {
     "data": {
      "image/png": "[encoded data removed]",
      "text/plain": [
       "<matplotlib.figure.Figure at 0x1276ddc50>"
      ]
     },
     "metadata": {},
     "output_type": "display_data"
    },
    {
     "name": "stdout",
     "output_type": "stream",
     "text": [
      "Starting class probabilties:  [ 0.22  0.05  0.21  0.51  0.01]\n",
      "8650.0\n"
     ]
    },
    {
     "data": {
      "image/png": "[encoded data removed]",
      "text/plain": [
       "<matplotlib.figure.Figure at 0x124b34550>"
      ]
     },
     "metadata": {},
     "output_type": "display_data"
    },
    {
     "name": "stdout",
     "output_type": "stream",
     "text": [
      "Ending class probabilties:  [ 0.09  0.14  0.14  0.36  0.27]\n",
      "7075.0\n"
     ]
    },
    {
     "name": "stderr",
     "output_type": "stream",
     "text": [
      "/Users/lw20302/anaconda/lib/python2.7/site-packages/ipykernel/__main__.py:303: FutureWarning: reshape is deprecated and will raise in a subsequent release. Please use .values.reshape(...) instead\n"
     ]
    },
    {
     "data": {
      "image/png": "[encoded data removed]",
      "text/plain": [
       "<matplotlib.figure.Figure at 0x127426a10>"
      ]
     },
     "metadata": {},
     "output_type": "display_data"
    }
   ],
   "source": [
    "#if __name__ == '__main__':\n",
    "bucket1_results = runSimulatedAnnealing(bucket1, schedules[0])\n",
    "#bucket1_result_2 = runSimulatedAnnealing(bucket1, schedules[0], init_playlist=np.array(bucket1_result))"
   ]
  },
  {
   "cell_type": "markdown",
   "metadata": {},
   "source": [
    "### Bucket 2 results: Any tracks from related artists"
   ]
  },
  {
   "cell_type": "code",
   "execution_count": 464,
   "metadata": {
    "collapsed": false
   },
   "outputs": [],
   "source": [
    "#bucket2_results = runSimulatedAnnealing(bucket2, schedules[1])"
   ]
  },
  {
   "cell_type": "markdown",
   "metadata": {},
   "source": [
    "### Bucket 3 results: Similar tracks from related artists (manhattan distance + spotify API features)"
   ]
  },
  {
   "cell_type": "code",
   "execution_count": 465,
   "metadata": {
    "collapsed": false
   },
   "outputs": [
    {
     "name": "stdout",
     "output_type": "stream",
     "text": [
      "Starting 0\n",
      "Starting 1\n",
      "Starting 2\n",
      "Starting 3\n"
     ]
    },
    {
     "name": "stderr",
     "output_type": "stream",
     "text": [
      "/Users/lw20302/anaconda/lib/python2.7/site-packages/ipykernel/__main__.py:303: FutureWarning: reshape is deprecated and will raise in a subsequent release. Please use .values.reshape(...) instead\n",
      "/Users/lw20302/anaconda/lib/python2.7/site-packages/ipykernel/__main__.py:303: FutureWarning: reshape is deprecated and will raise in a subsequent release. Please use .values.reshape(...) instead\n",
      "/Users/lw20302/anaconda/lib/python2.7/site-packages/ipykernel/__main__.py:303: FutureWarning: reshape is deprecated and will raise in a subsequent release. Please use .values.reshape(...) instead\n",
      "/Users/lw20302/anaconda/lib/python2.7/site-packages/ipykernel/__main__.py:303: FutureWarning: reshape is deprecated and will raise in a subsequent release. Please use .values.reshape(...) instead\n",
      " Temperature        Energy    Accept   Improve     Elapsed   Remaining\n",
      " Temperature        Energy    Accept   Improve     Elapsed   Remaining\n",
      " Temperature        Energy    Accept   Improve     Elapsed   Remaining\n",
      " Temperature        Energy    Accept   Improve     Elapsed   Remaining\n",
      "    10.00000       8100.00    30.00%     0.00%     0:01:37     0:00:00"
     ]
    },
    {
     "name": "stdout",
     "output_type": "stream",
     "text": [
      "\n"
     ]
    },
    {
     "name": "stderr",
     "output_type": "stream",
     "text": [
      "\r",
      "    10.00000       8350.00    50.00%     0.00%     0:01:37     0:00:00\r",
      "\r"
     ]
    },
    {
     "name": "stdout",
     "output_type": "stream",
     "text": [
      "\n"
     ]
    },
    {
     "name": "stderr",
     "output_type": "stream",
     "text": [
      "\r",
      "    10.00000       8700.00    30.00%     0.00%     0:01:37     0:00:00\r",
      "\r"
     ]
    },
    {
     "name": "stdout",
     "output_type": "stream",
     "text": [
      "\n"
     ]
    },
    {
     "name": "stderr",
     "output_type": "stream",
     "text": [
      "\r",
      "    10.00000       8500.00    40.00%     0.00%     0:01:37     0:00:00\r",
      "\r"
     ]
    },
    {
     "name": "stdout",
     "output_type": "stream",
     "text": [
      "\n",
      "[8100.0000000000009 8350.0 8675.0 8475.0]\n",
      "Best index 0\n"
     ]
    },
    {
     "data": {
      "image/png": "[encoded data removed]",
      "text/plain": [
       "<matplotlib.figure.Figure at 0x1214cf710>"
      ]
     },
     "metadata": {},
     "output_type": "display_data"
    },
    {
     "data": {
      "image/png": "[encoded data removed]",
      "text/plain": [
       "<matplotlib.figure.Figure at 0x1273ff250>"
      ]
     },
     "metadata": {},
     "output_type": "display_data"
    },
    {
     "name": "stdout",
     "output_type": "stream",
     "text": [
      "Starting class probabilties:  [ 0.39   0.165  0.325  0.12   0.   ]\n",
      "9700.0\n"
     ]
    },
    {
     "data": {
      "image/png": "[encoded data removed]",
      "text/plain": [
       "<matplotlib.figure.Figure at 0x120af2c50>"
      ]
     },
     "metadata": {},
     "output_type": "display_data"
    },
    {
     "name": "stdout",
     "output_type": "stream",
     "text": [
      "Ending class probabilties:  [ 0.2   0.09  0.13  0.49  0.09]\n",
      "8100.0\n"
     ]
    },
    {
     "name": "stderr",
     "output_type": "stream",
     "text": [
      "/Users/lw20302/anaconda/lib/python2.7/site-packages/ipykernel/__main__.py:303: FutureWarning: reshape is deprecated and will raise in a subsequent release. Please use .values.reshape(...) instead\n"
     ]
    },
    {
     "data": {
      "image/png": "[encoded data removed]",
      "text/plain": [
       "<matplotlib.figure.Figure at 0x1276c7390>"
      ]
     },
     "metadata": {},
     "output_type": "display_data"
    }
   ],
   "source": [
    "bucket3_results = runSimulatedAnnealing(bucket3, schedules[2])"
   ]
  },
  {
   "cell_type": "code",
   "execution_count": 466,
   "metadata": {
    "collapsed": false
   },
   "outputs": [],
   "source": [
    "# This got good results for all buckets\n",
    "#auto_schedule"
   ]
  },
  {
   "cell_type": "markdown",
   "metadata": {},
   "source": [
    "### Bucket 4 results: Similar tracks from vantage point database (earth mover's distance)"
   ]
  },
  {
   "cell_type": "code",
   "execution_count": 467,
   "metadata": {
    "collapsed": false
   },
   "outputs": [
    {
     "name": "stdout",
     "output_type": "stream",
     "text": [
      "Starting 0\n",
      "Starting 1\n",
      "Starting 2\n",
      "Starting 3\n"
     ]
    },
    {
     "name": "stderr",
     "output_type": "stream",
     "text": [
      "/Users/lw20302/anaconda/lib/python2.7/site-packages/ipykernel/__main__.py:303: FutureWarning: reshape is deprecated and will raise in a subsequent release. Please use .values.reshape(...) instead\n",
      "/Users/lw20302/anaconda/lib/python2.7/site-packages/ipykernel/__main__.py:303: FutureWarning: reshape is deprecated and will raise in a subsequent release. Please use .values.reshape(...) instead\n",
      "/Users/lw20302/anaconda/lib/python2.7/site-packages/ipykernel/__main__.py:303: FutureWarning: reshape is deprecated and will raise in a subsequent release. Please use .values.reshape(...) instead\n",
      "/Users/lw20302/anaconda/lib/python2.7/site-packages/ipykernel/__main__.py:303: FutureWarning: reshape is deprecated and will raise in a subsequent release. Please use .values.reshape(...) instead\n",
      " Temperature        Energy    Accept   Improve     Elapsed   Remaining\n",
      " Temperature        Energy    Accept   Improve     Elapsed   Remaining\n",
      " Temperature        Energy    Accept   Improve     Elapsed   Remaining\n",
      " Temperature        Energy    Accept   Improve     Elapsed   Remaining\n",
      "    57.00000       9125.00    70.00%    30.00%     0:00:55     0:00:00"
     ]
    },
    {
     "name": "stdout",
     "output_type": "stream",
     "text": [
      "\n"
     ]
    },
    {
     "name": "stderr",
     "output_type": "stream",
     "text": [
      "\r",
      "    57.00000       8625.00    30.00%    20.00%     0:00:55     0:00:00\r",
      "\r"
     ]
    },
    {
     "name": "stdout",
     "output_type": "stream",
     "text": [
      "\n"
     ]
    },
    {
     "name": "stderr",
     "output_type": "stream",
     "text": [
      "    57.00000       8500.00    50.00%    30.00%     0:00:56     0:00:00"
     ]
    },
    {
     "name": "stdout",
     "output_type": "stream",
     "text": [
      "\n",
      "\n",
      "[8325.0 8425.0 8600.0 8149.9999999999991]\n",
      "Best index 3\n"
     ]
    },
    {
     "data": {
      "image/png": "[encoded data removed]",
      "text/plain": [
       "<matplotlib.figure.Figure at 0x126311fd0>"
      ]
     },
     "metadata": {},
     "output_type": "display_data"
    },
    {
     "data": {
      "image/png": "[encoded data removed]",
      "text/plain": [
       "<matplotlib.figure.Figure at 0x12745a590>"
      ]
     },
     "metadata": {},
     "output_type": "display_data"
    },
    {
     "name": "stdout",
     "output_type": "stream",
     "text": [
      "Starting class probabilties:  [ 0.39   0.165  0.325  0.12   0.   ]\n",
      "9700.0\n"
     ]
    },
    {
     "data": {
      "image/png": "[encoded data removed]",
      "text/plain": [
       "<matplotlib.figure.Figure at 0x1206495d0>"
      ]
     },
     "metadata": {},
     "output_type": "display_data"
    },
    {
     "name": "stdout",
     "output_type": "stream",
     "text": [
      "Ending class probabilties:  [ 0.17  0.08  0.17  0.5   0.08]\n",
      "8150.0\n"
     ]
    },
    {
     "name": "stderr",
     "output_type": "stream",
     "text": [
      "/Users/lw20302/anaconda/lib/python2.7/site-packages/ipykernel/__main__.py:303: FutureWarning: reshape is deprecated and will raise in a subsequent release. Please use .values.reshape(...) instead\n"
     ]
    },
    {
     "data": {
      "image/png": "[encoded data removed]",
      "text/plain": [
       "<matplotlib.figure.Figure at 0x1265173d0>"
      ]
     },
     "metadata": {},
     "output_type": "display_data"
    }
   ],
   "source": [
    "bucket4_results = runSimulatedAnnealing(bucket3, schedules[3])"
   ]
  },
  {
   "cell_type": "markdown",
   "metadata": {},
   "source": [
    "### Format to put into a csv for the demo"
   ]
  },
  {
   "cell_type": "code",
   "execution_count": 468,
   "metadata": {
    "collapsed": false
   },
   "outputs": [],
   "source": [
    "all_dfs_tracks = []\n",
    "all_dfs_probabilities = []\n",
    "bucket_name = [\"Top tracks from related artists\", \"Similar tracks from related artists\", \"Similar tracks from vantage point database\"]\n",
    "for index, result in enumerate([bucket1_results, bucket3_results, bucket4_results]):\n",
    "    name = bucket_name[index]\n",
    "    resulting_playlist = result[0]\n",
    "    e, tsp, start, end, state, resulting_playlist_sim_anneal = result[1]\n",
    "    tracks_output = pd.DataFrame({\n",
    "    'seed_id': seed_id,\n",
    "    'track_ids': resulting_playlist,\n",
    "    'bucket_name': name,\n",
    "    'track_order': list(range(len(resulting_playlist)))\n",
    "    })\n",
    "    probabilities = pd.DataFrame({\n",
    "    'seed_id': seed_id,\n",
    "    'bucket_name': name,\n",
    "    'class': range(1,6),\n",
    "    'probabilities': end\n",
    "    })\n",
    "    all_dfs_tracks.append(tracks_output)\n",
    "    all_dfs_probabilities.append(probabilities)"
   ]
  },
  {
   "cell_type": "code",
   "execution_count": 469,
   "metadata": {
    "collapsed": false
   },
   "outputs": [
    {
     "data": {
      "text/html": [
       "<div>\n",
       "<table border=\"1\" class=\"dataframe\">\n",
       "  <thead>\n",
       "    <tr style=\"text-align: right;\">\n",
       "      <th></th>\n",
       "      <th>bucket_name</th>\n",
       "      <th>seed_id</th>\n",
       "      <th>track_ids</th>\n",
       "      <th>track_order</th>\n",
       "    </tr>\n",
       "  </thead>\n",
       "  <tbody>\n",
       "    <tr>\n",
       "      <th>0</th>\n",
       "      <td>Top tracks from related artists</td>\n",
       "      <td>7k2lqQ4Vt9435X24qUISki</td>\n",
       "      <td>1pGwXmkJy8oBfWAGqjHSgI</td>\n",
       "      <td>0</td>\n",
       "    </tr>\n",
       "    <tr>\n",
       "      <th>1</th>\n",
       "      <td>Top tracks from related artists</td>\n",
       "      <td>7k2lqQ4Vt9435X24qUISki</td>\n",
       "      <td>3d2APuMMFYWsA7g8AwV1Bd</td>\n",
       "      <td>1</td>\n",
       "    </tr>\n",
       "    <tr>\n",
       "      <th>2</th>\n",
       "      <td>Top tracks from related artists</td>\n",
       "      <td>7k2lqQ4Vt9435X24qUISki</td>\n",
       "      <td>3YcvFeJbnzDyWNxAFUhziH</td>\n",
       "      <td>2</td>\n",
       "    </tr>\n",
       "    <tr>\n",
       "      <th>3</th>\n",
       "      <td>Top tracks from related artists</td>\n",
       "      <td>7k2lqQ4Vt9435X24qUISki</td>\n",
       "      <td>2Yf7GDUIRd7YpA5LgqCeb5</td>\n",
       "      <td>3</td>\n",
       "    </tr>\n",
       "    <tr>\n",
       "      <th>4</th>\n",
       "      <td>Top tracks from related artists</td>\n",
       "      <td>7k2lqQ4Vt9435X24qUISki</td>\n",
       "      <td>1eBk1yNinU0VgY79rcshYa</td>\n",
       "      <td>4</td>\n",
       "    </tr>\n",
       "    <tr>\n",
       "      <th>5</th>\n",
       "      <td>Top tracks from related artists</td>\n",
       "      <td>7k2lqQ4Vt9435X24qUISki</td>\n",
       "      <td>567EmmCbOtpEuaVC2zznU6</td>\n",
       "      <td>5</td>\n",
       "    </tr>\n",
       "    <tr>\n",
       "      <th>6</th>\n",
       "      <td>Top tracks from related artists</td>\n",
       "      <td>7k2lqQ4Vt9435X24qUISki</td>\n",
       "      <td>6r44uyKRo3jKFRkThTZBXu</td>\n",
       "      <td>6</td>\n",
       "    </tr>\n",
       "    <tr>\n",
       "      <th>7</th>\n",
       "      <td>Top tracks from related artists</td>\n",
       "      <td>7k2lqQ4Vt9435X24qUISki</td>\n",
       "      <td>5WXoxLVNn7Bxrn0Q2RHfka</td>\n",
       "      <td>7</td>\n",
       "    </tr>\n",
       "    <tr>\n",
       "      <th>8</th>\n",
       "      <td>Top tracks from related artists</td>\n",
       "      <td>7k2lqQ4Vt9435X24qUISki</td>\n",
       "      <td>1UbvapOt3OIMhYv9ZOG6ZP</td>\n",
       "      <td>8</td>\n",
       "    </tr>\n",
       "    <tr>\n",
       "      <th>9</th>\n",
       "      <td>Top tracks from related artists</td>\n",
       "      <td>7k2lqQ4Vt9435X24qUISki</td>\n",
       "      <td>6qsnEjLjd29zqBCNIwEhl6</td>\n",
       "      <td>9</td>\n",
       "    </tr>\n",
       "    <tr>\n",
       "      <th>10</th>\n",
       "      <td>Top tracks from related artists</td>\n",
       "      <td>7k2lqQ4Vt9435X24qUISki</td>\n",
       "      <td>5xQXohUM4dXCaGaDvzBUr6</td>\n",
       "      <td>10</td>\n",
       "    </tr>\n",
       "    <tr>\n",
       "      <th>11</th>\n",
       "      <td>Top tracks from related artists</td>\n",
       "      <td>7k2lqQ4Vt9435X24qUISki</td>\n",
       "      <td>1O7FfC73F4DSSB15leLONo</td>\n",
       "      <td>11</td>\n",
       "    </tr>\n",
       "    <tr>\n",
       "      <th>12</th>\n",
       "      <td>Top tracks from related artists</td>\n",
       "      <td>7k2lqQ4Vt9435X24qUISki</td>\n",
       "      <td>6zbybRcr1QVLjxEpH7twcQ</td>\n",
       "      <td>12</td>\n",
       "    </tr>\n",
       "    <tr>\n",
       "      <th>13</th>\n",
       "      <td>Top tracks from related artists</td>\n",
       "      <td>7k2lqQ4Vt9435X24qUISki</td>\n",
       "      <td>2Ay0H0W52HmEMkPXJuG34k</td>\n",
       "      <td>13</td>\n",
       "    </tr>\n",
       "    <tr>\n",
       "      <th>14</th>\n",
       "      <td>Top tracks from related artists</td>\n",
       "      <td>7k2lqQ4Vt9435X24qUISki</td>\n",
       "      <td>3fFJs5AXy3FnVq4q6z3cj3</td>\n",
       "      <td>14</td>\n",
       "    </tr>\n",
       "    <tr>\n",
       "      <th>15</th>\n",
       "      <td>Top tracks from related artists</td>\n",
       "      <td>7k2lqQ4Vt9435X24qUISki</td>\n",
       "      <td>5R2OeM7jWaLEfZKoY04brH</td>\n",
       "      <td>15</td>\n",
       "    </tr>\n",
       "    <tr>\n",
       "      <th>16</th>\n",
       "      <td>Top tracks from related artists</td>\n",
       "      <td>7k2lqQ4Vt9435X24qUISki</td>\n",
       "      <td>6HOOZc0Ig9iunhEzuaMnAi</td>\n",
       "      <td>16</td>\n",
       "    </tr>\n",
       "    <tr>\n",
       "      <th>17</th>\n",
       "      <td>Top tracks from related artists</td>\n",
       "      <td>7k2lqQ4Vt9435X24qUISki</td>\n",
       "      <td>4att9JbgPpcTm1MVsEIWIr</td>\n",
       "      <td>17</td>\n",
       "    </tr>\n",
       "    <tr>\n",
       "      <th>18</th>\n",
       "      <td>Top tracks from related artists</td>\n",
       "      <td>7k2lqQ4Vt9435X24qUISki</td>\n",
       "      <td>0szmjOw9XbtbQYWz0GvXSp</td>\n",
       "      <td>18</td>\n",
       "    </tr>\n",
       "    <tr>\n",
       "      <th>19</th>\n",
       "      <td>Top tracks from related artists</td>\n",
       "      <td>7k2lqQ4Vt9435X24qUISki</td>\n",
       "      <td>5ODUAzIOHJ4JcudojTsuBP</td>\n",
       "      <td>19</td>\n",
       "    </tr>\n",
       "    <tr>\n",
       "      <th>20</th>\n",
       "      <td>Top tracks from related artists</td>\n",
       "      <td>7k2lqQ4Vt9435X24qUISki</td>\n",
       "      <td>6UHZNlQ7WkukvtNRcMvcwg</td>\n",
       "      <td>20</td>\n",
       "    </tr>\n",
       "    <tr>\n",
       "      <th>21</th>\n",
       "      <td>Top tracks from related artists</td>\n",
       "      <td>7k2lqQ4Vt9435X24qUISki</td>\n",
       "      <td>7hVXJt6Ge4YLURY5YF8P2q</td>\n",
       "      <td>21</td>\n",
       "    </tr>\n",
       "    <tr>\n",
       "      <th>22</th>\n",
       "      <td>Top tracks from related artists</td>\n",
       "      <td>7k2lqQ4Vt9435X24qUISki</td>\n",
       "      <td>22IUWYOGX5n9XgwWd1OSMq</td>\n",
       "      <td>22</td>\n",
       "    </tr>\n",
       "    <tr>\n",
       "      <th>23</th>\n",
       "      <td>Top tracks from related artists</td>\n",
       "      <td>7k2lqQ4Vt9435X24qUISki</td>\n",
       "      <td>4hi9OKSZA7jVKXoXvjjipG</td>\n",
       "      <td>23</td>\n",
       "    </tr>\n",
       "    <tr>\n",
       "      <th>24</th>\n",
       "      <td>Top tracks from related artists</td>\n",
       "      <td>7k2lqQ4Vt9435X24qUISki</td>\n",
       "      <td>4gG09Ofs0fLVBmFFeJXBEM</td>\n",
       "      <td>24</td>\n",
       "    </tr>\n",
       "    <tr>\n",
       "      <th>25</th>\n",
       "      <td>Top tracks from related artists</td>\n",
       "      <td>7k2lqQ4Vt9435X24qUISki</td>\n",
       "      <td>6n7PRM0pp868Qqg9JYwBdh</td>\n",
       "      <td>25</td>\n",
       "    </tr>\n",
       "    <tr>\n",
       "      <th>26</th>\n",
       "      <td>Top tracks from related artists</td>\n",
       "      <td>7k2lqQ4Vt9435X24qUISki</td>\n",
       "      <td>7BRwh1bemr9rFMDeTbcy5S</td>\n",
       "      <td>26</td>\n",
       "    </tr>\n",
       "    <tr>\n",
       "      <th>27</th>\n",
       "      <td>Top tracks from related artists</td>\n",
       "      <td>7k2lqQ4Vt9435X24qUISki</td>\n",
       "      <td>0W3wD3RexJQBt7DljcGeyT</td>\n",
       "      <td>27</td>\n",
       "    </tr>\n",
       "    <tr>\n",
       "      <th>28</th>\n",
       "      <td>Top tracks from related artists</td>\n",
       "      <td>7k2lqQ4Vt9435X24qUISki</td>\n",
       "      <td>4JZvJzuSDubH8spgfIlPty</td>\n",
       "      <td>28</td>\n",
       "    </tr>\n",
       "    <tr>\n",
       "      <th>29</th>\n",
       "      <td>Top tracks from related artists</td>\n",
       "      <td>7k2lqQ4Vt9435X24qUISki</td>\n",
       "      <td>7zKOXRFaHxPhx7eBUuzdWR</td>\n",
       "      <td>29</td>\n",
       "    </tr>\n",
       "    <tr>\n",
       "      <th>...</th>\n",
       "      <td>...</td>\n",
       "      <td>...</td>\n",
       "      <td>...</td>\n",
       "      <td>...</td>\n",
       "    </tr>\n",
       "    <tr>\n",
       "      <th>60</th>\n",
       "      <td>Similar tracks from vantage point database</td>\n",
       "      <td>7k2lqQ4Vt9435X24qUISki</td>\n",
       "      <td>5Nd50WKhVieaCLWFJlcLT2</td>\n",
       "      <td>0</td>\n",
       "    </tr>\n",
       "    <tr>\n",
       "      <th>61</th>\n",
       "      <td>Similar tracks from vantage point database</td>\n",
       "      <td>7k2lqQ4Vt9435X24qUISki</td>\n",
       "      <td>7xj9wfY8g8wYywNDJYQtiw</td>\n",
       "      <td>1</td>\n",
       "    </tr>\n",
       "    <tr>\n",
       "      <th>62</th>\n",
       "      <td>Similar tracks from vantage point database</td>\n",
       "      <td>7k2lqQ4Vt9435X24qUISki</td>\n",
       "      <td>7JLFGOAMkT5fCmjUeThGyu</td>\n",
       "      <td>2</td>\n",
       "    </tr>\n",
       "    <tr>\n",
       "      <th>63</th>\n",
       "      <td>Similar tracks from vantage point database</td>\n",
       "      <td>7k2lqQ4Vt9435X24qUISki</td>\n",
       "      <td>4LvnlktZh4oLxpT7bFI34l</td>\n",
       "      <td>3</td>\n",
       "    </tr>\n",
       "    <tr>\n",
       "      <th>64</th>\n",
       "      <td>Similar tracks from vantage point database</td>\n",
       "      <td>7k2lqQ4Vt9435X24qUISki</td>\n",
       "      <td>4viyKGiVj92VvsQCDTXrFE</td>\n",
       "      <td>4</td>\n",
       "    </tr>\n",
       "    <tr>\n",
       "      <th>65</th>\n",
       "      <td>Similar tracks from vantage point database</td>\n",
       "      <td>7k2lqQ4Vt9435X24qUISki</td>\n",
       "      <td>2Y5YeET57EmS8GNr6zLQFf</td>\n",
       "      <td>5</td>\n",
       "    </tr>\n",
       "    <tr>\n",
       "      <th>66</th>\n",
       "      <td>Similar tracks from vantage point database</td>\n",
       "      <td>7k2lqQ4Vt9435X24qUISki</td>\n",
       "      <td>0bVkyWFXvUyptosuyZN6RC</td>\n",
       "      <td>6</td>\n",
       "    </tr>\n",
       "    <tr>\n",
       "      <th>67</th>\n",
       "      <td>Similar tracks from vantage point database</td>\n",
       "      <td>7k2lqQ4Vt9435X24qUISki</td>\n",
       "      <td>22IwVzhx2PnihV9zLkzPxk</td>\n",
       "      <td>7</td>\n",
       "    </tr>\n",
       "    <tr>\n",
       "      <th>68</th>\n",
       "      <td>Similar tracks from vantage point database</td>\n",
       "      <td>7k2lqQ4Vt9435X24qUISki</td>\n",
       "      <td>4CRL20F12JmOo04JuVx3hv</td>\n",
       "      <td>8</td>\n",
       "    </tr>\n",
       "    <tr>\n",
       "      <th>69</th>\n",
       "      <td>Similar tracks from vantage point database</td>\n",
       "      <td>7k2lqQ4Vt9435X24qUISki</td>\n",
       "      <td>4ltvtgLNGlaVd8AUIgjUGt</td>\n",
       "      <td>9</td>\n",
       "    </tr>\n",
       "    <tr>\n",
       "      <th>70</th>\n",
       "      <td>Similar tracks from vantage point database</td>\n",
       "      <td>7k2lqQ4Vt9435X24qUISki</td>\n",
       "      <td>2HXIrXCodF074SORlVWx4X</td>\n",
       "      <td>10</td>\n",
       "    </tr>\n",
       "    <tr>\n",
       "      <th>71</th>\n",
       "      <td>Similar tracks from vantage point database</td>\n",
       "      <td>7k2lqQ4Vt9435X24qUISki</td>\n",
       "      <td>7DtmKZshOAzzmIzdH1IWpL</td>\n",
       "      <td>11</td>\n",
       "    </tr>\n",
       "    <tr>\n",
       "      <th>72</th>\n",
       "      <td>Similar tracks from vantage point database</td>\n",
       "      <td>7k2lqQ4Vt9435X24qUISki</td>\n",
       "      <td>6iCX12NfJjqnkyyUiKOc2s</td>\n",
       "      <td>12</td>\n",
       "    </tr>\n",
       "    <tr>\n",
       "      <th>73</th>\n",
       "      <td>Similar tracks from vantage point database</td>\n",
       "      <td>7k2lqQ4Vt9435X24qUISki</td>\n",
       "      <td>6NXl7R6bpf7q5g0B0hHYsn</td>\n",
       "      <td>13</td>\n",
       "    </tr>\n",
       "    <tr>\n",
       "      <th>74</th>\n",
       "      <td>Similar tracks from vantage point database</td>\n",
       "      <td>7k2lqQ4Vt9435X24qUISki</td>\n",
       "      <td>6VI5dC7cZLu3hdUPq1loiJ</td>\n",
       "      <td>14</td>\n",
       "    </tr>\n",
       "    <tr>\n",
       "      <th>75</th>\n",
       "      <td>Similar tracks from vantage point database</td>\n",
       "      <td>7k2lqQ4Vt9435X24qUISki</td>\n",
       "      <td>5xOgw2iE0qvcGYSErgLiJ6</td>\n",
       "      <td>15</td>\n",
       "    </tr>\n",
       "    <tr>\n",
       "      <th>76</th>\n",
       "      <td>Similar tracks from vantage point database</td>\n",
       "      <td>7k2lqQ4Vt9435X24qUISki</td>\n",
       "      <td>7cinlbzzEWJtJjDkDmx5O4</td>\n",
       "      <td>16</td>\n",
       "    </tr>\n",
       "    <tr>\n",
       "      <th>77</th>\n",
       "      <td>Similar tracks from vantage point database</td>\n",
       "      <td>7k2lqQ4Vt9435X24qUISki</td>\n",
       "      <td>7FUDF5tlStRHxO7ZqjcFd2</td>\n",
       "      <td>17</td>\n",
       "    </tr>\n",
       "    <tr>\n",
       "      <th>78</th>\n",
       "      <td>Similar tracks from vantage point database</td>\n",
       "      <td>7k2lqQ4Vt9435X24qUISki</td>\n",
       "      <td>0fTTbpS94BPYxan1Z6J3cm</td>\n",
       "      <td>18</td>\n",
       "    </tr>\n",
       "    <tr>\n",
       "      <th>79</th>\n",
       "      <td>Similar tracks from vantage point database</td>\n",
       "      <td>7k2lqQ4Vt9435X24qUISki</td>\n",
       "      <td>7JRbXhWVB6i20wPHx0M6vd</td>\n",
       "      <td>19</td>\n",
       "    </tr>\n",
       "    <tr>\n",
       "      <th>80</th>\n",
       "      <td>Similar tracks from vantage point database</td>\n",
       "      <td>7k2lqQ4Vt9435X24qUISki</td>\n",
       "      <td>2TTwSbzdUsJPKioJ868N9D</td>\n",
       "      <td>20</td>\n",
       "    </tr>\n",
       "    <tr>\n",
       "      <th>81</th>\n",
       "      <td>Similar tracks from vantage point database</td>\n",
       "      <td>7k2lqQ4Vt9435X24qUISki</td>\n",
       "      <td>7j3QsdzlQS7juDbMpAkx2y</td>\n",
       "      <td>21</td>\n",
       "    </tr>\n",
       "    <tr>\n",
       "      <th>82</th>\n",
       "      <td>Similar tracks from vantage point database</td>\n",
       "      <td>7k2lqQ4Vt9435X24qUISki</td>\n",
       "      <td>3G9pm7y3lVQ1FFANURCgVU</td>\n",
       "      <td>22</td>\n",
       "    </tr>\n",
       "    <tr>\n",
       "      <th>83</th>\n",
       "      <td>Similar tracks from vantage point database</td>\n",
       "      <td>7k2lqQ4Vt9435X24qUISki</td>\n",
       "      <td>0NmYSVa2CyMCd9XU2vGjoA</td>\n",
       "      <td>23</td>\n",
       "    </tr>\n",
       "    <tr>\n",
       "      <th>84</th>\n",
       "      <td>Similar tracks from vantage point database</td>\n",
       "      <td>7k2lqQ4Vt9435X24qUISki</td>\n",
       "      <td>3TNrH1JTapEGqL7vNlmrIC</td>\n",
       "      <td>24</td>\n",
       "    </tr>\n",
       "    <tr>\n",
       "      <th>85</th>\n",
       "      <td>Similar tracks from vantage point database</td>\n",
       "      <td>7k2lqQ4Vt9435X24qUISki</td>\n",
       "      <td>3xev4ldjHq7qLz6XfgE7G4</td>\n",
       "      <td>25</td>\n",
       "    </tr>\n",
       "    <tr>\n",
       "      <th>86</th>\n",
       "      <td>Similar tracks from vantage point database</td>\n",
       "      <td>7k2lqQ4Vt9435X24qUISki</td>\n",
       "      <td>37dXg6Z50WBk8u6O3w0URY</td>\n",
       "      <td>26</td>\n",
       "    </tr>\n",
       "    <tr>\n",
       "      <th>87</th>\n",
       "      <td>Similar tracks from vantage point database</td>\n",
       "      <td>7k2lqQ4Vt9435X24qUISki</td>\n",
       "      <td>35vtXtNRBB0VP3XBnUSdo6</td>\n",
       "      <td>27</td>\n",
       "    </tr>\n",
       "    <tr>\n",
       "      <th>88</th>\n",
       "      <td>Similar tracks from vantage point database</td>\n",
       "      <td>7k2lqQ4Vt9435X24qUISki</td>\n",
       "      <td>7xm9QD5D4RqUxhAO5H7ouW</td>\n",
       "      <td>28</td>\n",
       "    </tr>\n",
       "    <tr>\n",
       "      <th>89</th>\n",
       "      <td>Similar tracks from vantage point database</td>\n",
       "      <td>7k2lqQ4Vt9435X24qUISki</td>\n",
       "      <td>79PzUCoYq6Co89mxICQOH8</td>\n",
       "      <td>29</td>\n",
       "    </tr>\n",
       "  </tbody>\n",
       "</table>\n",
       "<p>90 rows × 4 columns</p>\n",
       "</div>"
      ],
      "text/plain": [
       "                                   bucket_name                 seed_id  \\\n",
       "0              Top tracks from related artists  7k2lqQ4Vt9435X24qUISki   \n",
       "1              Top tracks from related artists  7k2lqQ4Vt9435X24qUISki   \n",
       "2              Top tracks from related artists  7k2lqQ4Vt9435X24qUISki   \n",
       "3              Top tracks from related artists  7k2lqQ4Vt9435X24qUISki   \n",
       "4              Top tracks from related artists  7k2lqQ4Vt9435X24qUISki   \n",
       "5              Top tracks from related artists  7k2lqQ4Vt9435X24qUISki   \n",
       "6              Top tracks from related artists  7k2lqQ4Vt9435X24qUISki   \n",
       "7              Top tracks from related artists  7k2lqQ4Vt9435X24qUISki   \n",
       "8              Top tracks from related artists  7k2lqQ4Vt9435X24qUISki   \n",
       "9              Top tracks from related artists  7k2lqQ4Vt9435X24qUISki   \n",
       "10             Top tracks from related artists  7k2lqQ4Vt9435X24qUISki   \n",
       "11             Top tracks from related artists  7k2lqQ4Vt9435X24qUISki   \n",
       "12             Top tracks from related artists  7k2lqQ4Vt9435X24qUISki   \n",
       "13             Top tracks from related artists  7k2lqQ4Vt9435X24qUISki   \n",
       "14             Top tracks from related artists  7k2lqQ4Vt9435X24qUISki   \n",
       "15             Top tracks from related artists  7k2lqQ4Vt9435X24qUISki   \n",
       "16             Top tracks from related artists  7k2lqQ4Vt9435X24qUISki   \n",
       "17             Top tracks from related artists  7k2lqQ4Vt9435X24qUISki   \n",
       "18             Top tracks from related artists  7k2lqQ4Vt9435X24qUISki   \n",
       "19             Top tracks from related artists  7k2lqQ4Vt9435X24qUISki   \n",
       "20             Top tracks from related artists  7k2lqQ4Vt9435X24qUISki   \n",
       "21             Top tracks from related artists  7k2lqQ4Vt9435X24qUISki   \n",
       "22             Top tracks from related artists  7k2lqQ4Vt9435X24qUISki   \n",
       "23             Top tracks from related artists  7k2lqQ4Vt9435X24qUISki   \n",
       "24             Top tracks from related artists  7k2lqQ4Vt9435X24qUISki   \n",
       "25             Top tracks from related artists  7k2lqQ4Vt9435X24qUISki   \n",
       "26             Top tracks from related artists  7k2lqQ4Vt9435X24qUISki   \n",
       "27             Top tracks from related artists  7k2lqQ4Vt9435X24qUISki   \n",
       "28             Top tracks from related artists  7k2lqQ4Vt9435X24qUISki   \n",
       "29             Top tracks from related artists  7k2lqQ4Vt9435X24qUISki   \n",
       "..                                         ...                     ...   \n",
       "60  Similar tracks from vantage point database  7k2lqQ4Vt9435X24qUISki   \n",
       "61  Similar tracks from vantage point database  7k2lqQ4Vt9435X24qUISki   \n",
       "62  Similar tracks from vantage point database  7k2lqQ4Vt9435X24qUISki   \n",
       "63  Similar tracks from vantage point database  7k2lqQ4Vt9435X24qUISki   \n",
       "64  Similar tracks from vantage point database  7k2lqQ4Vt9435X24qUISki   \n",
       "65  Similar tracks from vantage point database  7k2lqQ4Vt9435X24qUISki   \n",
       "66  Similar tracks from vantage point database  7k2lqQ4Vt9435X24qUISki   \n",
       "67  Similar tracks from vantage point database  7k2lqQ4Vt9435X24qUISki   \n",
       "68  Similar tracks from vantage point database  7k2lqQ4Vt9435X24qUISki   \n",
       "69  Similar tracks from vantage point database  7k2lqQ4Vt9435X24qUISki   \n",
       "70  Similar tracks from vantage point database  7k2lqQ4Vt9435X24qUISki   \n",
       "71  Similar tracks from vantage point database  7k2lqQ4Vt9435X24qUISki   \n",
       "72  Similar tracks from vantage point database  7k2lqQ4Vt9435X24qUISki   \n",
       "73  Similar tracks from vantage point database  7k2lqQ4Vt9435X24qUISki   \n",
       "74  Similar tracks from vantage point database  7k2lqQ4Vt9435X24qUISki   \n",
       "75  Similar tracks from vantage point database  7k2lqQ4Vt9435X24qUISki   \n",
       "76  Similar tracks from vantage point database  7k2lqQ4Vt9435X24qUISki   \n",
       "77  Similar tracks from vantage point database  7k2lqQ4Vt9435X24qUISki   \n",
       "78  Similar tracks from vantage point database  7k2lqQ4Vt9435X24qUISki   \n",
       "79  Similar tracks from vantage point database  7k2lqQ4Vt9435X24qUISki   \n",
       "80  Similar tracks from vantage point database  7k2lqQ4Vt9435X24qUISki   \n",
       "81  Similar tracks from vantage point database  7k2lqQ4Vt9435X24qUISki   \n",
       "82  Similar tracks from vantage point database  7k2lqQ4Vt9435X24qUISki   \n",
       "83  Similar tracks from vantage point database  7k2lqQ4Vt9435X24qUISki   \n",
       "84  Similar tracks from vantage point database  7k2lqQ4Vt9435X24qUISki   \n",
       "85  Similar tracks from vantage point database  7k2lqQ4Vt9435X24qUISki   \n",
       "86  Similar tracks from vantage point database  7k2lqQ4Vt9435X24qUISki   \n",
       "87  Similar tracks from vantage point database  7k2lqQ4Vt9435X24qUISki   \n",
       "88  Similar tracks from vantage point database  7k2lqQ4Vt9435X24qUISki   \n",
       "89  Similar tracks from vantage point database  7k2lqQ4Vt9435X24qUISki   \n",
       "\n",
       "                 track_ids  track_order  \n",
       "0   1pGwXmkJy8oBfWAGqjHSgI            0  \n",
       "1   3d2APuMMFYWsA7g8AwV1Bd            1  \n",
       "2   3YcvFeJbnzDyWNxAFUhziH            2  \n",
       "3   2Yf7GDUIRd7YpA5LgqCeb5            3  \n",
       "4   1eBk1yNinU0VgY79rcshYa            4  \n",
       "5   567EmmCbOtpEuaVC2zznU6            5  \n",
       "6   6r44uyKRo3jKFRkThTZBXu            6  \n",
       "7   5WXoxLVNn7Bxrn0Q2RHfka            7  \n",
       "8   1UbvapOt3OIMhYv9ZOG6ZP            8  \n",
       "9   6qsnEjLjd29zqBCNIwEhl6            9  \n",
       "10  5xQXohUM4dXCaGaDvzBUr6           10  \n",
       "11  1O7FfC73F4DSSB15leLONo           11  \n",
       "12  6zbybRcr1QVLjxEpH7twcQ           12  \n",
       "13  2Ay0H0W52HmEMkPXJuG34k           13  \n",
       "14  3fFJs5AXy3FnVq4q6z3cj3           14  \n",
       "15  5R2OeM7jWaLEfZKoY04brH           15  \n",
       "16  6HOOZc0Ig9iunhEzuaMnAi           16  \n",
       "17  4att9JbgPpcTm1MVsEIWIr           17  \n",
       "18  0szmjOw9XbtbQYWz0GvXSp           18  \n",
       "19  5ODUAzIOHJ4JcudojTsuBP           19  \n",
       "20  6UHZNlQ7WkukvtNRcMvcwg           20  \n",
       "21  7hVXJt6Ge4YLURY5YF8P2q           21  \n",
       "22  22IUWYOGX5n9XgwWd1OSMq           22  \n",
       "23  4hi9OKSZA7jVKXoXvjjipG           23  \n",
       "24  4gG09Ofs0fLVBmFFeJXBEM           24  \n",
       "25  6n7PRM0pp868Qqg9JYwBdh           25  \n",
       "26  7BRwh1bemr9rFMDeTbcy5S           26  \n",
       "27  0W3wD3RexJQBt7DljcGeyT           27  \n",
       "28  4JZvJzuSDubH8spgfIlPty           28  \n",
       "29  7zKOXRFaHxPhx7eBUuzdWR           29  \n",
       "..                     ...          ...  \n",
       "60  5Nd50WKhVieaCLWFJlcLT2            0  \n",
       "61  7xj9wfY8g8wYywNDJYQtiw            1  \n",
       "62  7JLFGOAMkT5fCmjUeThGyu            2  \n",
       "63  4LvnlktZh4oLxpT7bFI34l            3  \n",
       "64  4viyKGiVj92VvsQCDTXrFE            4  \n",
       "65  2Y5YeET57EmS8GNr6zLQFf            5  \n",
       "66  0bVkyWFXvUyptosuyZN6RC            6  \n",
       "67  22IwVzhx2PnihV9zLkzPxk            7  \n",
       "68  4CRL20F12JmOo04JuVx3hv            8  \n",
       "69  4ltvtgLNGlaVd8AUIgjUGt            9  \n",
       "70  2HXIrXCodF074SORlVWx4X           10  \n",
       "71  7DtmKZshOAzzmIzdH1IWpL           11  \n",
       "72  6iCX12NfJjqnkyyUiKOc2s           12  \n",
       "73  6NXl7R6bpf7q5g0B0hHYsn           13  \n",
       "74  6VI5dC7cZLu3hdUPq1loiJ           14  \n",
       "75  5xOgw2iE0qvcGYSErgLiJ6           15  \n",
       "76  7cinlbzzEWJtJjDkDmx5O4           16  \n",
       "77  7FUDF5tlStRHxO7ZqjcFd2           17  \n",
       "78  0fTTbpS94BPYxan1Z6J3cm           18  \n",
       "79  7JRbXhWVB6i20wPHx0M6vd           19  \n",
       "80  2TTwSbzdUsJPKioJ868N9D           20  \n",
       "81  7j3QsdzlQS7juDbMpAkx2y           21  \n",
       "82  3G9pm7y3lVQ1FFANURCgVU           22  \n",
       "83  0NmYSVa2CyMCd9XU2vGjoA           23  \n",
       "84  3TNrH1JTapEGqL7vNlmrIC           24  \n",
       "85  3xev4ldjHq7qLz6XfgE7G4           25  \n",
       "86  37dXg6Z50WBk8u6O3w0URY           26  \n",
       "87  35vtXtNRBB0VP3XBnUSdo6           27  \n",
       "88  7xm9QD5D4RqUxhAO5H7ouW           28  \n",
       "89  79PzUCoYq6Co89mxICQOH8           29  \n",
       "\n",
       "[90 rows x 4 columns]"
      ]
     },
     "execution_count": 469,
     "metadata": {},
     "output_type": "execute_result"
    }
   ],
   "source": [
    "playlist_data = all_dfs_tracks[0]\n",
    "for each in all_dfs_tracks[1:]:\n",
    "    playlist_data = playlist_data.append(each,ignore_index=True)\n",
    "playlist_data"
   ]
  },
  {
   "cell_type": "code",
   "execution_count": 470,
   "metadata": {
    "collapsed": false
   },
   "outputs": [
    {
     "data": {
      "text/html": [
       "<div>\n",
       "<table border=\"1\" class=\"dataframe\">\n",
       "  <thead>\n",
       "    <tr style=\"text-align: right;\">\n",
       "      <th></th>\n",
       "      <th>bucket_name</th>\n",
       "      <th>class</th>\n",
       "      <th>probabilities</th>\n",
       "      <th>seed_id</th>\n",
       "    </tr>\n",
       "  </thead>\n",
       "  <tbody>\n",
       "    <tr>\n",
       "      <th>0</th>\n",
       "      <td>Top tracks from related artists</td>\n",
       "      <td>1</td>\n",
       "      <td>0.09</td>\n",
       "      <td>7k2lqQ4Vt9435X24qUISki</td>\n",
       "    </tr>\n",
       "    <tr>\n",
       "      <th>1</th>\n",
       "      <td>Top tracks from related artists</td>\n",
       "      <td>2</td>\n",
       "      <td>0.14</td>\n",
       "      <td>7k2lqQ4Vt9435X24qUISki</td>\n",
       "    </tr>\n",
       "    <tr>\n",
       "      <th>2</th>\n",
       "      <td>Top tracks from related artists</td>\n",
       "      <td>3</td>\n",
       "      <td>0.14</td>\n",
       "      <td>7k2lqQ4Vt9435X24qUISki</td>\n",
       "    </tr>\n",
       "    <tr>\n",
       "      <th>3</th>\n",
       "      <td>Top tracks from related artists</td>\n",
       "      <td>4</td>\n",
       "      <td>0.36</td>\n",
       "      <td>7k2lqQ4Vt9435X24qUISki</td>\n",
       "    </tr>\n",
       "    <tr>\n",
       "      <th>4</th>\n",
       "      <td>Top tracks from related artists</td>\n",
       "      <td>5</td>\n",
       "      <td>0.27</td>\n",
       "      <td>7k2lqQ4Vt9435X24qUISki</td>\n",
       "    </tr>\n",
       "    <tr>\n",
       "      <th>5</th>\n",
       "      <td>Similar tracks from related artists</td>\n",
       "      <td>1</td>\n",
       "      <td>0.20</td>\n",
       "      <td>7k2lqQ4Vt9435X24qUISki</td>\n",
       "    </tr>\n",
       "    <tr>\n",
       "      <th>6</th>\n",
       "      <td>Similar tracks from related artists</td>\n",
       "      <td>2</td>\n",
       "      <td>0.09</td>\n",
       "      <td>7k2lqQ4Vt9435X24qUISki</td>\n",
       "    </tr>\n",
       "    <tr>\n",
       "      <th>7</th>\n",
       "      <td>Similar tracks from related artists</td>\n",
       "      <td>3</td>\n",
       "      <td>0.13</td>\n",
       "      <td>7k2lqQ4Vt9435X24qUISki</td>\n",
       "    </tr>\n",
       "    <tr>\n",
       "      <th>8</th>\n",
       "      <td>Similar tracks from related artists</td>\n",
       "      <td>4</td>\n",
       "      <td>0.49</td>\n",
       "      <td>7k2lqQ4Vt9435X24qUISki</td>\n",
       "    </tr>\n",
       "    <tr>\n",
       "      <th>9</th>\n",
       "      <td>Similar tracks from related artists</td>\n",
       "      <td>5</td>\n",
       "      <td>0.09</td>\n",
       "      <td>7k2lqQ4Vt9435X24qUISki</td>\n",
       "    </tr>\n",
       "    <tr>\n",
       "      <th>10</th>\n",
       "      <td>Similar tracks from vantage point database</td>\n",
       "      <td>1</td>\n",
       "      <td>0.17</td>\n",
       "      <td>7k2lqQ4Vt9435X24qUISki</td>\n",
       "    </tr>\n",
       "    <tr>\n",
       "      <th>11</th>\n",
       "      <td>Similar tracks from vantage point database</td>\n",
       "      <td>2</td>\n",
       "      <td>0.08</td>\n",
       "      <td>7k2lqQ4Vt9435X24qUISki</td>\n",
       "    </tr>\n",
       "    <tr>\n",
       "      <th>12</th>\n",
       "      <td>Similar tracks from vantage point database</td>\n",
       "      <td>3</td>\n",
       "      <td>0.17</td>\n",
       "      <td>7k2lqQ4Vt9435X24qUISki</td>\n",
       "    </tr>\n",
       "    <tr>\n",
       "      <th>13</th>\n",
       "      <td>Similar tracks from vantage point database</td>\n",
       "      <td>4</td>\n",
       "      <td>0.50</td>\n",
       "      <td>7k2lqQ4Vt9435X24qUISki</td>\n",
       "    </tr>\n",
       "    <tr>\n",
       "      <th>14</th>\n",
       "      <td>Similar tracks from vantage point database</td>\n",
       "      <td>5</td>\n",
       "      <td>0.08</td>\n",
       "      <td>7k2lqQ4Vt9435X24qUISki</td>\n",
       "    </tr>\n",
       "  </tbody>\n",
       "</table>\n",
       "</div>"
      ],
      "text/plain": [
       "                                   bucket_name  class  probabilities  \\\n",
       "0              Top tracks from related artists      1           0.09   \n",
       "1              Top tracks from related artists      2           0.14   \n",
       "2              Top tracks from related artists      3           0.14   \n",
       "3              Top tracks from related artists      4           0.36   \n",
       "4              Top tracks from related artists      5           0.27   \n",
       "5          Similar tracks from related artists      1           0.20   \n",
       "6          Similar tracks from related artists      2           0.09   \n",
       "7          Similar tracks from related artists      3           0.13   \n",
       "8          Similar tracks from related artists      4           0.49   \n",
       "9          Similar tracks from related artists      5           0.09   \n",
       "10  Similar tracks from vantage point database      1           0.17   \n",
       "11  Similar tracks from vantage point database      2           0.08   \n",
       "12  Similar tracks from vantage point database      3           0.17   \n",
       "13  Similar tracks from vantage point database      4           0.50   \n",
       "14  Similar tracks from vantage point database      5           0.08   \n",
       "\n",
       "                   seed_id  \n",
       "0   7k2lqQ4Vt9435X24qUISki  \n",
       "1   7k2lqQ4Vt9435X24qUISki  \n",
       "2   7k2lqQ4Vt9435X24qUISki  \n",
       "3   7k2lqQ4Vt9435X24qUISki  \n",
       "4   7k2lqQ4Vt9435X24qUISki  \n",
       "5   7k2lqQ4Vt9435X24qUISki  \n",
       "6   7k2lqQ4Vt9435X24qUISki  \n",
       "7   7k2lqQ4Vt9435X24qUISki  \n",
       "8   7k2lqQ4Vt9435X24qUISki  \n",
       "9   7k2lqQ4Vt9435X24qUISki  \n",
       "10  7k2lqQ4Vt9435X24qUISki  \n",
       "11  7k2lqQ4Vt9435X24qUISki  \n",
       "12  7k2lqQ4Vt9435X24qUISki  \n",
       "13  7k2lqQ4Vt9435X24qUISki  \n",
       "14  7k2lqQ4Vt9435X24qUISki  "
      ]
     },
     "execution_count": 470,
     "metadata": {},
     "output_type": "execute_result"
    }
   ],
   "source": [
    "probabilities_data = all_dfs_probabilities[0]\n",
    "for each in all_dfs_probabilities[1:]:\n",
    "    probabilities_data = probabilities_data.append(each,ignore_index=True)\n",
    "probabilities_data"
   ]
  },
  {
   "cell_type": "markdown",
   "metadata": {},
   "source": [
    "### Make sure there are no duplicates"
   ]
  },
  {
   "cell_type": "code",
   "execution_count": 471,
   "metadata": {
    "collapsed": true
   },
   "outputs": [],
   "source": [
    "# playlist_data.to_csv('demo_playlists.csv', index=False)\n",
    "# probabilities_data.to_csv('demo_probabilities.csv', index=False)"
   ]
  },
  {
   "cell_type": "code",
   "execution_count": 472,
   "metadata": {
    "collapsed": false
   },
   "outputs": [],
   "source": [
    "with open('demo_playlists.csv', 'a') as f:\n",
    "    playlist_data.to_csv(f, header=False)\n",
    "with open('demo_probabilities.csv', 'a') as f:\n",
    "    probabilities_data.to_csv(f, header=False)"
   ]
  },
  {
   "cell_type": "code",
   "execution_count": 473,
   "metadata": {
    "collapsed": false
   },
   "outputs": [
    {
     "name": "stdout",
     "output_type": "stream",
     "text": [
      "(30, 4)\n",
      "(30, 4)\n",
      "(30, 4)\n",
      "(30, 4)\n",
      "(30, 4)\n",
      "(30, 4)\n"
     ]
    }
   ],
   "source": [
    "for df in all_dfs_tracks:\n",
    "    print (df.shape)\n",
    "    print(df.drop_duplicates(subset='track_ids', keep='first', inplace=False).shape)"
   ]
  },
  {
   "cell_type": "code",
   "execution_count": 474,
   "metadata": {
    "collapsed": false
   },
   "outputs": [
    {
     "data": {
      "text/html": [
       "<div>\n",
       "<table border=\"1\" class=\"dataframe\">\n",
       "  <thead>\n",
       "    <tr style=\"text-align: right;\">\n",
       "      <th></th>\n",
       "      <th>bucket_name</th>\n",
       "      <th>seed_id</th>\n",
       "      <th>track_ids</th>\n",
       "      <th>track_order</th>\n",
       "    </tr>\n",
       "  </thead>\n",
       "  <tbody>\n",
       "    <tr>\n",
       "      <th>0</th>\n",
       "      <td>Similar tracks from vantage point database</td>\n",
       "      <td>7k2lqQ4Vt9435X24qUISki</td>\n",
       "      <td>5Nd50WKhVieaCLWFJlcLT2</td>\n",
       "      <td>0</td>\n",
       "    </tr>\n",
       "    <tr>\n",
       "      <th>1</th>\n",
       "      <td>Similar tracks from vantage point database</td>\n",
       "      <td>7k2lqQ4Vt9435X24qUISki</td>\n",
       "      <td>7xj9wfY8g8wYywNDJYQtiw</td>\n",
       "      <td>1</td>\n",
       "    </tr>\n",
       "    <tr>\n",
       "      <th>2</th>\n",
       "      <td>Similar tracks from vantage point database</td>\n",
       "      <td>7k2lqQ4Vt9435X24qUISki</td>\n",
       "      <td>7JLFGOAMkT5fCmjUeThGyu</td>\n",
       "      <td>2</td>\n",
       "    </tr>\n",
       "    <tr>\n",
       "      <th>3</th>\n",
       "      <td>Similar tracks from vantage point database</td>\n",
       "      <td>7k2lqQ4Vt9435X24qUISki</td>\n",
       "      <td>4LvnlktZh4oLxpT7bFI34l</td>\n",
       "      <td>3</td>\n",
       "    </tr>\n",
       "    <tr>\n",
       "      <th>4</th>\n",
       "      <td>Similar tracks from vantage point database</td>\n",
       "      <td>7k2lqQ4Vt9435X24qUISki</td>\n",
       "      <td>4viyKGiVj92VvsQCDTXrFE</td>\n",
       "      <td>4</td>\n",
       "    </tr>\n",
       "    <tr>\n",
       "      <th>5</th>\n",
       "      <td>Similar tracks from vantage point database</td>\n",
       "      <td>7k2lqQ4Vt9435X24qUISki</td>\n",
       "      <td>2Y5YeET57EmS8GNr6zLQFf</td>\n",
       "      <td>5</td>\n",
       "    </tr>\n",
       "    <tr>\n",
       "      <th>6</th>\n",
       "      <td>Similar tracks from vantage point database</td>\n",
       "      <td>7k2lqQ4Vt9435X24qUISki</td>\n",
       "      <td>0bVkyWFXvUyptosuyZN6RC</td>\n",
       "      <td>6</td>\n",
       "    </tr>\n",
       "    <tr>\n",
       "      <th>7</th>\n",
       "      <td>Similar tracks from vantage point database</td>\n",
       "      <td>7k2lqQ4Vt9435X24qUISki</td>\n",
       "      <td>22IwVzhx2PnihV9zLkzPxk</td>\n",
       "      <td>7</td>\n",
       "    </tr>\n",
       "    <tr>\n",
       "      <th>8</th>\n",
       "      <td>Similar tracks from vantage point database</td>\n",
       "      <td>7k2lqQ4Vt9435X24qUISki</td>\n",
       "      <td>4CRL20F12JmOo04JuVx3hv</td>\n",
       "      <td>8</td>\n",
       "    </tr>\n",
       "    <tr>\n",
       "      <th>9</th>\n",
       "      <td>Similar tracks from vantage point database</td>\n",
       "      <td>7k2lqQ4Vt9435X24qUISki</td>\n",
       "      <td>4ltvtgLNGlaVd8AUIgjUGt</td>\n",
       "      <td>9</td>\n",
       "    </tr>\n",
       "    <tr>\n",
       "      <th>10</th>\n",
       "      <td>Similar tracks from vantage point database</td>\n",
       "      <td>7k2lqQ4Vt9435X24qUISki</td>\n",
       "      <td>2HXIrXCodF074SORlVWx4X</td>\n",
       "      <td>10</td>\n",
       "    </tr>\n",
       "    <tr>\n",
       "      <th>11</th>\n",
       "      <td>Similar tracks from vantage point database</td>\n",
       "      <td>7k2lqQ4Vt9435X24qUISki</td>\n",
       "      <td>7DtmKZshOAzzmIzdH1IWpL</td>\n",
       "      <td>11</td>\n",
       "    </tr>\n",
       "    <tr>\n",
       "      <th>12</th>\n",
       "      <td>Similar tracks from vantage point database</td>\n",
       "      <td>7k2lqQ4Vt9435X24qUISki</td>\n",
       "      <td>6iCX12NfJjqnkyyUiKOc2s</td>\n",
       "      <td>12</td>\n",
       "    </tr>\n",
       "    <tr>\n",
       "      <th>13</th>\n",
       "      <td>Similar tracks from vantage point database</td>\n",
       "      <td>7k2lqQ4Vt9435X24qUISki</td>\n",
       "      <td>6NXl7R6bpf7q5g0B0hHYsn</td>\n",
       "      <td>13</td>\n",
       "    </tr>\n",
       "    <tr>\n",
       "      <th>14</th>\n",
       "      <td>Similar tracks from vantage point database</td>\n",
       "      <td>7k2lqQ4Vt9435X24qUISki</td>\n",
       "      <td>6VI5dC7cZLu3hdUPq1loiJ</td>\n",
       "      <td>14</td>\n",
       "    </tr>\n",
       "    <tr>\n",
       "      <th>15</th>\n",
       "      <td>Similar tracks from vantage point database</td>\n",
       "      <td>7k2lqQ4Vt9435X24qUISki</td>\n",
       "      <td>5xOgw2iE0qvcGYSErgLiJ6</td>\n",
       "      <td>15</td>\n",
       "    </tr>\n",
       "    <tr>\n",
       "      <th>16</th>\n",
       "      <td>Similar tracks from vantage point database</td>\n",
       "      <td>7k2lqQ4Vt9435X24qUISki</td>\n",
       "      <td>7cinlbzzEWJtJjDkDmx5O4</td>\n",
       "      <td>16</td>\n",
       "    </tr>\n",
       "    <tr>\n",
       "      <th>17</th>\n",
       "      <td>Similar tracks from vantage point database</td>\n",
       "      <td>7k2lqQ4Vt9435X24qUISki</td>\n",
       "      <td>7FUDF5tlStRHxO7ZqjcFd2</td>\n",
       "      <td>17</td>\n",
       "    </tr>\n",
       "    <tr>\n",
       "      <th>18</th>\n",
       "      <td>Similar tracks from vantage point database</td>\n",
       "      <td>7k2lqQ4Vt9435X24qUISki</td>\n",
       "      <td>0fTTbpS94BPYxan1Z6J3cm</td>\n",
       "      <td>18</td>\n",
       "    </tr>\n",
       "    <tr>\n",
       "      <th>19</th>\n",
       "      <td>Similar tracks from vantage point database</td>\n",
       "      <td>7k2lqQ4Vt9435X24qUISki</td>\n",
       "      <td>7JRbXhWVB6i20wPHx0M6vd</td>\n",
       "      <td>19</td>\n",
       "    </tr>\n",
       "    <tr>\n",
       "      <th>20</th>\n",
       "      <td>Similar tracks from vantage point database</td>\n",
       "      <td>7k2lqQ4Vt9435X24qUISki</td>\n",
       "      <td>2TTwSbzdUsJPKioJ868N9D</td>\n",
       "      <td>20</td>\n",
       "    </tr>\n",
       "    <tr>\n",
       "      <th>21</th>\n",
       "      <td>Similar tracks from vantage point database</td>\n",
       "      <td>7k2lqQ4Vt9435X24qUISki</td>\n",
       "      <td>7j3QsdzlQS7juDbMpAkx2y</td>\n",
       "      <td>21</td>\n",
       "    </tr>\n",
       "    <tr>\n",
       "      <th>22</th>\n",
       "      <td>Similar tracks from vantage point database</td>\n",
       "      <td>7k2lqQ4Vt9435X24qUISki</td>\n",
       "      <td>3G9pm7y3lVQ1FFANURCgVU</td>\n",
       "      <td>22</td>\n",
       "    </tr>\n",
       "    <tr>\n",
       "      <th>23</th>\n",
       "      <td>Similar tracks from vantage point database</td>\n",
       "      <td>7k2lqQ4Vt9435X24qUISki</td>\n",
       "      <td>0NmYSVa2CyMCd9XU2vGjoA</td>\n",
       "      <td>23</td>\n",
       "    </tr>\n",
       "    <tr>\n",
       "      <th>24</th>\n",
       "      <td>Similar tracks from vantage point database</td>\n",
       "      <td>7k2lqQ4Vt9435X24qUISki</td>\n",
       "      <td>3TNrH1JTapEGqL7vNlmrIC</td>\n",
       "      <td>24</td>\n",
       "    </tr>\n",
       "    <tr>\n",
       "      <th>25</th>\n",
       "      <td>Similar tracks from vantage point database</td>\n",
       "      <td>7k2lqQ4Vt9435X24qUISki</td>\n",
       "      <td>3xev4ldjHq7qLz6XfgE7G4</td>\n",
       "      <td>25</td>\n",
       "    </tr>\n",
       "    <tr>\n",
       "      <th>26</th>\n",
       "      <td>Similar tracks from vantage point database</td>\n",
       "      <td>7k2lqQ4Vt9435X24qUISki</td>\n",
       "      <td>37dXg6Z50WBk8u6O3w0URY</td>\n",
       "      <td>26</td>\n",
       "    </tr>\n",
       "    <tr>\n",
       "      <th>27</th>\n",
       "      <td>Similar tracks from vantage point database</td>\n",
       "      <td>7k2lqQ4Vt9435X24qUISki</td>\n",
       "      <td>35vtXtNRBB0VP3XBnUSdo6</td>\n",
       "      <td>27</td>\n",
       "    </tr>\n",
       "    <tr>\n",
       "      <th>28</th>\n",
       "      <td>Similar tracks from vantage point database</td>\n",
       "      <td>7k2lqQ4Vt9435X24qUISki</td>\n",
       "      <td>7xm9QD5D4RqUxhAO5H7ouW</td>\n",
       "      <td>28</td>\n",
       "    </tr>\n",
       "    <tr>\n",
       "      <th>29</th>\n",
       "      <td>Similar tracks from vantage point database</td>\n",
       "      <td>7k2lqQ4Vt9435X24qUISki</td>\n",
       "      <td>79PzUCoYq6Co89mxICQOH8</td>\n",
       "      <td>29</td>\n",
       "    </tr>\n",
       "  </tbody>\n",
       "</table>\n",
       "</div>"
      ],
      "text/plain": [
       "                                   bucket_name                 seed_id  \\\n",
       "0   Similar tracks from vantage point database  7k2lqQ4Vt9435X24qUISki   \n",
       "1   Similar tracks from vantage point database  7k2lqQ4Vt9435X24qUISki   \n",
       "2   Similar tracks from vantage point database  7k2lqQ4Vt9435X24qUISki   \n",
       "3   Similar tracks from vantage point database  7k2lqQ4Vt9435X24qUISki   \n",
       "4   Similar tracks from vantage point database  7k2lqQ4Vt9435X24qUISki   \n",
       "5   Similar tracks from vantage point database  7k2lqQ4Vt9435X24qUISki   \n",
       "6   Similar tracks from vantage point database  7k2lqQ4Vt9435X24qUISki   \n",
       "7   Similar tracks from vantage point database  7k2lqQ4Vt9435X24qUISki   \n",
       "8   Similar tracks from vantage point database  7k2lqQ4Vt9435X24qUISki   \n",
       "9   Similar tracks from vantage point database  7k2lqQ4Vt9435X24qUISki   \n",
       "10  Similar tracks from vantage point database  7k2lqQ4Vt9435X24qUISki   \n",
       "11  Similar tracks from vantage point database  7k2lqQ4Vt9435X24qUISki   \n",
       "12  Similar tracks from vantage point database  7k2lqQ4Vt9435X24qUISki   \n",
       "13  Similar tracks from vantage point database  7k2lqQ4Vt9435X24qUISki   \n",
       "14  Similar tracks from vantage point database  7k2lqQ4Vt9435X24qUISki   \n",
       "15  Similar tracks from vantage point database  7k2lqQ4Vt9435X24qUISki   \n",
       "16  Similar tracks from vantage point database  7k2lqQ4Vt9435X24qUISki   \n",
       "17  Similar tracks from vantage point database  7k2lqQ4Vt9435X24qUISki   \n",
       "18  Similar tracks from vantage point database  7k2lqQ4Vt9435X24qUISki   \n",
       "19  Similar tracks from vantage point database  7k2lqQ4Vt9435X24qUISki   \n",
       "20  Similar tracks from vantage point database  7k2lqQ4Vt9435X24qUISki   \n",
       "21  Similar tracks from vantage point database  7k2lqQ4Vt9435X24qUISki   \n",
       "22  Similar tracks from vantage point database  7k2lqQ4Vt9435X24qUISki   \n",
       "23  Similar tracks from vantage point database  7k2lqQ4Vt9435X24qUISki   \n",
       "24  Similar tracks from vantage point database  7k2lqQ4Vt9435X24qUISki   \n",
       "25  Similar tracks from vantage point database  7k2lqQ4Vt9435X24qUISki   \n",
       "26  Similar tracks from vantage point database  7k2lqQ4Vt9435X24qUISki   \n",
       "27  Similar tracks from vantage point database  7k2lqQ4Vt9435X24qUISki   \n",
       "28  Similar tracks from vantage point database  7k2lqQ4Vt9435X24qUISki   \n",
       "29  Similar tracks from vantage point database  7k2lqQ4Vt9435X24qUISki   \n",
       "\n",
       "                 track_ids  track_order  \n",
       "0   5Nd50WKhVieaCLWFJlcLT2            0  \n",
       "1   7xj9wfY8g8wYywNDJYQtiw            1  \n",
       "2   7JLFGOAMkT5fCmjUeThGyu            2  \n",
       "3   4LvnlktZh4oLxpT7bFI34l            3  \n",
       "4   4viyKGiVj92VvsQCDTXrFE            4  \n",
       "5   2Y5YeET57EmS8GNr6zLQFf            5  \n",
       "6   0bVkyWFXvUyptosuyZN6RC            6  \n",
       "7   22IwVzhx2PnihV9zLkzPxk            7  \n",
       "8   4CRL20F12JmOo04JuVx3hv            8  \n",
       "9   4ltvtgLNGlaVd8AUIgjUGt            9  \n",
       "10  2HXIrXCodF074SORlVWx4X           10  \n",
       "11  7DtmKZshOAzzmIzdH1IWpL           11  \n",
       "12  6iCX12NfJjqnkyyUiKOc2s           12  \n",
       "13  6NXl7R6bpf7q5g0B0hHYsn           13  \n",
       "14  6VI5dC7cZLu3hdUPq1loiJ           14  \n",
       "15  5xOgw2iE0qvcGYSErgLiJ6           15  \n",
       "16  7cinlbzzEWJtJjDkDmx5O4           16  \n",
       "17  7FUDF5tlStRHxO7ZqjcFd2           17  \n",
       "18  0fTTbpS94BPYxan1Z6J3cm           18  \n",
       "19  7JRbXhWVB6i20wPHx0M6vd           19  \n",
       "20  2TTwSbzdUsJPKioJ868N9D           20  \n",
       "21  7j3QsdzlQS7juDbMpAkx2y           21  \n",
       "22  3G9pm7y3lVQ1FFANURCgVU           22  \n",
       "23  0NmYSVa2CyMCd9XU2vGjoA           23  \n",
       "24  3TNrH1JTapEGqL7vNlmrIC           24  \n",
       "25  3xev4ldjHq7qLz6XfgE7G4           25  \n",
       "26  37dXg6Z50WBk8u6O3w0URY           26  \n",
       "27  35vtXtNRBB0VP3XBnUSdo6           27  \n",
       "28  7xm9QD5D4RqUxhAO5H7ouW           28  \n",
       "29  79PzUCoYq6Co89mxICQOH8           29  "
      ]
     },
     "execution_count": 474,
     "metadata": {},
     "output_type": "execute_result"
    }
   ],
   "source": [
    "all_dfs_tracks[2]"
   ]
  },
  {
   "cell_type": "markdown",
   "metadata": {},
   "source": [
    "### Alternatively, mix buckets together (e.g. take 60% similar songs, 40% top tracks)"
   ]
  },
  {
   "cell_type": "markdown",
   "metadata": {},
   "source": [
    "## loss function over time, decay of temperature"
   ]
  },
  {
   "cell_type": "code",
   "execution_count": 475,
   "metadata": {
    "collapsed": true
   },
   "outputs": [],
   "source": [
    "def mixBuckets(bucket_one, bucket_two, bucket_two_ratio):\n",
    "    n_sample_bucket_two = len(bucket_one)*bucket_two_ratio/(1-bucket_two_ratio)\n",
    "    sample_bucket_two = np.random.choice(bucket_two, replace=False,size= n_sample_bucket_two)\n",
    "    mixed_bucket = np.concatenate((bucket_one, bucket_two))\n",
    "    return np.unique(mixed_bucket)"
   ]
  },
  {
   "cell_type": "code",
   "execution_count": 476,
   "metadata": {
    "collapsed": false
   },
   "outputs": [],
   "source": [
    "# mixed_bucket = mixBuckets(bucket1,bucket3,0.6)\n",
    "# schedule_mixed = tuneSimAnneal(mixed_bucket)\n",
    "# resulting_mixed = runSimulatedAnnealing(mixed_bucket, schedule_mixed)"
   ]
  },
  {
   "cell_type": "markdown",
   "metadata": {},
   "source": [
    "### Resulting playlist!"
   ]
  },
  {
   "cell_type": "code",
   "execution_count": 477,
   "metadata": {
    "collapsed": false
   },
   "outputs": [
    {
     "data": {
      "text/plain": [
       "array([u'5Nd50WKhVieaCLWFJlcLT2', u'7xj9wfY8g8wYywNDJYQtiw',\n",
       "       u'7JLFGOAMkT5fCmjUeThGyu', u'4LvnlktZh4oLxpT7bFI34l',\n",
       "       u'4viyKGiVj92VvsQCDTXrFE', u'2Y5YeET57EmS8GNr6zLQFf',\n",
       "       u'0bVkyWFXvUyptosuyZN6RC', u'22IwVzhx2PnihV9zLkzPxk',\n",
       "       u'4CRL20F12JmOo04JuVx3hv', u'4ltvtgLNGlaVd8AUIgjUGt',\n",
       "       u'2HXIrXCodF074SORlVWx4X', u'7DtmKZshOAzzmIzdH1IWpL',\n",
       "       u'6iCX12NfJjqnkyyUiKOc2s', u'6NXl7R6bpf7q5g0B0hHYsn',\n",
       "       u'6VI5dC7cZLu3hdUPq1loiJ', u'5xOgw2iE0qvcGYSErgLiJ6',\n",
       "       u'7cinlbzzEWJtJjDkDmx5O4', u'7FUDF5tlStRHxO7ZqjcFd2',\n",
       "       u'0fTTbpS94BPYxan1Z6J3cm', u'7JRbXhWVB6i20wPHx0M6vd',\n",
       "       u'2TTwSbzdUsJPKioJ868N9D', u'7j3QsdzlQS7juDbMpAkx2y',\n",
       "       u'3G9pm7y3lVQ1FFANURCgVU', u'0NmYSVa2CyMCd9XU2vGjoA',\n",
       "       u'3TNrH1JTapEGqL7vNlmrIC', u'3xev4ldjHq7qLz6XfgE7G4',\n",
       "       u'37dXg6Z50WBk8u6O3w0URY', u'35vtXtNRBB0VP3XBnUSdo6',\n",
       "       u'7xm9QD5D4RqUxhAO5H7ouW', u'79PzUCoYq6Co89mxICQOH8'], dtype=object)"
      ]
     },
     "execution_count": 477,
     "metadata": {},
     "output_type": "execute_result"
    }
   ],
   "source": [
    "all_dfs_tracks[2]['track_ids'].values"
   ]
  },
  {
   "cell_type": "code",
   "execution_count": 479,
   "metadata": {
    "collapsed": false,
    "scrolled": false
   },
   "outputs": [
    {
     "data": {
      "text/html": [
       "<iframe src=\"https://open.spotify.com/embed?uri=spotify:track:1pGwXmkJy8oBfWAGqjHSgI\"frameborder=\"0\" allowtransparency=\"true\"></iframe>"
      ],
      "text/plain": [
       "<IPython.core.display.HTML object>"
      ]
     },
     "metadata": {},
     "output_type": "display_data"
    },
    {
     "data": {
      "text/html": [
       "<iframe src=\"https://open.spotify.com/embed?uri=spotify:track:3d2APuMMFYWsA7g8AwV1Bd\"frameborder=\"0\" allowtransparency=\"true\"></iframe>"
      ],
      "text/plain": [
       "<IPython.core.display.HTML object>"
      ]
     },
     "metadata": {},
     "output_type": "display_data"
    },
    {
     "data": {
      "text/html": [
       "<iframe src=\"https://open.spotify.com/embed?uri=spotify:track:3YcvFeJbnzDyWNxAFUhziH\"frameborder=\"0\" allowtransparency=\"true\"></iframe>"
      ],
      "text/plain": [
       "<IPython.core.display.HTML object>"
      ]
     },
     "metadata": {},
     "output_type": "display_data"
    },
    {
     "data": {
      "text/html": [
       "<iframe src=\"https://open.spotify.com/embed?uri=spotify:track:2Yf7GDUIRd7YpA5LgqCeb5\"frameborder=\"0\" allowtransparency=\"true\"></iframe>"
      ],
      "text/plain": [
       "<IPython.core.display.HTML object>"
      ]
     },
     "metadata": {},
     "output_type": "display_data"
    },
    {
     "data": {
      "text/html": [
       "<iframe src=\"https://open.spotify.com/embed?uri=spotify:track:1eBk1yNinU0VgY79rcshYa\"frameborder=\"0\" allowtransparency=\"true\"></iframe>"
      ],
      "text/plain": [
       "<IPython.core.display.HTML object>"
      ]
     },
     "metadata": {},
     "output_type": "display_data"
    },
    {
     "data": {
      "text/html": [
       "<iframe src=\"https://open.spotify.com/embed?uri=spotify:track:567EmmCbOtpEuaVC2zznU6\"frameborder=\"0\" allowtransparency=\"true\"></iframe>"
      ],
      "text/plain": [
       "<IPython.core.display.HTML object>"
      ]
     },
     "metadata": {},
     "output_type": "display_data"
    },
    {
     "data": {
      "text/html": [
       "<iframe src=\"https://open.spotify.com/embed?uri=spotify:track:6r44uyKRo3jKFRkThTZBXu\"frameborder=\"0\" allowtransparency=\"true\"></iframe>"
      ],
      "text/plain": [
       "<IPython.core.display.HTML object>"
      ]
     },
     "metadata": {},
     "output_type": "display_data"
    },
    {
     "data": {
      "text/html": [
       "<iframe src=\"https://open.spotify.com/embed?uri=spotify:track:5WXoxLVNn7Bxrn0Q2RHfka\"frameborder=\"0\" allowtransparency=\"true\"></iframe>"
      ],
      "text/plain": [
       "<IPython.core.display.HTML object>"
      ]
     },
     "metadata": {},
     "output_type": "display_data"
    },
    {
     "data": {
      "text/html": [
       "<iframe src=\"https://open.spotify.com/embed?uri=spotify:track:1UbvapOt3OIMhYv9ZOG6ZP\"frameborder=\"0\" allowtransparency=\"true\"></iframe>"
      ],
      "text/plain": [
       "<IPython.core.display.HTML object>"
      ]
     },
     "metadata": {},
     "output_type": "display_data"
    },
    {
     "data": {
      "text/html": [
       "<iframe src=\"https://open.spotify.com/embed?uri=spotify:track:6qsnEjLjd29zqBCNIwEhl6\"frameborder=\"0\" allowtransparency=\"true\"></iframe>"
      ],
      "text/plain": [
       "<IPython.core.display.HTML object>"
      ]
     },
     "metadata": {},
     "output_type": "display_data"
    },
    {
     "data": {
      "text/html": [
       "<iframe src=\"https://open.spotify.com/embed?uri=spotify:track:5xQXohUM4dXCaGaDvzBUr6\"frameborder=\"0\" allowtransparency=\"true\"></iframe>"
      ],
      "text/plain": [
       "<IPython.core.display.HTML object>"
      ]
     },
     "metadata": {},
     "output_type": "display_data"
    },
    {
     "data": {
      "text/html": [
       "<iframe src=\"https://open.spotify.com/embed?uri=spotify:track:1O7FfC73F4DSSB15leLONo\"frameborder=\"0\" allowtransparency=\"true\"></iframe>"
      ],
      "text/plain": [
       "<IPython.core.display.HTML object>"
      ]
     },
     "metadata": {},
     "output_type": "display_data"
    },
    {
     "data": {
      "text/html": [
       "<iframe src=\"https://open.spotify.com/embed?uri=spotify:track:6zbybRcr1QVLjxEpH7twcQ\"frameborder=\"0\" allowtransparency=\"true\"></iframe>"
      ],
      "text/plain": [
       "<IPython.core.display.HTML object>"
      ]
     },
     "metadata": {},
     "output_type": "display_data"
    },
    {
     "data": {
      "text/html": [
       "<iframe src=\"https://open.spotify.com/embed?uri=spotify:track:2Ay0H0W52HmEMkPXJuG34k\"frameborder=\"0\" allowtransparency=\"true\"></iframe>"
      ],
      "text/plain": [
       "<IPython.core.display.HTML object>"
      ]
     },
     "metadata": {},
     "output_type": "display_data"
    },
    {
     "data": {
      "text/html": [
       "<iframe src=\"https://open.spotify.com/embed?uri=spotify:track:3fFJs5AXy3FnVq4q6z3cj3\"frameborder=\"0\" allowtransparency=\"true\"></iframe>"
      ],
      "text/plain": [
       "<IPython.core.display.HTML object>"
      ]
     },
     "metadata": {},
     "output_type": "display_data"
    },
    {
     "data": {
      "text/html": [
       "<iframe src=\"https://open.spotify.com/embed?uri=spotify:track:5R2OeM7jWaLEfZKoY04brH\"frameborder=\"0\" allowtransparency=\"true\"></iframe>"
      ],
      "text/plain": [
       "<IPython.core.display.HTML object>"
      ]
     },
     "metadata": {},
     "output_type": "display_data"
    },
    {
     "data": {
      "text/html": [
       "<iframe src=\"https://open.spotify.com/embed?uri=spotify:track:6HOOZc0Ig9iunhEzuaMnAi\"frameborder=\"0\" allowtransparency=\"true\"></iframe>"
      ],
      "text/plain": [
       "<IPython.core.display.HTML object>"
      ]
     },
     "metadata": {},
     "output_type": "display_data"
    },
    {
     "data": {
      "text/html": [
       "<iframe src=\"https://open.spotify.com/embed?uri=spotify:track:4att9JbgPpcTm1MVsEIWIr\"frameborder=\"0\" allowtransparency=\"true\"></iframe>"
      ],
      "text/plain": [
       "<IPython.core.display.HTML object>"
      ]
     },
     "metadata": {},
     "output_type": "display_data"
    },
    {
     "data": {
      "text/html": [
       "<iframe src=\"https://open.spotify.com/embed?uri=spotify:track:0szmjOw9XbtbQYWz0GvXSp\"frameborder=\"0\" allowtransparency=\"true\"></iframe>"
      ],
      "text/plain": [
       "<IPython.core.display.HTML object>"
      ]
     },
     "metadata": {},
     "output_type": "display_data"
    },
    {
     "data": {
      "text/html": [
       "<iframe src=\"https://open.spotify.com/embed?uri=spotify:track:5ODUAzIOHJ4JcudojTsuBP\"frameborder=\"0\" allowtransparency=\"true\"></iframe>"
      ],
      "text/plain": [
       "<IPython.core.display.HTML object>"
      ]
     },
     "metadata": {},
     "output_type": "display_data"
    },
    {
     "data": {
      "text/html": [
       "<iframe src=\"https://open.spotify.com/embed?uri=spotify:track:6UHZNlQ7WkukvtNRcMvcwg\"frameborder=\"0\" allowtransparency=\"true\"></iframe>"
      ],
      "text/plain": [
       "<IPython.core.display.HTML object>"
      ]
     },
     "metadata": {},
     "output_type": "display_data"
    },
    {
     "data": {
      "text/html": [
       "<iframe src=\"https://open.spotify.com/embed?uri=spotify:track:7hVXJt6Ge4YLURY5YF8P2q\"frameborder=\"0\" allowtransparency=\"true\"></iframe>"
      ],
      "text/plain": [
       "<IPython.core.display.HTML object>"
      ]
     },
     "metadata": {},
     "output_type": "display_data"
    },
    {
     "data": {
      "text/html": [
       "<iframe src=\"https://open.spotify.com/embed?uri=spotify:track:22IUWYOGX5n9XgwWd1OSMq\"frameborder=\"0\" allowtransparency=\"true\"></iframe>"
      ],
      "text/plain": [
       "<IPython.core.display.HTML object>"
      ]
     },
     "metadata": {},
     "output_type": "display_data"
    },
    {
     "data": {
      "text/html": [
       "<iframe src=\"https://open.spotify.com/embed?uri=spotify:track:4hi9OKSZA7jVKXoXvjjipG\"frameborder=\"0\" allowtransparency=\"true\"></iframe>"
      ],
      "text/plain": [
       "<IPython.core.display.HTML object>"
      ]
     },
     "metadata": {},
     "output_type": "display_data"
    },
    {
     "data": {
      "text/html": [
       "<iframe src=\"https://open.spotify.com/embed?uri=spotify:track:4gG09Ofs0fLVBmFFeJXBEM\"frameborder=\"0\" allowtransparency=\"true\"></iframe>"
      ],
      "text/plain": [
       "<IPython.core.display.HTML object>"
      ]
     },
     "metadata": {},
     "output_type": "display_data"
    },
    {
     "data": {
      "text/html": [
       "<iframe src=\"https://open.spotify.com/embed?uri=spotify:track:6n7PRM0pp868Qqg9JYwBdh\"frameborder=\"0\" allowtransparency=\"true\"></iframe>"
      ],
      "text/plain": [
       "<IPython.core.display.HTML object>"
      ]
     },
     "metadata": {},
     "output_type": "display_data"
    },
    {
     "data": {
      "text/html": [
       "<iframe src=\"https://open.spotify.com/embed?uri=spotify:track:7BRwh1bemr9rFMDeTbcy5S\"frameborder=\"0\" allowtransparency=\"true\"></iframe>"
      ],
      "text/plain": [
       "<IPython.core.display.HTML object>"
      ]
     },
     "metadata": {},
     "output_type": "display_data"
    },
    {
     "data": {
      "text/html": [
       "<iframe src=\"https://open.spotify.com/embed?uri=spotify:track:0W3wD3RexJQBt7DljcGeyT\"frameborder=\"0\" allowtransparency=\"true\"></iframe>"
      ],
      "text/plain": [
       "<IPython.core.display.HTML object>"
      ]
     },
     "metadata": {},
     "output_type": "display_data"
    },
    {
     "data": {
      "text/html": [
       "<iframe src=\"https://open.spotify.com/embed?uri=spotify:track:4JZvJzuSDubH8spgfIlPty\"frameborder=\"0\" allowtransparency=\"true\"></iframe>"
      ],
      "text/plain": [
       "<IPython.core.display.HTML object>"
      ]
     },
     "metadata": {},
     "output_type": "display_data"
    },
    {
     "data": {
      "text/html": [
       "<iframe src=\"https://open.spotify.com/embed?uri=spotify:track:7zKOXRFaHxPhx7eBUuzdWR\"frameborder=\"0\" allowtransparency=\"true\"></iframe>"
      ],
      "text/plain": [
       "<IPython.core.display.HTML object>"
      ]
     },
     "metadata": {},
     "output_type": "display_data"
    }
   ],
   "source": [
    "from IPython.core.display import display, HTML\n",
    "\n",
    "for each in all_dfs_tracks[0]['track_ids'].values:\n",
    "    #song_id = related_all_features_with_seed[related_all_features_with_seed['id']==each]['id'].values[0]\n",
    "    #link='<a href=' + related_all_features_with_seed[related_all_features_with_seed['id']==each]['preview_url'].values[0] + '>preview related song</a>'\n",
    "    #print(related_all_features_with_seed[related_all_features_with_seed['id']==each]['artists'].values[0])\n",
    "    link = \"<iframe src=\\\"https://open.spotify.com/embed?uri=spotify:track:\" + each + \"\\\"frameborder=\\\"0\\\" allowtransparency=\\\"true\\\"></iframe>\"\n",
    "    #print(link)\n",
    "    display(HTML(link))\n"
   ]
  },
  {
   "cell_type": "code",
   "execution_count": null,
   "metadata": {
    "collapsed": true
   },
   "outputs": [],
   "source": []
  }
 ],
 "metadata": {
  "anaconda-cloud": {},
  "kernelspec": {
   "display_name": "Python 2",
   "language": "python",
   "name": "python2"
  },
  "language_info": {
   "codemirror_mode": {
    "name": "ipython",
    "version": 2
   },
   "file_extension": ".py",
   "mimetype": "text/x-python",
   "name": "python",
   "nbconvert_exporter": "python",
   "pygments_lexer": "ipython2",
   "version": "2.7.13"
  }
 },
 "nbformat": 4,
 "nbformat_minor": 1
}
