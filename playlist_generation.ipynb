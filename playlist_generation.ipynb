{
 "cells": [
  {
   "cell_type": "markdown",
   "metadata": {},
   "source": [
    "# Playlist Generation\n",
    "\n",
    "### Goal: \n",
    "\n",
    "Step 1: From a seed song find all songs from all related artists"
   ]
  },
  {
   "cell_type": "markdown",
   "metadata": {},
   "source": [
    "### Import Libraries and create spotify credentials manager"
   ]
  },
  {
   "cell_type": "code",
   "execution_count": 4,
   "metadata": {
    "collapsed": false
   },
   "outputs": [],
   "source": [
    "#importing module spotipy to make api calls to spotify\n",
    "import spotipy\n",
    "# module to extract song from url\n",
    "import urllib\n",
    "# OAuth Credenials\n",
    "from spotipy.oauth2 import SpotifyClientCredentials\n",
    "from multiprocessing import Process, Queue\n",
    "import pandas as pd \n",
    "import numpy as np\n",
    "from sklearn import datasets, linear_model\n",
    "#from sklearn.model_selection import cross_val_predict\n",
    "from sklearn import linear_model\n",
    "import matplotlib.pyplot as plt\n",
    "\n",
    "client_credentials_manager = SpotifyClientCredentials(client_id='4a1a457d14c0445a96e7021a5523905b', client_secret='45b186d601544fdcbb4fe07c7b23cce5')\n",
    "sp = spotipy.Spotify(client_credentials_manager=client_credentials_manager)\n"
   ]
  },
  {
   "cell_type": "markdown",
   "metadata": {},
   "source": [
    "### Read in csv that has the track ids from all Spotify playlists"
   ]
  },
  {
   "cell_type": "code",
   "execution_count": 5,
   "metadata": {
    "collapsed": false
   },
   "outputs": [],
   "source": [
    "track_info = pd.read_csv(\"kmeans_output.csv\")"
   ]
  },
  {
   "cell_type": "code",
   "execution_count": 6,
   "metadata": {
    "collapsed": false
   },
   "outputs": [],
   "source": [
    "track_ids = list(track_info['id'])"
   ]
  },
  {
   "cell_type": "code",
   "execution_count": 7,
   "metadata": {
    "collapsed": false
   },
   "outputs": [
    {
     "name": "stdout",
     "output_type": "stream",
     "text": [
      "['1tPGSiwtvmMVAqmniJ7oHp', '1tpShM80HMT9vKjRiA3EzW', '1TPUbLdzpfgF7wrPEXIAAB', '1tQGRq2WOBXjL3JWdWMONg', '1TqmZVIyeD4aN4Wa0wbnfy', '1TquBahz02HCaxj8jy5tTo', '1Tr4K5MU5XYE44umXGDndd', '1tRlCCMVLSVQrrN9PPgtf0', '1TScJLsDWzDVBFpCU5vJDo', '1TSjS0q24cPW2S4pYj2wEK', '1Tt4sE4pXi57mTD1GCzsqm', '1TtdHZ4KvN56LCt9evBUaL', '1TTiZwoorWMR4KmaI0irjU', '1TtJJ7YP6JCQ3aH8PQpreD', '1TTOAw90zzNWKnUgzzcvZW']\n"
     ]
    }
   ],
   "source": [
    "len(track_ids)\n",
    "print(track_ids[:15])"
   ]
  },
  {
   "cell_type": "code",
   "execution_count": 8,
   "metadata": {
    "collapsed": false
   },
   "outputs": [],
   "source": [
    "track_result = sp.tracks([\"1tpShM80HMT9vKjRiA3EzW\"])"
   ]
  },
  {
   "cell_type": "markdown",
   "metadata": {},
   "source": [
    "### Input a seed track"
   ]
  },
  {
   "cell_type": "code",
   "execution_count": 9,
   "metadata": {
    "collapsed": false
   },
   "outputs": [
    {
     "name": "stdout",
     "output_type": "stream",
     "text": [
      "7qiZfU4dY1lWllzX7mPBI3 Shape of You\n"
     ]
    }
   ],
   "source": [
    "seed_id = \"7qiZfU4dY1lWllzX7mPBI3\"\n",
    "#seed_id = track_ids[3]\n",
    "track_info = sp.tracks([seed_id])\n",
    "name = track_info['tracks'][0]['name']\n",
    "seed_preview_url = track_info['tracks'][0]['preview_url']\n",
    "print(seed_id,name)"
   ]
  },
  {
   "cell_type": "code",
   "execution_count": 10,
   "metadata": {
    "collapsed": false
   },
   "outputs": [
    {
     "data": {
      "text/plain": [
       "[{u'external_urls': {u'spotify': u'https://open.spotify.com/artist/6eUKZXaKkcviH0Ku9w2n3V'},\n",
       "  u'href': u'https://api.spotify.com/v1/artists/6eUKZXaKkcviH0Ku9w2n3V',\n",
       "  u'id': u'6eUKZXaKkcviH0Ku9w2n3V',\n",
       "  u'name': u'Ed Sheeran',\n",
       "  u'type': u'artist',\n",
       "  u'uri': u'spotify:artist:6eUKZXaKkcviH0Ku9w2n3V'}]"
      ]
     },
     "execution_count": 10,
     "metadata": {},
     "output_type": "execute_result"
    }
   ],
   "source": [
    "track_info['tracks'][0]['artists']"
   ]
  },
  {
   "cell_type": "markdown",
   "metadata": {},
   "source": [
    "### Get the track's artists"
   ]
  },
  {
   "cell_type": "code",
   "execution_count": 11,
   "metadata": {
    "collapsed": false
   },
   "outputs": [
    {
     "name": "stdout",
     "output_type": "stream",
     "text": [
      "[u'Ed Sheeran']\n",
      "[u'6eUKZXaKkcviH0Ku9w2n3V']\n"
     ]
    }
   ],
   "source": [
    "# Get artist\n",
    "artist_names = []\n",
    "artist_ids = []\n",
    "for each in track_info['tracks'][0]['artists']:\n",
    "    artist_names.append(each['name'])\n",
    "    artist_ids.append(each['id'])\n",
    "print(artist_names)\n",
    "print(artist_ids)"
   ]
  },
  {
   "cell_type": "markdown",
   "metadata": {},
   "source": [
    "### Get related artists"
   ]
  },
  {
   "cell_type": "code",
   "execution_count": 12,
   "metadata": {
    "collapsed": false
   },
   "outputs": [],
   "source": [
    "all_related_artists_names = []\n",
    "all_related_artists_ids = []\n",
    "\n",
    "for each in artist_ids:\n",
    "    related = sp.artist_related_artists(each)\n",
    "    for related_artist in related['artists']:\n",
    "        all_related_artists_names.append(related_artist['name'])\n",
    "        all_related_artists_ids.append(related_artist['id'])"
   ]
  },
  {
   "cell_type": "code",
   "execution_count": 13,
   "metadata": {
    "collapsed": true
   },
   "outputs": [],
   "source": [
    "all_related_artists_ids = np.array(all_related_artists_ids)"
   ]
  },
  {
   "cell_type": "code",
   "execution_count": 14,
   "metadata": {
    "collapsed": false
   },
   "outputs": [
    {
     "data": {
      "text/plain": [
       "20"
      ]
     },
     "execution_count": 14,
     "metadata": {},
     "output_type": "execute_result"
    }
   ],
   "source": [
    "len(all_related_artists_ids)"
   ]
  },
  {
   "cell_type": "code",
   "execution_count": 15,
   "metadata": {
    "collapsed": false
   },
   "outputs": [
    {
     "data": {
      "text/plain": [
       "20"
      ]
     },
     "execution_count": 15,
     "metadata": {},
     "output_type": "execute_result"
    }
   ],
   "source": [
    "all_related_artists_ids_unique = np.unique(all_related_artists_ids)\n",
    "len(all_related_artists_ids_unique)"
   ]
  },
  {
   "cell_type": "markdown",
   "metadata": {},
   "source": [
    "### Bucket #1: Top tracks from the related artists"
   ]
  },
  {
   "cell_type": "code",
   "execution_count": 16,
   "metadata": {
    "collapsed": false
   },
   "outputs": [],
   "source": [
    "#top_tracks_one_artist"
   ]
  },
  {
   "cell_type": "code",
   "execution_count": 17,
   "metadata": {
    "collapsed": false
   },
   "outputs": [],
   "source": [
    "top_tracks_related_artists = []\n",
    "for each in all_related_artists_ids_unique:    \n",
    "    top_tracks_one_artist = sp.artist_top_tracks(each)\n",
    "\n",
    "    for each in top_tracks_one_artist['tracks']:\n",
    "        song = each['id']\n",
    "        top_tracks_related_artists.append(song)\n",
    "        \n"
   ]
  },
  {
   "cell_type": "code",
   "execution_count": 18,
   "metadata": {
    "collapsed": false
   },
   "outputs": [
    {
     "data": {
      "text/plain": [
       "200"
      ]
     },
     "execution_count": 18,
     "metadata": {},
     "output_type": "execute_result"
    }
   ],
   "source": [
    "len(top_tracks_related_artists)"
   ]
  },
  {
   "cell_type": "markdown",
   "metadata": {},
   "source": [
    "### Bucket #2: Songs from related artists that are not in top tracks but are similar"
   ]
  },
  {
   "cell_type": "code",
   "execution_count": 19,
   "metadata": {
    "collapsed": false
   },
   "outputs": [],
   "source": [
    "all_related_albums = []\n",
    "for each in all_related_artists_ids_unique:    \n",
    "    albums = sp.artist_albums(each, album_type=None, country=None, limit=50, offset=0)\n",
    "    for each in albums['items']:\n",
    "        album_id = each['id']\n",
    "        all_related_albums.append(album_id)"
   ]
  },
  {
   "cell_type": "code",
   "execution_count": 20,
   "metadata": {
    "collapsed": false
   },
   "outputs": [
    {
     "data": {
      "text/plain": [
       "1000"
      ]
     },
     "execution_count": 20,
     "metadata": {},
     "output_type": "execute_result"
    }
   ],
   "source": [
    "len(all_related_albums)"
   ]
  },
  {
   "cell_type": "code",
   "execution_count": 21,
   "metadata": {
    "collapsed": false
   },
   "outputs": [
    {
     "data": {
      "text/plain": [
       "[u'5nhoVKDcCXvi3AruUFJWnv',\n",
       " u'20Ol6zZ0nLlc5EGTH1zA0j',\n",
       " u'3XpjGUy3t7fQ464SweCuZj',\n",
       " u'3Yps9hZIyZHjg5g4H2xoyW',\n",
       " u'2P69jY1Uwy9xqyAQuNA1St',\n",
       " u'4A43DyDoAVa1Fb8pq6Yejl',\n",
       " u'7DBwbOlvvFfHtJ9Fyq7sv0',\n",
       " u'2Dw4fYqDQnxsgoXDdMbqh3',\n",
       " u'3KVeczHxWg5YFKb0gS62f2',\n",
       " u'7epiarahRkAHJbwASl4hA5']"
      ]
     },
     "execution_count": 21,
     "metadata": {},
     "output_type": "execute_result"
    }
   ],
   "source": [
    "all_related_albums[0:10]"
   ]
  },
  {
   "cell_type": "code",
   "execution_count": 22,
   "metadata": {
    "collapsed": false
   },
   "outputs": [
    {
     "name": "stdout",
     "output_type": "stream",
     "text": [
      "0\n",
      "50\n",
      "100\n",
      "150\n",
      "200\n",
      "250\n",
      "300\n",
      "350\n",
      "400\n",
      "450\n",
      "500\n",
      "550\n",
      "600\n",
      "650\n",
      "700\n",
      "750\n",
      "800\n",
      "850\n",
      "900\n",
      "950\n"
     ]
    }
   ],
   "source": [
    "sp.album_tracks(all_related_albums[1], limit=50, offset=0)\n",
    "\n",
    "all_related_songs = []\n",
    "all_related_preview_urls = []\n",
    "for index, each_album in enumerate(all_related_albums):\n",
    "    album_tracks = sp.album_tracks(each_album, limit=50, offset=0)\n",
    "    if index%50==0: print(index)\n",
    "    for each in album_tracks['items']:\n",
    "        all_related_songs.append(each['id'])\n",
    "        all_related_preview_urls.append(each['preview_url'])"
   ]
  },
  {
   "cell_type": "markdown",
   "metadata": {},
   "source": [
    "### Total number of related songs for a seed track"
   ]
  },
  {
   "cell_type": "code",
   "execution_count": 23,
   "metadata": {
    "collapsed": false
   },
   "outputs": [
    {
     "data": {
      "text/plain": [
       "12034"
      ]
     },
     "execution_count": 23,
     "metadata": {},
     "output_type": "execute_result"
    }
   ],
   "source": [
    "len(all_related_songs)"
   ]
  },
  {
   "cell_type": "code",
   "execution_count": 24,
   "metadata": {
    "collapsed": false
   },
   "outputs": [],
   "source": [
    "all_related_songs = np.array(all_related_songs)\n",
    "all_related_songs = list(np.unique(all_related_songs))"
   ]
  },
  {
   "cell_type": "code",
   "execution_count": 25,
   "metadata": {
    "collapsed": true
   },
   "outputs": [],
   "source": [
    "combined = [seed_id]\n",
    "combined.extend(all_related_songs)\n",
    "all_related_songs = combined"
   ]
  },
  {
   "cell_type": "code",
   "execution_count": 26,
   "metadata": {
    "collapsed": false
   },
   "outputs": [
    {
     "data": {
      "text/plain": [
       "'7qiZfU4dY1lWllzX7mPBI3'"
      ]
     },
     "execution_count": 26,
     "metadata": {},
     "output_type": "execute_result"
    }
   ],
   "source": [
    "seed_id"
   ]
  },
  {
   "cell_type": "code",
   "execution_count": 27,
   "metadata": {
    "collapsed": false
   },
   "outputs": [
    {
     "data": {
      "text/plain": [
       "10656"
      ]
     },
     "execution_count": 27,
     "metadata": {},
     "output_type": "execute_result"
    }
   ],
   "source": [
    "len(all_related_songs)"
   ]
  },
  {
   "cell_type": "code",
   "execution_count": 28,
   "metadata": {
    "collapsed": false
   },
   "outputs": [
    {
     "data": {
      "text/plain": [
       "'7qiZfU4dY1lWllzX7mPBI3'"
      ]
     },
     "execution_count": 28,
     "metadata": {},
     "output_type": "execute_result"
    }
   ],
   "source": [
    "all_related_songs[0]"
   ]
  },
  {
   "cell_type": "markdown",
   "metadata": {},
   "source": [
    "### Test to make sure the songs sound like they're from related artists"
   ]
  },
  {
   "cell_type": "code",
   "execution_count": 29,
   "metadata": {
    "collapsed": false
   },
   "outputs": [
    {
     "data": {
      "text/html": [
       "<a href=https://p.scdn.co/mp3-preview/84462d8e1e4d0f9e5ccd06f0da390f65843774a2?cid=4a1a457d14c0445a96e7021a5523905b>preview input song</a>"
      ],
      "text/plain": [
       "<IPython.core.display.HTML object>"
      ]
     },
     "execution_count": 29,
     "metadata": {},
     "output_type": "execute_result"
    }
   ],
   "source": [
    "from IPython.core.display import HTML\n",
    "link = '<a href=' + str(seed_preview_url) + '>preview input song</a>'\n",
    "HTML(link)\n"
   ]
  },
  {
   "cell_type": "code",
   "execution_count": 30,
   "metadata": {
    "collapsed": false
   },
   "outputs": [
    {
     "data": {
      "text/html": [
       "<a href=https://p.scdn.co/mp3-preview/49cbf8e63464383438aa443269b103f71fb3fa88?cid=4a1a457d14c0445a96e7021a5523905b>preview related song</a>"
      ],
      "text/plain": [
       "<IPython.core.display.HTML object>"
      ]
     },
     "execution_count": 30,
     "metadata": {},
     "output_type": "execute_result"
    }
   ],
   "source": [
    "link = '<a href=' + str(all_related_preview_urls[10]) + '>preview related song</a>'\n",
    "HTML(link)"
   ]
  },
  {
   "cell_type": "code",
   "execution_count": 31,
   "metadata": {
    "collapsed": false
   },
   "outputs": [],
   "source": [
    "audio_features = sp.audio_features(tracks=seed_id)[0]"
   ]
  },
  {
   "cell_type": "markdown",
   "metadata": {},
   "source": [
    "### Get all Spotify features for input song and related songs"
   ]
  },
  {
   "cell_type": "code",
   "execution_count": 32,
   "metadata": {
    "collapsed": false
   },
   "outputs": [],
   "source": [
    "import math"
   ]
  },
  {
   "cell_type": "code",
   "execution_count": 39,
   "metadata": {
    "collapsed": false
   },
   "outputs": [],
   "source": [
    "def get_spotify_features(track_ids,numLoops=None):\n",
    "    track_ids_all= []\n",
    "    popularity = []\n",
    "    preview_urls_all =[]\n",
    "    artists_all = []\n",
    "    names_all = []\n",
    "    track_numbers_all = []\n",
    "    num_markets = []\n",
    "    \n",
    "    # set parameters\n",
    "    offset=0\n",
    "    limit=50\n",
    "    if numLoops==None: \n",
    "        numLoops=int(math.floor(len(track_ids)/50)+1)\n",
    "    aud_features = np.empty((limit*numLoops, 13))\n",
    "    for loopIndex in range(numLoops):\n",
    "        start = offset + limit*loopIndex # start \n",
    "        tracks = track_ids[start:start+limit]\n",
    "        try:\n",
    "            tracks_list = sp.tracks(tracks)\n",
    "            features = sp.audio_features(tracks=tracks)\n",
    "        except:\n",
    "            print(\"Couldn't get data\", index)\n",
    "            continue\n",
    "        for index, track in enumerate(tracks_list['tracks']):\n",
    "            \n",
    "            try:\n",
    "                if (start+index)%1000==0: \n",
    "                    print(index+1+start)\n",
    "                preview_urls_all.append(track['preview_url'])\n",
    "                track_ids_all.append(track['id'])\n",
    "                popularity.append(track['popularity'])\n",
    "                names_all.append(track['name'])\n",
    "                artists_all.append(track['artists'][0]['name'])\n",
    "                track_numbers_all.append(track['track_number'])\n",
    "                num_markets.append(track['available_markets'])\n",
    "                songData = features[index]\n",
    "                aud_features[index+start][0] = songData['acousticness']\n",
    "                aud_features[index+start][1] = songData['danceability']\n",
    "                aud_features[index+start][2] = songData['energy']\n",
    "                aud_features[index+start][3] = songData['instrumentalness']\n",
    "                aud_features[index+start][4] = songData['key']\n",
    "                aud_features[index+start][5] = songData['liveness']\n",
    "                aud_features[index+start][6] = songData['loudness']\n",
    "                aud_features[index+start][7] = songData['mode']\n",
    "                aud_features[index+start][8] = songData['tempo']\n",
    "                aud_features[index+start][9] = songData['time_signature']\n",
    "                aud_features[index+start][10] = songData['valence']\n",
    "                aud_features[index+start][11] = songData['duration_ms']\n",
    "                aud_features[index+start][12] = songData['speechiness']\n",
    "                 \n",
    "            except:\n",
    "                print(\"Some fields not available\", index)\n",
    "\n",
    "    aud_features = aud_features[:len(names_all),]\n",
    "    track_data = pd.DataFrame({\n",
    "    'preview_url': preview_urls_all,\n",
    "    'id': track_ids_all,\n",
    "    'popularity': popularity,\n",
    "    'artists': artists_all,\n",
    "    'names': names_all,\n",
    "    'acousticness': aud_features[:,0],\n",
    "    'danceability': aud_features[:,1],\n",
    "    'energy': aud_features[:,2],\n",
    "    'instrumentalness': aud_features[:,3],\n",
    "    'key': aud_features[:,4],\n",
    "    'liveness': aud_features[:,5],\n",
    "    'loudness': aud_features[:,6],\n",
    "    'mode': aud_features[:,7],\n",
    "    'tempo': aud_features[:,8],\n",
    "    'time_signature': aud_features[:,9],\n",
    "    'valence': aud_features[:,10],\n",
    "    'duration': aud_features[:,11],\n",
    "    'speechiness': aud_features[:,12],\n",
    "    'available_markets': num_markets\n",
    "    \n",
    "   \n",
    "    })\n",
    "    #q.put(track_data)\n",
    "    print(len(num_markets), len(popularity), aud_features.shape)\n",
    "    #name = multiprocessing.current_process().name\n",
    "    print('Exiting')\n",
    "    return track_data\n"
   ]
  },
  {
   "cell_type": "code",
   "execution_count": 40,
   "metadata": {
    "collapsed": false
   },
   "outputs": [
    {
     "name": "stdout",
     "output_type": "stream",
     "text": [
      "1\n",
      "1001\n",
      "2001\n",
      "3001\n",
      "Some fields not available 27\n",
      "4001\n",
      "5001\n",
      "6001\n",
      "7001\n",
      "8001\n",
      "9001\n",
      "10001\n",
      "10656 10656 (10656, 13)\n",
      "Exiting\n"
     ]
    }
   ],
   "source": [
    "features_df = get_spotify_features(track_ids=all_related_songs)"
   ]
  },
  {
   "cell_type": "code",
   "execution_count": 41,
   "metadata": {
    "collapsed": false
   },
   "outputs": [
    {
     "data": {
      "text/html": [
       "<div>\n",
       "<table border=\"1\" class=\"dataframe\">\n",
       "  <thead>\n",
       "    <tr style=\"text-align: right;\">\n",
       "      <th></th>\n",
       "      <th>acousticness</th>\n",
       "      <th>artists</th>\n",
       "      <th>available_markets</th>\n",
       "      <th>danceability</th>\n",
       "      <th>duration</th>\n",
       "      <th>energy</th>\n",
       "      <th>id</th>\n",
       "      <th>instrumentalness</th>\n",
       "      <th>key</th>\n",
       "      <th>liveness</th>\n",
       "      <th>loudness</th>\n",
       "      <th>mode</th>\n",
       "      <th>names</th>\n",
       "      <th>popularity</th>\n",
       "      <th>preview_url</th>\n",
       "      <th>speechiness</th>\n",
       "      <th>tempo</th>\n",
       "      <th>time_signature</th>\n",
       "      <th>valence</th>\n",
       "    </tr>\n",
       "  </thead>\n",
       "  <tbody>\n",
       "    <tr>\n",
       "      <th>10650</th>\n",
       "      <td>0.5780</td>\n",
       "      <td>Zara Larsson</td>\n",
       "      <td>[AD, AR, AT, AU, BE, BG, BO, BR, CA, CH, CL, C...</td>\n",
       "      <td>0.699</td>\n",
       "      <td>189057.0</td>\n",
       "      <td>0.435</td>\n",
       "      <td>7zqLBFKCBkk5IfbgKgH4VZ</td>\n",
       "      <td>0.000000</td>\n",
       "      <td>1.0</td>\n",
       "      <td>0.0884</td>\n",
       "      <td>-6.891</td>\n",
       "      <td>1.0</td>\n",
       "      <td>Sexual - Recorded at Spotify Studios NYC</td>\n",
       "      <td>67</td>\n",
       "      <td>https://p.scdn.co/mp3-preview/394ef5e2e904e50e...</td>\n",
       "      <td>0.1110</td>\n",
       "      <td>110.288</td>\n",
       "      <td>4.0</td>\n",
       "      <td>0.462</td>\n",
       "    </tr>\n",
       "    <tr>\n",
       "      <th>10651</th>\n",
       "      <td>0.0123</td>\n",
       "      <td>The Vamps</td>\n",
       "      <td>[AD, AR, AT, AU, BE, BG, BO, BR, CH, CL, CO, C...</td>\n",
       "      <td>NaN</td>\n",
       "      <td>212904.0</td>\n",
       "      <td>0.848</td>\n",
       "      <td>7zsxEwa4azEu5wRWdIuiQV</td>\n",
       "      <td>0.000000</td>\n",
       "      <td>1.0</td>\n",
       "      <td>0.4110</td>\n",
       "      <td>-3.714</td>\n",
       "      <td>1.0</td>\n",
       "      <td>All Night - Alex Adair Remix</td>\n",
       "      <td>59</td>\n",
       "      <td>https://p.scdn.co/mp3-preview/6447f8cabd59bee9...</td>\n",
       "      <td>NaN</td>\n",
       "      <td>0.000</td>\n",
       "      <td>NaN</td>\n",
       "      <td>NaN</td>\n",
       "    </tr>\n",
       "    <tr>\n",
       "      <th>10652</th>\n",
       "      <td>0.4120</td>\n",
       "      <td>Anastacia</td>\n",
       "      <td>[GB, IE]</td>\n",
       "      <td>0.759</td>\n",
       "      <td>243080.0</td>\n",
       "      <td>0.747</td>\n",
       "      <td>7zuUlMu7JvptWNOE7It5Zw</td>\n",
       "      <td>0.000000</td>\n",
       "      <td>10.0</td>\n",
       "      <td>0.1030</td>\n",
       "      <td>-4.623</td>\n",
       "      <td>0.0</td>\n",
       "      <td>I'm Outta Love</td>\n",
       "      <td>22</td>\n",
       "      <td>https://p.scdn.co/mp3-preview/a8acea1f48207222...</td>\n",
       "      <td>0.0645</td>\n",
       "      <td>119.401</td>\n",
       "      <td>4.0</td>\n",
       "      <td>0.636</td>\n",
       "    </tr>\n",
       "    <tr>\n",
       "      <th>10653</th>\n",
       "      <td>0.2330</td>\n",
       "      <td>Emeli Sandé</td>\n",
       "      <td>[ID, MY, TR]</td>\n",
       "      <td>0.564</td>\n",
       "      <td>229720.0</td>\n",
       "      <td>0.451</td>\n",
       "      <td>7zwmbO1PqRPCg0JY3Bf4m4</td>\n",
       "      <td>0.068400</td>\n",
       "      <td>2.0</td>\n",
       "      <td>0.1180</td>\n",
       "      <td>-10.661</td>\n",
       "      <td>1.0</td>\n",
       "      <td>I’d Rather Not</td>\n",
       "      <td>0</td>\n",
       "      <td>https://p.scdn.co/mp3-preview/406e0b5bed9c3054...</td>\n",
       "      <td>0.0415</td>\n",
       "      <td>146.145</td>\n",
       "      <td>4.0</td>\n",
       "      <td>0.170</td>\n",
       "    </tr>\n",
       "    <tr>\n",
       "      <th>10654</th>\n",
       "      <td>0.9700</td>\n",
       "      <td>Britney Spears</td>\n",
       "      <td>[AD, AR, AT, BE, BG, BO, BR, CA, CH, CL, CO, C...</td>\n",
       "      <td>0.570</td>\n",
       "      <td>221160.0</td>\n",
       "      <td>0.272</td>\n",
       "      <td>7zy36kJCyUohmpGPKrdvzu</td>\n",
       "      <td>0.000164</td>\n",
       "      <td>3.0</td>\n",
       "      <td>0.1190</td>\n",
       "      <td>-13.232</td>\n",
       "      <td>1.0</td>\n",
       "      <td>Everytime</td>\n",
       "      <td>22</td>\n",
       "      <td>https://p.scdn.co/mp3-preview/0e1bdb7c05b02585...</td>\n",
       "      <td>0.0298</td>\n",
       "      <td>109.522</td>\n",
       "      <td>4.0</td>\n",
       "      <td>0.135</td>\n",
       "    </tr>\n",
       "    <tr>\n",
       "      <th>10655</th>\n",
       "      <td>0.7800</td>\n",
       "      <td>Zara Larsson</td>\n",
       "      <td>[SE]</td>\n",
       "      <td>0.597</td>\n",
       "      <td>155520.0</td>\n",
       "      <td>0.627</td>\n",
       "      <td>7zzSgIOkexLBQA98Wj57dc</td>\n",
       "      <td>0.000000</td>\n",
       "      <td>3.0</td>\n",
       "      <td>0.1650</td>\n",
       "      <td>-4.912</td>\n",
       "      <td>0.0</td>\n",
       "      <td>Bad Boys - Today Remix</td>\n",
       "      <td>28</td>\n",
       "      <td>https://p.scdn.co/mp3-preview/b277534925d4e356...</td>\n",
       "      <td>0.0348</td>\n",
       "      <td>113.050</td>\n",
       "      <td>4.0</td>\n",
       "      <td>0.290</td>\n",
       "    </tr>\n",
       "  </tbody>\n",
       "</table>\n",
       "</div>"
      ],
      "text/plain": [
       "       acousticness         artists  \\\n",
       "10650        0.5780    Zara Larsson   \n",
       "10651        0.0123       The Vamps   \n",
       "10652        0.4120       Anastacia   \n",
       "10653        0.2330     Emeli Sandé   \n",
       "10654        0.9700  Britney Spears   \n",
       "10655        0.7800    Zara Larsson   \n",
       "\n",
       "                                       available_markets  danceability  \\\n",
       "10650  [AD, AR, AT, AU, BE, BG, BO, BR, CA, CH, CL, C...         0.699   \n",
       "10651  [AD, AR, AT, AU, BE, BG, BO, BR, CH, CL, CO, C...           NaN   \n",
       "10652                                           [GB, IE]         0.759   \n",
       "10653                                       [ID, MY, TR]         0.564   \n",
       "10654  [AD, AR, AT, BE, BG, BO, BR, CA, CH, CL, CO, C...         0.570   \n",
       "10655                                               [SE]         0.597   \n",
       "\n",
       "       duration  energy                      id  instrumentalness   key  \\\n",
       "10650  189057.0   0.435  7zqLBFKCBkk5IfbgKgH4VZ          0.000000   1.0   \n",
       "10651  212904.0   0.848  7zsxEwa4azEu5wRWdIuiQV          0.000000   1.0   \n",
       "10652  243080.0   0.747  7zuUlMu7JvptWNOE7It5Zw          0.000000  10.0   \n",
       "10653  229720.0   0.451  7zwmbO1PqRPCg0JY3Bf4m4          0.068400   2.0   \n",
       "10654  221160.0   0.272  7zy36kJCyUohmpGPKrdvzu          0.000164   3.0   \n",
       "10655  155520.0   0.627  7zzSgIOkexLBQA98Wj57dc          0.000000   3.0   \n",
       "\n",
       "       liveness  loudness  mode                                     names  \\\n",
       "10650    0.0884    -6.891   1.0  Sexual - Recorded at Spotify Studios NYC   \n",
       "10651    0.4110    -3.714   1.0              All Night - Alex Adair Remix   \n",
       "10652    0.1030    -4.623   0.0                            I'm Outta Love   \n",
       "10653    0.1180   -10.661   1.0                            I’d Rather Not   \n",
       "10654    0.1190   -13.232   1.0                                 Everytime   \n",
       "10655    0.1650    -4.912   0.0                    Bad Boys - Today Remix   \n",
       "\n",
       "       popularity                                        preview_url  \\\n",
       "10650          67  https://p.scdn.co/mp3-preview/394ef5e2e904e50e...   \n",
       "10651          59  https://p.scdn.co/mp3-preview/6447f8cabd59bee9...   \n",
       "10652          22  https://p.scdn.co/mp3-preview/a8acea1f48207222...   \n",
       "10653           0  https://p.scdn.co/mp3-preview/406e0b5bed9c3054...   \n",
       "10654          22  https://p.scdn.co/mp3-preview/0e1bdb7c05b02585...   \n",
       "10655          28  https://p.scdn.co/mp3-preview/b277534925d4e356...   \n",
       "\n",
       "       speechiness    tempo  time_signature  valence  \n",
       "10650       0.1110  110.288             4.0    0.462  \n",
       "10651          NaN    0.000             NaN      NaN  \n",
       "10652       0.0645  119.401             4.0    0.636  \n",
       "10653       0.0415  146.145             4.0    0.170  \n",
       "10654       0.0298  109.522             4.0    0.135  \n",
       "10655       0.0348  113.050             4.0    0.290  "
      ]
     },
     "execution_count": 41,
     "metadata": {},
     "output_type": "execute_result"
    }
   ],
   "source": [
    "features_df.ix[10650:,]"
   ]
  },
  {
   "cell_type": "code",
   "execution_count": 42,
   "metadata": {
    "collapsed": false
   },
   "outputs": [
    {
     "name": "stdout",
     "output_type": "stream",
     "text": [
      "1\n",
      "1 1 (1, 13)\n",
      "Exiting\n"
     ]
    },
    {
     "data": {
      "text/html": [
       "<div>\n",
       "<table border=\"1\" class=\"dataframe\">\n",
       "  <thead>\n",
       "    <tr style=\"text-align: right;\">\n",
       "      <th></th>\n",
       "      <th>acousticness</th>\n",
       "      <th>artists</th>\n",
       "      <th>available_markets</th>\n",
       "      <th>danceability</th>\n",
       "      <th>duration</th>\n",
       "      <th>energy</th>\n",
       "      <th>id</th>\n",
       "      <th>instrumentalness</th>\n",
       "      <th>key</th>\n",
       "      <th>liveness</th>\n",
       "      <th>loudness</th>\n",
       "      <th>mode</th>\n",
       "      <th>names</th>\n",
       "      <th>popularity</th>\n",
       "      <th>preview_url</th>\n",
       "      <th>speechiness</th>\n",
       "      <th>tempo</th>\n",
       "      <th>time_signature</th>\n",
       "      <th>valence</th>\n",
       "    </tr>\n",
       "  </thead>\n",
       "  <tbody>\n",
       "    <tr>\n",
       "      <th>0</th>\n",
       "      <td>0.581</td>\n",
       "      <td>Ed Sheeran</td>\n",
       "      <td>[AD, AR, AT, AU, BE, BG, BO, BR, CA, CH, CL, C...</td>\n",
       "      <td>0.825</td>\n",
       "      <td>233713.0</td>\n",
       "      <td>0.652</td>\n",
       "      <td>7qiZfU4dY1lWllzX7mPBI3</td>\n",
       "      <td>0.0</td>\n",
       "      <td>1.0</td>\n",
       "      <td>0.0931</td>\n",
       "      <td>-3.183</td>\n",
       "      <td>0.0</td>\n",
       "      <td>Shape of You</td>\n",
       "      <td>99</td>\n",
       "      <td>https://p.scdn.co/mp3-preview/84462d8e1e4d0f9e...</td>\n",
       "      <td>0.0802</td>\n",
       "      <td>95.977</td>\n",
       "      <td>4.0</td>\n",
       "      <td>0.933</td>\n",
       "    </tr>\n",
       "  </tbody>\n",
       "</table>\n",
       "</div>"
      ],
      "text/plain": [
       "   acousticness     artists  \\\n",
       "0         0.581  Ed Sheeran   \n",
       "\n",
       "                                   available_markets  danceability  duration  \\\n",
       "0  [AD, AR, AT, AU, BE, BG, BO, BR, CA, CH, CL, C...         0.825  233713.0   \n",
       "\n",
       "   energy                      id  instrumentalness  key  liveness  loudness  \\\n",
       "0   0.652  7qiZfU4dY1lWllzX7mPBI3               0.0  1.0    0.0931    -3.183   \n",
       "\n",
       "   mode         names  popularity  \\\n",
       "0   0.0  Shape of You          99   \n",
       "\n",
       "                                         preview_url  speechiness   tempo  \\\n",
       "0  https://p.scdn.co/mp3-preview/84462d8e1e4d0f9e...       0.0802  95.977   \n",
       "\n",
       "   time_signature  valence  \n",
       "0             4.0    0.933  "
      ]
     },
     "execution_count": 42,
     "metadata": {},
     "output_type": "execute_result"
    }
   ],
   "source": [
    "get_spotify_features(track_ids=[all_related_songs[0]])"
   ]
  },
  {
   "cell_type": "markdown",
   "metadata": {},
   "source": [
    "## Find most similar songs acoustically"
   ]
  },
  {
   "cell_type": "markdown",
   "metadata": {},
   "source": [
    "### Calculate the distance between the input song and related songs"
   ]
  },
  {
   "cell_type": "code",
   "execution_count": 43,
   "metadata": {
    "collapsed": true
   },
   "outputs": [],
   "source": [
    "from scipy.spatial.distance import cityblock"
   ]
  },
  {
   "cell_type": "code",
   "execution_count": 44,
   "metadata": {
    "collapsed": true
   },
   "outputs": [],
   "source": [
    "distance_features = features_df[['acousticness', 'danceability', \n",
    "                                 'duration', 'energy', 'instrumentalness', 'liveness', \n",
    "                                 'loudness', 'speechiness', 'tempo', 'valence']]"
   ]
  },
  {
   "cell_type": "code",
   "execution_count": 45,
   "metadata": {
    "collapsed": false
   },
   "outputs": [
    {
     "data": {
      "text/html": [
       "<div>\n",
       "<table border=\"1\" class=\"dataframe\">\n",
       "  <thead>\n",
       "    <tr style=\"text-align: right;\">\n",
       "      <th></th>\n",
       "      <th>acousticness</th>\n",
       "      <th>danceability</th>\n",
       "      <th>duration</th>\n",
       "      <th>energy</th>\n",
       "      <th>instrumentalness</th>\n",
       "      <th>liveness</th>\n",
       "      <th>loudness</th>\n",
       "      <th>speechiness</th>\n",
       "      <th>tempo</th>\n",
       "      <th>valence</th>\n",
       "    </tr>\n",
       "  </thead>\n",
       "  <tbody>\n",
       "    <tr>\n",
       "      <th>0</th>\n",
       "      <td>0.58100</td>\n",
       "      <td>0.825</td>\n",
       "      <td>233713.0</td>\n",
       "      <td>0.652</td>\n",
       "      <td>0.00000</td>\n",
       "      <td>0.0931</td>\n",
       "      <td>-3.183</td>\n",
       "      <td>0.0802</td>\n",
       "      <td>95.977</td>\n",
       "      <td>0.933</td>\n",
       "    </tr>\n",
       "    <tr>\n",
       "      <th>1</th>\n",
       "      <td>0.13100</td>\n",
       "      <td>0.748</td>\n",
       "      <td>188491.0</td>\n",
       "      <td>0.627</td>\n",
       "      <td>0.00000</td>\n",
       "      <td>0.0852</td>\n",
       "      <td>-6.029</td>\n",
       "      <td>0.0644</td>\n",
       "      <td>120.963</td>\n",
       "      <td>0.513</td>\n",
       "    </tr>\n",
       "    <tr>\n",
       "      <th>2</th>\n",
       "      <td>0.44700</td>\n",
       "      <td>0.597</td>\n",
       "      <td>195427.0</td>\n",
       "      <td>0.543</td>\n",
       "      <td>0.00000</td>\n",
       "      <td>0.2750</td>\n",
       "      <td>-10.280</td>\n",
       "      <td>0.3100</td>\n",
       "      <td>179.880</td>\n",
       "      <td>0.784</td>\n",
       "    </tr>\n",
       "    <tr>\n",
       "      <th>3</th>\n",
       "      <td>0.09170</td>\n",
       "      <td>0.633</td>\n",
       "      <td>217040.0</td>\n",
       "      <td>0.711</td>\n",
       "      <td>0.00178</td>\n",
       "      <td>0.4770</td>\n",
       "      <td>-7.508</td>\n",
       "      <td>0.1090</td>\n",
       "      <td>128.012</td>\n",
       "      <td>0.375</td>\n",
       "    </tr>\n",
       "    <tr>\n",
       "      <th>4</th>\n",
       "      <td>0.00883</td>\n",
       "      <td>0.702</td>\n",
       "      <td>268947.0</td>\n",
       "      <td>0.824</td>\n",
       "      <td>0.00000</td>\n",
       "      <td>0.0766</td>\n",
       "      <td>-4.724</td>\n",
       "      <td>0.0343</td>\n",
       "      <td>104.004</td>\n",
       "      <td>0.785</td>\n",
       "    </tr>\n",
       "  </tbody>\n",
       "</table>\n",
       "</div>"
      ],
      "text/plain": [
       "   acousticness  danceability  duration  energy  instrumentalness  liveness  \\\n",
       "0       0.58100         0.825  233713.0   0.652           0.00000    0.0931   \n",
       "1       0.13100         0.748  188491.0   0.627           0.00000    0.0852   \n",
       "2       0.44700         0.597  195427.0   0.543           0.00000    0.2750   \n",
       "3       0.09170         0.633  217040.0   0.711           0.00178    0.4770   \n",
       "4       0.00883         0.702  268947.0   0.824           0.00000    0.0766   \n",
       "\n",
       "   loudness  speechiness    tempo  valence  \n",
       "0    -3.183       0.0802   95.977    0.933  \n",
       "1    -6.029       0.0644  120.963    0.513  \n",
       "2   -10.280       0.3100  179.880    0.784  \n",
       "3    -7.508       0.1090  128.012    0.375  \n",
       "4    -4.724       0.0343  104.004    0.785  "
      ]
     },
     "execution_count": 45,
     "metadata": {},
     "output_type": "execute_result"
    }
   ],
   "source": [
    "distance_features.head()"
   ]
  },
  {
   "cell_type": "code",
   "execution_count": 46,
   "metadata": {
    "collapsed": true
   },
   "outputs": [],
   "source": [
    "seed_features = distance_features.ix[0,]\n",
    "related_features = distance_features.ix[1:,]"
   ]
  },
  {
   "cell_type": "code",
   "execution_count": 47,
   "metadata": {
    "collapsed": false
   },
   "outputs": [
    {
     "data": {
      "text/plain": [
       "10655"
      ]
     },
     "execution_count": 47,
     "metadata": {},
     "output_type": "execute_result"
    }
   ],
   "source": [
    "len(related_features)"
   ]
  },
  {
   "cell_type": "code",
   "execution_count": 48,
   "metadata": {
    "collapsed": false
   },
   "outputs": [],
   "source": [
    "sample_size = len(related_features)\n",
    "distance_vector = np.empty((sample_size))\n",
    "for index,row in related_features.iterrows():\n",
    "    if index>sample_size-1: break\n",
    "    #print(row)\n",
    "    distance_vector[index]=cityblock(seed_features, row)"
   ]
  },
  {
   "cell_type": "code",
   "execution_count": 49,
   "metadata": {
    "collapsed": false
   },
   "outputs": [
    {
     "data": {
      "text/plain": [
       "(10655,)"
      ]
     },
     "execution_count": 49,
     "metadata": {},
     "output_type": "execute_result"
    }
   ],
   "source": [
    "distance_vector.shape"
   ]
  },
  {
   "cell_type": "code",
   "execution_count": 50,
   "metadata": {
    "collapsed": false
   },
   "outputs": [
    {
     "data": {
      "text/plain": [
       "199256.65419999999"
      ]
     },
     "execution_count": 50,
     "metadata": {},
     "output_type": "execute_result"
    }
   ],
   "source": [
    "distance_vector[10015]"
   ]
  },
  {
   "cell_type": "markdown",
   "metadata": {},
   "source": [
    "### Sort the distance output and find the 100 most acoustically similar songs"
   ]
  },
  {
   "cell_type": "code",
   "execution_count": 51,
   "metadata": {
    "collapsed": true
   },
   "outputs": [],
   "source": [
    "min_indices = distance_vector.argsort()[0:100:]"
   ]
  },
  {
   "cell_type": "code",
   "execution_count": 52,
   "metadata": {
    "collapsed": false
   },
   "outputs": [
    {
     "data": {
      "text/plain": [
       "array([    0,  9284,  1690,  3814,  7181,  9329,   830,   632,  7758,\n",
       "        7518,   763,  4910,  5590,  6539,  4226,  1925,  7666,  3235,\n",
       "         985,   525, 10343,  7894,  8734,  3036,  4724,  6898,  7213,\n",
       "        3276,  8247,  4813,  3312,  2514, 10507,  8439,  5807,  6044,\n",
       "        8623,  6914,  5707,  6282,  6722,  7585,  6491,  8771,  7093,\n",
       "        4344,  8775,  8593,  2548,  2925,  6511,   152,   499,  1705,\n",
       "        4955,  2878,  3695,  2664,  9269,  5701,  7820,    89,  8157,\n",
       "        5176,  5952,   595,  9842,  2151,    31,  4621, 10356,  5678,\n",
       "        5114,  2594,  4894,  8802,  4006,   904, 10341,  1698,  3907,\n",
       "        5090,  3297,  4274,  7303,  5856,  5999,  7497,  2744,  6169,\n",
       "         591,   392,  4048,  6019,  6723,  5118,  3267,  4843,  1349,  8627])"
      ]
     },
     "execution_count": 52,
     "metadata": {},
     "output_type": "execute_result"
    }
   ],
   "source": [
    "min_indices"
   ]
  },
  {
   "cell_type": "code",
   "execution_count": 53,
   "metadata": {
    "collapsed": false
   },
   "outputs": [
    {
     "data": {
      "text/plain": [
       "1690"
      ]
     },
     "execution_count": 53,
     "metadata": {},
     "output_type": "execute_result"
    }
   ],
   "source": [
    "top_similarity_index = min_indices[2]\n",
    "top_similarity_index"
   ]
  },
  {
   "cell_type": "code",
   "execution_count": 54,
   "metadata": {
    "collapsed": false
   },
   "outputs": [],
   "source": [
    "related_all_features_with_seed = features_df.ix[:]\n",
    "seed_all_features = features_df.ix[0,]"
   ]
  },
  {
   "cell_type": "code",
   "execution_count": 55,
   "metadata": {
    "collapsed": false
   },
   "outputs": [],
   "source": [
    "#features_df.head()"
   ]
  },
  {
   "cell_type": "code",
   "execution_count": 56,
   "metadata": {
    "collapsed": false
   },
   "outputs": [
    {
     "data": {
      "text/html": [
       "<a href=https://p.scdn.co/mp3-preview/84462d8e1e4d0f9e5ccd06f0da390f65843774a2?cid=4a1a457d14c0445a96e7021a5523905b>preview seed song</a>"
      ],
      "text/plain": [
       "<IPython.core.display.HTML object>"
      ]
     },
     "execution_count": 56,
     "metadata": {},
     "output_type": "execute_result"
    }
   ],
   "source": [
    "link = '<a href=' + str(seed_all_features['preview_url']) + '>preview seed song</a>'\n",
    "HTML(link)"
   ]
  },
  {
   "cell_type": "code",
   "execution_count": 57,
   "metadata": {
    "collapsed": false
   },
   "outputs": [
    {
     "data": {
      "text/html": [
       "<a href=https://p.scdn.co/mp3-preview/52924540ddf8293eb0ffd67b4397069b65baabbd?cid=4a1a457d14c0445a96e7021a5523905b>preview related song</a>"
      ],
      "text/plain": [
       "<IPython.core.display.HTML object>"
      ]
     },
     "execution_count": 57,
     "metadata": {},
     "output_type": "execute_result"
    }
   ],
   "source": [
    "links = []\n",
    "for each in range(10):\n",
    "    links.append('<a href=' + str(related_all_features_with_seed['preview_url'][min_indices[each]]) + '>preview related song</a>')\n",
    "HTML(links[3])"
   ]
  },
  {
   "cell_type": "code",
   "execution_count": 58,
   "metadata": {
    "collapsed": true
   },
   "outputs": [],
   "source": [
    "features_df.to_csv('related_songs.csv', encoding='utf-8')"
   ]
  },
  {
   "cell_type": "markdown",
   "metadata": {},
   "source": [
    "# Optimization\n",
    "\n",
    "## 1. Test Omar's prediction function"
   ]
  },
  {
   "cell_type": "code",
   "execution_count": 59,
   "metadata": {
    "collapsed": true
   },
   "outputs": [],
   "source": [
    "## Popularity Prediction for New Playlist\n",
    "\n",
    "#libraries\n",
    "\n",
    "import pandas as pd\n",
    "import numpy as np\n",
    "from sklearn.ensemble import RandomForestClassifier as RFC\n",
    "from sklearn.cross_validation import train_test_split\n",
    "import spotipy\n",
    "import spotipy.util as util\n",
    "from spotipy.oauth2 import SpotifyClientCredentials\n",
    "import sys\n",
    "from sklearn.metrics import mean_squared_error\n",
    "from math import sqrt\n",
    "\n",
    "# Step 1 - train the random forest\n",
    "\n",
    "api_data = pd.read_csv('playlist_data_with_sequencing_4.8.17.csv')\n",
    "api_data = api_data.dropna()\n",
    "del api_data['Unnamed: 0']\n",
    "del api_data['names']\n",
    "del api_data['playlist_id']\n",
    "api_data.head()\n",
    "\n",
    "a = pd.qcut(api_data[\"followers\"], 5,labels=range(1,6))\n",
    "api_data['followers'] = np.array(a)\n",
    "\n",
    "y = api_data['followers']\n",
    "X = api_data.drop(['followers'],axis=1)\n",
    "X = X.drop(['featured'],axis=1)\n",
    "X_train, X_test, y_train, y_test = train_test_split(X, y, test_size=0.33)\n",
    "\n",
    "\n",
    "rfc = RFC(n_estimators = 100, max_depth = 29)\n",
    "rfc.fit(X_train, y_train)\n",
    "\n",
    "client_credentials_manager = SpotifyClientCredentials(client_id='df846cfd28e745178054587b3484f91c',client_secret='e3d39fc92a954e028ff1490288f3fe5c')\n",
    "sp = spotipy.Spotify(client_credentials_manager=client_credentials_manager)\n"
   ]
  },
  {
   "cell_type": "code",
   "execution_count": 60,
   "metadata": {
    "collapsed": false
   },
   "outputs": [],
   "source": [
    "def getTrack(track_id):\n",
    "    #print(track_id)\n",
    "    listing = features_df[features_df['id']==track_id]\n",
    "    popularity = listing['popularity'].values[0]\n",
    "    num_markets = listing['available_markets'].values[0]\n",
    "    return {\"popularity\": popularity,\n",
    "           'available_markets': num_markets}"
   ]
  },
  {
   "cell_type": "code",
   "execution_count": 61,
   "metadata": {
    "collapsed": true
   },
   "outputs": [],
   "source": [
    "def getAudioFeatures(list_of_ids):\n",
    "    listing = features_df[features_df['id'].isin(list_of_ids)]\n",
    "    return listing[['acousticness', 'danceability', \n",
    "                                 'energy', 'instrumentalness', 'key','liveness', \n",
    "                                 'loudness', 'mode','tempo','time_signature','valence','duration']].values"
   ]
  },
  {
   "cell_type": "code",
   "execution_count": 62,
   "metadata": {
    "collapsed": false
   },
   "outputs": [
    {
     "data": {
      "text/plain": [
       "array([[  5.81000000e-01,   8.25000000e-01,   6.52000000e-01,\n",
       "          0.00000000e+00,   1.00000000e+00,   9.31000000e-02,\n",
       "         -3.18300000e+00,   0.00000000e+00,   9.59770000e+01,\n",
       "          4.00000000e+00,   9.33000000e-01,   2.33713000e+05],\n",
       "       [  2.33000000e-01,   5.64000000e-01,   4.51000000e-01,\n",
       "          6.84000000e-02,   2.00000000e+00,   1.18000000e-01,\n",
       "         -1.06610000e+01,   1.00000000e+00,   1.46145000e+02,\n",
       "          4.00000000e+00,   1.70000000e-01,   2.29720000e+05]])"
      ]
     },
     "execution_count": 62,
     "metadata": {},
     "output_type": "execute_result"
    }
   ],
   "source": [
    "getAudioFeatures([seed_id, \"7zwmbO1PqRPCg0JY3Bf4m4\"])"
   ]
  },
  {
   "cell_type": "code",
   "execution_count": 63,
   "metadata": {
    "collapsed": false
   },
   "outputs": [],
   "source": [
    "\n",
    "def chunks(seq, num):\n",
    "    avg = len(seq) / float(num)\n",
    "    out = []\n",
    "    last = 0.0\n",
    "    \n",
    "    while last < len(seq):\n",
    "        out.append(seq[int(last):int(last + avg)])\n",
    "        last += avg\n",
    "        \n",
    "    return out\n",
    "\n",
    "def gen_row(list_of_tracks):\n",
    "            \n",
    "    parts = chunks(list_of_tracks,4)\n",
    "                    \n",
    "    p1 = parts[0]\n",
    "    p2 = parts[1]\n",
    "    p3 = parts[2]\n",
    "    p4 = parts[3]\n",
    "    \n",
    "    t_popularities = []\n",
    "    t_num_markets = []\n",
    "                \n",
    "    for track in list_of_tracks:\n",
    "        listing = getTrack(track)\n",
    "        t_popularities.append(listing['popularity'])\n",
    "        t_num_markets.append(len(listing['available_markets']))\n",
    "                                        \n",
    "    t_pop = np.mean(t_popularities)\n",
    "    t_av_num_markets = np.mean(t_num_markets)\n",
    "\n",
    "    #t_features = sp.audio_features(tracks = list_of_tracks)\n",
    "    feat_len = len(list_of_tracks)\n",
    "    #t_feature_matrix = np.empty((feat_len,12))\n",
    "    t_feature_matrix = getAudioFeatures(list_of_tracks)\n",
    "#     for ix, song in enumerate(t_features):\n",
    "  \n",
    "#         t_feature_matrix[ix][0] = song['acousticness']\n",
    "#         t_feature_matrix[ix][1] = song['danceability']\n",
    "#         t_feature_matrix[ix][2] = song['energy']\n",
    "#         t_feature_matrix[ix][3] = song['instrumentalness']\n",
    "#         t_feature_matrix[ix][4] = song['key']\n",
    "#         t_feature_matrix[ix][5] = song['liveness']\n",
    "#         t_feature_matrix[ix][6] = song['loudness']\n",
    "#         t_feature_matrix[ix][7] = song['mode']\n",
    "#         t_feature_matrix[ix][8] = song['tempo']\n",
    "#         t_feature_matrix[ix][9] = song['time_signature']\n",
    "#         t_feature_matrix[ix][10] = song['valence']\n",
    "#         t_feature_matrix[ix][11] = song['duration_ms']\n",
    "                            \n",
    "    t_feature_median = np.percentile(t_feature_matrix,50,axis=0)\n",
    "                    # Part 1\n",
    "                    \n",
    "    p1_popularities = []\n",
    "    p1_num_markets = []\n",
    "                    \n",
    "    for track in p1:\n",
    "        listing = getTrack(track)\n",
    "        p1_popularities.append(listing['popularity'])\n",
    "        p1_num_markets.append(len(listing['available_markets']))\n",
    "    \n",
    "    p1_pop = np.mean(p1_popularities)\n",
    "    p1_av_num_markets = np.mean(p1_num_markets)\n",
    "    \n",
    "    #p1_features = sp.audio_features(tracks = p1)\n",
    "    p1_len = len(p1)\n",
    "    #p1_feature_matrix = np.empty((p1_len,12))\n",
    "    p1_feature_matrix = getAudioFeatures(p1)\n",
    "                    \n",
    "#     for ix, song in enumerate(p1_features):\n",
    "#         p1_feature_matrix[ix][0] = song['acousticness']\n",
    "#         p1_feature_matrix[ix][1] = song['danceability']\n",
    "#         p1_feature_matrix[ix][2] = song['energy']\n",
    "#         p1_feature_matrix[ix][3] = song['instrumentalness']\n",
    "#         p1_feature_matrix[ix][4] = song['key']\n",
    "#         p1_feature_matrix[ix][5] = song['liveness']\n",
    "#         p1_feature_matrix[ix][6] = song['loudness']\n",
    "#         p1_feature_matrix[ix][7] = song['mode']\n",
    "#         p1_feature_matrix[ix][8] = song['tempo']\n",
    "#         p1_feature_matrix[ix][9] = song['time_signature']\n",
    "#         p1_feature_matrix[ix][10] = song['valence']\n",
    "#         p1_feature_matrix[ix][11] = song['duration_ms']\n",
    "                        \n",
    "    p1_feature_median = np.percentile(p1_feature_matrix,50,axis=0)\n",
    "                    # Part 2\n",
    "                    \n",
    "    p2_popularities = []\n",
    "    p2_num_markets = []\n",
    "                    \n",
    "    for track in p2:\n",
    "        listing = getTrack(track)\n",
    "        p2_popularities.append(listing['popularity'])\n",
    "        p2_num_markets.append(len(listing['available_markets']))\n",
    "    \n",
    "    p2_pop = np.mean(p2_popularities)\n",
    "    p2_av_num_markets = np.mean(p2_num_markets)\n",
    "    \n",
    "    #p2_features = sp.audio_features(tracks = p2)\n",
    "\n",
    "    p2_len = len(p2)\n",
    "    #p2_feature_matrix = np.empty((p2_len,12))\n",
    "    p2_feature_matrix = getAudioFeatures(p2)\n",
    "                 \n",
    "#     for ix, song in enumerate(p2_features):\n",
    "#         p2_feature_matrix[ix][0] = song['acousticness']\n",
    "#         p2_feature_matrix[ix][1] = song['danceability']\n",
    "#         p2_feature_matrix[ix][2] = song['energy']\n",
    "#         p2_feature_matrix[ix][3] = song['instrumentalness']\n",
    "#         p2_feature_matrix[ix][4] = song['key']\n",
    "#         p2_feature_matrix[ix][5] = song['liveness']\n",
    "#         p2_feature_matrix[ix][6] = song['loudness']\n",
    "#         p2_feature_matrix[ix][7] = song['mode']\n",
    "#         p2_feature_matrix[ix][8] = song['tempo']\n",
    "#         p2_feature_matrix[ix][9] = song['time_signature']\n",
    "#         p2_feature_matrix[ix][10] = song['valence']\n",
    "#         p2_feature_matrix[ix][11] = song['duration_ms']\n",
    "                        \n",
    "    p2_feature_median = np.percentile(p2_feature_matrix,50,axis=0)\n",
    "    \n",
    "                        # Part 3\n",
    "                    \n",
    "    p3_popularities = []\n",
    "    p3_num_markets = []\n",
    "                  \n",
    "    for track in p3:\n",
    "        listing = getTrack(track)\n",
    "        p3_popularities.append(listing['popularity'])\n",
    "        p3_num_markets.append(len(listing['available_markets']))\n",
    "    \n",
    "    p3_pop = np.mean(p3_popularities)\n",
    "    p3_av_num_markets = np.mean(p3_num_markets)\n",
    "    \n",
    "    #p3_features = sp.audio_features(tracks = p3)\n",
    "    p3_len = len(p3)\n",
    "    #p3_feature_matrix = np.empty((p3_len,12))\n",
    "    p3_feature_matrix = getAudioFeatures(p3)\n",
    "                \n",
    "#     for ix, song in enumerate(p3_features):\n",
    "#         p3_feature_matrix[ix][0] = song['acousticness']\n",
    "#         p3_feature_matrix[ix][1] = song['danceability']\n",
    "#         p3_feature_matrix[ix][2] = song['energy']\n",
    "#         p3_feature_matrix[ix][3] = song['instrumentalness']\n",
    "#         p3_feature_matrix[ix][4] = song['key']\n",
    "#         p3_feature_matrix[ix][5] = song['liveness']\n",
    "#         p3_feature_matrix[ix][6] = song['loudness']\n",
    "#         p3_feature_matrix[ix][7] = song['mode']\n",
    "#         p3_feature_matrix[ix][8] = song['tempo']\n",
    "#         p3_feature_matrix[ix][9] = song['time_signature']\n",
    "#         p3_feature_matrix[ix][10] = song['valence']\n",
    "#         p3_feature_matrix[ix][11] = song['duration_ms']\n",
    "                        \n",
    "    p3_feature_median = np.percentile(p3_feature_matrix,50,axis=0)\n",
    "    \n",
    "                        # Part 4\n",
    "                    \n",
    "    p4_popularities = []\n",
    "    p4_num_markets = []\n",
    "                    \n",
    "    for track in p4:\n",
    "        listing = getTrack(track)\n",
    "        p4_popularities.append(listing['popularity'])\n",
    "        p4_num_markets.append(len(listing['available_markets']))\n",
    "    \n",
    "    p4_pop = np.mean(p4_popularities)\n",
    "    p4_av_num_markets = np.mean(p4_num_markets)\n",
    "    \n",
    "    #p4_features = sp.audio_features(tracks = p4)\n",
    "    p4_len = len(p4)\n",
    "    #p4_feature_matrix = np.empty((p4_len,12))\n",
    "    p4_feature_matrix = getAudioFeatures(p4)\n",
    "             \n",
    "#     for ix, song in enumerate(p4_features):\n",
    "#         p4_feature_matrix[ix][0] = song['acousticness']\n",
    "#         p4_feature_matrix[ix][1] = song['danceability']\n",
    "#         p4_feature_matrix[ix][2] = song['energy']\n",
    "#         p4_feature_matrix[ix][3] = song['instrumentalness']\n",
    "#         p4_feature_matrix[ix][4] = song['key']\n",
    "#         p4_feature_matrix[ix][5] = song['liveness']\n",
    "#         p4_feature_matrix[ix][6] = song['loudness']\n",
    "#         p4_feature_matrix[ix][7] = song['mode']\n",
    "#         p4_feature_matrix[ix][8] = song['tempo']\n",
    "#         p4_feature_matrix[ix][9] = song['time_signature']\n",
    "#         p4_feature_matrix[ix][10] = song['valence']\n",
    "#         p4_feature_matrix[ix][11] = song['duration_ms']\n",
    "                        \n",
    "    p4_feature_median = np.percentile(p4_feature_matrix,50,axis=0)\n",
    "           \n",
    "    playlist_data = pd.Series({\n",
    "                    #'followers': followers,\n",
    "                    #'names' : names,\n",
    "                    #'playlist_id' : playlist_ids,\n",
    "                    'total_tracks' : len(list_of_tracks),\n",
    "                    #'featured' : featured,\n",
    "                    'acousticness': p1_feature_median[0],\n",
    "                    'danceability': p1_feature_median[1],\n",
    "                    'energy': p1_feature_median[2],\n",
    "                    'instrumentalness': p1_feature_median[3],\n",
    "                    'key': p1_feature_median[4],\n",
    "                    'liveness': p1_feature_median[5],\n",
    "                    'loudness': p1_feature_median[6],\n",
    "                    'mode': p1_feature_median[7],\n",
    "                    'tempo': p1_feature_median[8],\n",
    "                    'time_signature': p1_feature_median[9],\n",
    "                    'valence': p1_feature_median[10],\n",
    "                    'duration': p1_feature_median[11],\n",
    "                    'popularity':np.mean(t_pop),\n",
    "                    'mean_num_markets': np.mean(t_av_num_markets),\n",
    "                    #'avg_years' : t_release_date,\n",
    "\n",
    "                    'p1_acousticness': p1_feature_median[0],\n",
    "                    'p1_danceability': p1_feature_median[1],\n",
    "                    'p1_energy': p1_feature_median[2],\n",
    "                    'p1_instrumentalness': p1_feature_median[3],\n",
    "                    'p1_key': p1_feature_median[4],\n",
    "                    'p1_liveness': p1_feature_median[5],\n",
    "                    'p1_loudness': p1_feature_median[6],\n",
    "                    'p1_mode': p1_feature_median[7],\n",
    "                    'p1_tempo': p1_feature_median[8],\n",
    "                    'p1_time_signature': p1_feature_median[9],\n",
    "                    'p1_valence': p1_feature_median[10],\n",
    "                    'p1_duration': p1_feature_median[11],\n",
    "                    'p1_popularity': p1_pop,\n",
    "                    'p1_mean_num_markets': p1_av_num_markets,\n",
    "                    #'p1_avg_years': p1_release_date,\n",
    "\n",
    "                    'p2_acousticness': p2_feature_median[0],\n",
    "                    'p2_danceability': p2_feature_median[1],\n",
    "                    'p2_energy': p2_feature_median[2],\n",
    "                    'p2_instrumentalness': p2_feature_median[3],\n",
    "                    'p2_key': p2_feature_median[4],\n",
    "                    'p2_liveness': p2_feature_median[5],\n",
    "                    'p2_loudness': p2_feature_median[6],\n",
    "                    'p2_mode': p2_feature_median[7],\n",
    "                    'p2_tempo': p2_feature_median[8],\n",
    "                    'p2_time_signature': p2_feature_median[9],\n",
    "                    'p2_valence': p2_feature_median[10],\n",
    "                    'p2_duration': p2_feature_median[11],\n",
    "                    'p2_popularity': p2_pop,\n",
    "                    'p2_mean_num_markets': p2_av_num_markets,\n",
    "                    #'p2_avg_years': p2_release_date,\n",
    "\n",
    "                    'p3_acousticness': p3_feature_median[0],\n",
    "                    'p3_danceability': p3_feature_median[1],\n",
    "                    'p3_energy': p3_feature_median[2],\n",
    "                    'p3_instrumentalness': p3_feature_median[3],\n",
    "                    'p3_key': p3_feature_median[4],\n",
    "                    'p3_liveness': p3_feature_median[5],\n",
    "                    'p3_loudness': p3_feature_median[6],\n",
    "                    'p3_mode': p3_feature_median[7],\n",
    "                    'p3_tempo': p3_feature_median[8],\n",
    "                    'p3_time_signature': p3_feature_median[9],\n",
    "                    'p3_valence': p3_feature_median[10],\n",
    "                    'p3_duration': p3_feature_median[11],\n",
    "                    'p3_popularity': p3_pop,\n",
    "                    'p3_mean_num_markets': p3_av_num_markets,\n",
    "                    #'p3_avg_years': p3_release_date,\n",
    "\n",
    "                    'p4_acousticness': p4_feature_median[0],\n",
    "                    'p4_danceability': p4_feature_median[1],\n",
    "                    'p4_energy': p4_feature_median[2],\n",
    "                    'p4_instrumentalness': p4_feature_median[3],\n",
    "                    'p4_key': p4_feature_median[4],\n",
    "                    'p4_liveness': p4_feature_median[5],\n",
    "                    'p4_loudness': p4_feature_median[6],\n",
    "                    'p4_mode': p4_feature_median[7],\n",
    "                    'p4_tempo': p4_feature_median[8],\n",
    "                    'p4_time_signature': p4_feature_median[9],\n",
    "                    'p4_valence': p4_feature_median[10],\n",
    "                    'p4_duration': p4_feature_median[11],\n",
    "                    'p4_popularity': p4_pop,\n",
    "                    'p4_mean_num_markets': p4_av_num_markets\n",
    "                    #'p4_avg_years': p4_release_date\n",
    "        })\n",
    "    return playlist_data\n",
    "\n",
    "def gen_score(list_of_tracks):\n",
    "    row = gen_row(list_of_tracks)\n",
    "    list_of_proba = rfc.predict_proba(row.reshape(1,-1))[0]\n",
    "    #print(row)\n",
    "    #list_of_proba = rfc.predict(row.reshape(1,-1))[0]\n",
    "    return list_of_proba"
   ]
  },
  {
   "cell_type": "code",
   "execution_count": 64,
   "metadata": {
    "collapsed": false
   },
   "outputs": [
    {
     "data": {
      "text/plain": [
       "[u'000xQL6tZNLJzIrtIgxqSl',\n",
       " u'001NMNauIqU8t70X48P8vX',\n",
       " u'005Ua0AZQDAtOpavz5kdpW',\n",
       " u'006dQ6824YZgSvIvBRhcJT']"
      ]
     },
     "execution_count": 64,
     "metadata": {},
     "output_type": "execute_result"
    }
   ],
   "source": [
    "all_related_songs[1:5]"
   ]
  },
  {
   "cell_type": "code",
   "execution_count": 65,
   "metadata": {
    "collapsed": false
   },
   "outputs": [
    {
     "data": {
      "text/plain": [
       "array([ 0.42,  0.2 ,  0.17,  0.19,  0.02])"
      ]
     },
     "execution_count": 65,
     "metadata": {},
     "output_type": "execute_result"
    }
   ],
   "source": [
    "result = gen_score(all_related_songs[10:20])\n",
    "result"
   ]
  },
  {
   "cell_type": "markdown",
   "metadata": {},
   "source": [
    "## 2. Simple model"
   ]
  },
  {
   "cell_type": "code",
   "execution_count": 67,
   "metadata": {
    "collapsed": false
   },
   "outputs": [
    {
     "data": {
      "text/plain": [
       "(9013,)"
      ]
     },
     "execution_count": 67,
     "metadata": {},
     "output_type": "execute_result"
    }
   ],
   "source": [
    "nona = features_df.dropna()\n",
    "nona.shape\n",
    "all_related_songs = nona['id'].values\n",
    "all_related_songs.shape"
   ]
  },
  {
   "cell_type": "code",
   "execution_count": 68,
   "metadata": {
    "collapsed": false
   },
   "outputs": [
    {
     "name": "stdout",
     "output_type": "stream",
     "text": [
      "0.0\n",
      "0.01\n",
      "0.09\n",
      "0.04\n",
      "0.02\n",
      "0.04\n",
      "0.02\n",
      "0.02\n",
      "0.02\n",
      "0.05\n"
     ]
    }
   ],
   "source": [
    "# sample 5 different random samples and print the results\n",
    "all_related_songs_np = np.array(all_related_songs[1:])\n",
    "best_result = 0\n",
    "best_playlist = []\n",
    "for i in range(10):\n",
    "    random_sample_10 = np.random.choice(all_related_songs_np, size=10)\n",
    "    result = gen_score(random_sample_10)[4]\n",
    "    if result>best_result:\n",
    "        best_result=result\n",
    "        best_playlist = random_sample_10\n",
    "    print(result)\n",
    "    \n",
    "# select the best one\n"
   ]
  },
  {
   "cell_type": "code",
   "execution_count": 69,
   "metadata": {
    "collapsed": false
   },
   "outputs": [
    {
     "data": {
      "text/plain": [
       "array([u'3KacmOuRkD3wwTMRBbWApo', u'1UvgTNJKD5Ym8lWXFVrDKW',\n",
       "       u'35XDJTnw4ljwlSksWTuETX', u'5tbvdChR0xSR8JYuGsSpUY',\n",
       "       u'1clmc70vYouNNjvLo4TcdY', u'6dq1fUiJe6BiBORZtb9TxZ',\n",
       "       u'2PkTmV7ryvkUZf7eoEeAF3', u'0eoZZnFybiNwT3oir1dUrz',\n",
       "       u'1zL880NLhgahwsnk8sNZ7C', u'7lJKCbYJrNPr9pIhB2hm3P'], dtype=object)"
      ]
     },
     "execution_count": 69,
     "metadata": {},
     "output_type": "execute_result"
    }
   ],
   "source": [
    "best_playlist"
   ]
  },
  {
   "cell_type": "markdown",
   "metadata": {},
   "source": [
    "## 3. Simulated annealing"
   ]
  },
  {
   "cell_type": "code",
   "execution_count": 71,
   "metadata": {
    "collapsed": false
   },
   "outputs": [],
   "source": [
    "import simanneal\n",
    "from __future__ import print_function\n",
    "import math\n",
    "import random\n",
    "from simanneal import Annealer"
   ]
  },
  {
   "cell_type": "code",
   "execution_count": 72,
   "metadata": {
    "collapsed": true
   },
   "outputs": [],
   "source": [
    "class TravellingSalesmanProblem(Annealer):\n",
    "\n",
    "    \"\"\"Test annealer with a travelling salesman problem.\n",
    "    \"\"\"\n",
    "    \n",
    "    # pass extra data (the distance matrix) into the constructor\n",
    "    def __init__(self, state, candidate_songs):\n",
    "        self.candidate_songs = np.array(candidate_songs)\n",
    "        #self.features = features\n",
    "        super(TravellingSalesmanProblem, self).__init__(state)  # important! \n",
    "\n",
    "    def move(self):\n",
    "        \"\"\"Swaps two cities in the route.\"\"\"\n",
    "        a = random.randint(0, len(self.state) - 1)\n",
    "        #b = random.randint(0, len(self.state) - 1)\n",
    "        #self.state[a], self.state[b] = self.state[b], self.state[a]\n",
    "        self.state[a] = np.random.choice(self.candidate_songs, size=1)[0]\n",
    "        \n",
    "    def energy(self): ## calculates the predicted number of followers\n",
    "        \"\"\"Calculates the predicted number of followers.\"\"\"\n",
    "        #print(self.state)\n",
    "        result = gen_score(self.state)\n",
    "        #print(\"Calculating energy: \", result)\n",
    "        return 1.0-result[4]\n",
    "        #return (1.0-(np.array([0,2.25,0.5,1,2])*result).mean())"
   ]
  },
  {
   "cell_type": "code",
   "execution_count": 73,
   "metadata": {
    "collapsed": false
   },
   "outputs": [
    {
     "name": "stderr",
     "output_type": "stream",
     "text": [
      " Temperature        Energy    Accept   Improve     Elapsed   Remaining\n"
     ]
    },
    {
     "name": "stdout",
     "output_type": "stream",
     "text": [
      "\n",
      "0.91 predicted probability:\n",
      "\t 3KacmOuRkD3wwTMRBbWApo\n",
      "\t 1UvgTNJKD5Ym8lWXFVrDKW\n",
      "\t 35XDJTnw4ljwlSksWTuETX\n",
      "\t 5tbvdChR0xSR8JYuGsSpUY\n",
      "\t 1clmc70vYouNNjvLo4TcdY\n",
      "\t 6dq1fUiJe6BiBORZtb9TxZ\n",
      "\t 2PkTmV7ryvkUZf7eoEeAF3\n",
      "\t 0eoZZnFybiNwT3oir1dUrz\n",
      "\t 1zL880NLhgahwsnk8sNZ7C\n",
      "\t 7lJKCbYJrNPr9pIhB2hm3P\n"
     ]
    }
   ],
   "source": [
    "if __name__ == '__main__':\n",
    "\n",
    "    candidates = all_related_songs_np\n",
    "    initial_playlist = best_playlist\n",
    "    \n",
    "    # initial state, a randomly-ordered itinerary\n",
    "    init_state = list(initial_playlist)\n",
    "    #random.shuffle(init_state)\n",
    "    \n",
    "    tsp = TravellingSalesmanProblem(init_state, candidates)\n",
    "    tsp.updates = 100\n",
    "    tsp.steps = 100\n",
    "    tsp.Tmax = 24000\n",
    "    tsp.Tmin = 2.5\n",
    "    # since our state is just a list, slice is the fastest way to copy\n",
    "    tsp.copy_strategy = \"slice\"  \n",
    "    state, e = tsp.anneal()\n",
    "    \n",
    "\n",
    "    #while state[0] != 'New York City':\n",
    "    #    state = state[1:] + state[:1]  # rotate NYC to start\n",
    "    print(\"%s predicted probability:\" % e)\n",
    "    for city in state:\n",
    "        print(\"\\t\", city)"
   ]
  },
  {
   "cell_type": "code",
   "execution_count": 99,
   "metadata": {
    "collapsed": false
   },
   "outputs": [],
   "source": [
    "#state"
   ]
  },
  {
   "cell_type": "code",
   "execution_count": 110,
   "metadata": {
    "collapsed": false
   },
   "outputs": [],
   "source": [
    "#auto_schedule = tsp.auto(minutes=0.1) "
   ]
  },
  {
   "cell_type": "code",
   "execution_count": 75,
   "metadata": {
    "collapsed": false
   },
   "outputs": [
    {
     "name": "stderr",
     "output_type": "stream",
     "text": [
      " Temperature        Energy    Accept   Improve     Elapsed   Remaining\n"
     ]
    },
    {
     "name": "stdout",
     "output_type": "stream",
     "text": [
      "\n",
      "6882 mile route:\n",
      "\t New York City\n",
      "\t Philadelphia\n",
      "\t Baltimore\n",
      "\t Charlotte\n",
      "\t Jacksonville\n",
      "\t Houston\n",
      "\t Austin\n",
      "\t San Antonio\n",
      "\t San Diego\n",
      "\t Los Angeles\n",
      "\t San Jose\n",
      "\t San Francisco\n",
      "\t Phoenix\n",
      "\t Fort Worth\n",
      "\t Dallas\n",
      "\t Memphis\n",
      "\t Indianapolis\n",
      "\t Chicago\n",
      "\t Detroit\n",
      "\t Columbus\n"
     ]
    }
   ],
   "source": [
    "from __future__ import print_function\n",
    "import math\n",
    "import random\n",
    "from simanneal import Annealer\n",
    "\n",
    "\n",
    "def distance(a, b):\n",
    "    \"\"\"Calculates distance between two latitude-longitude coordinates.\"\"\"\n",
    "    R = 3963  # radius of Earth (miles)\n",
    "    lat1, lon1 = math.radians(a[0]), math.radians(a[1])\n",
    "    lat2, lon2 = math.radians(b[0]), math.radians(b[1])\n",
    "    return math.acos(math.sin(lat1) * math.sin(lat2) +\n",
    "                     math.cos(lat1) * math.cos(lat2) * math.cos(lon1 - lon2)) * R\n",
    "\n",
    "\n",
    "class TravellingSalesmanProblem(Annealer):\n",
    "\n",
    "    \"\"\"Test annealer with a travelling salesman problem.\n",
    "    \"\"\"\n",
    "    \n",
    "    # pass extra data (the distance matrix) into the constructor\n",
    "    def __init__(self, state, distance_matrix):\n",
    "        self.distance_matrix = distance_matrix\n",
    "        super(TravellingSalesmanProblem, self).__init__(state)  # important! \n",
    "\n",
    "    def move(self):\n",
    "        \"\"\"Swaps two cities in the route.\"\"\"\n",
    "        a = random.randint(0, len(self.state) - 1)\n",
    "        b = random.randint(0, len(self.state) - 1)\n",
    "        self.state[a], self.state[b] = self.state[b], self.state[a]\n",
    "\n",
    "    def energy(self):\n",
    "        \"\"\"Calculates the length of the route.\"\"\"\n",
    "        e = 0\n",
    "        for i in range(len(self.state)):\n",
    "            e += self.distance_matrix[self.state[i-1]][self.state[i]]\n",
    "        return e\n",
    "\n",
    "\n",
    "\n",
    "if __name__ == '__main__':\n",
    "\n",
    "    # latitude and longitude for the twenty largest U.S. cities\n",
    "    cities = {\n",
    "        'New York City': (40.72, 74.00),\n",
    "        'Los Angeles': (34.05, 118.25),\n",
    "        'Chicago': (41.88, 87.63),\n",
    "        'Houston': (29.77, 95.38),\n",
    "        'Phoenix': (33.45, 112.07),\n",
    "        'Philadelphia': (39.95, 75.17),\n",
    "        'San Antonio': (29.53, 98.47),\n",
    "        'Dallas': (32.78, 96.80),\n",
    "        'San Diego': (32.78, 117.15),\n",
    "        'San Jose': (37.30, 121.87),\n",
    "        'Detroit': (42.33, 83.05),\n",
    "        'San Francisco': (37.78, 122.42),\n",
    "        'Jacksonville': (30.32, 81.70),\n",
    "        'Indianapolis': (39.78, 86.15),\n",
    "        'Austin': (30.27, 97.77),\n",
    "        'Columbus': (39.98, 82.98),\n",
    "        'Fort Worth': (32.75, 97.33),\n",
    "        'Charlotte': (35.23, 80.85),\n",
    "        'Memphis': (35.12, 89.97),\n",
    "        'Baltimore': (39.28, 76.62)\n",
    "    }\n",
    "\n",
    "    # initial state, a randomly-ordered itinerary\n",
    "    init_state = list(cities.keys())\n",
    "    random.shuffle(init_state)\n",
    "\n",
    "    # create a distance matrix\n",
    "    distance_matrix = {}\n",
    "    for ka, va in cities.items():\n",
    "        distance_matrix[ka] = {}\n",
    "        for kb, vb in cities.items():\n",
    "            if kb == ka:\n",
    "                distance_matrix[ka][kb] = 0.0\n",
    "            else:\n",
    "                distance_matrix[ka][kb] = distance(va, vb)\n",
    "\n",
    "    tsp = TravellingSalesmanProblem(init_state, distance_matrix)\n",
    "    # since our state is just a list, slice is the fastest way to copy\n",
    "    tsp.copy_strategy = \"slice\"  \n",
    "    state, e = tsp.anneal()\n",
    "\n",
    "    while state[0] != 'New York City':\n",
    "        state = state[1:] + state[:1]  # rotate NYC to start\n",
    "    print(\"%i mile route:\" % e)\n",
    "    for city in state:\n",
    "        print(\"\\t\", city)"
   ]
  },
  {
   "cell_type": "code",
   "execution_count": null,
   "metadata": {
    "collapsed": true
   },
   "outputs": [],
   "source": []
  }
 ],
 "metadata": {
  "anaconda-cloud": {},
  "kernelspec": {
   "display_name": "Python [py27]",
   "language": "python",
   "name": "Python [py27]"
  },
  "language_info": {
   "codemirror_mode": {
    "name": "ipython",
    "version": 2
   },
   "file_extension": ".py",
   "mimetype": "text/x-python",
   "name": "python",
   "nbconvert_exporter": "python",
   "pygments_lexer": "ipython2",
   "version": "2.7.12"
  }
 },
 "nbformat": 4,
 "nbformat_minor": 1
}
