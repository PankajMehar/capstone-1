{
 "cells": [
  {
   "cell_type": "markdown",
   "metadata": {},
   "source": [
    "# Playlist Generation\n",
    "\n",
    "### Goal: \n",
    "\n",
    "- Step 1: Top tracks: From a seed song find all top tracks from all related artists\n",
    "- Step 2: Similar songs: From a seed song find all songs from related artists, and filter by similar songs based on Spotify API audio features \n",
    "- Step 3: Simple sampling to find the best playlist\n",
    "- Step 4: Simulated Annealing to find the best playlist\n",
    "- Step 5: Comparison and validation of methods"
   ]
  },
  {
   "cell_type": "markdown",
   "metadata": {},
   "source": [
    "# Generate lists of candidate songs that fit into four buckets"
   ]
  },
  {
   "cell_type": "markdown",
   "metadata": {},
   "source": [
    "**4 buckets of songs**\n",
    "\n",
    "1. Top tracks from related artists\n",
    "2. Tracks from related artists\n",
    "3. Tracks from related artists identified as similar songs (using manhattan distance + Spotify API features)\n",
    "3. Tracks from our database identified as similar (using raw audio  + vantage point method)"
   ]
  },
  {
   "cell_type": "markdown",
   "metadata": {},
   "source": [
    "### Import Libraries and create spotify credentials manager"
   ]
  },
  {
   "cell_type": "code",
   "execution_count": 131,
   "metadata": {
    "collapsed": false
   },
   "outputs": [],
   "source": [
    "%matplotlib inline\n",
    "import matplotlib.pyplot as plt\n",
    "#importing module spotipy to make api calls to spotify\n",
    "import spotipy\n",
    "# module to extract song from url\n",
    "import urllib\n",
    "# OAuth Credenials\n",
    "from spotipy.oauth2 import SpotifyClientCredentials\n",
    "from multiprocessing import Process, Queue\n",
    "import pandas as pd \n",
    "import numpy as np\n",
    "from sklearn import datasets, linear_model\n",
    "#from sklearn.model_selection import cross_val_predict\n",
    "from sklearn import linear_model\n",
    "import matplotlib.pyplot as plt\n",
    "import math\n",
    "client_credentials_manager = SpotifyClientCredentials(client_id='4a1a457d14c0445a96e7021a5523905b', client_secret='45b186d601544fdcbb4fe07c7b23cce5')\n",
    "sp = spotipy.Spotify(client_credentials_manager=client_credentials_manager)\n"
   ]
  },
  {
   "cell_type": "markdown",
   "metadata": {},
   "source": [
    "### Read in csv that has the track ids from all Spotify playlists"
   ]
  },
  {
   "cell_type": "code",
   "execution_count": 134,
   "metadata": {
    "collapsed": false
   },
   "outputs": [
    {
     "name": "stdout",
     "output_type": "stream",
     "text": [
      "14887 example track ids \n",
      "\n",
      "['1tPGSiwtvmMVAqmniJ7oHp', '1tpShM80HMT9vKjRiA3EzW', '1TPUbLdzpfgF7wrPEXIAAB', '1tQGRq2WOBXjL3JWdWMONg', '1TqmZVIyeD4aN4Wa0wbnfy', '1TquBahz02HCaxj8jy5tTo', '1Tr4K5MU5XYE44umXGDndd', '1tRlCCMVLSVQrrN9PPgtf0', '1TScJLsDWzDVBFpCU5vJDo', '1TSjS0q24cPW2S4pYj2wEK', '1Tt4sE4pXi57mTD1GCzsqm', '1TtdHZ4KvN56LCt9evBUaL', '1TTiZwoorWMR4KmaI0irjU', '1TtJJ7YP6JCQ3aH8PQpreD', '1TTOAw90zzNWKnUgzzcvZW']\n"
     ]
    }
   ],
   "source": [
    "track_info = pd.read_csv(\"kmeans_output.csv\")\n",
    "track_ids = list(track_info['id'])\n",
    "print(len(track_ids), \"example track ids\", \"\\n\")\n",
    "print(track_ids[:15])\n",
    "track_result = sp.tracks([\"1tpShM80HMT9vKjRiA3EzW\"])"
   ]
  },
  {
   "cell_type": "markdown",
   "metadata": {},
   "source": [
    "### Input a seed track"
   ]
  },
  {
   "cell_type": "code",
   "execution_count": 137,
   "metadata": {
    "collapsed": false
   },
   "outputs": [
    {
     "name": "stdout",
     "output_type": "stream",
     "text": [
      "ID:  7qiZfU4dY1lWllzX7mPBI3 \n",
      " \n",
      " Artist name:  Ed Sheeran \n",
      " Track name:  Shape of You\n"
     ]
    }
   ],
   "source": [
    "seed_id = \"7qiZfU4dY1lWllzX7mPBI3\"\n",
    "track_info = sp.tracks([seed_id])\n",
    "name = track_info['tracks'][0]['name']\n",
    "seed_preview_url = track_info['tracks'][0]['preview_url']\n",
    "print(\"ID: \", seed_id, \"\\n \\n Artist name: \",track_info['tracks'][0]['artists'][0]['name'], \"\\n Track name: \",name)"
   ]
  },
  {
   "cell_type": "markdown",
   "metadata": {},
   "source": [
    "### Get the track's artists"
   ]
  },
  {
   "cell_type": "code",
   "execution_count": 139,
   "metadata": {
    "collapsed": false
   },
   "outputs": [
    {
     "name": "stdout",
     "output_type": "stream",
     "text": [
      "[u'Ed Sheeran']\n",
      "[u'6eUKZXaKkcviH0Ku9w2n3V'] \n",
      "\n",
      "1 artist(s)\n"
     ]
    }
   ],
   "source": [
    "artist_names = []\n",
    "artist_ids = []\n",
    "for each in track_info['tracks'][0]['artists']:\n",
    "    artist_names.append(each['name'])\n",
    "    artist_ids.append(each['id'])\n",
    "print(artist_names)\n",
    "print(artist_ids,\"\\n\")\n",
    "print(len(artist_names), \"artist(s)\")"
   ]
  },
  {
   "cell_type": "markdown",
   "metadata": {},
   "source": [
    "### Get related artists"
   ]
  },
  {
   "cell_type": "code",
   "execution_count": 140,
   "metadata": {
    "collapsed": false
   },
   "outputs": [
    {
     "name": "stdout",
     "output_type": "stream",
     "text": [
      "20 related artists\n"
     ]
    }
   ],
   "source": [
    "all_related_artists_names = []\n",
    "all_related_artists_ids = []\n",
    "\n",
    "for each in artist_ids:\n",
    "    related = sp.artist_related_artists(each)\n",
    "    for related_artist in related['artists']:\n",
    "        all_related_artists_names.append(related_artist['name'])\n",
    "        all_related_artists_ids.append(related_artist['id'])\n",
    "all_related_artists_ids = np.array(all_related_artists_ids)\n",
    "all_related_artists_ids_unique = np.unique(all_related_artists_ids)\n",
    "print(len(all_related_artists_ids_unique), \"related artists\")"
   ]
  },
  {
   "cell_type": "markdown",
   "metadata": {},
   "source": [
    "### Bucket #1: Top tracks from the related artists"
   ]
  },
  {
   "cell_type": "code",
   "execution_count": 141,
   "metadata": {
    "collapsed": false
   },
   "outputs": [
    {
     "name": "stdout",
     "output_type": "stream",
     "text": [
      "200 top tracks from related artists\n"
     ]
    }
   ],
   "source": [
    "top_tracks_related_artists = []\n",
    "for each in all_related_artists_ids_unique:    \n",
    "    top_tracks_one_artist = sp.artist_top_tracks(each)\n",
    "\n",
    "    for each in top_tracks_one_artist['tracks']:\n",
    "        song = each['id']\n",
    "        top_tracks_related_artists.append(song)\n",
    "        \n",
    "print(len(top_tracks_related_artists),\"top tracks from related artists\")"
   ]
  },
  {
   "cell_type": "markdown",
   "metadata": {},
   "source": [
    "### Bucket #2: Songs from related artists that are not in top tracks but are similar"
   ]
  },
  {
   "cell_type": "code",
   "execution_count": 142,
   "metadata": {
    "collapsed": false
   },
   "outputs": [
    {
     "name": "stdout",
     "output_type": "stream",
     "text": [
      "Finding albums from related artists...\n",
      "Finding songs from those albums...\n",
      "0\n",
      "50\n",
      "100\n",
      "150\n",
      "200\n",
      "250\n",
      "300\n",
      "350\n",
      "400\n",
      "450\n",
      "500\n",
      "550\n",
      "600\n",
      "650\n",
      "700\n",
      "750\n",
      "800\n",
      "850\n",
      "900\n",
      "950\n",
      "10262  songs from related artists\n"
     ]
    }
   ],
   "source": [
    "print(\"Finding albums from related artists...\")\n",
    "all_related_albums = []\n",
    "for each in all_related_artists_ids_unique:    \n",
    "    albums = sp.artist_albums(each, album_type=None, country=None, limit=50, offset=0)\n",
    "    for each in albums['items']:\n",
    "        album_id = each['id']\n",
    "        all_related_albums.append(album_id)\n",
    "sp.album_tracks(all_related_albums[1], limit=50, offset=0)\n",
    "print(\"Finding songs from those albums...\")\n",
    "\n",
    "all_related_songs = []\n",
    "all_related_preview_urls = []\n",
    "for index, each_album in enumerate(all_related_albums):\n",
    "    album_tracks = sp.album_tracks(each_album, limit=50, offset=0)\n",
    "    if index%50==0: print(index)\n",
    "    for each in album_tracks['items']:\n",
    "        all_related_songs.append(each['id'])\n",
    "        all_related_preview_urls.append(each['preview_url'])\n",
    "all_related_songs = np.array(all_related_songs)\n",
    "all_related_songs = list(np.unique(all_related_songs))\n",
    "combined = [seed_id]\n",
    "combined.extend(all_related_songs)\n",
    "all_related_songs = combined\n",
    "print(len(all_related_songs), \" songs from related artists\")"
   ]
  },
  {
   "cell_type": "markdown",
   "metadata": {},
   "source": [
    "### Test to make sure the songs sound like they're from related artists"
   ]
  },
  {
   "cell_type": "code",
   "execution_count": 143,
   "metadata": {
    "collapsed": false
   },
   "outputs": [
    {
     "data": {
      "text/html": [
       "<a href=https://p.scdn.co/mp3-preview/84462d8e1e4d0f9e5ccd06f0da390f65843774a2?cid=4a1a457d14c0445a96e7021a5523905b>preview input song</a>"
      ],
      "text/plain": [
       "<IPython.core.display.HTML object>"
      ]
     },
     "metadata": {},
     "output_type": "display_data"
    },
    {
     "data": {
      "text/html": [
       "<a href=https://p.scdn.co/mp3-preview/49cbf8e63464383438aa443269b103f71fb3fa88?cid=4a1a457d14c0445a96e7021a5523905b>preview related song</a>"
      ],
      "text/plain": [
       "<IPython.core.display.HTML object>"
      ]
     },
     "metadata": {},
     "output_type": "display_data"
    }
   ],
   "source": [
    "from IPython.core.display import HTML\n",
    "link = '<a href=' + str(seed_preview_url) + '>preview input song</a>'\n",
    "display(HTML(link))\n",
    "link = '<a href=' + str(all_related_preview_urls[10]) + '>preview related song</a>'\n",
    "display(HTML(link))"
   ]
  },
  {
   "cell_type": "markdown",
   "metadata": {},
   "source": [
    "### Function to get Spotify API features given a list of track ids"
   ]
  },
  {
   "cell_type": "code",
   "execution_count": 144,
   "metadata": {
    "collapsed": false
   },
   "outputs": [],
   "source": [
    "def get_spotify_features(track_ids,numLoops=None):\n",
    "    track_ids_all= []\n",
    "    popularity = []\n",
    "    preview_urls_all =[]\n",
    "    artists_all = []\n",
    "    names_all = []\n",
    "    track_numbers_all = []\n",
    "    num_markets = []\n",
    "    \n",
    "    # set parameters\n",
    "    offset=0\n",
    "    limit=50\n",
    "    if numLoops==None: \n",
    "        numLoops=int(math.floor(len(track_ids)/50)+1)\n",
    "    aud_features = np.empty((limit*numLoops, 13))\n",
    "    for loopIndex in range(numLoops):\n",
    "        start = offset + limit*loopIndex # start \n",
    "        tracks = track_ids[start:start+limit]\n",
    "        try:\n",
    "            tracks_list = sp.tracks(tracks)\n",
    "            features = sp.audio_features(tracks=tracks)\n",
    "        except:\n",
    "            print(\"Couldn't get data\", index)\n",
    "            continue\n",
    "        for index, track in enumerate(tracks_list['tracks']):\n",
    "            \n",
    "            try:\n",
    "                if (start+index)%1000==0: \n",
    "                    print(index+1+start)\n",
    "                preview_urls_all.append(track['preview_url'])\n",
    "                track_ids_all.append(track['id'])\n",
    "                popularity.append(track['popularity'])\n",
    "                names_all.append(track['name'])\n",
    "                artists_all.append(track['artists'][0]['name'])\n",
    "                track_numbers_all.append(track['track_number'])\n",
    "                num_markets.append(track['available_markets'])\n",
    "                songData = features[index]\n",
    "                aud_features[index+start][0] = songData['acousticness']\n",
    "                aud_features[index+start][1] = songData['danceability']\n",
    "                aud_features[index+start][2] = songData['energy']\n",
    "                aud_features[index+start][3] = songData['instrumentalness']\n",
    "                aud_features[index+start][4] = songData['key']\n",
    "                aud_features[index+start][5] = songData['liveness']\n",
    "                aud_features[index+start][6] = songData['loudness']\n",
    "                aud_features[index+start][7] = songData['mode']\n",
    "                aud_features[index+start][8] = songData['tempo']\n",
    "                aud_features[index+start][9] = songData['time_signature']\n",
    "                aud_features[index+start][10] = songData['valence']\n",
    "                aud_features[index+start][11] = songData['duration_ms']\n",
    "                aud_features[index+start][12] = songData['speechiness']\n",
    "                 \n",
    "            except:\n",
    "                print(\"Some fields not available\", index)\n",
    "\n",
    "    aud_features = aud_features[:len(names_all),]\n",
    "    track_data = pd.DataFrame({\n",
    "    'preview_url': preview_urls_all,\n",
    "    'id': track_ids_all,\n",
    "    'popularity': popularity,\n",
    "    'artists': artists_all,\n",
    "    'names': names_all,\n",
    "    'acousticness': aud_features[:,0],\n",
    "    'danceability': aud_features[:,1],\n",
    "    'energy': aud_features[:,2],\n",
    "    'instrumentalness': aud_features[:,3],\n",
    "    'key': aud_features[:,4],\n",
    "    'liveness': aud_features[:,5],\n",
    "    'loudness': aud_features[:,6],\n",
    "    'mode': aud_features[:,7],\n",
    "    'tempo': aud_features[:,8],\n",
    "    'time_signature': aud_features[:,9],\n",
    "    'valence': aud_features[:,10],\n",
    "    'duration': aud_features[:,11],\n",
    "    'speechiness': aud_features[:,12],\n",
    "    'available_markets': num_markets\n",
    "    \n",
    "   \n",
    "    })\n",
    "    #q.put(track_data)\n",
    "    print(len(num_markets), len(popularity), aud_features.shape)\n",
    "    #name = multiprocessing.current_process().name\n",
    "    print('Exiting')\n",
    "    return track_data\n"
   ]
  },
  {
   "cell_type": "markdown",
   "metadata": {},
   "source": [
    "### Get all Spotify features for Bucket 1"
   ]
  },
  {
   "cell_type": "code",
   "execution_count": 145,
   "metadata": {
    "collapsed": false
   },
   "outputs": [
    {
     "name": "stdout",
     "output_type": "stream",
     "text": [
      "200\n",
      "1\n",
      "Couldn't get data 49\n",
      "200 200 (200, 13)\n",
      "Exiting\n"
     ]
    }
   ],
   "source": [
    "print(len(top_tracks_related_artists))\n",
    "top_tracks_df = get_spotify_features(track_ids=top_tracks_related_artists) "
   ]
  },
  {
   "cell_type": "code",
   "execution_count": 197,
   "metadata": {
    "collapsed": false
   },
   "outputs": [
    {
     "data": {
      "text/html": [
       "<div>\n",
       "<table border=\"1\" class=\"dataframe\">\n",
       "  <thead>\n",
       "    <tr style=\"text-align: right;\">\n",
       "      <th></th>\n",
       "      <th>acousticness</th>\n",
       "      <th>artists</th>\n",
       "      <th>available_markets</th>\n",
       "      <th>danceability</th>\n",
       "      <th>duration</th>\n",
       "      <th>energy</th>\n",
       "      <th>id</th>\n",
       "      <th>instrumentalness</th>\n",
       "      <th>key</th>\n",
       "      <th>liveness</th>\n",
       "      <th>loudness</th>\n",
       "      <th>mode</th>\n",
       "      <th>names</th>\n",
       "      <th>popularity</th>\n",
       "      <th>preview_url</th>\n",
       "      <th>speechiness</th>\n",
       "      <th>tempo</th>\n",
       "      <th>time_signature</th>\n",
       "      <th>valence</th>\n",
       "    </tr>\n",
       "  </thead>\n",
       "  <tbody>\n",
       "    <tr>\n",
       "      <th>0</th>\n",
       "      <td>0.583</td>\n",
       "      <td>Ellie Goulding</td>\n",
       "      <td>[CA, MX, US]</td>\n",
       "      <td>0.430</td>\n",
       "      <td>240867.0</td>\n",
       "      <td>0.530</td>\n",
       "      <td>3odrUVQ9tvRpkC9II2oWzx</td>\n",
       "      <td>0.000000</td>\n",
       "      <td>1.0</td>\n",
       "      <td>0.1020</td>\n",
       "      <td>-7.941</td>\n",
       "      <td>1.0</td>\n",
       "      <td>Still Falling For You - From \"Bridget Jones's ...</td>\n",
       "      <td>69</td>\n",
       "      <td>https://p.scdn.co/mp3-preview/9afcd95ec52726e1...</td>\n",
       "      <td>0.0447</td>\n",
       "      <td>96.140</td>\n",
       "      <td>4.0</td>\n",
       "      <td>0.166</td>\n",
       "    </tr>\n",
       "    <tr>\n",
       "      <th>1</th>\n",
       "      <td>0.240</td>\n",
       "      <td>Ellie Goulding</td>\n",
       "      <td>[CA, MX, US]</td>\n",
       "      <td>0.254</td>\n",
       "      <td>252534.0</td>\n",
       "      <td>0.617</td>\n",
       "      <td>2l8w0zZVn4AZNuzrht7MRT</td>\n",
       "      <td>0.000000</td>\n",
       "      <td>5.0</td>\n",
       "      <td>0.1250</td>\n",
       "      <td>-6.612</td>\n",
       "      <td>0.0</td>\n",
       "      <td>Love Me Like You Do - From \"Fifty Shades Of Grey\"</td>\n",
       "      <td>72</td>\n",
       "      <td>https://p.scdn.co/mp3-preview/a4e18eb3de6b8e6b...</td>\n",
       "      <td>0.0537</td>\n",
       "      <td>189.425</td>\n",
       "      <td>4.0</td>\n",
       "      <td>0.271</td>\n",
       "    </tr>\n",
       "    <tr>\n",
       "      <th>2</th>\n",
       "      <td>0.296</td>\n",
       "      <td>Ellie Goulding</td>\n",
       "      <td>[CA, MX, US]</td>\n",
       "      <td>0.516</td>\n",
       "      <td>231212.0</td>\n",
       "      <td>0.772</td>\n",
       "      <td>0xMd5bcWTbyXS7wPrBtZA6</td>\n",
       "      <td>0.000000</td>\n",
       "      <td>10.0</td>\n",
       "      <td>0.1010</td>\n",
       "      <td>-5.031</td>\n",
       "      <td>0.0</td>\n",
       "      <td>Burn</td>\n",
       "      <td>70</td>\n",
       "      <td>https://p.scdn.co/mp3-preview/b0b06f9ee468d539...</td>\n",
       "      <td>0.0476</td>\n",
       "      <td>87.038</td>\n",
       "      <td>4.0</td>\n",
       "      <td>0.319</td>\n",
       "    </tr>\n",
       "    <tr>\n",
       "      <th>3</th>\n",
       "      <td>0.227</td>\n",
       "      <td>Ellie Goulding</td>\n",
       "      <td>[CA, MX, US]</td>\n",
       "      <td>0.510</td>\n",
       "      <td>154435.0</td>\n",
       "      <td>0.308</td>\n",
       "      <td>0ZPfDxZn5O0L84wvPSN2iG</td>\n",
       "      <td>0.000313</td>\n",
       "      <td>0.0</td>\n",
       "      <td>0.1200</td>\n",
       "      <td>-9.168</td>\n",
       "      <td>1.0</td>\n",
       "      <td>How Long Will I Love You - Bonus Track</td>\n",
       "      <td>67</td>\n",
       "      <td>https://p.scdn.co/mp3-preview/e206717cf7253882...</td>\n",
       "      <td>0.0321</td>\n",
       "      <td>126.349</td>\n",
       "      <td>5.0</td>\n",
       "      <td>0.146</td>\n",
       "    </tr>\n",
       "    <tr>\n",
       "      <th>4</th>\n",
       "      <td>0.279</td>\n",
       "      <td>Ellie Goulding</td>\n",
       "      <td>[CA, MX, US]</td>\n",
       "      <td>0.697</td>\n",
       "      <td>213445.0</td>\n",
       "      <td>0.687</td>\n",
       "      <td>4nS1sut0R2mgmFitKIShVe</td>\n",
       "      <td>0.000005</td>\n",
       "      <td>2.0</td>\n",
       "      <td>0.0861</td>\n",
       "      <td>-6.574</td>\n",
       "      <td>0.0</td>\n",
       "      <td>On My Mind</td>\n",
       "      <td>69</td>\n",
       "      <td>https://p.scdn.co/mp3-preview/47fbaef17b5ca606...</td>\n",
       "      <td>0.0537</td>\n",
       "      <td>154.921</td>\n",
       "      <td>4.0</td>\n",
       "      <td>0.733</td>\n",
       "    </tr>\n",
       "  </tbody>\n",
       "</table>\n",
       "</div>"
      ],
      "text/plain": [
       "   acousticness         artists available_markets  danceability  duration  \\\n",
       "0         0.583  Ellie Goulding      [CA, MX, US]         0.430  240867.0   \n",
       "1         0.240  Ellie Goulding      [CA, MX, US]         0.254  252534.0   \n",
       "2         0.296  Ellie Goulding      [CA, MX, US]         0.516  231212.0   \n",
       "3         0.227  Ellie Goulding      [CA, MX, US]         0.510  154435.0   \n",
       "4         0.279  Ellie Goulding      [CA, MX, US]         0.697  213445.0   \n",
       "\n",
       "   energy                      id  instrumentalness   key  liveness  loudness  \\\n",
       "0   0.530  3odrUVQ9tvRpkC9II2oWzx          0.000000   1.0    0.1020    -7.941   \n",
       "1   0.617  2l8w0zZVn4AZNuzrht7MRT          0.000000   5.0    0.1250    -6.612   \n",
       "2   0.772  0xMd5bcWTbyXS7wPrBtZA6          0.000000  10.0    0.1010    -5.031   \n",
       "3   0.308  0ZPfDxZn5O0L84wvPSN2iG          0.000313   0.0    0.1200    -9.168   \n",
       "4   0.687  4nS1sut0R2mgmFitKIShVe          0.000005   2.0    0.0861    -6.574   \n",
       "\n",
       "   mode                                              names  popularity  \\\n",
       "0   1.0  Still Falling For You - From \"Bridget Jones's ...          69   \n",
       "1   0.0  Love Me Like You Do - From \"Fifty Shades Of Grey\"          72   \n",
       "2   0.0                                               Burn          70   \n",
       "3   1.0             How Long Will I Love You - Bonus Track          67   \n",
       "4   0.0                                         On My Mind          69   \n",
       "\n",
       "                                         preview_url  speechiness    tempo  \\\n",
       "0  https://p.scdn.co/mp3-preview/9afcd95ec52726e1...       0.0447   96.140   \n",
       "1  https://p.scdn.co/mp3-preview/a4e18eb3de6b8e6b...       0.0537  189.425   \n",
       "2  https://p.scdn.co/mp3-preview/b0b06f9ee468d539...       0.0476   87.038   \n",
       "3  https://p.scdn.co/mp3-preview/e206717cf7253882...       0.0321  126.349   \n",
       "4  https://p.scdn.co/mp3-preview/47fbaef17b5ca606...       0.0537  154.921   \n",
       "\n",
       "   time_signature  valence  \n",
       "0             4.0    0.166  \n",
       "1             4.0    0.271  \n",
       "2             4.0    0.319  \n",
       "3             5.0    0.146  \n",
       "4             4.0    0.733  "
      ]
     },
     "execution_count": 197,
     "metadata": {},
     "output_type": "execute_result"
    }
   ],
   "source": [
    "top_tracks_df.head()"
   ]
  },
  {
   "cell_type": "markdown",
   "metadata": {},
   "source": [
    "### Get Spotify API Features for Bucket 2"
   ]
  },
  {
   "cell_type": "code",
   "execution_count": 148,
   "metadata": {
    "collapsed": false
   },
   "outputs": [
    {
     "name": "stdout",
     "output_type": "stream",
     "text": [
      "1\n",
      "1001\n",
      "2001\n",
      "3001\n",
      "4001\n",
      "5001\n",
      "6001\n",
      "7001\n",
      "8001\n",
      "9001\n",
      "10001\n",
      "10262 10262 (10262, 13)\n",
      "Exiting\n"
     ]
    }
   ],
   "source": [
    "features_df = get_spotify_features(track_ids=all_related_songs)"
   ]
  },
  {
   "cell_type": "code",
   "execution_count": 149,
   "metadata": {
    "collapsed": false
   },
   "outputs": [
    {
     "data": {
      "text/html": [
       "<div>\n",
       "<table border=\"1\" class=\"dataframe\">\n",
       "  <thead>\n",
       "    <tr style=\"text-align: right;\">\n",
       "      <th></th>\n",
       "      <th>acousticness</th>\n",
       "      <th>artists</th>\n",
       "      <th>available_markets</th>\n",
       "      <th>danceability</th>\n",
       "      <th>duration</th>\n",
       "      <th>energy</th>\n",
       "      <th>id</th>\n",
       "      <th>instrumentalness</th>\n",
       "      <th>key</th>\n",
       "      <th>liveness</th>\n",
       "      <th>loudness</th>\n",
       "      <th>mode</th>\n",
       "      <th>names</th>\n",
       "      <th>popularity</th>\n",
       "      <th>preview_url</th>\n",
       "      <th>speechiness</th>\n",
       "      <th>tempo</th>\n",
       "      <th>time_signature</th>\n",
       "      <th>valence</th>\n",
       "    </tr>\n",
       "  </thead>\n",
       "  <tbody>\n",
       "    <tr>\n",
       "      <th>0</th>\n",
       "      <td>0.58100</td>\n",
       "      <td>Ed Sheeran</td>\n",
       "      <td>[AD, AR, AT, AU, BE, BG, BO, BR, CA, CH, CL, C...</td>\n",
       "      <td>0.825</td>\n",
       "      <td>233713.0</td>\n",
       "      <td>0.652</td>\n",
       "      <td>7qiZfU4dY1lWllzX7mPBI3</td>\n",
       "      <td>0.00000</td>\n",
       "      <td>1.0</td>\n",
       "      <td>0.0931</td>\n",
       "      <td>-3.183</td>\n",
       "      <td>0.0</td>\n",
       "      <td>Shape of You</td>\n",
       "      <td>99</td>\n",
       "      <td>https://p.scdn.co/mp3-preview/84462d8e1e4d0f9e...</td>\n",
       "      <td>0.0802</td>\n",
       "      <td>95.977</td>\n",
       "      <td>4.0</td>\n",
       "      <td>0.933</td>\n",
       "    </tr>\n",
       "    <tr>\n",
       "      <th>1</th>\n",
       "      <td>0.13100</td>\n",
       "      <td>ZAYN</td>\n",
       "      <td>[AD, AR, AT, AU, BE, BG, BO, BR, CA, CH, CL, C...</td>\n",
       "      <td>0.748</td>\n",
       "      <td>188491.0</td>\n",
       "      <td>0.627</td>\n",
       "      <td>000xQL6tZNLJzIrtIgxqSl</td>\n",
       "      <td>0.00000</td>\n",
       "      <td>7.0</td>\n",
       "      <td>0.0852</td>\n",
       "      <td>-6.029</td>\n",
       "      <td>1.0</td>\n",
       "      <td>Still Got Time</td>\n",
       "      <td>90</td>\n",
       "      <td>https://p.scdn.co/mp3-preview/2385471a5d35709a...</td>\n",
       "      <td>0.0644</td>\n",
       "      <td>120.963</td>\n",
       "      <td>4.0</td>\n",
       "      <td>0.513</td>\n",
       "    </tr>\n",
       "    <tr>\n",
       "      <th>2</th>\n",
       "      <td>0.44700</td>\n",
       "      <td>Emeli Sandé</td>\n",
       "      <td>[CA, MX, US]</td>\n",
       "      <td>0.597</td>\n",
       "      <td>195427.0</td>\n",
       "      <td>0.543</td>\n",
       "      <td>001NMNauIqU8t70X48P8vX</td>\n",
       "      <td>0.00000</td>\n",
       "      <td>0.0</td>\n",
       "      <td>0.2750</td>\n",
       "      <td>-10.280</td>\n",
       "      <td>1.0</td>\n",
       "      <td>Babe</td>\n",
       "      <td>39</td>\n",
       "      <td>https://p.scdn.co/mp3-preview/9551e988f6521968...</td>\n",
       "      <td>0.3100</td>\n",
       "      <td>179.880</td>\n",
       "      <td>4.0</td>\n",
       "      <td>0.784</td>\n",
       "    </tr>\n",
       "    <tr>\n",
       "      <th>3</th>\n",
       "      <td>0.09170</td>\n",
       "      <td>Sia</td>\n",
       "      <td>[PL]</td>\n",
       "      <td>0.633</td>\n",
       "      <td>217040.0</td>\n",
       "      <td>0.711</td>\n",
       "      <td>005Ua0AZQDAtOpavz5kdpW</td>\n",
       "      <td>0.00178</td>\n",
       "      <td>10.0</td>\n",
       "      <td>0.4770</td>\n",
       "      <td>-7.508</td>\n",
       "      <td>0.0</td>\n",
       "      <td>Move Your Body - Alan Walker Remix</td>\n",
       "      <td>15</td>\n",
       "      <td>https://p.scdn.co/mp3-preview/2e6451d064b9d6f7...</td>\n",
       "      <td>0.1090</td>\n",
       "      <td>128.012</td>\n",
       "      <td>4.0</td>\n",
       "      <td>0.375</td>\n",
       "    </tr>\n",
       "    <tr>\n",
       "      <th>4</th>\n",
       "      <td>0.00883</td>\n",
       "      <td>Sidonie</td>\n",
       "      <td>[ES]</td>\n",
       "      <td>0.702</td>\n",
       "      <td>268947.0</td>\n",
       "      <td>0.824</td>\n",
       "      <td>006dQ6824YZgSvIvBRhcJT</td>\n",
       "      <td>0.00000</td>\n",
       "      <td>6.0</td>\n",
       "      <td>0.0766</td>\n",
       "      <td>-4.724</td>\n",
       "      <td>1.0</td>\n",
       "      <td>Carreteras Infinitas</td>\n",
       "      <td>22</td>\n",
       "      <td>https://p.scdn.co/mp3-preview/5527a471067cde16...</td>\n",
       "      <td>0.0343</td>\n",
       "      <td>104.004</td>\n",
       "      <td>4.0</td>\n",
       "      <td>0.785</td>\n",
       "    </tr>\n",
       "  </tbody>\n",
       "</table>\n",
       "</div>"
      ],
      "text/plain": [
       "   acousticness      artists  \\\n",
       "0       0.58100   Ed Sheeran   \n",
       "1       0.13100         ZAYN   \n",
       "2       0.44700  Emeli Sandé   \n",
       "3       0.09170          Sia   \n",
       "4       0.00883      Sidonie   \n",
       "\n",
       "                                   available_markets  danceability  duration  \\\n",
       "0  [AD, AR, AT, AU, BE, BG, BO, BR, CA, CH, CL, C...         0.825  233713.0   \n",
       "1  [AD, AR, AT, AU, BE, BG, BO, BR, CA, CH, CL, C...         0.748  188491.0   \n",
       "2                                       [CA, MX, US]         0.597  195427.0   \n",
       "3                                               [PL]         0.633  217040.0   \n",
       "4                                               [ES]         0.702  268947.0   \n",
       "\n",
       "   energy                      id  instrumentalness   key  liveness  loudness  \\\n",
       "0   0.652  7qiZfU4dY1lWllzX7mPBI3           0.00000   1.0    0.0931    -3.183   \n",
       "1   0.627  000xQL6tZNLJzIrtIgxqSl           0.00000   7.0    0.0852    -6.029   \n",
       "2   0.543  001NMNauIqU8t70X48P8vX           0.00000   0.0    0.2750   -10.280   \n",
       "3   0.711  005Ua0AZQDAtOpavz5kdpW           0.00178  10.0    0.4770    -7.508   \n",
       "4   0.824  006dQ6824YZgSvIvBRhcJT           0.00000   6.0    0.0766    -4.724   \n",
       "\n",
       "   mode                               names  popularity  \\\n",
       "0   0.0                        Shape of You          99   \n",
       "1   1.0                      Still Got Time          90   \n",
       "2   1.0                                Babe          39   \n",
       "3   0.0  Move Your Body - Alan Walker Remix          15   \n",
       "4   1.0                Carreteras Infinitas          22   \n",
       "\n",
       "                                         preview_url  speechiness    tempo  \\\n",
       "0  https://p.scdn.co/mp3-preview/84462d8e1e4d0f9e...       0.0802   95.977   \n",
       "1  https://p.scdn.co/mp3-preview/2385471a5d35709a...       0.0644  120.963   \n",
       "2  https://p.scdn.co/mp3-preview/9551e988f6521968...       0.3100  179.880   \n",
       "3  https://p.scdn.co/mp3-preview/2e6451d064b9d6f7...       0.1090  128.012   \n",
       "4  https://p.scdn.co/mp3-preview/5527a471067cde16...       0.0343  104.004   \n",
       "\n",
       "   time_signature  valence  \n",
       "0             4.0    0.933  \n",
       "1             4.0    0.513  \n",
       "2             4.0    0.784  \n",
       "3             4.0    0.375  \n",
       "4             4.0    0.785  "
      ]
     },
     "execution_count": 149,
     "metadata": {},
     "output_type": "execute_result"
    }
   ],
   "source": [
    "features_df.head()"
   ]
  },
  {
   "cell_type": "markdown",
   "metadata": {},
   "source": [
    "## Find most similar songs acoustically"
   ]
  },
  {
   "cell_type": "markdown",
   "metadata": {},
   "source": [
    "### Calculate the distance between the input song and related songs"
   ]
  },
  {
   "cell_type": "code",
   "execution_count": 150,
   "metadata": {
    "collapsed": false
   },
   "outputs": [
    {
     "data": {
      "text/html": [
       "<div>\n",
       "<table border=\"1\" class=\"dataframe\">\n",
       "  <thead>\n",
       "    <tr style=\"text-align: right;\">\n",
       "      <th></th>\n",
       "      <th>acousticness</th>\n",
       "      <th>danceability</th>\n",
       "      <th>duration</th>\n",
       "      <th>energy</th>\n",
       "      <th>instrumentalness</th>\n",
       "      <th>liveness</th>\n",
       "      <th>loudness</th>\n",
       "      <th>speechiness</th>\n",
       "      <th>tempo</th>\n",
       "      <th>valence</th>\n",
       "    </tr>\n",
       "  </thead>\n",
       "  <tbody>\n",
       "    <tr>\n",
       "      <th>0</th>\n",
       "      <td>0.58100</td>\n",
       "      <td>0.825</td>\n",
       "      <td>233713.0</td>\n",
       "      <td>0.652</td>\n",
       "      <td>0.00000</td>\n",
       "      <td>0.0931</td>\n",
       "      <td>-3.183</td>\n",
       "      <td>0.0802</td>\n",
       "      <td>95.977</td>\n",
       "      <td>0.933</td>\n",
       "    </tr>\n",
       "    <tr>\n",
       "      <th>1</th>\n",
       "      <td>0.13100</td>\n",
       "      <td>0.748</td>\n",
       "      <td>188491.0</td>\n",
       "      <td>0.627</td>\n",
       "      <td>0.00000</td>\n",
       "      <td>0.0852</td>\n",
       "      <td>-6.029</td>\n",
       "      <td>0.0644</td>\n",
       "      <td>120.963</td>\n",
       "      <td>0.513</td>\n",
       "    </tr>\n",
       "    <tr>\n",
       "      <th>2</th>\n",
       "      <td>0.44700</td>\n",
       "      <td>0.597</td>\n",
       "      <td>195427.0</td>\n",
       "      <td>0.543</td>\n",
       "      <td>0.00000</td>\n",
       "      <td>0.2750</td>\n",
       "      <td>-10.280</td>\n",
       "      <td>0.3100</td>\n",
       "      <td>179.880</td>\n",
       "      <td>0.784</td>\n",
       "    </tr>\n",
       "    <tr>\n",
       "      <th>3</th>\n",
       "      <td>0.09170</td>\n",
       "      <td>0.633</td>\n",
       "      <td>217040.0</td>\n",
       "      <td>0.711</td>\n",
       "      <td>0.00178</td>\n",
       "      <td>0.4770</td>\n",
       "      <td>-7.508</td>\n",
       "      <td>0.1090</td>\n",
       "      <td>128.012</td>\n",
       "      <td>0.375</td>\n",
       "    </tr>\n",
       "    <tr>\n",
       "      <th>4</th>\n",
       "      <td>0.00883</td>\n",
       "      <td>0.702</td>\n",
       "      <td>268947.0</td>\n",
       "      <td>0.824</td>\n",
       "      <td>0.00000</td>\n",
       "      <td>0.0766</td>\n",
       "      <td>-4.724</td>\n",
       "      <td>0.0343</td>\n",
       "      <td>104.004</td>\n",
       "      <td>0.785</td>\n",
       "    </tr>\n",
       "  </tbody>\n",
       "</table>\n",
       "</div>"
      ],
      "text/plain": [
       "   acousticness  danceability  duration  energy  instrumentalness  liveness  \\\n",
       "0       0.58100         0.825  233713.0   0.652           0.00000    0.0931   \n",
       "1       0.13100         0.748  188491.0   0.627           0.00000    0.0852   \n",
       "2       0.44700         0.597  195427.0   0.543           0.00000    0.2750   \n",
       "3       0.09170         0.633  217040.0   0.711           0.00178    0.4770   \n",
       "4       0.00883         0.702  268947.0   0.824           0.00000    0.0766   \n",
       "\n",
       "   loudness  speechiness    tempo  valence  \n",
       "0    -3.183       0.0802   95.977    0.933  \n",
       "1    -6.029       0.0644  120.963    0.513  \n",
       "2   -10.280       0.3100  179.880    0.784  \n",
       "3    -7.508       0.1090  128.012    0.375  \n",
       "4    -4.724       0.0343  104.004    0.785  "
      ]
     },
     "execution_count": 150,
     "metadata": {},
     "output_type": "execute_result"
    }
   ],
   "source": [
    "from scipy.spatial.distance import cityblock\n",
    "distance_features = features_df[['acousticness', 'danceability', \n",
    "                                 'duration', 'energy', 'instrumentalness', 'liveness', \n",
    "                                 'loudness', 'speechiness', 'tempo', 'valence']]\n",
    "distance_features.head()"
   ]
  },
  {
   "cell_type": "code",
   "execution_count": 151,
   "metadata": {
    "collapsed": false
   },
   "outputs": [
    {
     "name": "stdout",
     "output_type": "stream",
     "text": [
      "10261\n",
      "(10261,)\n"
     ]
    },
    {
     "data": {
      "text/plain": [
       "7321.1311999999998"
      ]
     },
     "execution_count": 151,
     "metadata": {},
     "output_type": "execute_result"
    }
   ],
   "source": [
    "seed_features = distance_features.ix[0,]\n",
    "related_features = distance_features.ix[1:,]\n",
    "print(len(related_features))\n",
    "sample_size = len(related_features)\n",
    "distance_vector = np.empty((sample_size))\n",
    "for index,row in related_features.iterrows():\n",
    "    if index>sample_size-1: break\n",
    "    #print(row)\n",
    "    distance_vector[index]=cityblock(seed_features, row)\n",
    "print(distance_vector.shape)\n",
    "distance_vector[10015]"
   ]
  },
  {
   "cell_type": "markdown",
   "metadata": {},
   "source": [
    "### Sort the distance output and find the 500 most acoustically similar songs"
   ]
  },
  {
   "cell_type": "code",
   "execution_count": 159,
   "metadata": {
    "collapsed": false
   },
   "outputs": [
    {
     "data": {
      "text/html": [
       "<a href=https://p.scdn.co/mp3-preview/84462d8e1e4d0f9e5ccd06f0da390f65843774a2?cid=4a1a457d14c0445a96e7021a5523905b>preview seed song</a>"
      ],
      "text/plain": [
       "<IPython.core.display.HTML object>"
      ]
     },
     "metadata": {},
     "output_type": "display_data"
    },
    {
     "name": "stdout",
     "output_type": "stream",
     "text": [
      "Ed Sheeran 7qiZfU4dY1lWllzX7mPBI3\n"
     ]
    },
    {
     "data": {
      "text/html": [
       "<a href=https://p.scdn.co/mp3-preview/84462d8e1e4d0f9e5ccd06f0da390f65843774a2?cid=4a1a457d14c0445a96e7021a5523905b>preview related song #0</a>"
      ],
      "text/plain": [
       "<IPython.core.display.HTML object>"
      ]
     },
     "metadata": {},
     "output_type": "display_data"
    },
    {
     "name": "stdout",
     "output_type": "stream",
     "text": [
      "Crowded House 6lLPLfz3R9LMxlLu5r1ms9\n"
     ]
    },
    {
     "data": {
      "text/html": [
       "<a href=https://p.scdn.co/mp3-preview/eac92d0c3117a7ba9c93258e43524f5ec75e929e?cid=4a1a457d14c0445a96e7021a5523905b>preview related song #1</a>"
      ],
      "text/plain": [
       "<IPython.core.display.HTML object>"
      ]
     },
     "metadata": {},
     "output_type": "display_data"
    },
    {
     "name": "stdout",
     "output_type": "stream",
     "text": [
      "MØ 1FDRsQSUu2l88pCde68XxZ\n"
     ]
    },
    {
     "data": {
      "text/html": [
       "<a href=https://p.scdn.co/mp3-preview/ad6c8d71cc8666a6dfac50f133bb9243c30858a6?cid=4a1a457d14c0445a96e7021a5523905b>preview related song #2</a>"
      ],
      "text/plain": [
       "<IPython.core.display.HTML object>"
      ]
     },
     "metadata": {},
     "output_type": "display_data"
    },
    {
     "name": "stdout",
     "output_type": "stream",
     "text": [
      "Calvin Harris 2nPYML5WnGJBiOrBnMsjfp\n"
     ]
    },
    {
     "data": {
      "text/html": [
       "<a href=https://p.scdn.co/mp3-preview/52924540ddf8293eb0ffd67b4397069b65baabbd?cid=4a1a457d14c0445a96e7021a5523905b>preview related song #3</a>"
      ],
      "text/plain": [
       "<IPython.core.display.HTML object>"
      ]
     },
     "metadata": {},
     "output_type": "display_data"
    },
    {
     "name": "stdout",
     "output_type": "stream",
     "text": [
      "Ellie Goulding 5EurZLrwTEL7eUVtr0zHiT\n"
     ]
    },
    {
     "data": {
      "text/html": [
       "<a href=https://p.scdn.co/mp3-preview/b6acb3610bc16deebfaeab5defaa7586417cedf0?cid=4a1a457d14c0445a96e7021a5523905b>preview related song #4</a>"
      ],
      "text/plain": [
       "<IPython.core.display.HTML object>"
      ]
     },
     "metadata": {},
     "output_type": "display_data"
    },
    {
     "name": "stdout",
     "output_type": "stream",
     "text": [
      "Ellie Goulding 6n7wUelYPaKsuL2HmrmlBY\n"
     ]
    },
    {
     "data": {
      "text/html": [
       "<a href=https://p.scdn.co/mp3-preview/cdd65d92da5362fc9366234f4f00a2b50c870ed4?cid=4a1a457d14c0445a96e7021a5523905b>preview related song #5</a>"
      ],
      "text/plain": [
       "<IPython.core.display.HTML object>"
      ]
     },
     "metadata": {},
     "output_type": "display_data"
    },
    {
     "name": "stdout",
     "output_type": "stream",
     "text": [
      "Christine and the Queens 0cQXynqlLIPaY2GKV3y4SD\n"
     ]
    },
    {
     "data": {
      "text/html": [
       "<a href=None>preview related song #6</a>"
      ],
      "text/plain": [
       "<IPython.core.display.HTML object>"
      ]
     },
     "metadata": {},
     "output_type": "display_data"
    },
    {
     "name": "stdout",
     "output_type": "stream",
     "text": [
      "Solano 0TGtD6fbpp2MIzwFdtEyXx\n"
     ]
    },
    {
     "data": {
      "text/html": [
       "<a href=https://p.scdn.co/mp3-preview/3e14f6537582f0b7aec696fbb07ce8135df2e959?cid=4a1a457d14c0445a96e7021a5523905b>preview related song #7</a>"
      ],
      "text/plain": [
       "<IPython.core.display.HTML object>"
      ]
     },
     "metadata": {},
     "output_type": "display_data"
    },
    {
     "name": "stdout",
     "output_type": "stream",
     "text": [
      "All Saints 5dKpYLYmuN6t12ucMLvBJM\n"
     ]
    },
    {
     "data": {
      "text/html": [
       "<a href=None>preview related song #8</a>"
      ],
      "text/plain": [
       "<IPython.core.display.HTML object>"
      ]
     },
     "metadata": {},
     "output_type": "display_data"
    },
    {
     "name": "stdout",
     "output_type": "stream",
     "text": [
      "Daniel Powter 5SraAzB6oA1mwWj9vvNZG6\n"
     ]
    },
    {
     "data": {
      "text/html": [
       "<a href=https://p.scdn.co/mp3-preview/0124255ee5fc654a8fdf8573181d516f1eb1f410?cid=4a1a457d14c0445a96e7021a5523905b>preview related song #9</a>"
      ],
      "text/plain": [
       "<IPython.core.display.HTML object>"
      ]
     },
     "metadata": {},
     "output_type": "display_data"
    }
   ],
   "source": [
    "min_indices = distance_vector.argsort()[0:500:]\n",
    "top_similarity_index = min_indices[2]\n",
    "top_similarity_index\n",
    "related_all_features_with_seed = features_df.ix[:]\n",
    "seed_all_features = features_df.ix[0,]\n",
    "link = '<a href=' + str(seed_all_features['preview_url']) + '>preview seed song</a>'\n",
    "display(HTML(link))\n",
    "for each in range(10):\n",
    "    print(related_all_features_with_seed['artists'][min_indices[each]], related_all_features_with_seed['id'][min_indices[each]])\n",
    "    link = '<a href=' + str(related_all_features_with_seed['preview_url'][min_indices[each]]) + '>preview related song #'+str(each)+ '</a>'\n",
    "    display(HTML(link))"
   ]
  },
  {
   "cell_type": "code",
   "execution_count": 49,
   "metadata": {
    "collapsed": true
   },
   "outputs": [],
   "source": [
    "#features_df.to_csv('related_songs.csv', encoding='utf-8')"
   ]
  },
  {
   "cell_type": "markdown",
   "metadata": {},
   "source": [
    "### Bucket 1: Top tracks from related artists"
   ]
  },
  {
   "cell_type": "code",
   "execution_count": 167,
   "metadata": {
    "collapsed": false
   },
   "outputs": [
    {
     "name": "stdout",
     "output_type": "stream",
     "text": [
      "(200, 19)\n",
      "(200, 19)\n"
     ]
    },
    {
     "data": {
      "text/plain": [
       "array([u'3odrUVQ9tvRpkC9II2oWzx', u'2l8w0zZVn4AZNuzrht7MRT',\n",
       "       u'0xMd5bcWTbyXS7wPrBtZA6', u'0ZPfDxZn5O0L84wvPSN2iG',\n",
       "       u'4nS1sut0R2mgmFitKIShVe'], dtype=object)"
      ]
     },
     "execution_count": 167,
     "metadata": {},
     "output_type": "execute_result"
    }
   ],
   "source": [
    "print(top_tracks_df.shape)\n",
    "nona = top_tracks_df.dropna()\n",
    "print(nona.shape)\n",
    "bucket1 = nona['id'].values\n",
    "bucket1[:5]"
   ]
  },
  {
   "cell_type": "markdown",
   "metadata": {},
   "source": [
    "### Bucket 2: Any tracks from related artists"
   ]
  },
  {
   "cell_type": "code",
   "execution_count": 169,
   "metadata": {
    "collapsed": false
   },
   "outputs": [
    {
     "name": "stdout",
     "output_type": "stream",
     "text": [
      "(8784, 19)\n",
      "(8784,)\n"
     ]
    },
    {
     "data": {
      "text/plain": [
       "array([u'7qiZfU4dY1lWllzX7mPBI3', u'000xQL6tZNLJzIrtIgxqSl',\n",
       "       u'001NMNauIqU8t70X48P8vX', u'005Ua0AZQDAtOpavz5kdpW',\n",
       "       u'006dQ6824YZgSvIvBRhcJT'], dtype=object)"
      ]
     },
     "execution_count": 169,
     "metadata": {},
     "output_type": "execute_result"
    }
   ],
   "source": [
    "nona = features_df.dropna()\n",
    "print(nona.shape)\n",
    "all_related_songs = nona['id'].values\n",
    "print(all_related_songs.shape)\n",
    "bucket2 = all_related_songs\n",
    "bucket2[:5]"
   ]
  },
  {
   "cell_type": "markdown",
   "metadata": {},
   "source": [
    "### Bucket 3: Tracks from related artists identified as similar songs (using manhattan distance + Spotify API features)"
   ]
  },
  {
   "cell_type": "code",
   "execution_count": 165,
   "metadata": {
    "collapsed": false
   },
   "outputs": [
    {
     "data": {
      "text/plain": [
       "array([u'7qiZfU4dY1lWllzX7mPBI3', u'6lLPLfz3R9LMxlLu5r1ms9',\n",
       "       u'1FDRsQSUu2l88pCde68XxZ', u'2nPYML5WnGJBiOrBnMsjfp',\n",
       "       u'5EurZLrwTEL7eUVtr0zHiT'], dtype=object)"
      ]
     },
     "execution_count": 165,
     "metadata": {},
     "output_type": "execute_result"
    }
   ],
   "source": [
    "bucket3 = related_all_features_with_seed['id'][min_indices].values\n",
    "bucket3[:5]"
   ]
  },
  {
   "cell_type": "markdown",
   "metadata": {},
   "source": [
    "### Bucket 4: Tracks from our database identified as similar (using raw audio  + vantage point method)"
   ]
  },
  {
   "cell_type": "markdown",
   "metadata": {},
   "source": [
    "# Optimization\n",
    "\n",
    "### Train Random Forest Model"
   ]
  },
  {
   "cell_type": "code",
   "execution_count": 170,
   "metadata": {
    "collapsed": false
   },
   "outputs": [],
   "source": [
    "## Popularity Prediction for New Playlist\n",
    "\n",
    "#libraries\n",
    "\n",
    "import pandas as pd\n",
    "import numpy as np\n",
    "from sklearn.ensemble import RandomForestClassifier as RFC\n",
    "from sklearn.cross_validation import train_test_split\n",
    "import spotipy\n",
    "import spotipy.util as util\n",
    "from spotipy.oauth2 import SpotifyClientCredentials\n",
    "import sys\n",
    "from sklearn.metrics import mean_squared_error\n",
    "from math import sqrt\n",
    "\n",
    "# Step 1 - train the random forest\n",
    "\n",
    "api_data = pd.read_csv('playlist_data_with_sequencing_4.8.17.csv')\n",
    "api_data = api_data.dropna()\n",
    "del api_data['Unnamed: 0']\n",
    "del api_data['names']\n",
    "del api_data['playlist_id']\n",
    "api_data.head()\n",
    "\n",
    "a = pd.qcut(api_data[\"followers\"], 5,labels=range(1,6))\n",
    "api_data['followers'] = np.array(a)\n",
    "\n",
    "y = api_data['followers']\n",
    "X = api_data.drop(['followers'],axis=1)\n",
    "X = X.drop(['featured'],axis=1)\n",
    "X_train, X_test, y_train, y_test = train_test_split(X, y, test_size=0.33)\n",
    "\n",
    "\n",
    "rfc = RFC(n_estimators = 100, max_depth = 29)\n",
    "rfc.fit(X_train, y_train)\n",
    "\n",
    "client_credentials_manager = SpotifyClientCredentials(client_id='df846cfd28e745178054587b3484f91c',client_secret='e3d39fc92a954e028ff1490288f3fe5c')\n",
    "sp = spotipy.Spotify(client_credentials_manager=client_credentials_manager)\n"
   ]
  },
  {
   "cell_type": "markdown",
   "metadata": {},
   "source": [
    "### Function to generate predicted class probabilities for playlist popularity from a list of input track ids"
   ]
  },
  {
   "cell_type": "code",
   "execution_count": 199,
   "metadata": {
    "collapsed": false
   },
   "outputs": [],
   "source": [
    "def getTrack(track_id):\n",
    "    #print(track_id)\n",
    "    try:\n",
    "        listing = features_df[features_df['id']==track_id]\n",
    "        popularity = listing['popularity'].values[0]\n",
    "    except IndexError:\n",
    "        listing = top_tracks_df[top_tracks_df['id']==track_id]\n",
    "    popularity = listing['popularity'].values[0]\n",
    "    num_markets = listing['available_markets'].values[0]\n",
    "    return {\"popularity\": popularity,\n",
    "           'available_markets': num_markets}\n",
    "\n",
    "def getAudioFeatures(list_of_ids):\n",
    "    try:\n",
    "        listing = features_df[features_df['id'].isin(list_of_ids)]\n",
    "        acousticness = listing['acousticness'].values[0]\n",
    "    except:\n",
    "        listing = top_tracks_df[top_tracks_df['id'].isin(list_of_ids)]\n",
    "    return listing[['acousticness', 'danceability', \n",
    "                                 'energy', 'instrumentalness', 'key','liveness', \n",
    "                                 'loudness', 'mode','tempo','time_signature','valence','duration']].values\n",
    "def chunks(seq, num):\n",
    "    avg = len(seq) / float(num)\n",
    "    out = []\n",
    "    last = 0.0\n",
    "    \n",
    "    while last < len(seq):\n",
    "        out.append(seq[int(last):int(last + avg)])\n",
    "        last += avg\n",
    "        \n",
    "    return out\n",
    "\n",
    "def gen_row(list_of_tracks):\n",
    "            \n",
    "    parts = chunks(list_of_tracks,4)\n",
    "                    \n",
    "    p1 = parts[0]\n",
    "    p2 = parts[1]\n",
    "    p3 = parts[2]\n",
    "    p4 = parts[3]\n",
    "    \n",
    "    t_popularities = []\n",
    "    t_num_markets = []\n",
    "                \n",
    "    for track in list_of_tracks:\n",
    "        listing = getTrack(track)\n",
    "        t_popularities.append(listing['popularity'])\n",
    "        t_num_markets.append(len(listing['available_markets']))\n",
    "                                        \n",
    "    t_pop = np.mean(t_popularities)\n",
    "    t_av_num_markets = np.mean(t_num_markets)\n",
    "\n",
    "    #t_features = sp.audio_features(tracks = list_of_tracks)\n",
    "    feat_len = len(list_of_tracks)\n",
    "    #t_feature_matrix = np.empty((feat_len,12))\n",
    "    t_feature_matrix = getAudioFeatures(list_of_tracks)\n",
    "#     for ix, song in enumerate(t_features):\n",
    "  \n",
    "#         t_feature_matrix[ix][0] = song['acousticness']\n",
    "#         t_feature_matrix[ix][1] = song['danceability']\n",
    "#         t_feature_matrix[ix][2] = song['energy']\n",
    "#         t_feature_matrix[ix][3] = song['instrumentalness']\n",
    "#         t_feature_matrix[ix][4] = song['key']\n",
    "#         t_feature_matrix[ix][5] = song['liveness']\n",
    "#         t_feature_matrix[ix][6] = song['loudness']\n",
    "#         t_feature_matrix[ix][7] = song['mode']\n",
    "#         t_feature_matrix[ix][8] = song['tempo']\n",
    "#         t_feature_matrix[ix][9] = song['time_signature']\n",
    "#         t_feature_matrix[ix][10] = song['valence']\n",
    "#         t_feature_matrix[ix][11] = song['duration_ms']\n",
    "                            \n",
    "    t_feature_median = np.percentile(t_feature_matrix,50,axis=0)\n",
    "                    # Part 1\n",
    "                    \n",
    "    p1_popularities = []\n",
    "    p1_num_markets = []\n",
    "                    \n",
    "    for track in p1:\n",
    "        listing = getTrack(track)\n",
    "        p1_popularities.append(listing['popularity'])\n",
    "        p1_num_markets.append(len(listing['available_markets']))\n",
    "    \n",
    "    p1_pop = np.mean(p1_popularities)\n",
    "    p1_av_num_markets = np.mean(p1_num_markets)\n",
    "    \n",
    "    #p1_features = sp.audio_features(tracks = p1)\n",
    "    p1_len = len(p1)\n",
    "    #p1_feature_matrix = np.empty((p1_len,12))\n",
    "    p1_feature_matrix = getAudioFeatures(p1)\n",
    "                    \n",
    "#     for ix, song in enumerate(p1_features):\n",
    "#         p1_feature_matrix[ix][0] = song['acousticness']\n",
    "#         p1_feature_matrix[ix][1] = song['danceability']\n",
    "#         p1_feature_matrix[ix][2] = song['energy']\n",
    "#         p1_feature_matrix[ix][3] = song['instrumentalness']\n",
    "#         p1_feature_matrix[ix][4] = song['key']\n",
    "#         p1_feature_matrix[ix][5] = song['liveness']\n",
    "#         p1_feature_matrix[ix][6] = song['loudness']\n",
    "#         p1_feature_matrix[ix][7] = song['mode']\n",
    "#         p1_feature_matrix[ix][8] = song['tempo']\n",
    "#         p1_feature_matrix[ix][9] = song['time_signature']\n",
    "#         p1_feature_matrix[ix][10] = song['valence']\n",
    "#         p1_feature_matrix[ix][11] = song['duration_ms']\n",
    "                        \n",
    "    p1_feature_median = np.percentile(p1_feature_matrix,50,axis=0)\n",
    "                    # Part 2\n",
    "                    \n",
    "    p2_popularities = []\n",
    "    p2_num_markets = []\n",
    "                    \n",
    "    for track in p2:\n",
    "        listing = getTrack(track)\n",
    "        p2_popularities.append(listing['popularity'])\n",
    "        p2_num_markets.append(len(listing['available_markets']))\n",
    "    \n",
    "    p2_pop = np.mean(p2_popularities)\n",
    "    p2_av_num_markets = np.mean(p2_num_markets)\n",
    "    \n",
    "    #p2_features = sp.audio_features(tracks = p2)\n",
    "\n",
    "    p2_len = len(p2)\n",
    "    #p2_feature_matrix = np.empty((p2_len,12))\n",
    "    p2_feature_matrix = getAudioFeatures(p2)\n",
    "                 \n",
    "#     for ix, song in enumerate(p2_features):\n",
    "#         p2_feature_matrix[ix][0] = song['acousticness']\n",
    "#         p2_feature_matrix[ix][1] = song['danceability']\n",
    "#         p2_feature_matrix[ix][2] = song['energy']\n",
    "#         p2_feature_matrix[ix][3] = song['instrumentalness']\n",
    "#         p2_feature_matrix[ix][4] = song['key']\n",
    "#         p2_feature_matrix[ix][5] = song['liveness']\n",
    "#         p2_feature_matrix[ix][6] = song['loudness']\n",
    "#         p2_feature_matrix[ix][7] = song['mode']\n",
    "#         p2_feature_matrix[ix][8] = song['tempo']\n",
    "#         p2_feature_matrix[ix][9] = song['time_signature']\n",
    "#         p2_feature_matrix[ix][10] = song['valence']\n",
    "#         p2_feature_matrix[ix][11] = song['duration_ms']\n",
    "                        \n",
    "    p2_feature_median = np.percentile(p2_feature_matrix,50,axis=0)\n",
    "    \n",
    "                        # Part 3\n",
    "                    \n",
    "    p3_popularities = []\n",
    "    p3_num_markets = []\n",
    "                  \n",
    "    for track in p3:\n",
    "        listing = getTrack(track)\n",
    "        p3_popularities.append(listing['popularity'])\n",
    "        p3_num_markets.append(len(listing['available_markets']))\n",
    "    \n",
    "    p3_pop = np.mean(p3_popularities)\n",
    "    p3_av_num_markets = np.mean(p3_num_markets)\n",
    "    \n",
    "    #p3_features = sp.audio_features(tracks = p3)\n",
    "    p3_len = len(p3)\n",
    "    #p3_feature_matrix = np.empty((p3_len,12))\n",
    "    p3_feature_matrix = getAudioFeatures(p3)\n",
    "                \n",
    "#     for ix, song in enumerate(p3_features):\n",
    "#         p3_feature_matrix[ix][0] = song['acousticness']\n",
    "#         p3_feature_matrix[ix][1] = song['danceability']\n",
    "#         p3_feature_matrix[ix][2] = song['energy']\n",
    "#         p3_feature_matrix[ix][3] = song['instrumentalness']\n",
    "#         p3_feature_matrix[ix][4] = song['key']\n",
    "#         p3_feature_matrix[ix][5] = song['liveness']\n",
    "#         p3_feature_matrix[ix][6] = song['loudness']\n",
    "#         p3_feature_matrix[ix][7] = song['mode']\n",
    "#         p3_feature_matrix[ix][8] = song['tempo']\n",
    "#         p3_feature_matrix[ix][9] = song['time_signature']\n",
    "#         p3_feature_matrix[ix][10] = song['valence']\n",
    "#         p3_feature_matrix[ix][11] = song['duration_ms']\n",
    "                        \n",
    "    p3_feature_median = np.percentile(p3_feature_matrix,50,axis=0)\n",
    "    \n",
    "                        # Part 4\n",
    "                    \n",
    "    p4_popularities = []\n",
    "    p4_num_markets = []\n",
    "                    \n",
    "    for track in p4:\n",
    "        listing = getTrack(track)\n",
    "        p4_popularities.append(listing['popularity'])\n",
    "        p4_num_markets.append(len(listing['available_markets']))\n",
    "    \n",
    "    p4_pop = np.mean(p4_popularities)\n",
    "    p4_av_num_markets = np.mean(p4_num_markets)\n",
    "    \n",
    "    #p4_features = sp.audio_features(tracks = p4)\n",
    "    p4_len = len(p4)\n",
    "    #p4_feature_matrix = np.empty((p4_len,12))\n",
    "    p4_feature_matrix = getAudioFeatures(p4)\n",
    "             \n",
    "#     for ix, song in enumerate(p4_features):\n",
    "#         p4_feature_matrix[ix][0] = song['acousticness']\n",
    "#         p4_feature_matrix[ix][1] = song['danceability']\n",
    "#         p4_feature_matrix[ix][2] = song['energy']\n",
    "#         p4_feature_matrix[ix][3] = song['instrumentalness']\n",
    "#         p4_feature_matrix[ix][4] = song['key']\n",
    "#         p4_feature_matrix[ix][5] = song['liveness']\n",
    "#         p4_feature_matrix[ix][6] = song['loudness']\n",
    "#         p4_feature_matrix[ix][7] = song['mode']\n",
    "#         p4_feature_matrix[ix][8] = song['tempo']\n",
    "#         p4_feature_matrix[ix][9] = song['time_signature']\n",
    "#         p4_feature_matrix[ix][10] = song['valence']\n",
    "#         p4_feature_matrix[ix][11] = song['duration_ms']\n",
    "                        \n",
    "    p4_feature_median = np.percentile(p4_feature_matrix,50,axis=0)\n",
    "           \n",
    "    playlist_data = pd.Series({\n",
    "                    #'followers': followers,\n",
    "                    #'names' : names,\n",
    "                    #'playlist_id' : playlist_ids,\n",
    "                    'total_tracks' : len(list_of_tracks),\n",
    "                    #'featured' : featured,\n",
    "                    'acousticness': p1_feature_median[0],\n",
    "                    'danceability': p1_feature_median[1],\n",
    "                    'energy': p1_feature_median[2],\n",
    "                    'instrumentalness': p1_feature_median[3],\n",
    "                    'key': p1_feature_median[4],\n",
    "                    'liveness': p1_feature_median[5],\n",
    "                    'loudness': p1_feature_median[6],\n",
    "                    'mode': p1_feature_median[7],\n",
    "                    'tempo': p1_feature_median[8],\n",
    "                    'time_signature': p1_feature_median[9],\n",
    "                    'valence': p1_feature_median[10],\n",
    "                    'duration': p1_feature_median[11],\n",
    "                    'popularity':np.mean(t_pop),\n",
    "                    'mean_num_markets': np.mean(t_av_num_markets),\n",
    "                    #'avg_years' : t_release_date,\n",
    "\n",
    "                    'p1_acousticness': p1_feature_median[0],\n",
    "                    'p1_danceability': p1_feature_median[1],\n",
    "                    'p1_energy': p1_feature_median[2],\n",
    "                    'p1_instrumentalness': p1_feature_median[3],\n",
    "                    'p1_key': p1_feature_median[4],\n",
    "                    'p1_liveness': p1_feature_median[5],\n",
    "                    'p1_loudness': p1_feature_median[6],\n",
    "                    'p1_mode': p1_feature_median[7],\n",
    "                    'p1_tempo': p1_feature_median[8],\n",
    "                    'p1_time_signature': p1_feature_median[9],\n",
    "                    'p1_valence': p1_feature_median[10],\n",
    "                    'p1_duration': p1_feature_median[11],\n",
    "                    'p1_popularity': p1_pop,\n",
    "                    'p1_mean_num_markets': p1_av_num_markets,\n",
    "                    #'p1_avg_years': p1_release_date,\n",
    "\n",
    "                    'p2_acousticness': p2_feature_median[0],\n",
    "                    'p2_danceability': p2_feature_median[1],\n",
    "                    'p2_energy': p2_feature_median[2],\n",
    "                    'p2_instrumentalness': p2_feature_median[3],\n",
    "                    'p2_key': p2_feature_median[4],\n",
    "                    'p2_liveness': p2_feature_median[5],\n",
    "                    'p2_loudness': p2_feature_median[6],\n",
    "                    'p2_mode': p2_feature_median[7],\n",
    "                    'p2_tempo': p2_feature_median[8],\n",
    "                    'p2_time_signature': p2_feature_median[9],\n",
    "                    'p2_valence': p2_feature_median[10],\n",
    "                    'p2_duration': p2_feature_median[11],\n",
    "                    'p2_popularity': p2_pop,\n",
    "                    'p2_mean_num_markets': p2_av_num_markets,\n",
    "                    #'p2_avg_years': p2_release_date,\n",
    "\n",
    "                    'p3_acousticness': p3_feature_median[0],\n",
    "                    'p3_danceability': p3_feature_median[1],\n",
    "                    'p3_energy': p3_feature_median[2],\n",
    "                    'p3_instrumentalness': p3_feature_median[3],\n",
    "                    'p3_key': p3_feature_median[4],\n",
    "                    'p3_liveness': p3_feature_median[5],\n",
    "                    'p3_loudness': p3_feature_median[6],\n",
    "                    'p3_mode': p3_feature_median[7],\n",
    "                    'p3_tempo': p3_feature_median[8],\n",
    "                    'p3_time_signature': p3_feature_median[9],\n",
    "                    'p3_valence': p3_feature_median[10],\n",
    "                    'p3_duration': p3_feature_median[11],\n",
    "                    'p3_popularity': p3_pop,\n",
    "                    'p3_mean_num_markets': p3_av_num_markets,\n",
    "                    #'p3_avg_years': p3_release_date,\n",
    "\n",
    "                    'p4_acousticness': p4_feature_median[0],\n",
    "                    'p4_danceability': p4_feature_median[1],\n",
    "                    'p4_energy': p4_feature_median[2],\n",
    "                    'p4_instrumentalness': p4_feature_median[3],\n",
    "                    'p4_key': p4_feature_median[4],\n",
    "                    'p4_liveness': p4_feature_median[5],\n",
    "                    'p4_loudness': p4_feature_median[6],\n",
    "                    'p4_mode': p4_feature_median[7],\n",
    "                    'p4_tempo': p4_feature_median[8],\n",
    "                    'p4_time_signature': p4_feature_median[9],\n",
    "                    'p4_valence': p4_feature_median[10],\n",
    "                    'p4_duration': p4_feature_median[11],\n",
    "                    'p4_popularity': p4_pop,\n",
    "                    'p4_mean_num_markets': p4_av_num_markets\n",
    "                    #'p4_avg_years': p4_release_date\n",
    "        })\n",
    "    return playlist_data\n",
    "\n",
    "def gen_score(list_of_tracks):\n",
    "    row = gen_row(list_of_tracks)\n",
    "    list_of_proba = rfc.predict_proba(row.reshape(1,-1))[0]\n",
    "    #print(row)\n",
    "    #list_of_proba = rfc.predict(row.reshape(1,-1))[0]\n",
    "    return list_of_proba"
   ]
  },
  {
   "cell_type": "code",
   "execution_count": 200,
   "metadata": {
    "collapsed": false
   },
   "outputs": [
    {
     "name": "stdout",
     "output_type": "stream",
     "text": [
      "[u'000xQL6tZNLJzIrtIgxqSl' u'001NMNauIqU8t70X48P8vX'\n",
      " u'005Ua0AZQDAtOpavz5kdpW' u'006dQ6824YZgSvIvBRhcJT']\n"
     ]
    },
    {
     "name": "stderr",
     "output_type": "stream",
     "text": [
      "/Users/lw20302/anaconda/lib/python2.7/site-packages/ipykernel/__main__.py:299: FutureWarning: reshape is deprecated and will raise in a subsequent release. Please use .values.reshape(...) instead\n"
     ]
    },
    {
     "data": {
      "text/plain": [
       "array([ 0.33,  0.23,  0.24,  0.18,  0.02])"
      ]
     },
     "execution_count": 200,
     "metadata": {},
     "output_type": "execute_result"
    }
   ],
   "source": [
    "print(all_related_songs[1:5])\n",
    "result = gen_score(all_related_songs[10:20])\n",
    "result"
   ]
  },
  {
   "cell_type": "markdown",
   "metadata": {},
   "source": [
    "## 2. Simple model: 1000 random samples without replacement"
   ]
  },
  {
   "cell_type": "code",
   "execution_count": 201,
   "metadata": {
    "collapsed": false
   },
   "outputs": [
    {
     "name": "stdout",
     "output_type": "stream",
     "text": [
      "0\n"
     ]
    },
    {
     "name": "stderr",
     "output_type": "stream",
     "text": [
      "/Users/lw20302/anaconda/lib/python2.7/site-packages/ipykernel/__main__.py:299: FutureWarning: reshape is deprecated and will raise in a subsequent release. Please use .values.reshape(...) instead\n"
     ]
    },
    {
     "name": "stdout",
     "output_type": "stream",
     "text": [
      "100\n",
      "200\n",
      "300\n",
      "400\n",
      "500\n",
      "600\n",
      "700\n",
      "800\n",
      "900\n"
     ]
    }
   ],
   "source": [
    "best_result = 0\n",
    "best_playlist = []\n",
    "for i in range(1000):\n",
    "    if i%100==0: \n",
    "        print(i)\n",
    "    random_sample_10 = np.random.choice(bucket1, replace=False,size=10)\n",
    "    result = gen_score(random_sample_10)\n",
    "    result = 0.7*result[4] + 0.3*result[3]\n",
    "    if result >best_result:\n",
    "        best_result=result\n",
    "        best_playlist = random_sample_10"
   ]
  },
  {
   "cell_type": "code",
   "execution_count": 202,
   "metadata": {
    "collapsed": false
   },
   "outputs": [
    {
     "name": "stderr",
     "output_type": "stream",
     "text": [
      "/Users/lw20302/anaconda/lib/python2.7/site-packages/ipykernel/__main__.py:299: FutureWarning: reshape is deprecated and will raise in a subsequent release. Please use .values.reshape(...) instead\n"
     ]
    },
    {
     "name": "stdout",
     "output_type": "stream",
     "text": [
      "Resulting loss:  7000.0\n",
      "Random sampling (1000 samples without replacement, optimized on weighted average between class 4 and 5) class probabilties:  [ 0.13  0.22  0.15  0.15  0.35]\n"
     ]
    },
    {
     "data": {
      "image/png": "[encoded data removed]",
      "text/plain": [
       "<matplotlib.figure.Figure at 0x11748a7d0>"
      ]
     },
     "metadata": {},
     "output_type": "display_data"
    }
   ],
   "source": [
    "random_result = gen_score(best_playlist)\n",
    "def energy1(result):\n",
    "    return 10000*(1.0-(np.array([0,0,0,0.25,0.75])*result).sum())\n",
    "print(\"Resulting loss: \", energy1(random_result))\n",
    "print(\"Random sampling (1000 samples without replacement, optimized on weighted average between class 4 and 5) class probabilties: \",random_result)\n",
    "plt.bar(range(len(random_result)), random_result)\n",
    "plt.xticks(range(len(random_result)), [1,2,3,4,5], size='small')\n",
    "locs, labels = plt.xticks()\n",
    "plt.show()"
   ]
  },
  {
   "cell_type": "markdown",
   "metadata": {},
   "source": [
    "## 3. Simulated annealing"
   ]
  },
  {
   "cell_type": "code",
   "execution_count": 203,
   "metadata": {
    "collapsed": false
   },
   "outputs": [],
   "source": [
    "import simanneal\n",
    "from __future__ import print_function\n",
    "import math\n",
    "import random\n",
    "from simanneal import Annealer"
   ]
  },
  {
   "cell_type": "code",
   "execution_count": 204,
   "metadata": {
    "collapsed": false
   },
   "outputs": [],
   "source": [
    "class TravellingSalesmanProblem(Annealer):\n",
    "\n",
    "    \"\"\"Test annealer with a travelling salesman problem.\n",
    "    \"\"\"\n",
    "    \n",
    "    # pass extra data (the distance matrix) into the constructor\n",
    "    def __init__(self, candidate_songs):\n",
    "        #self.state = np.array(['2LBkiUn4HmZQN1iV4Q09cn', '3Y10xQQJVB1yjwFQ0ItrY6'])\n",
    "        state = np.random.choice(candidate_songs,size=10,replace=False)\n",
    "        self.starting = state\n",
    "        self.candidate_songs = np.setdiff1d(candidate_songs,state)\n",
    "        state=list(state)\n",
    "        #self.features = features\n",
    "        super(TravellingSalesmanProblem, self).__init__(state)  # important! \n",
    "\n",
    "    def move(self):\n",
    "        \"\"\"Swaps two cities in the route.\"\"\"\n",
    "        a = random.randint(0, len(self.state) - 1)\n",
    "        b = random.randint(0, len(self.candidate_songs) - 1)\n",
    "        #b = random.randint(0, len(self.state) - 1)\n",
    "        #self.state[a], self.state[b] = self.state[b], self.state[a]\n",
    "        #print(self.state[a],self.candidate_songs[b])\n",
    "        reject = self.state[a]\n",
    "        self.state[a] = self.candidate_songs[b]\n",
    "        self.candidate_songs[b] = reject\n",
    "        #print(self.state[a],self.candidate_songs[b])\n",
    "        \n",
    "    def energy(self): ## calculates the predicted number of followers\n",
    "        \"\"\"Calculates the predicted number of followers.\"\"\"\n",
    "        #print(self.state)\n",
    "        result = gen_score(self.state)\n",
    "        #print(\"Calculating energy: \", result)\n",
    "        #return 1000*(1-(0.67*result[4] + 0.33*result[3]))\n",
    "        return 10000*(1.0-(np.array([0,0,0,0.25,0.75])*result).sum())"
   ]
  },
  {
   "cell_type": "markdown",
   "metadata": {},
   "source": [
    "### Tune the energy function for simulated annealing. \n",
    "#### We want ~40-60% initial chance of acceptance for a significant decrease in energy"
   ]
  },
  {
   "cell_type": "code",
   "execution_count": 205,
   "metadata": {
    "collapsed": false
   },
   "outputs": [
    {
     "data": {
      "text/plain": [
       "0.51594004821404"
      ]
     },
     "execution_count": 205,
     "metadata": {},
     "output_type": "execute_result"
    }
   ],
   "source": [
    "def energy1(result):\n",
    "    return 10000*(1.0-(np.array([0,0,0,0.25,0.75])*result).sum())\n",
    "\n",
    "prevEnergy=energy1([ 0.23,  0.25,  0.19,  0.23,  0.1])\n",
    "E = energy1([ 0.23,  0.25,  0.19,  0.23,  0.04])\n",
    "# We want this kind of decrease in energy to be associated with something like 70% chance acceptance at first\n",
    "dE = E - prevEnergy\n",
    "T = 680\n",
    "math.exp(-dE / T)"
   ]
  },
  {
   "cell_type": "markdown",
   "metadata": {},
   "source": [
    "### Tune Simulated annealing"
   ]
  },
  {
   "cell_type": "code",
   "execution_count": 218,
   "metadata": {
    "collapsed": true
   },
   "outputs": [],
   "source": [
    "def tuneSimAnneal(candidates):\n",
    "    tsp = TravellingSalesmanProblem(candidates)\n",
    "    tsp.copy_strategy = \"slice\"  \n",
    "    auto_schedule = tsp.auto(minutes=1.5, steps=30)\n",
    "    auto_schedule['updates'] = auto_schedule['steps']/10\n",
    "    return auto_schedule"
   ]
  },
  {
   "cell_type": "code",
   "execution_count": 219,
   "metadata": {
    "collapsed": false
   },
   "outputs": [
    {
     "name": "stderr",
     "output_type": "stream",
     "text": [
      "/Users/lw20302/anaconda/lib/python2.7/site-packages/ipykernel/__main__.py:299: FutureWarning: reshape is deprecated and will raise in a subsequent release. Please use .values.reshape(...) instead\n",
      " Temperature        Energy    Accept   Improve     Elapsed   Remaining\n",
      "    15.00000       5925.00     6.67%     0.00%     0:00:54     1:18:27 Temperature        Energy    Accept   Improve     Elapsed   Remaining\n",
      "     0.00000       9425.00                         0:00:00            \r"
     ]
    },
    {
     "name": "stdout",
     "output_type": "stream",
     "text": [
      "\n",
      "Bucket # 1  parameters:  {u'steps': 950.0, u'tmax': 3200.0, u'tmin': 15.0, 'updates': 95.0}\n"
     ]
    },
    {
     "name": "stderr",
     "output_type": "stream",
     "text": [
      "     4.50000       7650.00     0.00%     0.00%     0:01:15     1:08:16 Temperature        Energy    Accept   Improve     Elapsed   Remaining\n",
      "     0.00000       9575.00                         0:00:00            \r"
     ]
    },
    {
     "name": "stdout",
     "output_type": "stream",
     "text": [
      "\n",
      "Bucket # 2  parameters:  {u'steps': 1100.0, u'tmax': 6800.0, u'tmin': 4.5, 'updates': 110.0}\n"
     ]
    },
    {
     "name": "stderr",
     "output_type": "stream",
     "text": [
      "    22.00000       8150.00    10.00%     0.00%     0:00:50     1:08:03"
     ]
    },
    {
     "name": "stdout",
     "output_type": "stream",
     "text": [
      "\n",
      "Bucket # 3  parameters:  {u'steps': 1100.0, u'tmax': 2000.0, u'tmin': 22.0, 'updates': 110.0}\n"
     ]
    }
   ],
   "source": [
    "schedules = []\n",
    "for index, bucket in  enumerate([bucket1,bucket2,bucket3]):\n",
    "    schedules.append(tuneSimAnneal(bucket))\n",
    "    print(\"Bucket #\", index+1,\" parameters: \", schedules[index])"
   ]
  },
  {
   "cell_type": "markdown",
   "metadata": {},
   "source": [
    "### Run Simulated Annealing"
   ]
  },
  {
   "cell_type": "code",
   "execution_count": 245,
   "metadata": {
    "collapsed": true
   },
   "outputs": [],
   "source": [
    "def runSimulatedAnnealing(candidates, schedule=auto_schedule, num_runs=1):\n",
    "    \n",
    "    # Run sim anneal\n",
    "    tsp = TravellingSalesmanProblem(candidates)\n",
    "    tsp.set_schedule(schedule)\n",
    "    state, e = tsp.anneal()\n",
    "    resulting_playlist_sim_anneal = state\n",
    "    start = gen_score(tsp.starting)\n",
    "    print(schedule)\n",
    "    \n",
    "    # Visualize starting point\n",
    "    print(\"Starting class probabilties: \",start)\n",
    "    print(energy1(start))\n",
    "    plt.bar(range(len(start)), start)\n",
    "    plt.xticks(range(len(start)), [1,2,3,4,5], size='small')\n",
    "    locs, labels = plt.xticks()\n",
    "    plt.show()\n",
    "    end = gen_score(resulting_playlist_sim_anneal)\n",
    "    \n",
    "    # Visualize ending point\n",
    "    print(\"Ending class probabilties: \",end )\n",
    "    print(energy1(end))\n",
    "    plt.bar(range(len(end)), end)\n",
    "    plt.xticks(range(len(end)), [1,2,3,4,5], size='small')\n",
    "    locs, labels = plt.xticks()\n",
    "    plt.show()\n",
    "    \n",
    "    return resulting_playlist_sim_anneal\n"
   ]
  },
  {
   "cell_type": "markdown",
   "metadata": {},
   "source": [
    "### Bucket 1 results: Top tracks from related artists"
   ]
  },
  {
   "cell_type": "code",
   "execution_count": 227,
   "metadata": {
    "collapsed": false
   },
   "outputs": [
    {
     "name": "stderr",
     "output_type": "stream",
     "text": [
      "/Users/lw20302/anaconda/lib/python2.7/site-packages/ipykernel/__main__.py:299: FutureWarning: reshape is deprecated and will raise in a subsequent release. Please use .values.reshape(...) instead\n",
      " Temperature        Energy    Accept   Improve     Elapsed   Remaining\n",
      "    15.00000       5300.00     0.00%     0.00%     0:01:28     0:00:00"
     ]
    },
    {
     "name": "stdout",
     "output_type": "stream",
     "text": [
      "\n",
      "{u'steps': 950.0, u'tmax': 3200.0, u'tmin': 15.0, 'updates': 95.0}\n",
      "Starting class probabilties:  [ 0.26  0.17  0.23  0.14  0.2 ]\n",
      "8150.0\n"
     ]
    },
    {
     "data": {
      "image/png": "[encoded data removed]",
      "text/plain": [
       "<matplotlib.figure.Figure at 0x111f028d0>"
      ]
     },
     "metadata": {},
     "output_type": "display_data"
    },
    {
     "name": "stdout",
     "output_type": "stream",
     "text": [
      "Ending class probabilties:  [ 0.12  0.11  0.11  0.05  0.61]\n",
      "5300.0\n"
     ]
    },
    {
     "data": {
      "image/png": "[encoded data removed]",
      "text/plain": [
       "<matplotlib.figure.Figure at 0x11206ca90>"
      ]
     },
     "metadata": {},
     "output_type": "display_data"
    }
   ],
   "source": [
    "#if __name__ == '__main__':\n",
    "runSimulatedAnnealing(bucket1, schedules[0], num_runs=1)"
   ]
  },
  {
   "cell_type": "markdown",
   "metadata": {},
   "source": [
    "### Bucket 2 results: Any tracks from related artists"
   ]
  },
  {
   "cell_type": "code",
   "execution_count": 228,
   "metadata": {
    "collapsed": false
   },
   "outputs": [
    {
     "name": "stderr",
     "output_type": "stream",
     "text": [
      "/Users/lw20302/anaconda/lib/python2.7/site-packages/ipykernel/__main__.py:299: FutureWarning: reshape is deprecated and will raise in a subsequent release. Please use .values.reshape(...) instead\n",
      " Temperature        Energy    Accept   Improve     Elapsed   Remaining\n",
      "     4.50000       6675.00     0.00%     0.00%     0:01:58     0:00:00"
     ]
    },
    {
     "name": "stdout",
     "output_type": "stream",
     "text": [
      "\n",
      "{u'steps': 1100.0, u'tmax': 6800.0, u'tmin': 4.5, 'updates': 110.0}\n",
      "Starting class probabilties:  [ 0.23  0.2   0.29  0.21  0.07]\n",
      "8950.0\n"
     ]
    },
    {
     "data": {
      "image/png": "[encoded data removed]",
      "text/plain": [
       "<matplotlib.figure.Figure at 0x1160a70d0>"
      ]
     },
     "metadata": {},
     "output_type": "display_data"
    },
    {
     "name": "stdout",
     "output_type": "stream",
     "text": [
      "Ending class probabilties:  [ 0.17  0.14  0.16  0.13  0.4 ]\n",
      "6675.0\n"
     ]
    },
    {
     "data": {
      "image/png": "[encoded data removed]",
      "text/plain": [
       "<matplotlib.figure.Figure at 0x1161b1190>"
      ]
     },
     "metadata": {},
     "output_type": "display_data"
    }
   ],
   "source": [
    "runSimulatedAnnealing(bucket2, schedules[1], num_runs=1)"
   ]
  },
  {
   "cell_type": "markdown",
   "metadata": {},
   "source": [
    "### Bucket 3 results: Similar tracks from related artists (manhattan distance + spotify API features)"
   ]
  },
  {
   "cell_type": "code",
   "execution_count": 246,
   "metadata": {
    "collapsed": false
   },
   "outputs": [
    {
     "name": "stderr",
     "output_type": "stream",
     "text": [
      "/Users/lw20302/anaconda/lib/python2.7/site-packages/ipykernel/__main__.py:299: FutureWarning: reshape is deprecated and will raise in a subsequent release. Please use .values.reshape(...) instead\n",
      " Temperature        Energy    Accept   Improve     Elapsed   Remaining\n",
      "   164.01864       8550.00    80.00%    50.00%     0:01:06     0:00:53"
     ]
    },
    {
     "name": "stdout",
     "output_type": "stream",
     "text": [
      "\n",
      "{u'steps': 1100.0, u'tmax': 2000.0, u'tmin': 22.0, 'updates': 110.0}\n",
      "Starting class probabilties:  [ 0.36  0.22  0.26  0.14  0.02]\n",
      "9500.0\n"
     ]
    },
    {
     "data": {
      "image/png": "[encoded data removed]",
      "text/plain": [
       "<matplotlib.figure.Figure at 0x115a0a490>"
      ]
     },
     "metadata": {},
     "output_type": "display_data"
    },
    {
     "name": "stdout",
     "output_type": "stream",
     "text": [
      "Ending class probabilties:  [ 0.27  0.16  0.18  0.2   0.19]\n",
      "8075.0\n"
     ]
    },
    {
     "data": {
      "image/png": "[encoded data removed]",
      "text/plain": [
       "<matplotlib.figure.Figure at 0x115976890>"
      ]
     },
     "metadata": {},
     "output_type": "display_data"
    },
    {
     "data": {
      "text/plain": [
       "[u'1F7adu7y0bPeBZ2cL4Kn4x',\n",
       " u'5ssFH3wCVuy5WIyI51mZYp',\n",
       " u'4PdFJXY17UVbB7juOEiKSC',\n",
       " u'71MEFMeMFgELWkgmsPVeN5',\n",
       " u'3X1v3zH2qzOsstuzaE1iPD',\n",
       " u'2ZdNRjGJYeq069uWQ5fXl5',\n",
       " u'11EHrEzLMNlhxe7jgi1l7t',\n",
       " u'0j5sEwTkXDBQOeS5aKsX85',\n",
       " u'7qiZfU4dY1lWllzX7mPBI3',\n",
       " u'2QDf6mnHb0psGcXU2UO9Mp']"
      ]
     },
     "execution_count": 246,
     "metadata": {},
     "output_type": "execute_result"
    }
   ],
   "source": [
    "runSimulatedAnnealing(bucket3, schedules[2], num_runs=1)"
   ]
  },
  {
   "cell_type": "code",
   "execution_count": 216,
   "metadata": {
    "collapsed": false
   },
   "outputs": [
    {
     "data": {
      "text/plain": [
       "{u'steps': 990.0, u'tmax': 1300.0, u'tmin': 4.5, 'updates': 99.0}"
      ]
     },
     "execution_count": 216,
     "metadata": {},
     "output_type": "execute_result"
    }
   ],
   "source": [
    "# This got good results for all buckets\n",
    "auto_schedule"
   ]
  },
  {
   "cell_type": "markdown",
   "metadata": {},
   "source": [
    "### Alternatively, mix buckets together (e.g. take 60% similar songs, 40% top tracks)"
   ]
  },
  {
   "cell_type": "code",
   "execution_count": 247,
   "metadata": {
    "collapsed": true
   },
   "outputs": [],
   "source": [
    "def mixBuckets(bucket_one, bucket_two, bucket_two_ratio):\n",
    "    n_sample_bucket_two = len(bucket_one)*bucket_two_ratio/(1-bucket_two_ratio)\n",
    "    sample_bucket_two = np.random.choice(bucket_two, replace=False,size= n_sample_bucket_two)\n",
    "    mixed_bucket = np.concatenate((bucket_one, bucket_two))\n",
    "    return np.unique(mixed_bucket)"
   ]
  },
  {
   "cell_type": "code",
   "execution_count": 248,
   "metadata": {
    "collapsed": false
   },
   "outputs": [
    {
     "name": "stderr",
     "output_type": "stream",
     "text": [
      "/Users/lw20302/anaconda/lib/python2.7/site-packages/ipykernel/__main__.py:3: VisibleDeprecationWarning: using a non-integer number instead of an integer will result in an error in the future\n",
      "  app.launch_new_instance()\n"
     ]
    }
   ],
   "source": [
    "mixed_bucket = mixBuckets(bucket1,bucket3,0.6)"
   ]
  },
  {
   "cell_type": "code",
   "execution_count": 249,
   "metadata": {
    "collapsed": false
   },
   "outputs": [
    {
     "name": "stderr",
     "output_type": "stream",
     "text": [
      "/Users/lw20302/anaconda/lib/python2.7/site-packages/ipykernel/__main__.py:299: FutureWarning: reshape is deprecated and will raise in a subsequent release. Please use .values.reshape(...) instead\n",
      " Temperature        Energy    Accept   Improve     Elapsed   Remaining\n",
      "    13.00000       6475.00     0.00%     0.00%     0:00:58     1:11:49"
     ]
    },
    {
     "name": "stdout",
     "output_type": "stream",
     "text": [
      "\n"
     ]
    }
   ],
   "source": [
    "schedule_mixed = tuneSimAnneal(mixed_bucket)"
   ]
  },
  {
   "cell_type": "code",
   "execution_count": 250,
   "metadata": {
    "collapsed": false
   },
   "outputs": [
    {
     "name": "stderr",
     "output_type": "stream",
     "text": [
      "/Users/lw20302/anaconda/lib/python2.7/site-packages/ipykernel/__main__.py:299: FutureWarning: reshape is deprecated and will raise in a subsequent release. Please use .values.reshape(...) instead\n",
      " Temperature        Energy    Accept   Improve     Elapsed   Remaining\n",
      "    13.00000       6350.00     0.00%     0.00%     0:01:27     0:00:00"
     ]
    },
    {
     "name": "stdout",
     "output_type": "stream",
     "text": [
      "\n",
      "{u'steps': 1000.0, u'tmax': 2700.0, u'tmin': 13.0, 'updates': 100.0}\n",
      "Starting class probabilties:  [ 0.37  0.22  0.23  0.09  0.09]\n",
      "9100.0\n"
     ]
    },
    {
     "data": {
      "image/png": "[encoded data removed]",
      "text/plain": [
       "<matplotlib.figure.Figure at 0x115b64b10>"
      ]
     },
     "metadata": {},
     "output_type": "display_data"
    },
    {
     "name": "stdout",
     "output_type": "stream",
     "text": [
      "Ending class probabilties:  [ 0.15  0.13  0.14  0.14  0.44]\n",
      "6350.0\n"
     ]
    },
    {
     "data": {
      "image/png": "[encoded data removed]",
      "text/plain": [
       "<matplotlib.figure.Figure at 0x1120d4dd0>"
      ]
     },
     "metadata": {},
     "output_type": "display_data"
    }
   ],
   "source": [
    "resulting_mixed = runSimulatedAnnealing(mixed_bucket, schedule_mixed)"
   ]
  },
  {
   "cell_type": "markdown",
   "metadata": {},
   "source": [
    "### Resulting playlist!"
   ]
  },
  {
   "cell_type": "code",
   "execution_count": 259,
   "metadata": {
    "collapsed": false,
    "scrolled": false
   },
   "outputs": [
    {
     "name": "stdout",
     "output_type": "stream",
     "text": [
      "Ellie Goulding\n"
     ]
    },
    {
     "data": {
      "text/html": [
       "<iframe src=\"https://open.spotify.com/embed?uri=spotify:track:2mN9PvVZX0thvOclMwQAju\"frameborder=\"0\" allowtransparency=\"true\"></iframe>"
      ],
      "text/plain": [
       "<IPython.core.display.HTML object>"
      ]
     },
     "metadata": {},
     "output_type": "display_data"
    },
    {
     "name": "stdout",
     "output_type": "stream",
     "text": [
      "One Direction\n"
     ]
    },
    {
     "data": {
      "text/html": [
       "<iframe src=\"https://open.spotify.com/embed?uri=spotify:track:5omYVLodGmaxnhua99xIE8\"frameborder=\"0\" allowtransparency=\"true\"></iframe>"
      ],
      "text/plain": [
       "<IPython.core.display.HTML object>"
      ]
     },
     "metadata": {},
     "output_type": "display_data"
    },
    {
     "name": "stdout",
     "output_type": "stream",
     "text": [
      "Olly Murs\n"
     ]
    },
    {
     "data": {
      "text/html": [
       "<iframe src=\"https://open.spotify.com/embed?uri=spotify:track:3ZeszLrkylVDyAFS9MLajv\"frameborder=\"0\" allowtransparency=\"true\"></iframe>"
      ],
      "text/plain": [
       "<IPython.core.display.HTML object>"
      ]
     },
     "metadata": {},
     "output_type": "display_data"
    },
    {
     "name": "stdout",
     "output_type": "stream",
     "text": [
      "Olly Murs\n"
     ]
    },
    {
     "data": {
      "text/html": [
       "<iframe src=\"https://open.spotify.com/embed?uri=spotify:track:1Xf5Kh1BUTMXBGu7uet53p\"frameborder=\"0\" allowtransparency=\"true\"></iframe>"
      ],
      "text/plain": [
       "<IPython.core.display.HTML object>"
      ]
     },
     "metadata": {},
     "output_type": "display_data"
    },
    {
     "name": "stdout",
     "output_type": "stream",
     "text": [
      "James Blunt\n"
     ]
    },
    {
     "data": {
      "text/html": [
       "<iframe src=\"https://open.spotify.com/embed?uri=spotify:track:5Og7kvYFqSbAbsTAXlDQb2\"frameborder=\"0\" allowtransparency=\"true\"></iframe>"
      ],
      "text/plain": [
       "<IPython.core.display.HTML object>"
      ]
     },
     "metadata": {},
     "output_type": "display_data"
    },
    {
     "name": "stdout",
     "output_type": "stream",
     "text": [
      "James Bay\n"
     ]
    },
    {
     "data": {
      "text/html": [
       "<iframe src=\"https://open.spotify.com/embed?uri=spotify:track:13HVjjWUZFaWilh2QUJKsP\"frameborder=\"0\" allowtransparency=\"true\"></iframe>"
      ],
      "text/plain": [
       "<IPython.core.display.HTML object>"
      ]
     },
     "metadata": {},
     "output_type": "display_data"
    },
    {
     "name": "stdout",
     "output_type": "stream",
     "text": [
      "ZAYN\n"
     ]
    },
    {
     "data": {
      "text/html": [
       "<iframe src=\"https://open.spotify.com/embed?uri=spotify:track:7iCeaYJSEdGWeFNTAEqUzJ\"frameborder=\"0\" allowtransparency=\"true\"></iframe>"
      ],
      "text/plain": [
       "<IPython.core.display.HTML object>"
      ]
     },
     "metadata": {},
     "output_type": "display_data"
    },
    {
     "name": "stdout",
     "output_type": "stream",
     "text": [
      "Birdy\n"
     ]
    },
    {
     "data": {
      "text/html": [
       "<iframe src=\"https://open.spotify.com/embed?uri=spotify:track:1D4XFKolp63mNqqMXJJL1V\"frameborder=\"0\" allowtransparency=\"true\"></iframe>"
      ],
      "text/plain": [
       "<IPython.core.display.HTML object>"
      ]
     },
     "metadata": {},
     "output_type": "display_data"
    },
    {
     "name": "stdout",
     "output_type": "stream",
     "text": [
      "Clean Bandit\n"
     ]
    },
    {
     "data": {
      "text/html": [
       "<iframe src=\"https://open.spotify.com/embed?uri=spotify:track:6aHqV0UAuIxz596UmGAszz\"frameborder=\"0\" allowtransparency=\"true\"></iframe>"
      ],
      "text/plain": [
       "<IPython.core.display.HTML object>"
      ]
     },
     "metadata": {},
     "output_type": "display_data"
    },
    {
     "name": "stdout",
     "output_type": "stream",
     "text": [
      "Sam Smith\n"
     ]
    },
    {
     "data": {
      "text/html": [
       "<iframe src=\"https://open.spotify.com/embed?uri=spotify:track:1PWnAEQcbwQwK759otUbta\"frameborder=\"0\" allowtransparency=\"true\"></iframe>"
      ],
      "text/plain": [
       "<IPython.core.display.HTML object>"
      ]
     },
     "metadata": {},
     "output_type": "display_data"
    }
   ],
   "source": [
    "from IPython.core.display import display, HTML\n",
    "\n",
    "for each in resulting_mixed:\n",
    "    song_id = related_all_features_with_seed[related_all_features_with_seed['id']==each]['id'].values[0]\n",
    "    link='<a href=' + related_all_features_with_seed[related_all_features_with_seed['id']==each]['preview_url'].values[0] + '>preview related song</a>'\n",
    "    print(related_all_features_with_seed[related_all_features_with_seed['id']==each]['artists'].values[0])\n",
    "    link = \"<iframe src=\\\"https://open.spotify.com/embed?uri=spotify:track:\" + song_id + \"\\\"frameborder=\\\"0\\\" allowtransparency=\\\"true\\\"></iframe>\"\n",
    "    #print(link)\n",
    "    display(HTML(link))\n"
   ]
  },
  {
   "cell_type": "markdown",
   "metadata": {},
   "source": [
    "### Appendix: Travelling Salesman Example for Simulated Annealing "
   ]
  },
  {
   "cell_type": "code",
   "execution_count": 279,
   "metadata": {
    "collapsed": false
   },
   "outputs": [
    {
     "name": "stderr",
     "output_type": "stream",
     "text": [
      " Temperature        Energy    Accept   Improve     Elapsed   Remaining\n",
      "     2.50000       6883.00     5.20%     0.00%     0:00:01     0:00:00"
     ]
    },
    {
     "name": "stdout",
     "output_type": "stream",
     "text": [
      "\n",
      "6845 mile route:\n",
      "\t New York City\n",
      "\t Philadelphia\n",
      "\t Baltimore\n",
      "\t Charlotte\n",
      "\t Jacksonville\n",
      "\t Houston\n",
      "\t Austin\n",
      "\t San Antonio\n",
      "\t Phoenix\n",
      "\t San Diego\n",
      "\t Los Angeles\n",
      "\t San Jose\n",
      "\t San Francisco\n",
      "\t Fort Worth\n",
      "\t Dallas\n",
      "\t Memphis\n",
      "\t Indianapolis\n",
      "\t Chicago\n",
      "\t Detroit\n",
      "\t Columbus\n"
     ]
    }
   ],
   "source": [
    "from __future__ import print_function\n",
    "import math\n",
    "import random\n",
    "from simanneal import Annealer\n",
    "\n",
    "\n",
    "def distance(a, b):\n",
    "    \"\"\"Calculates distance between two latitude-longitude coordinates.\"\"\"\n",
    "    R = 3963  # radius of Earth (miles)\n",
    "    lat1, lon1 = math.radians(a[0]), math.radians(a[1])\n",
    "    lat2, lon2 = math.radians(b[0]), math.radians(b[1])\n",
    "    return math.acos(math.sin(lat1) * math.sin(lat2) +\n",
    "                     math.cos(lat1) * math.cos(lat2) * math.cos(lon1 - lon2)) * R\n",
    "\n",
    "\n",
    "class TravellingSalesmanProblem(Annealer):\n",
    "\n",
    "    \"\"\"Test annealer with a travelling salesman problem.\n",
    "    \"\"\"\n",
    "    \n",
    "    # pass extra data (the distance matrix) into the constructor\n",
    "    def __init__(self, state, distance_matrix):\n",
    "        self.distance_matrix = distance_matrix\n",
    "        super(TravellingSalesmanProblem, self).__init__(state)  # important! \n",
    "\n",
    "    def move(self):\n",
    "        \"\"\"Swaps two cities in the route.\"\"\"\n",
    "        a = random.randint(0, len(self.state) - 1)\n",
    "        b = random.randint(0, len(self.state) - 1)\n",
    "        self.state[a], self.state[b] = self.state[b], self.state[a]\n",
    "\n",
    "    def energy(self):\n",
    "        \"\"\"Calculates the length of the route.\"\"\"\n",
    "        e = 0\n",
    "        for i in range(len(self.state)):\n",
    "            e += self.distance_matrix[self.state[i-1]][self.state[i]]\n",
    "        return e\n",
    "\n",
    "\n",
    "\n",
    "if __name__ == '__main__':\n",
    "\n",
    "    # latitude and longitude for the twenty largest U.S. cities\n",
    "    cities = {\n",
    "        'New York City': (40.72, 74.00),\n",
    "        'Los Angeles': (34.05, 118.25),\n",
    "        'Chicago': (41.88, 87.63),\n",
    "        'Houston': (29.77, 95.38),\n",
    "        'Phoenix': (33.45, 112.07),\n",
    "        'Philadelphia': (39.95, 75.17),\n",
    "        'San Antonio': (29.53, 98.47),\n",
    "        'Dallas': (32.78, 96.80),\n",
    "        'San Diego': (32.78, 117.15),\n",
    "        'San Jose': (37.30, 121.87),\n",
    "        'Detroit': (42.33, 83.05),\n",
    "        'San Francisco': (37.78, 122.42),\n",
    "        'Jacksonville': (30.32, 81.70),\n",
    "        'Indianapolis': (39.78, 86.15),\n",
    "        'Austin': (30.27, 97.77),\n",
    "        'Columbus': (39.98, 82.98),\n",
    "        'Fort Worth': (32.75, 97.33),\n",
    "        'Charlotte': (35.23, 80.85),\n",
    "        'Memphis': (35.12, 89.97),\n",
    "        'Baltimore': (39.28, 76.62)\n",
    "    }\n",
    "\n",
    "    # initial state, a randomly-ordered itinerary\n",
    "    init_state = list(cities.keys())\n",
    "    random.shuffle(init_state)\n",
    "\n",
    "    # create a distance matrix\n",
    "    distance_matrix = {}\n",
    "    for ka, va in cities.items():\n",
    "        distance_matrix[ka] = {}\n",
    "        for kb, vb in cities.items():\n",
    "            if kb == ka:\n",
    "                distance_matrix[ka][kb] = 0.0\n",
    "            else:\n",
    "                distance_matrix[ka][kb] = distance(va, vb)\n",
    "\n",
    "    tsp = TravellingSalesmanProblem(init_state, distance_matrix)\n",
    "    # since our state is just a list, slice is the fastest way to copy\n",
    "    tsp.copy_strategy = \"slice\"  \n",
    "    state, e = tsp.anneal()\n",
    "\n",
    "    while state[0] != 'New York City':\n",
    "        state = state[1:] + state[:1]  # rotate NYC to start\n",
    "    print(\"%i mile route:\" % e)\n",
    "    for city in state:\n",
    "        print(\"\\t\", city)"
   ]
  }
 ],
 "metadata": {
  "anaconda-cloud": {},
  "kernelspec": {
   "display_name": "Python 2",
   "language": "python",
   "name": "python2"
  },
  "language_info": {
   "codemirror_mode": {
    "name": "ipython",
    "version": 2
   },
   "file_extension": ".py",
   "mimetype": "text/x-python",
   "name": "python",
   "nbconvert_exporter": "python",
   "pygments_lexer": "ipython2",
   "version": "2.7.13"
  }
 },
 "nbformat": 4,
 "nbformat_minor": 1
}
