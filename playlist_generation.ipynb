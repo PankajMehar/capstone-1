{
 "cells": [
  {
   "cell_type": "markdown",
   "metadata": {},
   "source": [
    "# Playlist Generation\n",
    "\n",
    "### Goal: \n",
    "\n",
    "- Step 1: Top tracks: From a seed song find all top tracks from all related artists\n",
    "- Step 2: Similar songs: From a seed song find all songs from related artists, and filter by similar songs based on Spotify API audio features \n",
    "- Step 3: Simple sampling to find the best playlist\n",
    "- Step 4: Simulated Annealing to find the best playlist\n",
    "- Step 5: Comparison and validation of methods"
   ]
  },
  {
   "cell_type": "markdown",
   "metadata": {},
   "source": [
    "# Generate lists of candidate songs that fit into four buckets"
   ]
  },
  {
   "cell_type": "markdown",
   "metadata": {},
   "source": [
    "**4 buckets of songs**\n",
    "\n",
    "1. Top tracks from related artists\n",
    "2. Tracks from related artists\n",
    "3. Tracks from related artists identified as similar songs (using manhattan distance + Spotify API features)\n",
    "3. Tracks from our database identified as similar (using raw audio  + vantage point method)"
   ]
  },
  {
   "cell_type": "markdown",
   "metadata": {},
   "source": [
    "### Import Libraries and create spotify credentials manager"
   ]
  },
  {
   "cell_type": "code",
   "execution_count": 1,
   "metadata": {
    "collapsed": false
   },
   "outputs": [],
   "source": [
    "#!pip install pyemd"
   ]
  },
  {
   "cell_type": "code",
   "execution_count": 28,
   "metadata": {
    "collapsed": false
   },
   "outputs": [],
   "source": [
    "%matplotlib inline\n",
    "import matplotlib.pyplot as plt\n",
    "#importing module spotipy to make api calls to spotify\n",
    "import spotipy\n",
    "# module to extract song from url\n",
    "import urllib\n",
    "# OAuth Credenials\n",
    "from spotipy.oauth2 import SpotifyClientCredentials\n",
    "from multiprocessing import Process, Queue\n",
    "import pandas as pd \n",
    "import numpy as np\n",
    "from sklearn import datasets, linear_model\n",
    "#from sklearn.model_selection import cross_val_predict\n",
    "from sklearn import linear_model\n",
    "import matplotlib.pyplot as plt\n",
    "import math\n",
    "client_credentials_manager = SpotifyClientCredentials(client_id='4a1a457d14c0445a96e7021a5523905b', client_secret='45b186d601544fdcbb4fe07c7b23cce5')\n",
    "sp = spotipy.Spotify(client_credentials_manager=client_credentials_manager)\n",
    "#importing module spotipy to make api calls to spotify\n",
    "# module to extract song from url\n",
    "\n",
    "# OAuth Credenials\n",
    "\n",
    "from sklearn.model_selection import cross_val_predict\n",
    "from sklearn import linear_model\n",
    "from sklearn import mixture\n",
    "from sklearn.cluster import KMeans\n",
    "from sklearn.datasets import load_boston\n",
    "from sklearn.ensemble import RandomForestRegressor\n",
    "from sklearn.ensemble import RandomForestClassifier\n",
    "from sklearn.pipeline import Pipeline\n",
    "from sklearn.preprocessing import Imputer\n",
    "from sklearn.model_selection import cross_val_score\n",
    "from sklearn.decomposition import PCA\n",
    "from scipy.optimize import linprog\n",
    "from pyemd import emd\n"
   ]
  },
  {
   "cell_type": "code",
   "execution_count": 29,
   "metadata": {
    "collapsed": false
   },
   "outputs": [
    {
     "data": {
      "text/html": [
       "<div>\n",
       "<table border=\"1\" class=\"dataframe\">\n",
       "  <thead>\n",
       "    <tr style=\"text-align: right;\">\n",
       "      <th></th>\n",
       "      <th>id</th>\n",
       "      <th>means</th>\n",
       "      <th>var</th>\n",
       "      <th>weights</th>\n",
       "      <th>y</th>\n",
       "    </tr>\n",
       "  </thead>\n",
       "  <tbody>\n",
       "    <tr>\n",
       "      <th>0</th>\n",
       "      <td>5bF6crgJa5Q58IWgbdUbuO</td>\n",
       "      <td>[[0.040409079571, 0.00646461184292, 2.39260140...</td>\n",
       "      <td>[[[1e-06, 1.33009536784e-33, 4.80712114119e-31...</td>\n",
       "      <td>[0.0333333333333, 0.0333333333333, 0.1, 0.1333...</td>\n",
       "      <td>[4, 1, 14, 14, 15, 13, 0, 10, 8, 2, 8, 4, 9, 5...</td>\n",
       "    </tr>\n",
       "    <tr>\n",
       "      <th>1</th>\n",
       "      <td>5BFMUpscSbYVT2V9j5d275</td>\n",
       "      <td>[[0.0558062541101, 0.0855883695295, 3.17109792...</td>\n",
       "      <td>[[[1e-06, 2.42667172993e-32, 8.87468518374e-31...</td>\n",
       "      <td>[0.0333333333333, 0.0666666666667, 0.033333333...</td>\n",
       "      <td>[1, 13, 12, 3, 15, 3, 8, 6, 12, 3, 6, 8, 6, 2,...</td>\n",
       "    </tr>\n",
       "    <tr>\n",
       "      <th>2</th>\n",
       "      <td>5bFxSkRAr1kiESBIkArOiP</td>\n",
       "      <td>[[0.0659833556316, 0.0978295054857, 3.25550432...</td>\n",
       "      <td>[[[8.55154098213e-05, -5.1972411361e-06, 6.605...</td>\n",
       "      <td>[0.166666666667, 0.0666666666667, 0.0333333333...</td>\n",
       "      <td>[12, 0, 0, 4, 3, 1, 7, 10, 14, 15, 9, 13, 2, 1...</td>\n",
       "    </tr>\n",
       "    <tr>\n",
       "      <th>3</th>\n",
       "      <td>5bG5GUKVJztKR5nff1CwUp</td>\n",
       "      <td>[[0.0294677883852, 0.0119775199815, 3.10904883...</td>\n",
       "      <td>[[[0.000136061091959, 3.51617999053e-05, 0.000...</td>\n",
       "      <td>[0.0666666666667, 0.0666666666667, 0.1, 0.0333...</td>\n",
       "      <td>[5, 13, 8, 15, 14, 2, 2, 10, 5, 1, 11, 11, 2, ...</td>\n",
       "    </tr>\n",
       "    <tr>\n",
       "      <th>4</th>\n",
       "      <td>5BgC5vVuhfWHHawbcXRr7h</td>\n",
       "      <td>[[0.0558289303612, 0.0524681203747, 3.24543361...</td>\n",
       "      <td>[[[1e-06, 1.47333640746e-32, 8.87468518374e-31...</td>\n",
       "      <td>[0.0333333333333, 0.2, 0.0333333333333, 0.0666...</td>\n",
       "      <td>[1, 1, 1, 1, 14, 15, 7, 15, 9, 4, 15, 0, 13, 5...</td>\n",
       "    </tr>\n",
       "  </tbody>\n",
       "</table>\n",
       "</div>"
      ],
      "text/plain": [
       "                       id                                              means  \\\n",
       "0  5bF6crgJa5Q58IWgbdUbuO  [[0.040409079571, 0.00646461184292, 2.39260140...   \n",
       "1  5BFMUpscSbYVT2V9j5d275  [[0.0558062541101, 0.0855883695295, 3.17109792...   \n",
       "2  5bFxSkRAr1kiESBIkArOiP  [[0.0659833556316, 0.0978295054857, 3.25550432...   \n",
       "3  5bG5GUKVJztKR5nff1CwUp  [[0.0294677883852, 0.0119775199815, 3.10904883...   \n",
       "4  5BgC5vVuhfWHHawbcXRr7h  [[0.0558289303612, 0.0524681203747, 3.24543361...   \n",
       "\n",
       "                                                 var  \\\n",
       "0  [[[1e-06, 1.33009536784e-33, 4.80712114119e-31...   \n",
       "1  [[[1e-06, 2.42667172993e-32, 8.87468518374e-31...   \n",
       "2  [[[8.55154098213e-05, -5.1972411361e-06, 6.605...   \n",
       "3  [[[0.000136061091959, 3.51617999053e-05, 0.000...   \n",
       "4  [[[1e-06, 1.47333640746e-32, 8.87468518374e-31...   \n",
       "\n",
       "                                             weights  \\\n",
       "0  [0.0333333333333, 0.0333333333333, 0.1, 0.1333...   \n",
       "1  [0.0333333333333, 0.0666666666667, 0.033333333...   \n",
       "2  [0.166666666667, 0.0666666666667, 0.0333333333...   \n",
       "3  [0.0666666666667, 0.0666666666667, 0.1, 0.0333...   \n",
       "4  [0.0333333333333, 0.2, 0.0333333333333, 0.0666...   \n",
       "\n",
       "                                                   y  \n",
       "0  [4, 1, 14, 14, 15, 13, 0, 10, 8, 2, 8, 4, 9, 5...  \n",
       "1  [1, 13, 12, 3, 15, 3, 8, 6, 12, 3, 6, 8, 6, 2,...  \n",
       "2  [12, 0, 0, 4, 3, 1, 7, 10, 14, 15, 9, 13, 2, 1...  \n",
       "3  [5, 13, 8, 15, 14, 2, 2, 10, 5, 1, 11, 11, 2, ...  \n",
       "4  [1, 1, 1, 1, 14, 15, 7, 15, 9, 4, 15, 0, 13, 5...  "
      ]
     },
     "execution_count": 29,
     "metadata": {},
     "output_type": "execute_result"
    }
   ],
   "source": [
    "new_df = pd.read_pickle(\"Clustering_pickle\")\n",
    "new_df.head()"
   ]
  },
  {
   "cell_type": "code",
   "execution_count": 30,
   "metadata": {
    "collapsed": false
   },
   "outputs": [
    {
     "data": {
      "text/html": [
       "<div>\n",
       "<table border=\"1\" class=\"dataframe\">\n",
       "  <thead>\n",
       "    <tr style=\"text-align: right;\">\n",
       "      <th></th>\n",
       "      <th>0</th>\n",
       "      <th>1</th>\n",
       "      <th>2</th>\n",
       "      <th>3</th>\n",
       "      <th>4</th>\n",
       "      <th>5</th>\n",
       "      <th>6</th>\n",
       "      <th>7</th>\n",
       "      <th>8</th>\n",
       "      <th>9</th>\n",
       "      <th>...</th>\n",
       "      <th>25</th>\n",
       "      <th>26</th>\n",
       "      <th>27</th>\n",
       "      <th>28</th>\n",
       "      <th>29</th>\n",
       "      <th>30</th>\n",
       "      <th>31</th>\n",
       "      <th>32</th>\n",
       "      <th>33</th>\n",
       "      <th>id</th>\n",
       "    </tr>\n",
       "  </thead>\n",
       "  <tbody>\n",
       "    <tr>\n",
       "      <th>0</th>\n",
       "      <td>0.034331</td>\n",
       "      <td>0.027217</td>\n",
       "      <td>3.032119</td>\n",
       "      <td>0.100629</td>\n",
       "      <td>0.144193</td>\n",
       "      <td>0.094455</td>\n",
       "      <td>0.001504</td>\n",
       "      <td>0.038918</td>\n",
       "      <td>-20.449001</td>\n",
       "      <td>2.142264</td>\n",
       "      <td>...</td>\n",
       "      <td>0.000543</td>\n",
       "      <td>0.000259</td>\n",
       "      <td>0.000311</td>\n",
       "      <td>0.000444</td>\n",
       "      <td>0.000484</td>\n",
       "      <td>0.000725</td>\n",
       "      <td>0.000527</td>\n",
       "      <td>0.000368</td>\n",
       "      <td>0.000397</td>\n",
       "      <td>5bF6crgJa5Q58IWgbdUbuO</td>\n",
       "    </tr>\n",
       "    <tr>\n",
       "      <th>1</th>\n",
       "      <td>0.080249</td>\n",
       "      <td>0.063066</td>\n",
       "      <td>3.154067</td>\n",
       "      <td>0.179655</td>\n",
       "      <td>0.186982</td>\n",
       "      <td>0.676640</td>\n",
       "      <td>0.000210</td>\n",
       "      <td>0.105036</td>\n",
       "      <td>-17.555998</td>\n",
       "      <td>0.956587</td>\n",
       "      <td>...</td>\n",
       "      <td>0.000924</td>\n",
       "      <td>0.001856</td>\n",
       "      <td>0.000515</td>\n",
       "      <td>0.001718</td>\n",
       "      <td>0.001182</td>\n",
       "      <td>0.001021</td>\n",
       "      <td>0.001049</td>\n",
       "      <td>0.001231</td>\n",
       "      <td>0.000844</td>\n",
       "      <td>5BFMUpscSbYVT2V9j5d275</td>\n",
       "    </tr>\n",
       "    <tr>\n",
       "      <th>2</th>\n",
       "      <td>0.055129</td>\n",
       "      <td>0.094738</td>\n",
       "      <td>3.248476</td>\n",
       "      <td>0.168248</td>\n",
       "      <td>0.191879</td>\n",
       "      <td>0.350973</td>\n",
       "      <td>0.000328</td>\n",
       "      <td>0.043137</td>\n",
       "      <td>-17.683683</td>\n",
       "      <td>2.139082</td>\n",
       "      <td>...</td>\n",
       "      <td>0.001474</td>\n",
       "      <td>0.000988</td>\n",
       "      <td>0.001536</td>\n",
       "      <td>0.002911</td>\n",
       "      <td>0.000818</td>\n",
       "      <td>0.001129</td>\n",
       "      <td>0.000644</td>\n",
       "      <td>0.001056</td>\n",
       "      <td>0.001052</td>\n",
       "      <td>5bFxSkRAr1kiESBIkArOiP</td>\n",
       "    </tr>\n",
       "    <tr>\n",
       "      <th>3</th>\n",
       "      <td>0.035782</td>\n",
       "      <td>0.026939</td>\n",
       "      <td>3.152187</td>\n",
       "      <td>0.107575</td>\n",
       "      <td>0.149364</td>\n",
       "      <td>0.172294</td>\n",
       "      <td>0.001276</td>\n",
       "      <td>0.039265</td>\n",
       "      <td>-20.296906</td>\n",
       "      <td>2.452144</td>\n",
       "      <td>...</td>\n",
       "      <td>0.001199</td>\n",
       "      <td>0.002105</td>\n",
       "      <td>0.000745</td>\n",
       "      <td>0.002304</td>\n",
       "      <td>0.003827</td>\n",
       "      <td>0.003836</td>\n",
       "      <td>0.004233</td>\n",
       "      <td>0.003712</td>\n",
       "      <td>0.003389</td>\n",
       "      <td>5bG5GUKVJztKR5nff1CwUp</td>\n",
       "    </tr>\n",
       "    <tr>\n",
       "      <th>4</th>\n",
       "      <td>0.057428</td>\n",
       "      <td>0.062834</td>\n",
       "      <td>3.061450</td>\n",
       "      <td>0.131380</td>\n",
       "      <td>0.152100</td>\n",
       "      <td>0.427569</td>\n",
       "      <td>0.000472</td>\n",
       "      <td>0.075542</td>\n",
       "      <td>-17.584650</td>\n",
       "      <td>1.820407</td>\n",
       "      <td>...</td>\n",
       "      <td>0.000912</td>\n",
       "      <td>0.001501</td>\n",
       "      <td>0.002080</td>\n",
       "      <td>0.001376</td>\n",
       "      <td>0.002700</td>\n",
       "      <td>0.004059</td>\n",
       "      <td>0.001817</td>\n",
       "      <td>0.001280</td>\n",
       "      <td>0.002206</td>\n",
       "      <td>5BgC5vVuhfWHHawbcXRr7h</td>\n",
       "    </tr>\n",
       "  </tbody>\n",
       "</table>\n",
       "<p>5 rows × 35 columns</p>\n",
       "</div>"
      ],
      "text/plain": [
       "          0         1         2         3         4         5         6  \\\n",
       "0  0.034331  0.027217  3.032119  0.100629  0.144193  0.094455  0.001504   \n",
       "1  0.080249  0.063066  3.154067  0.179655  0.186982  0.676640  0.000210   \n",
       "2  0.055129  0.094738  3.248476  0.168248  0.191879  0.350973  0.000328   \n",
       "3  0.035782  0.026939  3.152187  0.107575  0.149364  0.172294  0.001276   \n",
       "4  0.057428  0.062834  3.061450  0.131380  0.152100  0.427569  0.000472   \n",
       "\n",
       "          7          8         9           ...                  25        26  \\\n",
       "0  0.038918 -20.449001  2.142264           ...            0.000543  0.000259   \n",
       "1  0.105036 -17.555998  0.956587           ...            0.000924  0.001856   \n",
       "2  0.043137 -17.683683  2.139082           ...            0.001474  0.000988   \n",
       "3  0.039265 -20.296906  2.452144           ...            0.001199  0.002105   \n",
       "4  0.075542 -17.584650  1.820407           ...            0.000912  0.001501   \n",
       "\n",
       "         27        28        29        30        31        32        33  \\\n",
       "0  0.000311  0.000444  0.000484  0.000725  0.000527  0.000368  0.000397   \n",
       "1  0.000515  0.001718  0.001182  0.001021  0.001049  0.001231  0.000844   \n",
       "2  0.001536  0.002911  0.000818  0.001129  0.000644  0.001056  0.001052   \n",
       "3  0.000745  0.002304  0.003827  0.003836  0.004233  0.003712  0.003389   \n",
       "4  0.002080  0.001376  0.002700  0.004059  0.001817  0.001280  0.002206   \n",
       "\n",
       "                       id  \n",
       "0  5bF6crgJa5Q58IWgbdUbuO  \n",
       "1  5BFMUpscSbYVT2V9j5d275  \n",
       "2  5bFxSkRAr1kiESBIkArOiP  \n",
       "3  5bG5GUKVJztKR5nff1CwUp  \n",
       "4  5BgC5vVuhfWHHawbcXRr7h  \n",
       "\n",
       "[5 rows x 35 columns]"
      ]
     },
     "execution_count": 30,
     "metadata": {},
     "output_type": "execute_result"
    }
   ],
   "source": [
    "mean_features_data = pd.read_csv('mean_features_data_with_id.csv').drop('Unnamed: 0', axis = 1)\n",
    "mean_features_data.head()"
   ]
  },
  {
   "cell_type": "code",
   "execution_count": 31,
   "metadata": {
    "collapsed": true
   },
   "outputs": [],
   "source": [
    "from sklearn.cluster import KMeans\n",
    "cols = np.array(range(0,34))\n",
    "kmeans = KMeans(n_clusters=300, random_state=0).fit(mean_features_data[cols])"
   ]
  },
  {
   "cell_type": "code",
   "execution_count": 32,
   "metadata": {
    "collapsed": true
   },
   "outputs": [],
   "source": [
    "def distance_between_clusters(mu_1, sig_1, mu_2, sig_2):\n",
    "    \n",
    "    means_diff_1 = mu_1- mu_2\n",
    "    means_diff_2 = mu_2- mu_1\n",
    "    sig_1_inv = np.linalg.inv(sig_1)\n",
    "    sig_2_inv = np.linalg.inv(sig_2)\n",
    "    dist = np.trace(np.dot(np.linalg.inv(sig_1) , sig_2)) + np.trace(np.dot(np.linalg.inv(sig_2) , sig_1)) + np.dot(np.dot(means_diff_1.T,sig_1_inv),means_diff_1) +np.dot(np.dot(means_diff_2.T,sig_2_inv),means_diff_2) \n",
    "    return dist\n"
   ]
  },
  {
   "cell_type": "code",
   "execution_count": 33,
   "metadata": {
    "collapsed": false
   },
   "outputs": [],
   "source": [
    "#!pip install pydub"
   ]
  },
  {
   "cell_type": "code",
   "execution_count": 37,
   "metadata": {
    "collapsed": false
   },
   "outputs": [],
   "source": [
    "# code to calculate emd between two songs\n",
    "def calc_emd(signature_1, signature_2):\n",
    "    p_list = []\n",
    "    for i in signature_1['weights']:\n",
    "        p_list.append(i)\n",
    "    \n",
    "    q_list = []\n",
    "    for i in signature_2['weights']:\n",
    "        q_list.append(i)\n",
    "    \n",
    "    clus_1 = signature_1['means'].shape[0]\n",
    "    clus_2 = signature_2['means'].shape[0]\n",
    "    dist = np.zeros((clus_1*clus_2))\n",
    "    p_list = np.array(p_list)\n",
    "    q_list = np.array(q_list)\n",
    "    col = 0\n",
    "    for i in range(0, clus_1):\n",
    "        for j in range(0, clus_2):\n",
    "            dist[col]=distance_between_clusters(signature_1['means'][i],signature_1['var'][i], signature_2['means'][j], signature_2['var'][j])\n",
    "            col+=1\n",
    "    #clus_1 = clus_2 = 4\n",
    "    A_ub = np.zeros((clus_1+clus_2, clus_1*clus_2))\n",
    "    j = 0\n",
    "    for i in range(0, clus_1):\n",
    "        A_ub[i][j:j+clus_2] = 1\n",
    "        j+=clus_2\n",
    "\n",
    "    #print(A_ub)\n",
    "    k = 0\n",
    "    for i in range(clus_1, clus_1+clus_2):\n",
    "        \n",
    "        for j in range(k, clus_1*clus_2, clus_2):\n",
    "            \n",
    "            A_ub[i][j] = 1\n",
    "        k = k+1\n",
    "    #print(A_ub)\n",
    "    b_ub = np.zeros(clus_1 + clus_2)\n",
    "    b_ub[0:clus_1] = p_list\n",
    "    b_ub[clus_1:] = q_list\n",
    "    A_eq = np.ones((1,clus_1*clus_2))\n",
    "    b_eq = min(np.sum(p_list), np.sum(q_list))\n",
    "\n",
    "    res = linprog(c = dist,A_ub = A_ub,b_ub= b_ub,A_eq = A_eq, b_eq = b_eq,options={\"disp\": True})\n",
    "    \n",
    "    f_star = np.array(res['x'])\n",
    "\n",
    "    num = np.dot(f_star, dist)\n",
    "    denom = np.sum(f_star)\n",
    "    #print(f_star, num, denom)\n",
    "    return(num/denom)\n",
    "\n",
    "import os, glob, eyed3, ntpath, shutil, numpy\n",
    "import scipy.io.wavfile as wavfile\n",
    "from pydub import AudioSegment\n",
    "def readAF(path):\n",
    "    '''\n",
    "    This function returns a numpy array that stores the audio samples of a specified WAV of AIFF file\n",
    "    '''\n",
    "    extension = os.path.splitext(path)[1]\n",
    "    try:\n",
    "        #if extension.lower() == '.wav':\n",
    "            #[Fs, x] = wavfile.read(path)\n",
    "        if extension.lower() == '.aif' or extension.lower() == '.aiff':\n",
    "            s = aifc.open(path, 'r')\n",
    "            nframes = s.getnframes()\n",
    "            strsig = s.readframes(nframes)\n",
    "            x = numpy.fromstring(strsig, numpy.short).byteswap()\n",
    "            Fs = s.getframerate()\n",
    "        elif extension.lower() == '.mp3' or extension.lower() == '.wav':\n",
    "            audiofile = AudioSegment.from_file(path)\n",
    "            data = numpy.fromstring(audiofile._data, numpy.int16)\n",
    "            Fs = audiofile.frame_rate\n",
    "            x = []\n",
    "            for chn in xrange(audiofile.channels):\n",
    "                x.append(data[chn::audiofile.channels])\n",
    "            x = numpy.array(x).T\n",
    "        else:\n",
    "            print(\"Error in readAudioFile(): Unknown file type!\")\n",
    "            return (-1,-1)\n",
    "    except IOError: \n",
    "        print(\"Error: file not found or other I/O error.\")\n",
    "        return (-1,-1)\n",
    "    return (Fs, x)\n"
   ]
  },
  {
   "cell_type": "code",
   "execution_count": 38,
   "metadata": {
    "collapsed": false
   },
   "outputs": [],
   "source": [
    "#!pip install libav-tools"
   ]
  },
  {
   "cell_type": "code",
   "execution_count": 42,
   "metadata": {
    "collapsed": false
   },
   "outputs": [
    {
     "name": "stdout",
     "output_type": "stream",
     "text": [
      "track0au8IZN1gZgvpMkpzKxwpo.wav\n"
     ]
    },
    {
     "ename": "ValueError",
     "evalue": "File format 'ID3\\x04'... not understood.",
     "output_type": "error",
     "traceback": [
      "\u001b[0;31m---------------------------------------------------------------------------\u001b[0m",
      "\u001b[0;31mValueError\u001b[0m                                Traceback (most recent call last)",
      "\u001b[0;32m<ipython-input-42-c63eeb226bfd>\u001b[0m in \u001b[0;36m<module>\u001b[0;34m()\u001b[0m\n\u001b[1;32m     40\u001b[0m \u001b[0;34m\u001b[0m\u001b[0m\n\u001b[1;32m     41\u001b[0m \u001b[0;31m#[Fs, x] = audioBasicIO.readAudioFile(\"track5bG5GUKVJztKR5nff1CwUp.wav\");\u001b[0m\u001b[0;34m\u001b[0m\u001b[0;34m\u001b[0m\u001b[0m\n\u001b[0;32m---> 42\u001b[0;31m \u001b[0;32mprint\u001b[0m\u001b[0;34m(\u001b[0m\u001b[0mreturn_candidate_songs\u001b[0m\u001b[0;34m(\u001b[0m\u001b[0;34m'0au8IZN1gZgvpMkpzKxwpo'\u001b[0m\u001b[0;34m)\u001b[0m\u001b[0;34m)\u001b[0m\u001b[0;34m\u001b[0m\u001b[0m\n\u001b[0m",
      "\u001b[0;32m<ipython-input-42-c63eeb226bfd>\u001b[0m in \u001b[0;36mreturn_candidate_songs\u001b[0;34m(seed_song)\u001b[0m\n\u001b[1;32m     28\u001b[0m     \u001b[0;32mprint\u001b[0m\u001b[0;34m(\u001b[0m\u001b[0;34m\"track\"\u001b[0m\u001b[0;34m+\u001b[0m\u001b[0mtrack_spotify\u001b[0m\u001b[0;34m[\u001b[0m\u001b[0;34m'id'\u001b[0m\u001b[0;34m]\u001b[0m\u001b[0;34m+\u001b[0m\u001b[0;34m\".wav\"\u001b[0m\u001b[0;34m)\u001b[0m\u001b[0;34m\u001b[0m\u001b[0m\n\u001b[1;32m     29\u001b[0m     \u001b[0;31m#[Fs, x] = readAF(\"track\"+track_spotify['id']+\".wav\")\u001b[0m\u001b[0;34m\u001b[0m\u001b[0;34m\u001b[0m\u001b[0m\n\u001b[0;32m---> 30\u001b[0;31m     \u001b[0;34m[\u001b[0m\u001b[0mFs\u001b[0m\u001b[0;34m,\u001b[0m \u001b[0mx\u001b[0m\u001b[0;34m]\u001b[0m \u001b[0;34m=\u001b[0m \u001b[0mwavfile\u001b[0m\u001b[0;34m.\u001b[0m\u001b[0mread\u001b[0m\u001b[0;34m(\u001b[0m\u001b[0;34m\"track\"\u001b[0m\u001b[0;34m+\u001b[0m\u001b[0;34m'0au8IZN1gZgvpMkpzKxwpo'\u001b[0m\u001b[0;34m+\u001b[0m\u001b[0;34m\".wav\"\u001b[0m\u001b[0;34m)\u001b[0m\u001b[0;34m\u001b[0m\u001b[0m\n\u001b[0m\u001b[1;32m     31\u001b[0m     \u001b[0mF\u001b[0m \u001b[0;34m=\u001b[0m \u001b[0maudioFeatureExtraction\u001b[0m\u001b[0;34m.\u001b[0m\u001b[0mstFeatureExtraction\u001b[0m\u001b[0;34m(\u001b[0m\u001b[0mx\u001b[0m\u001b[0;34m[\u001b[0m\u001b[0;34m:\u001b[0m\u001b[0;34m,\u001b[0m\u001b[0;36m1\u001b[0m\u001b[0;34m]\u001b[0m\u001b[0;34m,\u001b[0m \u001b[0mFs\u001b[0m\u001b[0;34m,\u001b[0m \u001b[0;36m1\u001b[0m\u001b[0;34m*\u001b[0m \u001b[0mFs\u001b[0m\u001b[0;34m,\u001b[0m \u001b[0;36m1\u001b[0m\u001b[0;34m*\u001b[0m\u001b[0mFs\u001b[0m\u001b[0;34m)\u001b[0m\u001b[0;34m;\u001b[0m\u001b[0;34m\u001b[0m\u001b[0m\n\u001b[1;32m     32\u001b[0m \u001b[0;34m\u001b[0m\u001b[0m\n",
      "\u001b[0;32m/Users/lw20302/anaconda/lib/python2.7/site-packages/scipy/io/wavfile.pyc\u001b[0m in \u001b[0;36mread\u001b[0;34m(filename, mmap)\u001b[0m\n\u001b[1;32m    234\u001b[0m \u001b[0;34m\u001b[0m\u001b[0m\n\u001b[1;32m    235\u001b[0m     \u001b[0;32mtry\u001b[0m\u001b[0;34m:\u001b[0m\u001b[0;34m\u001b[0m\u001b[0m\n\u001b[0;32m--> 236\u001b[0;31m         \u001b[0mfile_size\u001b[0m\u001b[0;34m,\u001b[0m \u001b[0mis_big_endian\u001b[0m \u001b[0;34m=\u001b[0m \u001b[0m_read_riff_chunk\u001b[0m\u001b[0;34m(\u001b[0m\u001b[0mfid\u001b[0m\u001b[0;34m)\u001b[0m\u001b[0;34m\u001b[0m\u001b[0m\n\u001b[0m\u001b[1;32m    237\u001b[0m         \u001b[0mfmt_chunk_received\u001b[0m \u001b[0;34m=\u001b[0m \u001b[0mFalse\u001b[0m\u001b[0;34m\u001b[0m\u001b[0m\n\u001b[1;32m    238\u001b[0m         \u001b[0mchannels\u001b[0m \u001b[0;34m=\u001b[0m \u001b[0;36m1\u001b[0m\u001b[0;34m\u001b[0m\u001b[0m\n",
      "\u001b[0;32m/Users/lw20302/anaconda/lib/python2.7/site-packages/scipy/io/wavfile.pyc\u001b[0m in \u001b[0;36m_read_riff_chunk\u001b[0;34m(fid)\u001b[0m\n\u001b[1;32m    166\u001b[0m         \u001b[0;31m# There are also .wav files with \"FFIR\" or \"XFIR\" signatures?\u001b[0m\u001b[0;34m\u001b[0m\u001b[0;34m\u001b[0m\u001b[0m\n\u001b[1;32m    167\u001b[0m         raise ValueError(\"File format {}... not \"\n\u001b[0;32m--> 168\u001b[0;31m                          \"understood.\".format(repr(str1)))\n\u001b[0m\u001b[1;32m    169\u001b[0m \u001b[0;34m\u001b[0m\u001b[0m\n\u001b[1;32m    170\u001b[0m     \u001b[0;31m# Size of entire file\u001b[0m\u001b[0;34m\u001b[0m\u001b[0;34m\u001b[0m\u001b[0m\n",
      "\u001b[0;31mValueError\u001b[0m: File format 'ID3\\x04'... not understood."
     ]
    }
   ],
   "source": [
    "from pyAudioAnalysis import audioBasicIO\n",
    "from pyAudioAnalysis import audioFeatureExtraction\n",
    "import matplotlib.pyplot as plt\n",
    "import numpy as np\n",
    "import glob, os\n",
    "# os.chdir(\"/Users/sonumehta/Desktop/Sem2/Capstone/PyAudio_tools/pyAudioAnalysis/raw_audio\")\n",
    "\n",
    "# features = []\n",
    "\n",
    "# for file in glob.glob(\"*.wav\"):\n",
    "#     [Fs, x] = audioBasicIO.readAudioFile(\"track0A71OLE9BN4ImZ3XTCOHP7.wav\");\n",
    "#     F = audioFeatureExtraction.stFeatureExtraction(x[:,1], Fs, 1* Fs, 1*Fs);\n",
    "    \n",
    "#     features.append(np.mean(F, axis = 1))\n",
    "#     break\n",
    "# print(np.array(features).shape)\n",
    "    \n",
    "# features is array with 12 song having 24 features each.\n",
    "from scipy.io import wavfile\n",
    "\n",
    "def return_candidate_songs(seed_song): # seed_song is the track_id\n",
    "    \n",
    "    # extract raw audio #\n",
    "    track_spotify = sp.tracks([seed_song])['tracks'][0]\n",
    "    \n",
    "    urllib.urlretrieve(track_spotify['preview_url'], \"track\"+track_spotify['id']+\".wav\")\n",
    "    # extract acoustic features\n",
    "    print(\"track\"+track_spotify['id']+\".wav\")\n",
    "    #[Fs, x] = readAF(\"track\"+track_spotify['id']+\".wav\")\n",
    "    [Fs, x] = wavfile.read(\"track\"+'0au8IZN1gZgvpMkpzKxwpo'+\".wav\")\n",
    "    F = audioFeatureExtraction.stFeatureExtraction(x[:,1], Fs, 1* Fs, 1*Fs);\n",
    "\n",
    "#     # predict the nearest vantage point\n",
    "    vp_nearest = kmeans.predict(np.mean(F, axis = 1).reshape(1,-1))\n",
    "    print(vp_nearest)\n",
    "    #All songs in that cluster\n",
    "    nearest_song_index = np.where(kmeans.labels_ == vp_nearest)\n",
    "\n",
    "    return(track_id.iloc[nearest_song_index]['trackid'].values)\n",
    "\n",
    "#[Fs, x] = audioBasicIO.readAudioFile(\"track5bG5GUKVJztKR5nff1CwUp.wav\");\n",
    "print(return_candidate_songs('0au8IZN1gZgvpMkpzKxwpo'))\n"
   ]
  },
  {
   "cell_type": "code",
   "execution_count": 10,
   "metadata": {
    "collapsed": false
   },
   "outputs": [
    {
     "ename": "NameError",
     "evalue": "name 'seed' is not defined",
     "output_type": "error",
     "traceback": [
      "\u001b[0;31m---------------------------------------------------------------------------\u001b[0m",
      "\u001b[0;31mNameError\u001b[0m                                 Traceback (most recent call last)",
      "\u001b[0;32m<ipython-input-10-57e3ef443f1b>\u001b[0m in \u001b[0;36m<module>\u001b[0;34m()\u001b[0m\n\u001b[1;32m      1\u001b[0m \u001b[0;31m#!pip install pyAudioAnalysis\u001b[0m\u001b[0;34m\u001b[0m\u001b[0;34m\u001b[0m\u001b[0m\n\u001b[1;32m      2\u001b[0m \u001b[0;32mimport\u001b[0m \u001b[0murllib2\u001b[0m\u001b[0;34m\u001b[0m\u001b[0m\n\u001b[0;32m----> 3\u001b[0;31m \u001b[0;32mprint\u001b[0m\u001b[0;34m(\u001b[0m\u001b[0msp\u001b[0m\u001b[0;34m.\u001b[0m\u001b[0mtracks\u001b[0m\u001b[0;34m(\u001b[0m\u001b[0;34m[\u001b[0m\u001b[0mseed\u001b[0m\u001b[0;34m]\u001b[0m\u001b[0;34m)\u001b[0m\u001b[0;34m[\u001b[0m\u001b[0;34m'tracks'\u001b[0m\u001b[0;34m]\u001b[0m\u001b[0;34m[\u001b[0m\u001b[0;36m0\u001b[0m\u001b[0;34m]\u001b[0m\u001b[0;34m[\u001b[0m\u001b[0;34m'preview_url'\u001b[0m\u001b[0;34m]\u001b[0m\u001b[0;34m)\u001b[0m\u001b[0;34m\u001b[0m\u001b[0m\n\u001b[0m\u001b[1;32m      4\u001b[0m \u001b[0mf\u001b[0m\u001b[0;34m=\u001b[0m\u001b[0mfile\u001b[0m\u001b[0;34m(\u001b[0m\u001b[0;34m'test.mp3'\u001b[0m\u001b[0;34m,\u001b[0m \u001b[0;34m'w'\u001b[0m\u001b[0;34m)\u001b[0m\u001b[0;34m\u001b[0m\u001b[0m\n\u001b[1;32m      5\u001b[0m \u001b[0mseed\u001b[0m \u001b[0;34m=\u001b[0m \u001b[0;34m'5bG5GUKVJztKR5nff1CwUp'\u001b[0m\u001b[0;34m\u001b[0m\u001b[0m\n",
      "\u001b[0;31mNameError\u001b[0m: name 'seed' is not defined"
     ]
    }
   ],
   "source": [
    "#!pip install pyAudioAnalysis\n",
    "import urllib2\n",
    "print(sp.tracks([seed])['tracks'][0]['preview_url'])\n",
    "f=file('test.mp3', 'w')\n",
    "seed = '5bG5GUKVJztKR5nff1CwUp'\n",
    "url=urllib2.urlopen(sp.tracks([seed])['tracks'][0]['preview_url'])\n",
    "url\n",
    "f.write(url.read(1024))"
   ]
  },
  {
   "cell_type": "markdown",
   "metadata": {},
   "source": [
    "### Read in csv that has the track ids from all Spotify playlists"
   ]
  },
  {
   "cell_type": "code",
   "execution_count": 15,
   "metadata": {
    "collapsed": false
   },
   "outputs": [
    {
     "name": "stdout",
     "output_type": "stream",
     "text": [
      "(14887, 'example track ids', '\\n')\n",
      "['1tPGSiwtvmMVAqmniJ7oHp', '1tpShM80HMT9vKjRiA3EzW', '1TPUbLdzpfgF7wrPEXIAAB', '1tQGRq2WOBXjL3JWdWMONg', '1TqmZVIyeD4aN4Wa0wbnfy', '1TquBahz02HCaxj8jy5tTo', '1Tr4K5MU5XYE44umXGDndd', '1tRlCCMVLSVQrrN9PPgtf0', '1TScJLsDWzDVBFpCU5vJDo', '1TSjS0q24cPW2S4pYj2wEK', '1Tt4sE4pXi57mTD1GCzsqm', '1TtdHZ4KvN56LCt9evBUaL', '1TTiZwoorWMR4KmaI0irjU', '1TtJJ7YP6JCQ3aH8PQpreD', '1TTOAw90zzNWKnUgzzcvZW']\n"
     ]
    }
   ],
   "source": [
    "track_info = pd.read_csv(\"kmeans_output.csv\")\n",
    "track_ids = list(track_info['id'])\n",
    "print(len(track_ids), \"example track ids\", \"\\n\")\n",
    "print(track_ids[:15])\n",
    "track_result = sp.tracks([\"1tpShM80HMT9vKjRiA3EzW\"])"
   ]
  },
  {
   "cell_type": "markdown",
   "metadata": {},
   "source": [
    "### Input a seed track"
   ]
  },
  {
   "cell_type": "code",
   "execution_count": 16,
   "metadata": {
    "collapsed": false
   },
   "outputs": [
    {
     "name": "stdout",
     "output_type": "stream",
     "text": [
      "('ID: ', '7qiZfU4dY1lWllzX7mPBI3', '\\n \\n Artist name: ', u'Ed Sheeran', '\\n Track name: ', u'Shape of You')\n"
     ]
    }
   ],
   "source": [
    "seed_id = \"7qiZfU4dY1lWllzX7mPBI3\"\n",
    "track_info = sp.tracks([seed_id])\n",
    "name = track_info['tracks'][0]['name']\n",
    "seed_preview_url = track_info['tracks'][0]['preview_url']\n",
    "print(\"ID: \", seed_id, \"\\n \\n Artist name: \",track_info['tracks'][0]['artists'][0]['name'], \"\\n Track name: \",name)"
   ]
  },
  {
   "cell_type": "markdown",
   "metadata": {},
   "source": [
    "### Get the track's artists"
   ]
  },
  {
   "cell_type": "code",
   "execution_count": 17,
   "metadata": {
    "collapsed": false
   },
   "outputs": [
    {
     "name": "stdout",
     "output_type": "stream",
     "text": [
      "[u'Ed Sheeran']\n",
      "([u'6eUKZXaKkcviH0Ku9w2n3V'], '\\n')\n",
      "(1, 'artist(s)')\n"
     ]
    }
   ],
   "source": [
    "artist_names = []\n",
    "artist_ids = []\n",
    "for each in track_info['tracks'][0]['artists']:\n",
    "    artist_names.append(each['name'])\n",
    "    artist_ids.append(each['id'])\n",
    "print(artist_names)\n",
    "print(artist_ids,\"\\n\")\n",
    "print(len(artist_names), \"artist(s)\")"
   ]
  },
  {
   "cell_type": "markdown",
   "metadata": {},
   "source": [
    "### Get related artists"
   ]
  },
  {
   "cell_type": "code",
   "execution_count": 18,
   "metadata": {
    "collapsed": false
   },
   "outputs": [
    {
     "name": "stdout",
     "output_type": "stream",
     "text": [
      "(20, 'related artists')\n"
     ]
    }
   ],
   "source": [
    "all_related_artists_names = []\n",
    "all_related_artists_ids = []\n",
    "\n",
    "for each in artist_ids:\n",
    "    related = sp.artist_related_artists(each)\n",
    "    for related_artist in related['artists']:\n",
    "        all_related_artists_names.append(related_artist['name'])\n",
    "        all_related_artists_ids.append(related_artist['id'])\n",
    "all_related_artists_ids = np.array(all_related_artists_ids)\n",
    "all_related_artists_ids_unique = np.unique(all_related_artists_ids)\n",
    "print(len(all_related_artists_ids_unique), \"related artists\")"
   ]
  },
  {
   "cell_type": "markdown",
   "metadata": {},
   "source": [
    "### Bucket #1: Top tracks from the related artists"
   ]
  },
  {
   "cell_type": "code",
   "execution_count": 19,
   "metadata": {
    "collapsed": false
   },
   "outputs": [
    {
     "name": "stdout",
     "output_type": "stream",
     "text": [
      "(191, 'top tracks from related artists')\n"
     ]
    }
   ],
   "source": [
    "top_tracks_related_artists = []\n",
    "for each in all_related_artists_ids_unique:    \n",
    "    top_tracks_one_artist = sp.artist_top_tracks(each)\n",
    "\n",
    "    for each in top_tracks_one_artist['tracks']:\n",
    "        song = each['id']\n",
    "        top_tracks_related_artists.append(song)\n",
    "        \n",
    "print(len(top_tracks_related_artists),\"top tracks from related artists\")"
   ]
  },
  {
   "cell_type": "markdown",
   "metadata": {},
   "source": [
    "### Bucket #2: Songs from related artists that are not in top tracks but are similar"
   ]
  },
  {
   "cell_type": "code",
   "execution_count": 20,
   "metadata": {
    "collapsed": false
   },
   "outputs": [
    {
     "name": "stdout",
     "output_type": "stream",
     "text": [
      "Finding albums from related artists...\n",
      "Finding songs from those albums...\n",
      "0\n",
      "50\n",
      "100\n",
      "150\n",
      "200\n",
      "250\n",
      "300\n",
      "350\n",
      "400\n",
      "450\n",
      "500\n",
      "550\n",
      "600\n",
      "650\n",
      "700\n",
      "750\n",
      "800\n",
      "850\n",
      "900\n",
      "950\n",
      "(9784, ' songs from related artists')\n"
     ]
    }
   ],
   "source": [
    "print(\"Finding albums from related artists...\")\n",
    "all_related_albums = []\n",
    "for each in all_related_artists_ids_unique:    \n",
    "    albums = sp.artist_albums(each, album_type=None, country=None, limit=50, offset=0)\n",
    "    for each in albums['items']:\n",
    "        album_id = each['id']\n",
    "        all_related_albums.append(album_id)\n",
    "sp.album_tracks(all_related_albums[1], limit=50, offset=0)\n",
    "print(\"Finding songs from those albums...\")\n",
    "\n",
    "all_related_songs = []\n",
    "all_related_preview_urls = []\n",
    "for index, each_album in enumerate(all_related_albums):\n",
    "    album_tracks = sp.album_tracks(each_album, limit=50, offset=0)\n",
    "    if index%50==0: print(index)\n",
    "    for each in album_tracks['items']:\n",
    "        all_related_songs.append(each['id'])\n",
    "        all_related_preview_urls.append(each['preview_url'])\n",
    "all_related_songs = np.array(all_related_songs)\n",
    "all_related_songs = list(np.unique(all_related_songs))\n",
    "combined = [seed_id]\n",
    "combined.extend(all_related_songs)\n",
    "all_related_songs = combined\n",
    "print(len(all_related_songs), \" songs from related artists\")"
   ]
  },
  {
   "cell_type": "markdown",
   "metadata": {},
   "source": [
    "### Test to make sure the songs sound like they're from related artists"
   ]
  },
  {
   "cell_type": "code",
   "execution_count": 21,
   "metadata": {
    "collapsed": true
   },
   "outputs": [],
   "source": [
    "from IPython.core.display import HTML"
   ]
  },
  {
   "cell_type": "code",
   "execution_count": 22,
   "metadata": {
    "collapsed": false
   },
   "outputs": [
    {
     "data": {
      "text/html": [
       "<a href=https://p.scdn.co/mp3-preview/84462d8e1e4d0f9e5ccd06f0da390f65843774a2?cid=4a1a457d14c0445a96e7021a5523905b>preview input song</a>"
      ],
      "text/plain": [
       "<IPython.core.display.HTML object>"
      ]
     },
     "execution_count": 22,
     "metadata": {},
     "output_type": "execute_result"
    }
   ],
   "source": [
    "link = '<a href=' + str(seed_preview_url) + '>preview input song</a>'\n",
    "#display(HTML(link))\n",
    "HTML(link)\n"
   ]
  },
  {
   "cell_type": "code",
   "execution_count": 23,
   "metadata": {
    "collapsed": false
   },
   "outputs": [
    {
     "data": {
      "text/html": [
       "<a href=https://p.scdn.co/mp3-preview/49cbf8e63464383438aa443269b103f71fb3fa88?cid=4a1a457d14c0445a96e7021a5523905b>preview related song</a>"
      ],
      "text/plain": [
       "<IPython.core.display.HTML object>"
      ]
     },
     "execution_count": 23,
     "metadata": {},
     "output_type": "execute_result"
    }
   ],
   "source": [
    "link = '<a href=' + str(all_related_preview_urls[10]) + '>preview related song</a>'\n",
    "HTML(link)\n"
   ]
  },
  {
   "cell_type": "markdown",
   "metadata": {},
   "source": [
    "### Function to get Spotify API features given a list of track ids"
   ]
  },
  {
   "cell_type": "code",
   "execution_count": 24,
   "metadata": {
    "collapsed": false
   },
   "outputs": [],
   "source": [
    "def get_spotify_features(track_ids,numLoops=None):\n",
    "    track_ids_all= []\n",
    "    popularity = []\n",
    "    preview_urls_all =[]\n",
    "    artists_all = []\n",
    "    names_all = []\n",
    "    track_numbers_all = []\n",
    "    num_markets = []\n",
    "    \n",
    "    # set parameters\n",
    "    offset=0\n",
    "    limit=50\n",
    "    if numLoops==None: \n",
    "        numLoops=int(math.floor(len(track_ids)/50)+1)\n",
    "    aud_features = np.empty((limit*numLoops, 13))\n",
    "    for loopIndex in range(numLoops):\n",
    "        start = offset + limit*loopIndex # start \n",
    "        tracks = track_ids[start:start+limit]\n",
    "        try:\n",
    "            tracks_list = sp.tracks(tracks)\n",
    "            features = sp.audio_features(tracks=tracks)\n",
    "        except:\n",
    "            print(\"Couldn't get data\", index)\n",
    "            continue\n",
    "        for index, track in enumerate(tracks_list['tracks']):\n",
    "            \n",
    "            try:\n",
    "                if (start+index)%1000==0: \n",
    "                    print(index+1+start)\n",
    "                preview_urls_all.append(track['preview_url'])\n",
    "                track_ids_all.append(track['id'])\n",
    "                popularity.append(track['popularity'])\n",
    "                names_all.append(track['name'])\n",
    "                artists_all.append(track['artists'][0]['name'])\n",
    "                track_numbers_all.append(track['track_number'])\n",
    "                num_markets.append(track['available_markets'])\n",
    "                songData = features[index]\n",
    "                aud_features[index+start][0] = songData['acousticness']\n",
    "                aud_features[index+start][1] = songData['danceability']\n",
    "                aud_features[index+start][2] = songData['energy']\n",
    "                aud_features[index+start][3] = songData['instrumentalness']\n",
    "                aud_features[index+start][4] = songData['key']\n",
    "                aud_features[index+start][5] = songData['liveness']\n",
    "                aud_features[index+start][6] = songData['loudness']\n",
    "                aud_features[index+start][7] = songData['mode']\n",
    "                aud_features[index+start][8] = songData['tempo']\n",
    "                aud_features[index+start][9] = songData['time_signature']\n",
    "                aud_features[index+start][10] = songData['valence']\n",
    "                aud_features[index+start][11] = songData['duration_ms']\n",
    "                aud_features[index+start][12] = songData['speechiness']\n",
    "                 \n",
    "            except:\n",
    "                print(\"Some fields not available\", index)\n",
    "\n",
    "    aud_features = aud_features[:len(names_all),]\n",
    "    track_data = pd.DataFrame({\n",
    "    'preview_url': preview_urls_all,\n",
    "    'id': track_ids_all,\n",
    "    'popularity': popularity,\n",
    "    'artists': artists_all,\n",
    "    'names': names_all,\n",
    "    'acousticness': aud_features[:,0],\n",
    "    'danceability': aud_features[:,1],\n",
    "    'energy': aud_features[:,2],\n",
    "    'instrumentalness': aud_features[:,3],\n",
    "    'key': aud_features[:,4],\n",
    "    'liveness': aud_features[:,5],\n",
    "    'loudness': aud_features[:,6],\n",
    "    'mode': aud_features[:,7],\n",
    "    'tempo': aud_features[:,8],\n",
    "    'time_signature': aud_features[:,9],\n",
    "    'valence': aud_features[:,10],\n",
    "    'duration': aud_features[:,11],\n",
    "    'speechiness': aud_features[:,12],\n",
    "    'available_markets': num_markets\n",
    "    \n",
    "   \n",
    "    })\n",
    "    #q.put(track_data)\n",
    "    print(len(num_markets), len(popularity), aud_features.shape)\n",
    "    #name = multiprocessing.current_process().name\n",
    "    print('Exiting')\n",
    "    return track_data\n"
   ]
  },
  {
   "cell_type": "markdown",
   "metadata": {},
   "source": [
    "### Get all Spotify features for Bucket 1"
   ]
  },
  {
   "cell_type": "code",
   "execution_count": 25,
   "metadata": {
    "collapsed": false
   },
   "outputs": [
    {
     "name": "stdout",
     "output_type": "stream",
     "text": [
      "191\n",
      "1\n",
      "(191, 191, (191, 13))\n",
      "Exiting\n"
     ]
    }
   ],
   "source": [
    "print(len(top_tracks_related_artists))\n",
    "top_tracks_df = get_spotify_features(track_ids=top_tracks_related_artists) "
   ]
  },
  {
   "cell_type": "code",
   "execution_count": 26,
   "metadata": {
    "collapsed": false
   },
   "outputs": [
    {
     "data": {
      "text/html": [
       "<div>\n",
       "<table border=\"1\" class=\"dataframe\">\n",
       "  <thead>\n",
       "    <tr style=\"text-align: right;\">\n",
       "      <th></th>\n",
       "      <th>acousticness</th>\n",
       "      <th>artists</th>\n",
       "      <th>available_markets</th>\n",
       "      <th>danceability</th>\n",
       "      <th>duration</th>\n",
       "      <th>energy</th>\n",
       "      <th>id</th>\n",
       "      <th>instrumentalness</th>\n",
       "      <th>key</th>\n",
       "      <th>liveness</th>\n",
       "      <th>loudness</th>\n",
       "      <th>mode</th>\n",
       "      <th>names</th>\n",
       "      <th>popularity</th>\n",
       "      <th>preview_url</th>\n",
       "      <th>speechiness</th>\n",
       "      <th>tempo</th>\n",
       "      <th>time_signature</th>\n",
       "      <th>valence</th>\n",
       "    </tr>\n",
       "  </thead>\n",
       "  <tbody>\n",
       "    <tr>\n",
       "      <th>0</th>\n",
       "      <td>0.583</td>\n",
       "      <td>Ellie Goulding</td>\n",
       "      <td>[CA, MX, US]</td>\n",
       "      <td>0.430</td>\n",
       "      <td>240867.0</td>\n",
       "      <td>0.530</td>\n",
       "      <td>3odrUVQ9tvRpkC9II2oWzx</td>\n",
       "      <td>0.000000</td>\n",
       "      <td>1.0</td>\n",
       "      <td>0.102</td>\n",
       "      <td>-7.941</td>\n",
       "      <td>1.0</td>\n",
       "      <td>Still Falling For You - From \"Bridget Jones's ...</td>\n",
       "      <td>70</td>\n",
       "      <td>https://p.scdn.co/mp3-preview/9afcd95ec52726e1...</td>\n",
       "      <td>0.0447</td>\n",
       "      <td>96.140</td>\n",
       "      <td>4.0</td>\n",
       "      <td>0.166</td>\n",
       "    </tr>\n",
       "    <tr>\n",
       "      <th>1</th>\n",
       "      <td>0.197</td>\n",
       "      <td>Kygo</td>\n",
       "      <td>[AD, AR, AT, AU, BE, BG, BO, BR, CA, CH, CL, C...</td>\n",
       "      <td>0.633</td>\n",
       "      <td>193511.0</td>\n",
       "      <td>0.592</td>\n",
       "      <td>2Gl0FzuLxflY6nPifJp5Dr</td>\n",
       "      <td>0.000000</td>\n",
       "      <td>0.0</td>\n",
       "      <td>0.099</td>\n",
       "      <td>-7.245</td>\n",
       "      <td>0.0</td>\n",
       "      <td>First Time</td>\n",
       "      <td>74</td>\n",
       "      <td>https://p.scdn.co/mp3-preview/f5e35495b56260a0...</td>\n",
       "      <td>0.1120</td>\n",
       "      <td>90.066</td>\n",
       "      <td>4.0</td>\n",
       "      <td>0.643</td>\n",
       "    </tr>\n",
       "    <tr>\n",
       "      <th>2</th>\n",
       "      <td>0.240</td>\n",
       "      <td>Ellie Goulding</td>\n",
       "      <td>[CA, MX, US]</td>\n",
       "      <td>0.254</td>\n",
       "      <td>252534.0</td>\n",
       "      <td>0.617</td>\n",
       "      <td>2l8w0zZVn4AZNuzrht7MRT</td>\n",
       "      <td>0.000000</td>\n",
       "      <td>5.0</td>\n",
       "      <td>0.125</td>\n",
       "      <td>-6.612</td>\n",
       "      <td>0.0</td>\n",
       "      <td>Love Me Like You Do - From \"Fifty Shades Of Grey\"</td>\n",
       "      <td>73</td>\n",
       "      <td>https://p.scdn.co/mp3-preview/a4e18eb3de6b8e6b...</td>\n",
       "      <td>0.0537</td>\n",
       "      <td>189.425</td>\n",
       "      <td>4.0</td>\n",
       "      <td>0.271</td>\n",
       "    </tr>\n",
       "    <tr>\n",
       "      <th>3</th>\n",
       "      <td>0.296</td>\n",
       "      <td>Ellie Goulding</td>\n",
       "      <td>[CA, MX, US]</td>\n",
       "      <td>0.516</td>\n",
       "      <td>231212.0</td>\n",
       "      <td>0.772</td>\n",
       "      <td>0xMd5bcWTbyXS7wPrBtZA6</td>\n",
       "      <td>0.000000</td>\n",
       "      <td>10.0</td>\n",
       "      <td>0.101</td>\n",
       "      <td>-5.031</td>\n",
       "      <td>0.0</td>\n",
       "      <td>Burn</td>\n",
       "      <td>71</td>\n",
       "      <td>https://p.scdn.co/mp3-preview/b0b06f9ee468d539...</td>\n",
       "      <td>0.0476</td>\n",
       "      <td>87.038</td>\n",
       "      <td>4.0</td>\n",
       "      <td>0.319</td>\n",
       "    </tr>\n",
       "    <tr>\n",
       "      <th>4</th>\n",
       "      <td>0.227</td>\n",
       "      <td>Ellie Goulding</td>\n",
       "      <td>[CA, MX, US]</td>\n",
       "      <td>0.510</td>\n",
       "      <td>154435.0</td>\n",
       "      <td>0.308</td>\n",
       "      <td>0ZPfDxZn5O0L84wvPSN2iG</td>\n",
       "      <td>0.000313</td>\n",
       "      <td>0.0</td>\n",
       "      <td>0.120</td>\n",
       "      <td>-9.168</td>\n",
       "      <td>1.0</td>\n",
       "      <td>How Long Will I Love You - Bonus Track</td>\n",
       "      <td>67</td>\n",
       "      <td>https://p.scdn.co/mp3-preview/e206717cf7253882...</td>\n",
       "      <td>0.0321</td>\n",
       "      <td>126.349</td>\n",
       "      <td>5.0</td>\n",
       "      <td>0.146</td>\n",
       "    </tr>\n",
       "  </tbody>\n",
       "</table>\n",
       "</div>"
      ],
      "text/plain": [
       "   acousticness         artists  \\\n",
       "0         0.583  Ellie Goulding   \n",
       "1         0.197            Kygo   \n",
       "2         0.240  Ellie Goulding   \n",
       "3         0.296  Ellie Goulding   \n",
       "4         0.227  Ellie Goulding   \n",
       "\n",
       "                                   available_markets  danceability  duration  \\\n",
       "0                                       [CA, MX, US]         0.430  240867.0   \n",
       "1  [AD, AR, AT, AU, BE, BG, BO, BR, CA, CH, CL, C...         0.633  193511.0   \n",
       "2                                       [CA, MX, US]         0.254  252534.0   \n",
       "3                                       [CA, MX, US]         0.516  231212.0   \n",
       "4                                       [CA, MX, US]         0.510  154435.0   \n",
       "\n",
       "   energy                      id  instrumentalness   key  liveness  loudness  \\\n",
       "0   0.530  3odrUVQ9tvRpkC9II2oWzx          0.000000   1.0     0.102    -7.941   \n",
       "1   0.592  2Gl0FzuLxflY6nPifJp5Dr          0.000000   0.0     0.099    -7.245   \n",
       "2   0.617  2l8w0zZVn4AZNuzrht7MRT          0.000000   5.0     0.125    -6.612   \n",
       "3   0.772  0xMd5bcWTbyXS7wPrBtZA6          0.000000  10.0     0.101    -5.031   \n",
       "4   0.308  0ZPfDxZn5O0L84wvPSN2iG          0.000313   0.0     0.120    -9.168   \n",
       "\n",
       "   mode                                              names  popularity  \\\n",
       "0   1.0  Still Falling For You - From \"Bridget Jones's ...          70   \n",
       "1   0.0                                         First Time          74   \n",
       "2   0.0  Love Me Like You Do - From \"Fifty Shades Of Grey\"          73   \n",
       "3   0.0                                               Burn          71   \n",
       "4   1.0             How Long Will I Love You - Bonus Track          67   \n",
       "\n",
       "                                         preview_url  speechiness    tempo  \\\n",
       "0  https://p.scdn.co/mp3-preview/9afcd95ec52726e1...       0.0447   96.140   \n",
       "1  https://p.scdn.co/mp3-preview/f5e35495b56260a0...       0.1120   90.066   \n",
       "2  https://p.scdn.co/mp3-preview/a4e18eb3de6b8e6b...       0.0537  189.425   \n",
       "3  https://p.scdn.co/mp3-preview/b0b06f9ee468d539...       0.0476   87.038   \n",
       "4  https://p.scdn.co/mp3-preview/e206717cf7253882...       0.0321  126.349   \n",
       "\n",
       "   time_signature  valence  \n",
       "0             4.0    0.166  \n",
       "1             4.0    0.643  \n",
       "2             4.0    0.271  \n",
       "3             4.0    0.319  \n",
       "4             5.0    0.146  "
      ]
     },
     "execution_count": 26,
     "metadata": {},
     "output_type": "execute_result"
    }
   ],
   "source": [
    "top_tracks_df.head()"
   ]
  },
  {
   "cell_type": "markdown",
   "metadata": {},
   "source": [
    "### Get Spotify API Features for Bucket 2"
   ]
  },
  {
   "cell_type": "code",
   "execution_count": 27,
   "metadata": {
    "collapsed": false
   },
   "outputs": [
    {
     "name": "stdout",
     "output_type": "stream",
     "text": [
      "1\n",
      "1001\n",
      "2001\n",
      "3001\n",
      "4001\n",
      "5001\n",
      "6001\n",
      "7001\n",
      "8001\n",
      "9001\n",
      "(9784, 9784, (9784, 13))\n",
      "Exiting\n"
     ]
    }
   ],
   "source": [
    "features_df = get_spotify_features(track_ids=all_related_songs)"
   ]
  },
  {
   "cell_type": "code",
   "execution_count": 52,
   "metadata": {
    "collapsed": false
   },
   "outputs": [
    {
     "data": {
      "text/html": [
       "<div>\n",
       "<table border=\"1\" class=\"dataframe\">\n",
       "  <thead>\n",
       "    <tr style=\"text-align: right;\">\n",
       "      <th></th>\n",
       "      <th>acousticness</th>\n",
       "      <th>artists</th>\n",
       "      <th>available_markets</th>\n",
       "      <th>danceability</th>\n",
       "      <th>duration</th>\n",
       "      <th>energy</th>\n",
       "      <th>id</th>\n",
       "      <th>instrumentalness</th>\n",
       "      <th>key</th>\n",
       "      <th>liveness</th>\n",
       "      <th>loudness</th>\n",
       "      <th>mode</th>\n",
       "      <th>names</th>\n",
       "      <th>popularity</th>\n",
       "      <th>preview_url</th>\n",
       "      <th>speechiness</th>\n",
       "      <th>tempo</th>\n",
       "      <th>time_signature</th>\n",
       "      <th>valence</th>\n",
       "    </tr>\n",
       "  </thead>\n",
       "  <tbody>\n",
       "    <tr>\n",
       "      <th>0</th>\n",
       "      <td>0.58100</td>\n",
       "      <td>Ed Sheeran</td>\n",
       "      <td>[AD, AR, AT, AU, BE, BG, BO, BR, CA, CH, CL, C...</td>\n",
       "      <td>0.825</td>\n",
       "      <td>233713.0</td>\n",
       "      <td>0.652</td>\n",
       "      <td>7qiZfU4dY1lWllzX7mPBI3</td>\n",
       "      <td>0.00000</td>\n",
       "      <td>1.0</td>\n",
       "      <td>0.0931</td>\n",
       "      <td>-3.183</td>\n",
       "      <td>0.0</td>\n",
       "      <td>Shape of You</td>\n",
       "      <td>99</td>\n",
       "      <td>https://p.scdn.co/mp3-preview/84462d8e1e4d0f9e...</td>\n",
       "      <td>0.0802</td>\n",
       "      <td>95.977</td>\n",
       "      <td>4.0</td>\n",
       "      <td>0.933</td>\n",
       "    </tr>\n",
       "    <tr>\n",
       "      <th>1</th>\n",
       "      <td>0.13100</td>\n",
       "      <td>ZAYN</td>\n",
       "      <td>[AD, AR, AT, AU, BE, BG, BO, BR, CA, CH, CL, C...</td>\n",
       "      <td>0.748</td>\n",
       "      <td>188491.0</td>\n",
       "      <td>0.627</td>\n",
       "      <td>000xQL6tZNLJzIrtIgxqSl</td>\n",
       "      <td>0.00000</td>\n",
       "      <td>7.0</td>\n",
       "      <td>0.0852</td>\n",
       "      <td>-6.029</td>\n",
       "      <td>1.0</td>\n",
       "      <td>Still Got Time</td>\n",
       "      <td>91</td>\n",
       "      <td>https://p.scdn.co/mp3-preview/2385471a5d35709a...</td>\n",
       "      <td>0.0644</td>\n",
       "      <td>120.963</td>\n",
       "      <td>4.0</td>\n",
       "      <td>0.513</td>\n",
       "    </tr>\n",
       "    <tr>\n",
       "      <th>2</th>\n",
       "      <td>0.09170</td>\n",
       "      <td>Sia</td>\n",
       "      <td>[PL]</td>\n",
       "      <td>0.633</td>\n",
       "      <td>217040.0</td>\n",
       "      <td>0.711</td>\n",
       "      <td>005Ua0AZQDAtOpavz5kdpW</td>\n",
       "      <td>0.00178</td>\n",
       "      <td>10.0</td>\n",
       "      <td>0.4770</td>\n",
       "      <td>-7.508</td>\n",
       "      <td>0.0</td>\n",
       "      <td>Move Your Body - Alan Walker Remix</td>\n",
       "      <td>16</td>\n",
       "      <td>https://p.scdn.co/mp3-preview/2e6451d064b9d6f7...</td>\n",
       "      <td>0.1090</td>\n",
       "      <td>128.012</td>\n",
       "      <td>4.0</td>\n",
       "      <td>0.375</td>\n",
       "    </tr>\n",
       "    <tr>\n",
       "      <th>3</th>\n",
       "      <td>0.00883</td>\n",
       "      <td>Sidonie</td>\n",
       "      <td>[ES]</td>\n",
       "      <td>0.702</td>\n",
       "      <td>268947.0</td>\n",
       "      <td>0.824</td>\n",
       "      <td>006dQ6824YZgSvIvBRhcJT</td>\n",
       "      <td>0.00000</td>\n",
       "      <td>6.0</td>\n",
       "      <td>0.0766</td>\n",
       "      <td>-4.724</td>\n",
       "      <td>1.0</td>\n",
       "      <td>Carreteras Infinitas</td>\n",
       "      <td>22</td>\n",
       "      <td>https://p.scdn.co/mp3-preview/5527a471067cde16...</td>\n",
       "      <td>0.0343</td>\n",
       "      <td>104.004</td>\n",
       "      <td>4.0</td>\n",
       "      <td>0.785</td>\n",
       "    </tr>\n",
       "    <tr>\n",
       "      <th>4</th>\n",
       "      <td>0.40800</td>\n",
       "      <td>Herbie Hancock</td>\n",
       "      <td>[]</td>\n",
       "      <td>0.488</td>\n",
       "      <td>325120.0</td>\n",
       "      <td>0.491</td>\n",
       "      <td>007Dbxrxk5XF2axpc9ENdG</td>\n",
       "      <td>0.00000</td>\n",
       "      <td>0.0</td>\n",
       "      <td>0.0941</td>\n",
       "      <td>-13.094</td>\n",
       "      <td>0.0</td>\n",
       "      <td>Cantaloupe Island</td>\n",
       "      <td>0</td>\n",
       "      <td>None</td>\n",
       "      <td>0.0288</td>\n",
       "      <td>116.136</td>\n",
       "      <td>4.0</td>\n",
       "      <td>0.458</td>\n",
       "    </tr>\n",
       "  </tbody>\n",
       "</table>\n",
       "</div>"
      ],
      "text/plain": [
       "   acousticness         artists  \\\n",
       "0       0.58100      Ed Sheeran   \n",
       "1       0.13100            ZAYN   \n",
       "2       0.09170             Sia   \n",
       "3       0.00883         Sidonie   \n",
       "4       0.40800  Herbie Hancock   \n",
       "\n",
       "                                   available_markets  danceability  duration  \\\n",
       "0  [AD, AR, AT, AU, BE, BG, BO, BR, CA, CH, CL, C...         0.825  233713.0   \n",
       "1  [AD, AR, AT, AU, BE, BG, BO, BR, CA, CH, CL, C...         0.748  188491.0   \n",
       "2                                               [PL]         0.633  217040.0   \n",
       "3                                               [ES]         0.702  268947.0   \n",
       "4                                                 []         0.488  325120.0   \n",
       "\n",
       "   energy                      id  instrumentalness   key  liveness  loudness  \\\n",
       "0   0.652  7qiZfU4dY1lWllzX7mPBI3           0.00000   1.0    0.0931    -3.183   \n",
       "1   0.627  000xQL6tZNLJzIrtIgxqSl           0.00000   7.0    0.0852    -6.029   \n",
       "2   0.711  005Ua0AZQDAtOpavz5kdpW           0.00178  10.0    0.4770    -7.508   \n",
       "3   0.824  006dQ6824YZgSvIvBRhcJT           0.00000   6.0    0.0766    -4.724   \n",
       "4   0.491  007Dbxrxk5XF2axpc9ENdG           0.00000   0.0    0.0941   -13.094   \n",
       "\n",
       "   mode                               names  popularity  \\\n",
       "0   0.0                        Shape of You          99   \n",
       "1   1.0                      Still Got Time          91   \n",
       "2   0.0  Move Your Body - Alan Walker Remix          16   \n",
       "3   1.0                Carreteras Infinitas          22   \n",
       "4   0.0                   Cantaloupe Island           0   \n",
       "\n",
       "                                         preview_url  speechiness    tempo  \\\n",
       "0  https://p.scdn.co/mp3-preview/84462d8e1e4d0f9e...       0.0802   95.977   \n",
       "1  https://p.scdn.co/mp3-preview/2385471a5d35709a...       0.0644  120.963   \n",
       "2  https://p.scdn.co/mp3-preview/2e6451d064b9d6f7...       0.1090  128.012   \n",
       "3  https://p.scdn.co/mp3-preview/5527a471067cde16...       0.0343  104.004   \n",
       "4                                               None       0.0288  116.136   \n",
       "\n",
       "   time_signature  valence  \n",
       "0             4.0    0.933  \n",
       "1             4.0    0.513  \n",
       "2             4.0    0.375  \n",
       "3             4.0    0.785  \n",
       "4             4.0    0.458  "
      ]
     },
     "execution_count": 52,
     "metadata": {},
     "output_type": "execute_result"
    }
   ],
   "source": [
    "features_df.head()"
   ]
  },
  {
   "cell_type": "markdown",
   "metadata": {},
   "source": [
    "## Find most similar songs acoustically"
   ]
  },
  {
   "cell_type": "markdown",
   "metadata": {},
   "source": [
    "### Calculate the distance between the input song and related songs"
   ]
  },
  {
   "cell_type": "code",
   "execution_count": 53,
   "metadata": {
    "collapsed": false
   },
   "outputs": [
    {
     "data": {
      "text/html": [
       "<div>\n",
       "<table border=\"1\" class=\"dataframe\">\n",
       "  <thead>\n",
       "    <tr style=\"text-align: right;\">\n",
       "      <th></th>\n",
       "      <th>acousticness</th>\n",
       "      <th>danceability</th>\n",
       "      <th>duration</th>\n",
       "      <th>energy</th>\n",
       "      <th>instrumentalness</th>\n",
       "      <th>liveness</th>\n",
       "      <th>loudness</th>\n",
       "      <th>speechiness</th>\n",
       "      <th>tempo</th>\n",
       "      <th>valence</th>\n",
       "    </tr>\n",
       "  </thead>\n",
       "  <tbody>\n",
       "    <tr>\n",
       "      <th>0</th>\n",
       "      <td>0.58100</td>\n",
       "      <td>0.825</td>\n",
       "      <td>233713.0</td>\n",
       "      <td>0.652</td>\n",
       "      <td>0.00000</td>\n",
       "      <td>0.0931</td>\n",
       "      <td>-3.183</td>\n",
       "      <td>0.0802</td>\n",
       "      <td>95.977</td>\n",
       "      <td>0.933</td>\n",
       "    </tr>\n",
       "    <tr>\n",
       "      <th>1</th>\n",
       "      <td>0.13100</td>\n",
       "      <td>0.748</td>\n",
       "      <td>188491.0</td>\n",
       "      <td>0.627</td>\n",
       "      <td>0.00000</td>\n",
       "      <td>0.0852</td>\n",
       "      <td>-6.029</td>\n",
       "      <td>0.0644</td>\n",
       "      <td>120.963</td>\n",
       "      <td>0.513</td>\n",
       "    </tr>\n",
       "    <tr>\n",
       "      <th>2</th>\n",
       "      <td>0.09170</td>\n",
       "      <td>0.633</td>\n",
       "      <td>217040.0</td>\n",
       "      <td>0.711</td>\n",
       "      <td>0.00178</td>\n",
       "      <td>0.4770</td>\n",
       "      <td>-7.508</td>\n",
       "      <td>0.1090</td>\n",
       "      <td>128.012</td>\n",
       "      <td>0.375</td>\n",
       "    </tr>\n",
       "    <tr>\n",
       "      <th>3</th>\n",
       "      <td>0.00883</td>\n",
       "      <td>0.702</td>\n",
       "      <td>268947.0</td>\n",
       "      <td>0.824</td>\n",
       "      <td>0.00000</td>\n",
       "      <td>0.0766</td>\n",
       "      <td>-4.724</td>\n",
       "      <td>0.0343</td>\n",
       "      <td>104.004</td>\n",
       "      <td>0.785</td>\n",
       "    </tr>\n",
       "    <tr>\n",
       "      <th>4</th>\n",
       "      <td>0.40800</td>\n",
       "      <td>0.488</td>\n",
       "      <td>325120.0</td>\n",
       "      <td>0.491</td>\n",
       "      <td>0.00000</td>\n",
       "      <td>0.0941</td>\n",
       "      <td>-13.094</td>\n",
       "      <td>0.0288</td>\n",
       "      <td>116.136</td>\n",
       "      <td>0.458</td>\n",
       "    </tr>\n",
       "  </tbody>\n",
       "</table>\n",
       "</div>"
      ],
      "text/plain": [
       "   acousticness  danceability  duration  energy  instrumentalness  liveness  \\\n",
       "0       0.58100         0.825  233713.0   0.652           0.00000    0.0931   \n",
       "1       0.13100         0.748  188491.0   0.627           0.00000    0.0852   \n",
       "2       0.09170         0.633  217040.0   0.711           0.00178    0.4770   \n",
       "3       0.00883         0.702  268947.0   0.824           0.00000    0.0766   \n",
       "4       0.40800         0.488  325120.0   0.491           0.00000    0.0941   \n",
       "\n",
       "   loudness  speechiness    tempo  valence  \n",
       "0    -3.183       0.0802   95.977    0.933  \n",
       "1    -6.029       0.0644  120.963    0.513  \n",
       "2    -7.508       0.1090  128.012    0.375  \n",
       "3    -4.724       0.0343  104.004    0.785  \n",
       "4   -13.094       0.0288  116.136    0.458  "
      ]
     },
     "execution_count": 53,
     "metadata": {},
     "output_type": "execute_result"
    }
   ],
   "source": [
    "from scipy.spatial.distance import cityblock\n",
    "distance_features = features_df[['acousticness', 'danceability', \n",
    "                                 'duration', 'energy', 'instrumentalness', 'liveness', \n",
    "                                 'loudness', 'speechiness', 'tempo', 'valence']]\n",
    "distance_features.head()"
   ]
  },
  {
   "cell_type": "code",
   "execution_count": 54,
   "metadata": {
    "collapsed": false
   },
   "outputs": [
    {
     "name": "stdout",
     "output_type": "stream",
     "text": [
      "10433\n",
      "(10433,)\n"
     ]
    },
    {
     "data": {
      "text/plain": [
       "37486.232705379996"
      ]
     },
     "execution_count": 54,
     "metadata": {},
     "output_type": "execute_result"
    }
   ],
   "source": [
    "seed_features = distance_features.ix[0,]\n",
    "related_features = distance_features.ix[1:,]\n",
    "print(len(related_features))\n",
    "sample_size = len(related_features)\n",
    "distance_vector = np.empty((sample_size))\n",
    "for index,row in related_features.iterrows():\n",
    "    if index>sample_size-1: break\n",
    "    #print(row)\n",
    "    distance_vector[index]=cityblock(seed_features, row)\n",
    "print(distance_vector.shape)\n",
    "distance_vector[10015]"
   ]
  },
  {
   "cell_type": "markdown",
   "metadata": {},
   "source": [
    "### Sort the distance output and find the 500 most acoustically similar songs"
   ]
  },
  {
   "cell_type": "code",
   "execution_count": 65,
   "metadata": {
    "collapsed": false
   },
   "outputs": [
    {
     "data": {
      "text/html": [
       "<a href=https://p.scdn.co/mp3-preview/84462d8e1e4d0f9e5ccd06f0da390f65843774a2?cid=4a1a457d14c0445a96e7021a5523905b>preview seed song</a>"
      ],
      "text/plain": [
       "<IPython.core.display.HTML object>"
      ]
     },
     "metadata": {},
     "output_type": "display_data"
    },
    {
     "name": "stdout",
     "output_type": "stream",
     "text": [
      "Ed Sheeran 7qiZfU4dY1lWllzX7mPBI3\n"
     ]
    },
    {
     "data": {
      "text/html": [
       "<a href=https://p.scdn.co/mp3-preview/84462d8e1e4d0f9e5ccd06f0da390f65843774a2?cid=4a1a457d14c0445a96e7021a5523905b>preview related song #0</a>"
      ],
      "text/plain": [
       "<IPython.core.display.HTML object>"
      ]
     },
     "metadata": {},
     "output_type": "display_data"
    },
    {
     "name": "stdout",
     "output_type": "stream",
     "text": [
      "Crowded House 6lLPLfz3R9LMxlLu5r1ms9\n"
     ]
    },
    {
     "data": {
      "text/html": [
       "<a href=None>preview related song #1</a>"
      ],
      "text/plain": [
       "<IPython.core.display.HTML object>"
      ]
     },
     "metadata": {},
     "output_type": "display_data"
    },
    {
     "name": "stdout",
     "output_type": "stream",
     "text": [
      "MØ 1FDRsQSUu2l88pCde68XxZ\n"
     ]
    },
    {
     "data": {
      "text/html": [
       "<a href=https://p.scdn.co/mp3-preview/ad6c8d71cc8666a6dfac50f133bb9243c30858a6?cid=4a1a457d14c0445a96e7021a5523905b>preview related song #2</a>"
      ],
      "text/plain": [
       "<IPython.core.display.HTML object>"
      ]
     },
     "metadata": {},
     "output_type": "display_data"
    },
    {
     "name": "stdout",
     "output_type": "stream",
     "text": [
      "Calvin Harris 2nPYML5WnGJBiOrBnMsjfp\n"
     ]
    },
    {
     "data": {
      "text/html": [
       "<a href=https://p.scdn.co/mp3-preview/52924540ddf8293eb0ffd67b4397069b65baabbd?cid=4a1a457d14c0445a96e7021a5523905b>preview related song #3</a>"
      ],
      "text/plain": [
       "<IPython.core.display.HTML object>"
      ]
     },
     "metadata": {},
     "output_type": "display_data"
    },
    {
     "name": "stdout",
     "output_type": "stream",
     "text": [
      "Ellie Goulding 5EurZLrwTEL7eUVtr0zHiT\n"
     ]
    },
    {
     "data": {
      "text/html": [
       "<a href=None>preview related song #4</a>"
      ],
      "text/plain": [
       "<IPython.core.display.HTML object>"
      ]
     },
     "metadata": {},
     "output_type": "display_data"
    },
    {
     "name": "stdout",
     "output_type": "stream",
     "text": [
      "Ellie Goulding 6n7wUelYPaKsuL2HmrmlBY\n"
     ]
    },
    {
     "data": {
      "text/html": [
       "<a href=https://p.scdn.co/mp3-preview/cdd65d92da5362fc9366234f4f00a2b50c870ed4?cid=4a1a457d14c0445a96e7021a5523905b>preview related song #5</a>"
      ],
      "text/plain": [
       "<IPython.core.display.HTML object>"
      ]
     },
     "metadata": {},
     "output_type": "display_data"
    },
    {
     "name": "stdout",
     "output_type": "stream",
     "text": [
      "Christine and the Queens 0cQXynqlLIPaY2GKV3y4SD\n"
     ]
    },
    {
     "data": {
      "text/html": [
       "<a href=None>preview related song #6</a>"
      ],
      "text/plain": [
       "<IPython.core.display.HTML object>"
      ]
     },
     "metadata": {},
     "output_type": "display_data"
    },
    {
     "name": "stdout",
     "output_type": "stream",
     "text": [
      "Solano 0TGtD6fbpp2MIzwFdtEyXx\n"
     ]
    },
    {
     "data": {
      "text/html": [
       "<a href=None>preview related song #7</a>"
      ],
      "text/plain": [
       "<IPython.core.display.HTML object>"
      ]
     },
     "metadata": {},
     "output_type": "display_data"
    },
    {
     "name": "stdout",
     "output_type": "stream",
     "text": [
      "All Saints 5dKpYLYmuN6t12ucMLvBJM\n"
     ]
    },
    {
     "data": {
      "text/html": [
       "<a href=None>preview related song #8</a>"
      ],
      "text/plain": [
       "<IPython.core.display.HTML object>"
      ]
     },
     "metadata": {},
     "output_type": "display_data"
    },
    {
     "name": "stdout",
     "output_type": "stream",
     "text": [
      "Daniel Powter 5SraAzB6oA1mwWj9vvNZG6\n"
     ]
    },
    {
     "data": {
      "text/html": [
       "<a href=https://p.scdn.co/mp3-preview/0124255ee5fc654a8fdf8573181d516f1eb1f410?cid=4a1a457d14c0445a96e7021a5523905b>preview related song #9</a>"
      ],
      "text/plain": [
       "<IPython.core.display.HTML object>"
      ]
     },
     "metadata": {},
     "output_type": "display_data"
    }
   ],
   "source": [
    "from IPython.display import HTML, display\n",
    "min_indices = distance_vector.argsort()[0:500:]\n",
    "top_similarity_index = min_indices[2]\n",
    "top_similarity_index\n",
    "related_all_features_with_seed = features_df.ix[:]\n",
    "seed_all_features = features_df.ix[0,]\n",
    "link = '<a href=' + str(seed_all_features['preview_url']) + '>preview seed song</a>'\n",
    "display(HTML(link))\n",
    "for each in range(10):\n",
    "    print(related_all_features_with_seed['artists'][min_indices[each]], related_all_features_with_seed['id'][min_indices[each]])\n",
    "    link = '<a href=' + str(related_all_features_with_seed['preview_url'][min_indices[each]]) + '>preview related song #'+str(each)+ '</a>'\n",
    "    display(HTML(link))"
   ]
  },
  {
   "cell_type": "code",
   "execution_count": 49,
   "metadata": {
    "collapsed": true
   },
   "outputs": [],
   "source": [
    "#features_df.to_csv('related_songs.csv', encoding='utf-8')"
   ]
  },
  {
   "cell_type": "markdown",
   "metadata": {},
   "source": [
    "### Bucket 1: Top tracks from related artists"
   ]
  },
  {
   "cell_type": "code",
   "execution_count": 66,
   "metadata": {
    "collapsed": false
   },
   "outputs": [
    {
     "name": "stdout",
     "output_type": "stream",
     "text": [
      "(200, 19)\n",
      "(198, 19)\n"
     ]
    },
    {
     "data": {
      "text/plain": [
       "array([u'3odrUVQ9tvRpkC9II2oWzx', u'2l8w0zZVn4AZNuzrht7MRT',\n",
       "       u'0xMd5bcWTbyXS7wPrBtZA6', u'0ZPfDxZn5O0L84wvPSN2iG',\n",
       "       u'4nS1sut0R2mgmFitKIShVe'], dtype=object)"
      ]
     },
     "execution_count": 66,
     "metadata": {},
     "output_type": "execute_result"
    }
   ],
   "source": [
    "print(top_tracks_df.shape)\n",
    "nona = top_tracks_df.dropna()\n",
    "print(nona.shape)\n",
    "bucket1 = nona['id'].values\n",
    "bucket1[:5]"
   ]
  },
  {
   "cell_type": "markdown",
   "metadata": {},
   "source": [
    "### Bucket 2: Any tracks from related artists"
   ]
  },
  {
   "cell_type": "code",
   "execution_count": 67,
   "metadata": {
    "collapsed": false
   },
   "outputs": [
    {
     "name": "stdout",
     "output_type": "stream",
     "text": [
      "(6600, 19)\n",
      "(6600,)\n"
     ]
    },
    {
     "data": {
      "text/plain": [
       "array([u'7qiZfU4dY1lWllzX7mPBI3', u'000xQL6tZNLJzIrtIgxqSl',\n",
       "       u'005Ua0AZQDAtOpavz5kdpW', u'006dQ6824YZgSvIvBRhcJT',\n",
       "       u'00Ctb7lezRAv5r2xuvWbrf'], dtype=object)"
      ]
     },
     "execution_count": 67,
     "metadata": {},
     "output_type": "execute_result"
    }
   ],
   "source": [
    "nona = features_df.dropna()\n",
    "print(nona.shape)\n",
    "all_related_songs = nona['id'].values\n",
    "print(all_related_songs.shape)\n",
    "bucket2 = all_related_songs\n",
    "bucket2[:5]"
   ]
  },
  {
   "cell_type": "markdown",
   "metadata": {},
   "source": [
    "### Bucket 3: Tracks from related artists identified as similar songs (using manhattan distance + Spotify API features)"
   ]
  },
  {
   "cell_type": "code",
   "execution_count": 68,
   "metadata": {
    "collapsed": false
   },
   "outputs": [
    {
     "data": {
      "text/plain": [
       "array([u'7qiZfU4dY1lWllzX7mPBI3', u'6lLPLfz3R9LMxlLu5r1ms9',\n",
       "       u'1FDRsQSUu2l88pCde68XxZ', u'2nPYML5WnGJBiOrBnMsjfp',\n",
       "       u'5EurZLrwTEL7eUVtr0zHiT'], dtype=object)"
      ]
     },
     "execution_count": 68,
     "metadata": {},
     "output_type": "execute_result"
    }
   ],
   "source": [
    "bucket3 = related_all_features_with_seed['id'][min_indices].values\n",
    "bucket3[:5]"
   ]
  },
  {
   "cell_type": "markdown",
   "metadata": {},
   "source": [
    "### Bucket 4: Tracks from our database identified as similar (using raw audio  + vantage point method)"
   ]
  },
  {
   "cell_type": "markdown",
   "metadata": {},
   "source": [
    "# Optimization\n",
    "\n",
    "### Train Random Forest Model"
   ]
  },
  {
   "cell_type": "code",
   "execution_count": 69,
   "metadata": {
    "collapsed": false
   },
   "outputs": [
    {
     "name": "stderr",
     "output_type": "stream",
     "text": [
      "/Users/lw20302/anaconda/lib/python2.7/site-packages/sklearn/cross_validation.py:44: DeprecationWarning: This module was deprecated in version 0.18 in favor of the model_selection module into which all the refactored classes and functions are moved. Also note that the interface of the new CV iterators are different from that of this module. This module will be removed in 0.20.\n",
      "  \"This module will be removed in 0.20.\", DeprecationWarning)\n"
     ]
    }
   ],
   "source": [
    "## Popularity Prediction for New Playlist\n",
    "\n",
    "#libraries\n",
    "\n",
    "import pandas as pd\n",
    "import numpy as np\n",
    "from sklearn.ensemble import RandomForestClassifier as RFC\n",
    "from sklearn.cross_validation import train_test_split\n",
    "import spotipy\n",
    "import spotipy.util as util\n",
    "from spotipy.oauth2 import SpotifyClientCredentials\n",
    "import sys\n",
    "from sklearn.metrics import mean_squared_error\n",
    "from math import sqrt\n",
    "\n",
    "# Step 1 - train the random forest\n",
    "\n",
    "api_data = pd.read_csv('playlist_data_with_sequencing_4.8.17.csv')\n",
    "api_data = api_data.dropna()\n",
    "del api_data['Unnamed: 0']\n",
    "del api_data['names']\n",
    "del api_data['playlist_id']\n",
    "api_data.head()\n",
    "\n",
    "a = pd.qcut(api_data[\"followers\"], 5,labels=range(1,6))\n",
    "api_data['followers'] = np.array(a)\n",
    "\n",
    "y = api_data['followers']\n",
    "X = api_data.drop(['followers'],axis=1)\n",
    "X = X.drop(['featured'],axis=1)\n",
    "X_train, X_test, y_train, y_test = train_test_split(X, y, test_size=0.33)\n",
    "\n",
    "\n",
    "rfc = RFC(n_estimators = 100, max_depth = 29)\n",
    "rfc.fit(X_train, y_train)\n",
    "\n",
    "client_credentials_manager = SpotifyClientCredentials(client_id='df846cfd28e745178054587b3484f91c',client_secret='e3d39fc92a954e028ff1490288f3fe5c')\n",
    "sp = spotipy.Spotify(client_credentials_manager=client_credentials_manager)\n"
   ]
  },
  {
   "cell_type": "markdown",
   "metadata": {},
   "source": [
    "### Function to generate predicted class probabilities for playlist popularity from a list of input track ids"
   ]
  },
  {
   "cell_type": "code",
   "execution_count": 70,
   "metadata": {
    "collapsed": false
   },
   "outputs": [],
   "source": [
    "def getTrack(track_id):\n",
    "    #print(track_id)\n",
    "    try:\n",
    "        listing = features_df[features_df['id']==track_id]\n",
    "        popularity = listing['popularity'].values[0]\n",
    "    except IndexError:\n",
    "        listing = top_tracks_df[top_tracks_df['id']==track_id]\n",
    "    popularity = listing['popularity'].values[0]\n",
    "    num_markets = listing['available_markets'].values[0]\n",
    "    return {\"popularity\": popularity,\n",
    "           'available_markets': num_markets}\n",
    "\n",
    "def getAudioFeatures(list_of_ids):\n",
    "    try:\n",
    "        listing = features_df[features_df['id'].isin(list_of_ids)]\n",
    "        acousticness = listing['acousticness'].values[0]\n",
    "    except:\n",
    "        listing = top_tracks_df[top_tracks_df['id'].isin(list_of_ids)]\n",
    "    return listing[['acousticness', 'danceability', \n",
    "                                 'energy', 'instrumentalness', 'key','liveness', \n",
    "                                 'loudness', 'mode','tempo','time_signature','valence','duration']].values\n",
    "def chunks(seq, num):\n",
    "    avg = len(seq) / float(num)\n",
    "    out = []\n",
    "    last = 0.0\n",
    "    \n",
    "    while last < len(seq):\n",
    "        out.append(seq[int(last):int(last + avg)])\n",
    "        last += avg\n",
    "        \n",
    "    return out\n",
    "\n",
    "def gen_row(list_of_tracks):\n",
    "            \n",
    "    parts = chunks(list_of_tracks,4)\n",
    "                    \n",
    "    p1 = parts[0]\n",
    "    p2 = parts[1]\n",
    "    p3 = parts[2]\n",
    "    p4 = parts[3]\n",
    "    \n",
    "    t_popularities = []\n",
    "    t_num_markets = []\n",
    "                \n",
    "    for track in list_of_tracks:\n",
    "        listing = getTrack(track)\n",
    "        t_popularities.append(listing['popularity'])\n",
    "        t_num_markets.append(len(listing['available_markets']))\n",
    "                                        \n",
    "    t_pop = np.mean(t_popularities)\n",
    "    t_av_num_markets = np.mean(t_num_markets)\n",
    "\n",
    "    #t_features = sp.audio_features(tracks = list_of_tracks)\n",
    "    feat_len = len(list_of_tracks)\n",
    "    #t_feature_matrix = np.empty((feat_len,12))\n",
    "    t_feature_matrix = getAudioFeatures(list_of_tracks)\n",
    "#     for ix, song in enumerate(t_features):\n",
    "  \n",
    "#         t_feature_matrix[ix][0] = song['acousticness']\n",
    "#         t_feature_matrix[ix][1] = song['danceability']\n",
    "#         t_feature_matrix[ix][2] = song['energy']\n",
    "#         t_feature_matrix[ix][3] = song['instrumentalness']\n",
    "#         t_feature_matrix[ix][4] = song['key']\n",
    "#         t_feature_matrix[ix][5] = song['liveness']\n",
    "#         t_feature_matrix[ix][6] = song['loudness']\n",
    "#         t_feature_matrix[ix][7] = song['mode']\n",
    "#         t_feature_matrix[ix][8] = song['tempo']\n",
    "#         t_feature_matrix[ix][9] = song['time_signature']\n",
    "#         t_feature_matrix[ix][10] = song['valence']\n",
    "#         t_feature_matrix[ix][11] = song['duration_ms']\n",
    "                            \n",
    "    t_feature_median = np.percentile(t_feature_matrix,50,axis=0)\n",
    "                    # Part 1\n",
    "                    \n",
    "    p1_popularities = []\n",
    "    p1_num_markets = []\n",
    "                    \n",
    "    for track in p1:\n",
    "        listing = getTrack(track)\n",
    "        p1_popularities.append(listing['popularity'])\n",
    "        p1_num_markets.append(len(listing['available_markets']))\n",
    "    \n",
    "    p1_pop = np.mean(p1_popularities)\n",
    "    p1_av_num_markets = np.mean(p1_num_markets)\n",
    "    \n",
    "    #p1_features = sp.audio_features(tracks = p1)\n",
    "    p1_len = len(p1)\n",
    "    #p1_feature_matrix = np.empty((p1_len,12))\n",
    "    p1_feature_matrix = getAudioFeatures(p1)\n",
    "                    \n",
    "#     for ix, song in enumerate(p1_features):\n",
    "#         p1_feature_matrix[ix][0] = song['acousticness']\n",
    "#         p1_feature_matrix[ix][1] = song['danceability']\n",
    "#         p1_feature_matrix[ix][2] = song['energy']\n",
    "#         p1_feature_matrix[ix][3] = song['instrumentalness']\n",
    "#         p1_feature_matrix[ix][4] = song['key']\n",
    "#         p1_feature_matrix[ix][5] = song['liveness']\n",
    "#         p1_feature_matrix[ix][6] = song['loudness']\n",
    "#         p1_feature_matrix[ix][7] = song['mode']\n",
    "#         p1_feature_matrix[ix][8] = song['tempo']\n",
    "#         p1_feature_matrix[ix][9] = song['time_signature']\n",
    "#         p1_feature_matrix[ix][10] = song['valence']\n",
    "#         p1_feature_matrix[ix][11] = song['duration_ms']\n",
    "                        \n",
    "    p1_feature_median = np.percentile(p1_feature_matrix,50,axis=0)\n",
    "                    # Part 2\n",
    "                    \n",
    "    p2_popularities = []\n",
    "    p2_num_markets = []\n",
    "                    \n",
    "    for track in p2:\n",
    "        listing = getTrack(track)\n",
    "        p2_popularities.append(listing['popularity'])\n",
    "        p2_num_markets.append(len(listing['available_markets']))\n",
    "    \n",
    "    p2_pop = np.mean(p2_popularities)\n",
    "    p2_av_num_markets = np.mean(p2_num_markets)\n",
    "    \n",
    "    #p2_features = sp.audio_features(tracks = p2)\n",
    "\n",
    "    p2_len = len(p2)\n",
    "    #p2_feature_matrix = np.empty((p2_len,12))\n",
    "    p2_feature_matrix = getAudioFeatures(p2)\n",
    "                 \n",
    "#     for ix, song in enumerate(p2_features):\n",
    "#         p2_feature_matrix[ix][0] = song['acousticness']\n",
    "#         p2_feature_matrix[ix][1] = song['danceability']\n",
    "#         p2_feature_matrix[ix][2] = song['energy']\n",
    "#         p2_feature_matrix[ix][3] = song['instrumentalness']\n",
    "#         p2_feature_matrix[ix][4] = song['key']\n",
    "#         p2_feature_matrix[ix][5] = song['liveness']\n",
    "#         p2_feature_matrix[ix][6] = song['loudness']\n",
    "#         p2_feature_matrix[ix][7] = song['mode']\n",
    "#         p2_feature_matrix[ix][8] = song['tempo']\n",
    "#         p2_feature_matrix[ix][9] = song['time_signature']\n",
    "#         p2_feature_matrix[ix][10] = song['valence']\n",
    "#         p2_feature_matrix[ix][11] = song['duration_ms']\n",
    "                        \n",
    "    p2_feature_median = np.percentile(p2_feature_matrix,50,axis=0)\n",
    "    \n",
    "                        # Part 3\n",
    "                    \n",
    "    p3_popularities = []\n",
    "    p3_num_markets = []\n",
    "                  \n",
    "    for track in p3:\n",
    "        listing = getTrack(track)\n",
    "        p3_popularities.append(listing['popularity'])\n",
    "        p3_num_markets.append(len(listing['available_markets']))\n",
    "    \n",
    "    p3_pop = np.mean(p3_popularities)\n",
    "    p3_av_num_markets = np.mean(p3_num_markets)\n",
    "    \n",
    "    #p3_features = sp.audio_features(tracks = p3)\n",
    "    p3_len = len(p3)\n",
    "    #p3_feature_matrix = np.empty((p3_len,12))\n",
    "    p3_feature_matrix = getAudioFeatures(p3)\n",
    "                \n",
    "#     for ix, song in enumerate(p3_features):\n",
    "#         p3_feature_matrix[ix][0] = song['acousticness']\n",
    "#         p3_feature_matrix[ix][1] = song['danceability']\n",
    "#         p3_feature_matrix[ix][2] = song['energy']\n",
    "#         p3_feature_matrix[ix][3] = song['instrumentalness']\n",
    "#         p3_feature_matrix[ix][4] = song['key']\n",
    "#         p3_feature_matrix[ix][5] = song['liveness']\n",
    "#         p3_feature_matrix[ix][6] = song['loudness']\n",
    "#         p3_feature_matrix[ix][7] = song['mode']\n",
    "#         p3_feature_matrix[ix][8] = song['tempo']\n",
    "#         p3_feature_matrix[ix][9] = song['time_signature']\n",
    "#         p3_feature_matrix[ix][10] = song['valence']\n",
    "#         p3_feature_matrix[ix][11] = song['duration_ms']\n",
    "                        \n",
    "    p3_feature_median = np.percentile(p3_feature_matrix,50,axis=0)\n",
    "    \n",
    "                        # Part 4\n",
    "                    \n",
    "    p4_popularities = []\n",
    "    p4_num_markets = []\n",
    "                    \n",
    "    for track in p4:\n",
    "        listing = getTrack(track)\n",
    "        p4_popularities.append(listing['popularity'])\n",
    "        p4_num_markets.append(len(listing['available_markets']))\n",
    "    \n",
    "    p4_pop = np.mean(p4_popularities)\n",
    "    p4_av_num_markets = np.mean(p4_num_markets)\n",
    "    \n",
    "    #p4_features = sp.audio_features(tracks = p4)\n",
    "    p4_len = len(p4)\n",
    "    #p4_feature_matrix = np.empty((p4_len,12))\n",
    "    p4_feature_matrix = getAudioFeatures(p4)\n",
    "             \n",
    "#     for ix, song in enumerate(p4_features):\n",
    "#         p4_feature_matrix[ix][0] = song['acousticness']\n",
    "#         p4_feature_matrix[ix][1] = song['danceability']\n",
    "#         p4_feature_matrix[ix][2] = song['energy']\n",
    "#         p4_feature_matrix[ix][3] = song['instrumentalness']\n",
    "#         p4_feature_matrix[ix][4] = song['key']\n",
    "#         p4_feature_matrix[ix][5] = song['liveness']\n",
    "#         p4_feature_matrix[ix][6] = song['loudness']\n",
    "#         p4_feature_matrix[ix][7] = song['mode']\n",
    "#         p4_feature_matrix[ix][8] = song['tempo']\n",
    "#         p4_feature_matrix[ix][9] = song['time_signature']\n",
    "#         p4_feature_matrix[ix][10] = song['valence']\n",
    "#         p4_feature_matrix[ix][11] = song['duration_ms']\n",
    "                        \n",
    "    p4_feature_median = np.percentile(p4_feature_matrix,50,axis=0)\n",
    "           \n",
    "    playlist_data = pd.Series({\n",
    "                    #'followers': followers,\n",
    "                    #'names' : names,\n",
    "                    #'playlist_id' : playlist_ids,\n",
    "                    'total_tracks' : len(list_of_tracks),\n",
    "                    #'featured' : featured,\n",
    "                    'acousticness': p1_feature_median[0],\n",
    "                    'danceability': p1_feature_median[1],\n",
    "                    'energy': p1_feature_median[2],\n",
    "                    'instrumentalness': p1_feature_median[3],\n",
    "                    'key': p1_feature_median[4],\n",
    "                    'liveness': p1_feature_median[5],\n",
    "                    'loudness': p1_feature_median[6],\n",
    "                    'mode': p1_feature_median[7],\n",
    "                    'tempo': p1_feature_median[8],\n",
    "                    'time_signature': p1_feature_median[9],\n",
    "                    'valence': p1_feature_median[10],\n",
    "                    'duration': p1_feature_median[11],\n",
    "                    'popularity':np.mean(t_pop),\n",
    "                    'mean_num_markets': np.mean(t_av_num_markets),\n",
    "                    #'avg_years' : t_release_date,\n",
    "\n",
    "                    'p1_acousticness': p1_feature_median[0],\n",
    "                    'p1_danceability': p1_feature_median[1],\n",
    "                    'p1_energy': p1_feature_median[2],\n",
    "                    'p1_instrumentalness': p1_feature_median[3],\n",
    "                    'p1_key': p1_feature_median[4],\n",
    "                    'p1_liveness': p1_feature_median[5],\n",
    "                    'p1_loudness': p1_feature_median[6],\n",
    "                    'p1_mode': p1_feature_median[7],\n",
    "                    'p1_tempo': p1_feature_median[8],\n",
    "                    'p1_time_signature': p1_feature_median[9],\n",
    "                    'p1_valence': p1_feature_median[10],\n",
    "                    'p1_duration': p1_feature_median[11],\n",
    "                    'p1_popularity': p1_pop,\n",
    "                    'p1_mean_num_markets': p1_av_num_markets,\n",
    "                    #'p1_avg_years': p1_release_date,\n",
    "\n",
    "                    'p2_acousticness': p2_feature_median[0],\n",
    "                    'p2_danceability': p2_feature_median[1],\n",
    "                    'p2_energy': p2_feature_median[2],\n",
    "                    'p2_instrumentalness': p2_feature_median[3],\n",
    "                    'p2_key': p2_feature_median[4],\n",
    "                    'p2_liveness': p2_feature_median[5],\n",
    "                    'p2_loudness': p2_feature_median[6],\n",
    "                    'p2_mode': p2_feature_median[7],\n",
    "                    'p2_tempo': p2_feature_median[8],\n",
    "                    'p2_time_signature': p2_feature_median[9],\n",
    "                    'p2_valence': p2_feature_median[10],\n",
    "                    'p2_duration': p2_feature_median[11],\n",
    "                    'p2_popularity': p2_pop,\n",
    "                    'p2_mean_num_markets': p2_av_num_markets,\n",
    "                    #'p2_avg_years': p2_release_date,\n",
    "\n",
    "                    'p3_acousticness': p3_feature_median[0],\n",
    "                    'p3_danceability': p3_feature_median[1],\n",
    "                    'p3_energy': p3_feature_median[2],\n",
    "                    'p3_instrumentalness': p3_feature_median[3],\n",
    "                    'p3_key': p3_feature_median[4],\n",
    "                    'p3_liveness': p3_feature_median[5],\n",
    "                    'p3_loudness': p3_feature_median[6],\n",
    "                    'p3_mode': p3_feature_median[7],\n",
    "                    'p3_tempo': p3_feature_median[8],\n",
    "                    'p3_time_signature': p3_feature_median[9],\n",
    "                    'p3_valence': p3_feature_median[10],\n",
    "                    'p3_duration': p3_feature_median[11],\n",
    "                    'p3_popularity': p3_pop,\n",
    "                    'p3_mean_num_markets': p3_av_num_markets,\n",
    "                    #'p3_avg_years': p3_release_date,\n",
    "\n",
    "                    'p4_acousticness': p4_feature_median[0],\n",
    "                    'p4_danceability': p4_feature_median[1],\n",
    "                    'p4_energy': p4_feature_median[2],\n",
    "                    'p4_instrumentalness': p4_feature_median[3],\n",
    "                    'p4_key': p4_feature_median[4],\n",
    "                    'p4_liveness': p4_feature_median[5],\n",
    "                    'p4_loudness': p4_feature_median[6],\n",
    "                    'p4_mode': p4_feature_median[7],\n",
    "                    'p4_tempo': p4_feature_median[8],\n",
    "                    'p4_time_signature': p4_feature_median[9],\n",
    "                    'p4_valence': p4_feature_median[10],\n",
    "                    'p4_duration': p4_feature_median[11],\n",
    "                    'p4_popularity': p4_pop,\n",
    "                    'p4_mean_num_markets': p4_av_num_markets\n",
    "                    #'p4_avg_years': p4_release_date\n",
    "        })\n",
    "    return playlist_data\n",
    "\n",
    "def gen_score(list_of_tracks):\n",
    "    row = gen_row(list_of_tracks)\n",
    "    list_of_proba = rfc.predict_proba(row.reshape(1,-1))[0]\n",
    "    #print(row)\n",
    "    #list_of_proba = rfc.predict(row.reshape(1,-1))[0]\n",
    "    return list_of_proba"
   ]
  },
  {
   "cell_type": "code",
   "execution_count": 71,
   "metadata": {
    "collapsed": false
   },
   "outputs": [
    {
     "name": "stdout",
     "output_type": "stream",
     "text": [
      "[u'000xQL6tZNLJzIrtIgxqSl' u'005Ua0AZQDAtOpavz5kdpW'\n",
      " u'006dQ6824YZgSvIvBRhcJT' u'00Ctb7lezRAv5r2xuvWbrf']\n"
     ]
    },
    {
     "name": "stderr",
     "output_type": "stream",
     "text": [
      "/Users/lw20302/anaconda/lib/python2.7/site-packages/ipykernel/__main__.py:299: FutureWarning: reshape is deprecated and will raise in a subsequent release. Please use .values.reshape(...) instead\n"
     ]
    },
    {
     "data": {
      "text/plain": [
       "array([ 0.55,  0.14,  0.15,  0.15,  0.01])"
      ]
     },
     "execution_count": 71,
     "metadata": {},
     "output_type": "execute_result"
    }
   ],
   "source": [
    "print(all_related_songs[1:5])\n",
    "result = gen_score(all_related_songs[10:20])\n",
    "result"
   ]
  },
  {
   "cell_type": "markdown",
   "metadata": {},
   "source": [
    "## 2. Simple model: 1000 random samples without replacement"
   ]
  },
  {
   "cell_type": "code",
   "execution_count": 73,
   "metadata": {
    "collapsed": false
   },
   "outputs": [
    {
     "name": "stdout",
     "output_type": "stream",
     "text": [
      "0\n"
     ]
    },
    {
     "name": "stderr",
     "output_type": "stream",
     "text": [
      "/Users/lw20302/anaconda/lib/python2.7/site-packages/ipykernel/__main__.py:299: FutureWarning: reshape is deprecated and will raise in a subsequent release. Please use .values.reshape(...) instead\n"
     ]
    },
    {
     "name": "stdout",
     "output_type": "stream",
     "text": [
      "50\n",
      "100\n",
      "150\n"
     ]
    }
   ],
   "source": [
    "best_result = 0\n",
    "best_playlist = []\n",
    "for i in range(200):\n",
    "    if i%50==0: \n",
    "        print(i)\n",
    "    random_sample_10 = np.random.choice(bucket1, replace=False,size=30)\n",
    "    result = gen_score(random_sample_10)\n",
    "    result = 0.7*result[4] + 0.3*result[3]\n",
    "    if result >best_result:\n",
    "        best_result=result\n",
    "        best_playlist = random_sample_10"
   ]
  },
  {
   "cell_type": "code",
   "execution_count": 202,
   "metadata": {
    "collapsed": false
   },
   "outputs": [
    {
     "name": "stderr",
     "output_type": "stream",
     "text": [
      "/Users/lw20302/anaconda/lib/python2.7/site-packages/ipykernel/__main__.py:299: FutureWarning: reshape is deprecated and will raise in a subsequent release. Please use .values.reshape(...) instead\n"
     ]
    },
    {
     "name": "stdout",
     "output_type": "stream",
     "text": [
      "Resulting loss:  7000.0\n",
      "Random sampling (1000 samples without replacement, optimized on weighted average between class 4 and 5) class probabilties:  [ 0.13  0.22  0.15  0.15  0.35]\n"
     ]
    },
    {
     "data": {
      "image/png": "[encoded data removed]",
      "text/plain": [
       "<matplotlib.figure.Figure at 0x11748a7d0>"
      ]
     },
     "metadata": {},
     "output_type": "display_data"
    }
   ],
   "source": [
    "random_result = gen_score(best_playlist)\n",
    "def energy1(result):\n",
    "    return 10000*(1.0-(np.array([0,0,0,0.25,0.75])*result).sum())\n",
    "print(\"Resulting loss: \", energy1(random_result))\n",
    "print(\"Random sampling (1000 samples without replacement, optimized on weighted average between class 4 and 5) class probabilties: \",random_result)\n",
    "plt.bar(range(len(random_result)), random_result)\n",
    "plt.xticks(range(len(random_result)), [1,2,3,4,5], size='small')\n",
    "locs, labels = plt.xticks()\n",
    "plt.show()"
   ]
  },
  {
   "cell_type": "markdown",
   "metadata": {},
   "source": [
    "## 3. Simulated annealing"
   ]
  },
  {
   "cell_type": "code",
   "execution_count": 98,
   "metadata": {
    "collapsed": false
   },
   "outputs": [],
   "source": [
    "#Adapted from simanneal package\n",
    "from __future__ import division\n",
    "from __future__ import print_function\n",
    "from __future__ import absolute_import\n",
    "from __future__ import unicode_literals\n",
    "import copy\n",
    "import math\n",
    "import sys\n",
    "import time\n",
    "import random\n",
    "import signal\n",
    "import pickle\n",
    "import datetime\n",
    "import abc\n",
    "\n",
    "\n",
    "def round_figures(x, n):\n",
    "    \"\"\"Returns x rounded to n significant figures.\"\"\"\n",
    "    return round(x, int(n - math.ceil(math.log10(abs(x)))))\n",
    "\n",
    "\n",
    "def time_string(seconds):\n",
    "    \"\"\"Returns time in seconds as a string formatted HHHH:MM:SS.\"\"\"\n",
    "    s = int(round(seconds))  # round to nearest second\n",
    "    h, s = divmod(s, 3600)   # get hours and remainder\n",
    "    m, s = divmod(s, 60)     # split remainder into minutes and seconds\n",
    "    return '%4i:%02i:%02i' % (h, m, s)\n",
    "\n",
    "\n",
    "class Annealer(object):\n",
    "\n",
    "    \"\"\"Performs simulated annealing by calling functions to calculate\n",
    "    energy and make moves on a state.  The temperature schedule for\n",
    "    annealing may be provided manually or estimated automatically.\n",
    "    \"\"\"\n",
    "\n",
    "    __metaclass__ = abc.ABCMeta\n",
    "    Tmax = 25000.0\n",
    "    Tmin = 2.5\n",
    "    steps = 50000\n",
    "    updates = 100\n",
    "    copy_strategy = 'deepcopy'\n",
    "    user_exit = False\n",
    "    save_state_on_exit = True\n",
    "    best_state = None\n",
    "\n",
    "    def __init__(self, initial_state=None, load_state=None):\n",
    "        if initial_state:\n",
    "            self.state = self.copy_state(initial_state)\n",
    "        elif load_state:\n",
    "            with open(load_state, 'rb') as fh:\n",
    "                self.state = pickle.load(fh)\n",
    "        else:\n",
    "            raise ValueError('No valid values supplied for neither \\\n",
    "            initial_state nor load_state')\n",
    "\n",
    "        signal.signal(signal.SIGINT, self.set_user_exit)\n",
    "\n",
    "    def save_state(self, fname=None):\n",
    "        \"\"\"Saves state\"\"\"\n",
    "        if not fname:\n",
    "            date = datetime.datetime.now().strftime(\"%Y-%m-%dT%Hh%Mm%Ss\")\n",
    "            fname = date + \"_energy_\" + str(self.energy()) + \".state\"\n",
    "        with open(fname, \"wb\") as fh:\n",
    "            pickle.dump(self.state, fh)\n",
    "\n",
    "    @abc.abstractmethod\n",
    "    def move(self):\n",
    "        \"\"\"Create a state change\"\"\"\n",
    "        pass\n",
    "\n",
    "    @abc.abstractmethod\n",
    "    def energy(self):\n",
    "        \"\"\"Calculate state's energy\"\"\"\n",
    "        pass\n",
    "\n",
    "    def set_user_exit(self, signum, frame):\n",
    "        \"\"\"Raises the user_exit flag, further iterations are stopped\n",
    "        \"\"\"\n",
    "        self.user_exit = True\n",
    "\n",
    "    def set_schedule(self, schedule):\n",
    "        \"\"\"Takes the output from `auto` and sets the attributes\n",
    "        \"\"\"\n",
    "        self.Tmax = schedule['tmax']\n",
    "        self.Tmin = schedule['tmin']\n",
    "        self.steps = int(schedule['steps'])\n",
    "        self.updates = int(schedule['updates'])\n",
    "\n",
    "    def copy_state(self, state):\n",
    "        \"\"\"Returns an exact copy of the provided state\n",
    "        Implemented according to self.copy_strategy, one of\n",
    "        * deepcopy : use copy.deepcopy (slow but reliable)\n",
    "        * slice: use list slices (faster but only works if state is list-like)\n",
    "        * method: use the state's copy() method\n",
    "        \"\"\"\n",
    "        if self.copy_strategy == 'deepcopy':\n",
    "            return copy.deepcopy(state)\n",
    "        elif self.copy_strategy == 'slice':\n",
    "            return state[:]\n",
    "        elif self.copy_strategy == 'method':\n",
    "            return state.copy()\n",
    "\n",
    "    def update(self, *args, **kwargs):\n",
    "        \"\"\"Wrapper for internal update.\n",
    "        If you override the self.update method,\n",
    "        you can chose to call the self.default_update method\n",
    "        from your own Annealer.\n",
    "        \"\"\"\n",
    "        self.default_update(*args, **kwargs)\n",
    "\n",
    "    def default_update(self, step, T, E, acceptance, improvement):\n",
    "        \"\"\"Default update, outputs to stderr.\n",
    "        Prints the current temperature, energy, acceptance rate,\n",
    "        improvement rate, elapsed time, and remaining time.\n",
    "        The acceptance rate indicates the percentage of moves since the last\n",
    "        update that were accepted by the Metropolis algorithm.  It includes\n",
    "        moves that decreased the energy, moves that left the energy\n",
    "        unchanged, and moves that increased the energy yet were reached by\n",
    "        thermal excitation.\n",
    "        The improvement rate indicates the percentage of moves since the\n",
    "        last update that strictly decreased the energy.  At high\n",
    "        temperatures it will include both moves that improved the overall\n",
    "        state and moves that simply undid previously accepted moves that\n",
    "        increased the energy by thermal excititation.  At low temperatures\n",
    "        it will tend toward zero as the moves that can decrease the energy\n",
    "        are exhausted and moves that would increase the energy are no longer\n",
    "        thermally accessible.\"\"\"\n",
    "\n",
    "        elapsed = time.time() - self.start\n",
    "        if step == 0:\n",
    "            print(' Temperature        Energy    Accept   Improve     Elapsed   Remaining',\n",
    "                  file=sys.stderr)\n",
    "            print('\\r%12.5f  %12.2f                      %s            ' %\n",
    "                  (T, E, time_string(elapsed)), file=sys.stderr, end=\"\\r\"),\n",
    "            sys.stderr.flush()\n",
    "        else:\n",
    "            remain = (self.steps - step) * (elapsed / step)\n",
    "            print('\\r%12.5f  %12.2f  %7.2f%%  %7.2f%%  %s  %s\\r' %\n",
    "                  (T, E, 100.0 * acceptance, 100.0 * improvement,\n",
    "                   time_string(elapsed), time_string(remain)), file=sys.stderr, end=\"\\r\"),\n",
    "            sys.stderr.flush()\n",
    "\n",
    "    def anneal(self):\n",
    "        \"\"\"Minimizes the energy of a system by simulated annealing.\n",
    "        Parameters\n",
    "        state : an initial arrangement of the system\n",
    "        Returns\n",
    "        (state, energy): the best state and energy found.\n",
    "        \"\"\"\n",
    "        step = 0\n",
    "        self.start = time.time()\n",
    "\n",
    "        # Precompute factor for exponential cooling from Tmax to Tmin\n",
    "        if self.Tmin <= 0.0:\n",
    "            raise Exception('Exponential cooling requires a minimum \"\\\n",
    "                \"temperature greater than zero.')\n",
    "        Tfactor = -math.log(self.Tmax / self.Tmin)\n",
    "\n",
    "        # Note initial state\n",
    "        T = self.Tmax\n",
    "        E = self.energy()\n",
    "        prevState = self.copy_state(self.state)\n",
    "        prevEnergy = E\n",
    "        self.best_state = self.copy_state(self.state)\n",
    "        self.best_energy = E\n",
    "        trials, accepts, improves = 0, 0, 0\n",
    "        if self.updates > 0:\n",
    "            updateWavelength = self.steps / self.updates\n",
    "            self.update(step, T, E, None, None)\n",
    "\n",
    "        # Attempt moves to new states\n",
    "        while step < self.steps and not self.user_exit:\n",
    "            step += 1\n",
    "            T = self.Tmax * math.exp(Tfactor * step / self.steps)\n",
    "            #print(T)\n",
    "            self.allt.append(T)\n",
    "            self.allE.append(E)\n",
    "            self.move()\n",
    "            E = self.energy()\n",
    "            dE = E - prevEnergy\n",
    "            trials += 1\n",
    "            if dE > 0.0 and math.exp(-dE / T) < random.random():\n",
    "                # Restore previous state\n",
    "                self.state = self.copy_state(prevState)\n",
    "                E = prevEnergy\n",
    "            else:\n",
    "                # Accept new state and compare to best state\n",
    "                accepts += 1\n",
    "                if dE < 0.0:\n",
    "                    improves += 1\n",
    "                prevState = self.copy_state(self.state)\n",
    "                prevEnergy = E\n",
    "                if E < self.best_energy:\n",
    "                    self.best_state = self.copy_state(self.state)\n",
    "                    self.best_energy = E\n",
    "            if self.updates > 1:\n",
    "                if (step // updateWavelength) > ((step - 1) // updateWavelength):\n",
    "                    self.update(\n",
    "                        step, T, E, accepts / trials, improves / trials)\n",
    "                    trials, accepts, improves = 0, 0, 0\n",
    "\n",
    "        # line break after progress output\n",
    "        print('')\n",
    "\n",
    "        self.state = self.copy_state(self.best_state)\n",
    "        if self.save_state_on_exit:\n",
    "            self.save_state()\n",
    "        # Return best state and energy\n",
    "        return self.best_state, self.best_energy\n",
    "\n",
    "    def auto(self, minutes, steps=2000):\n",
    "        \"\"\"Minimizes the energy of a system by simulated annealing with\n",
    "        automatic selection of the temperature schedule.\n",
    "        Keyword arguments:\n",
    "        state -- an initial arrangement of the system\n",
    "        minutes -- time to spend annealing (after exploring temperatures)\n",
    "        steps -- number of steps to spend on each stage of exploration\n",
    "        Returns the best state and energy found.\"\"\"\n",
    "\n",
    "        def run(T, steps):\n",
    "            \"\"\"Anneals a system at constant temperature and returns the state,\n",
    "            energy, rate of acceptance, and rate of improvement.\"\"\"\n",
    "            E = self.energy()\n",
    "            prevState = self.copy_state(self.state)\n",
    "            prevEnergy = E\n",
    "            accepts, improves = 0, 0\n",
    "            for step in range(steps):\n",
    "                self.move()\n",
    "                E = self.energy()\n",
    "                dE = E - prevEnergy\n",
    "                if dE > 0.0 and math.exp(-dE / T) < random.random():\n",
    "                    self.state = self.copy_state(prevState)\n",
    "                    E = prevEnergy\n",
    "                else:\n",
    "                    accepts += 1\n",
    "                    if dE < 0.0:\n",
    "                        improves += 1\n",
    "                    prevState = self.copy_state(self.state)\n",
    "                    prevEnergy = E\n",
    "            return E, float(accepts) / steps, float(improves) / steps\n",
    "\n",
    "        step = 0\n",
    "        self.start = time.time()\n",
    "\n",
    "        # Attempting automatic simulated anneal...\n",
    "        # Find an initial guess for temperature\n",
    "        T = 0.0\n",
    "        E = self.energy()\n",
    "        self.update(step, T, E, None, None)\n",
    "        while T == 0.0:\n",
    "            step += 1\n",
    "            self.move()\n",
    "            T = abs(self.energy() - E)\n",
    "\n",
    "        # Search for Tmax - a temperature that gives 98% acceptance\n",
    "        E, acceptance, improvement = run(T, steps)\n",
    "\n",
    "        step += steps\n",
    "        while acceptance > 0.98:\n",
    "            T = round_figures(T / 1.5, 2)\n",
    "            E, acceptance, improvement = run(T, steps)\n",
    "            step += steps\n",
    "            self.update(step, T, E, acceptance, improvement)\n",
    "        while acceptance < 0.98:\n",
    "            T = round_figures(T * 1.5, 2)\n",
    "            E, acceptance, improvement = run(T, steps)\n",
    "            step += steps\n",
    "            self.update(step, T, E, acceptance, improvement)\n",
    "        Tmax = T\n",
    "\n",
    "        # Search for Tmin - a temperature that gives 0% improvement\n",
    "        while improvement > 0.0:\n",
    "            T = round_figures(T / 1.5, 2)\n",
    "            E, acceptance, improvement = run(T, steps)\n",
    "            step += steps\n",
    "            self.update(step, T, E, acceptance, improvement)\n",
    "        Tmin = T\n",
    "\n",
    "        # Calculate anneal duration\n",
    "        elapsed = time.time() - self.start\n",
    "        duration = round_figures(int(60.0 * minutes * step / elapsed), 2)\n",
    "\n",
    "        print('')  # New line after auto() output\n",
    "        # Don't perform anneal, just return params\n",
    "        return {'tmax': Tmax, 'tmin': Tmin, 'steps': duration}\n",
    "    \n",
    "#Contact GitHub API Training Shop Blog About\n",
    "#© 2017 GitHub, Inc. Terms Privacy Security Status Help"
   ]
  },
  {
   "cell_type": "code",
   "execution_count": 99,
   "metadata": {
    "collapsed": false
   },
   "outputs": [],
   "source": [
    "#import simanneal\n",
    "from __future__ import print_function\n",
    "import math\n",
    "import random\n",
    "#from simanneal import Annealer"
   ]
  },
  {
   "cell_type": "code",
   "execution_count": 125,
   "metadata": {
    "collapsed": false
   },
   "outputs": [],
   "source": [
    "class TravellingSalesmanProblem(Annealer):\n",
    "\n",
    "    \"\"\"Test annealer with a travelling salesman problem.\n",
    "    \"\"\"\n",
    "    \n",
    "    # pass extra data (the distance matrix) into the constructor\n",
    "    def __init__(self, candidate_songs, init_playlist=None):\n",
    "        #self.state = np.array(['2LBkiUn4HmZQN1iV4Q09cn', '3Y10xQQJVB1yjwFQ0ItrY6'])\n",
    "        if init_playlist !=None:\n",
    "            state = init_playlist\n",
    "        else:\n",
    "            state = np.random.choice(candidate_songs,size=10,replace=False)\n",
    "        self.starting = state\n",
    "        self.candidate_songs = np.setdiff1d(candidate_songs,state)\n",
    "        self.allt = []\n",
    "        self.allE = []\n",
    "        state=list(state)\n",
    "        #self.features = features\n",
    "        super(TravellingSalesmanProblem, self).__init__(state)  # important! \n",
    "\n",
    "    def move(self):\n",
    "        \"\"\"Swaps two cities in the route.\"\"\"\n",
    "        a = random.randint(0, len(self.state) - 1)\n",
    "        b = random.randint(0, len(self.candidate_songs) - 1)\n",
    "        #b = random.randint(0, len(self.state) - 1)\n",
    "        #self.state[a], self.state[b] = self.state[b], self.state[a]\n",
    "        #print(self.state[a],self.candidate_songs[b])\n",
    "        reject = self.state[a]\n",
    "        self.state[a] = self.candidate_songs[b]\n",
    "        self.candidate_songs[b] = reject\n",
    "        #print(self.state[a],self.candidate_songs[b])\n",
    "        \n",
    "    def energy(self): ## calculates the predicted number of followers\n",
    "        \"\"\"Calculates the predicted number of followers.\"\"\"\n",
    "        #print(self.state)\n",
    "        result = gen_score(self.state)\n",
    "        #print(\"Calculating energy: \", result)\n",
    "        #return 1000*(1-(0.67*result[4] + 0.33*result[3]))\n",
    "        return 10000*(1.0-(np.array([0,0,0,0.25,0.75])*result).sum())"
   ]
  },
  {
   "cell_type": "markdown",
   "metadata": {},
   "source": [
    "### Tune the energy function for simulated annealing. \n",
    "#### We want ~40-60% initial chance of acceptance for a significant decrease in energy"
   ]
  },
  {
   "cell_type": "code",
   "execution_count": 126,
   "metadata": {
    "collapsed": false
   },
   "outputs": [
    {
     "data": {
      "text/plain": [
       "0.51594004821404"
      ]
     },
     "execution_count": 126,
     "metadata": {},
     "output_type": "execute_result"
    }
   ],
   "source": [
    "def energy1(result):\n",
    "    return 10000*(1.0-(np.array([0,0,0,0.25,0.75])*result).sum())\n",
    "\n",
    "prevEnergy=energy1([ 0.23,  0.25,  0.19,  0.23,  0.1])\n",
    "E = energy1([ 0.23,  0.25,  0.19,  0.23,  0.04])\n",
    "# We want this kind of decrease in energy to be associated with something like 70% chance acceptance at first\n",
    "dE = E - prevEnergy\n",
    "T = 680\n",
    "math.exp(-dE / T)"
   ]
  },
  {
   "cell_type": "markdown",
   "metadata": {},
   "source": [
    "### Tune Simulated annealing"
   ]
  },
  {
   "cell_type": "code",
   "execution_count": 102,
   "metadata": {
    "collapsed": true
   },
   "outputs": [],
   "source": [
    "def tuneSimAnneal(candidates):\n",
    "    tsp = TravellingSalesmanProblem(candidates)\n",
    "    tsp.copy_strategy = \"slice\"  \n",
    "    auto_schedule = tsp.auto(minutes=0.5, steps=10)\n",
    "    auto_schedule['updates'] = auto_schedule['steps']/10\n",
    "    return auto_schedule"
   ]
  },
  {
   "cell_type": "code",
   "execution_count": 103,
   "metadata": {
    "collapsed": false
   },
   "outputs": [
    {
     "name": "stderr",
     "output_type": "stream",
     "text": [
      "/Users/lw20302/anaconda/lib/python2.7/site-packages/ipykernel/__main__.py:299: FutureWarning: reshape is deprecated and will raise in a subsequent release. Please use .values.reshape(...) instead\n",
      " Temperature        Energy    Accept   Improve     Elapsed   Remaining\n",
      "    30.00000       6750.00     0.00%     0.00%     0:00:17     1:31:11 Temperature        Energy    Accept   Improve     Elapsed   Remaining\n",
      "     0.00000       9475.00                         0:00:00            \r"
     ]
    },
    {
     "name": "stdout",
     "output_type": "stream",
     "text": [
      "\n",
      "Bucket # 1  parameters:  {u'steps': 270.0, u'tmax': 1700.0, u'tmin': 30.0, u'updates': 27.0}\n"
     ]
    },
    {
     "name": "stderr",
     "output_type": "stream",
     "text": [
      "    67.00000       8625.00    10.00%     0.00%     0:00:13     1:51:09 Temperature        Energy    Accept   Improve     Elapsed   Remaining\n",
      "     0.00000       9500.00                         0:00:00            \r"
     ]
    },
    {
     "name": "stdout",
     "output_type": "stream",
     "text": [
      "\n",
      "Bucket # 2  parameters:  {u'steps': 220.0, u'tmax': 530.0, u'tmin': 67.0, u'updates': 22.0}\n"
     ]
    },
    {
     "name": "stderr",
     "output_type": "stream",
     "text": [
      "     7.30000       6400.00    10.00%     0.00%     0:00:27     1:53:25"
     ]
    },
    {
     "name": "stdout",
     "output_type": "stream",
     "text": [
      "\n",
      "Bucket # 3  parameters:  {u'steps': 220.0, u'tmax': 1500.0, u'tmin': 7.3, u'updates': 22.0}\n"
     ]
    }
   ],
   "source": [
    "schedules = []\n",
    "for index, bucket in  enumerate([bucket1,bucket2,bucket3]):\n",
    "    schedules.append(tuneSimAnneal(bucket))\n",
    "    print(\"Bucket #\", index+1,\" parameters: \", schedules[index])"
   ]
  },
  {
   "cell_type": "markdown",
   "metadata": {},
   "source": [
    "### Run Simulated Annealing"
   ]
  },
  {
   "cell_type": "code",
   "execution_count": 123,
   "metadata": {
    "collapsed": false
   },
   "outputs": [],
   "source": [
    "def runSimulatedAnnealing(candidates, schedule, init_playlist=None):\n",
    "    \n",
    "    # Run sim anneal\n",
    "    tsp = TravellingSalesmanProblem(candidates, init_playlist)\n",
    "    tsp.set_schedule(schedule)\n",
    "    state, e = tsp.anneal()\n",
    "    resulting_playlist_sim_anneal = state\n",
    "    start = gen_score(tsp.starting)\n",
    "    print(schedule)\n",
    "\n",
    "    # Visualize annealing\n",
    "    plt.plot(range(int(schedule['steps'])), tsp.allE)\n",
    "    plt.show()\n",
    "    plt.plot(range(int(schedule['steps'])), tsp.allt)\n",
    "    plt.show()\n",
    "#     print(tsp.allE, tsp.allt)\n",
    "#     plt.bar(range(len(tsp.st)), start)\n",
    "#     plt.xticks(range(len(start)), [1,2,3,4,5], size='small')\n",
    "#     locs, labels = plt.xticks()\n",
    "#     plt.show()\n",
    "#     end = gen_score(resulting_playlist_sim_anneal)\n",
    "\n",
    "    # Visualize starting point\n",
    "    print(\"Starting class probabilties: \",start)\n",
    "    print(energy1(start))\n",
    "    plt.bar(range(len(start)), start)\n",
    "    plt.xticks(range(len(start)), [1,2,3,4,5], size='small')\n",
    "    locs, labels = plt.xticks()\n",
    "    plt.show()\n",
    "    end = gen_score(resulting_playlist_sim_anneal)\n",
    "\n",
    "    # Visualize ending point\n",
    "    print(\"Ending class probabilties: \",end )\n",
    "    print(energy1(end))\n",
    "    plt.bar(range(len(end)), end)\n",
    "    plt.xticks(range(len(end)), [1,2,3,4,5], size='small')\n",
    "    locs, labels = plt.xticks()\n",
    "    plt.show()\n",
    "\n",
    "    return resulting_playlist_sim_anneal\n"
   ]
  },
  {
   "cell_type": "markdown",
   "metadata": {},
   "source": [
    "### Bucket 1 results: Top tracks from related artists"
   ]
  },
  {
   "cell_type": "code",
   "execution_count": 129,
   "metadata": {
    "collapsed": false
   },
   "outputs": [
    {
     "name": "stderr",
     "output_type": "stream",
     "text": [
      "/Users/lw20302/anaconda/lib/python2.7/site-packages/ipykernel/__main__.py:299: FutureWarning: reshape is deprecated and will raise in a subsequent release. Please use .values.reshape(...) instead\n",
      " Temperature        Energy    Accept   Improve     Elapsed   Remaining\n",
      "    30.00000       5125.00    10.00%     0.00%     0:00:32     0:00:00"
     ]
    },
    {
     "name": "stdout",
     "output_type": "stream",
     "text": [
      "\n",
      "{u'steps': 270.0, u'tmax': 1700.0, u'tmin': 30.0, u'updates': 27.0}\n"
     ]
    },
    {
     "data": {
      "image/png": "[encoded data removed]",
      "text/plain": [
       "<matplotlib.figure.Figure at 0x19ecdcd90>"
      ]
     },
     "metadata": {},
     "output_type": "display_data"
    },
    {
     "data": {
      "image/png": "[encoded data removed]",
      "text/plain": [
       "<matplotlib.figure.Figure at 0x19a87e990>"
      ]
     },
     "metadata": {},
     "output_type": "display_data"
    },
    {
     "name": "stdout",
     "output_type": "stream",
     "text": [
      "Starting class probabilties:  [ 0.18  0.24  0.24  0.18  0.16]\n",
      "8350.0\n"
     ]
    },
    {
     "data": {
      "image/png": "[encoded data removed]",
      "text/plain": [
       "<matplotlib.figure.Figure at 0x19ecbe3d0>"
      ]
     },
     "metadata": {},
     "output_type": "display_data"
    },
    {
     "name": "stdout",
     "output_type": "stream",
     "text": [
      "Ending class probabilties:  [ 0.08  0.11  0.07  0.12  0.62]\n",
      "5050.0\n"
     ]
    },
    {
     "data": {
      "image/png": "[encoded data removed]",
      "text/plain": [
       "<matplotlib.figure.Figure at 0x199eb17d0>"
      ]
     },
     "metadata": {},
     "output_type": "display_data"
    },
    {
     "name": "stderr",
     "output_type": "stream",
     "text": [
      "/Users/lw20302/anaconda/lib/python2.7/site-packages/ipykernel/__main__.py:9: FutureWarning: comparison to `None` will result in an elementwise object comparison in the future.\n",
      " Temperature        Energy    Accept   Improve     Elapsed   Remaining\n",
      "    30.00000       5350.00    10.00%     0.00%     0:00:32     0:00:00"
     ]
    },
    {
     "name": "stdout",
     "output_type": "stream",
     "text": [
      "\n",
      "{u'steps': 270.0, u'tmax': 1700.0, u'tmin': 30.0, u'updates': 27.0}\n"
     ]
    },
    {
     "data": {
      "image/png": "[encoded data removed]",
      "text/plain": [
       "<matplotlib.figure.Figure at 0x199eae610>"
      ]
     },
     "metadata": {},
     "output_type": "display_data"
    },
    {
     "data": {
      "image/png": "[encoded data removed]",
      "text/plain": [
       "<matplotlib.figure.Figure at 0x199b7bfd0>"
      ]
     },
     "metadata": {},
     "output_type": "display_data"
    },
    {
     "name": "stdout",
     "output_type": "stream",
     "text": [
      "Starting class probabilties:  [ 0.08  0.11  0.07  0.12  0.62]\n",
      "5050.0\n"
     ]
    },
    {
     "data": {
      "image/png": "[encoded data removed]",
      "text/plain": [
       "<matplotlib.figure.Figure at 0x11190ce50>"
      ]
     },
     "metadata": {},
     "output_type": "display_data"
    },
    {
     "name": "stdout",
     "output_type": "stream",
     "text": [
      "Ending class probabilties:  [ 0.08  0.11  0.07  0.12  0.62]\n",
      "5050.0\n"
     ]
    },
    {
     "data": {
      "image/png": "[encoded data removed]",
      "text/plain": [
       "<matplotlib.figure.Figure at 0x19f0ae6d0>"
      ]
     },
     "metadata": {},
     "output_type": "display_data"
    }
   ],
   "source": [
    "#if __name__ == '__main__':\n",
    "bucket1_result = runSimulatedAnnealing(bucket1, schedules[0])\n",
    "#bucket1_result_2 = runSimulatedAnnealing(bucket1, schedules[0], init_playlist=np.array(bucket1_result))"
   ]
  },
  {
   "cell_type": "markdown",
   "metadata": {},
   "source": [
    "### Bucket 2 results: Any tracks from related artists"
   ]
  },
  {
   "cell_type": "code",
   "execution_count": 305,
   "metadata": {
    "collapsed": false
   },
   "outputs": [
    {
     "name": "stderr",
     "output_type": "stream",
     "text": [
      "/Users/lw20302/anaconda/lib/python2.7/site-packages/ipykernel/__main__.py:299: FutureWarning: reshape is deprecated and will raise in a subsequent release. Please use .values.reshape(...) instead\n",
      " Temperature        Energy    Accept   Improve     Elapsed   Remaining\n",
      "     4.50000       6800.00     0.00%     0.00%     0:01:38     0:00:00"
     ]
    },
    {
     "name": "stdout",
     "output_type": "stream",
     "text": [
      "\n",
      "{u'steps': 990.0, u'tmax': 1300.0, u'tmin': 4.5, 'updates': 99.0}\n",
      "Starting class probabilties:  [ 0.5   0.2   0.11  0.18  0.01]\n",
      "9475.0\n"
     ]
    },
    {
     "data": {
      "image/png": "[encoded data removed]",
      "text/plain": [
       "<matplotlib.figure.Figure at 0x1172e7850>"
      ]
     },
     "metadata": {},
     "output_type": "display_data"
    },
    {
     "name": "stdout",
     "output_type": "stream",
     "text": [
      "Ending class probabilties:  [ 0.16  0.23  0.11  0.11  0.39]\n",
      "6800.0\n"
     ]
    },
    {
     "data": {
      "image/png": "[encoded data removed]",
      "text/plain": [
       "<matplotlib.figure.Figure at 0x115d851d0>"
      ]
     },
     "metadata": {},
     "output_type": "display_data"
    },
    {
     "data": {
      "text/plain": [
       "[u'03z8S3yZD1io0qenJSRZ0L',\n",
       " u'1jCNZGXATpwbQPmK4090x8',\n",
       " u'0PDUDa38GO8lMxLCRc4lL1',\n",
       " u'6MLsEJgVs8sF7EHee5QqaM',\n",
       " u'7wQVIel0NfQK9IMO7tDEN8',\n",
       " u'638fKB27P7UAmu3Aq0vEJ3',\n",
       " u'7FQgwxkgClQLTwEilUlscr',\n",
       " u'3ZIBLJhc82PoKXF9GVYQYE',\n",
       " u'78O8CIzX5ZMuJh39fQOR3i',\n",
       " u'5WX8mqlPovtMHXCsHGioPn']"
      ]
     },
     "execution_count": 305,
     "metadata": {},
     "output_type": "execute_result"
    }
   ],
   "source": [
    "runSimulatedAnnealing(bucket2, auto_schedule, num_runs=1)"
   ]
  },
  {
   "cell_type": "markdown",
   "metadata": {},
   "source": [
    "### Bucket 3 results: Similar tracks from related artists (manhattan distance + spotify API features)"
   ]
  },
  {
   "cell_type": "code",
   "execution_count": 306,
   "metadata": {
    "collapsed": false
   },
   "outputs": [
    {
     "name": "stderr",
     "output_type": "stream",
     "text": [
      "/Users/lw20302/anaconda/lib/python2.7/site-packages/ipykernel/__main__.py:299: FutureWarning: reshape is deprecated and will raise in a subsequent release. Please use .values.reshape(...) instead\n",
      " Temperature        Energy    Accept   Improve     Elapsed   Remaining\n",
      "    15.00000       6050.00     0.00%     0.00%     0:01:41     0:00:00"
     ]
    },
    {
     "name": "stdout",
     "output_type": "stream",
     "text": [
      "\n",
      "{u'steps': 900.0, u'tmax': 2000.0, u'tmin': 15.0, 'updates': 90.0}\n",
      "Starting class probabilties:  [ 0.48  0.22  0.2   0.1   0.  ]\n",
      "9750.0\n"
     ]
    },
    {
     "data": {
      "image/png": "[encoded data removed]",
      "text/plain": [
       "<matplotlib.figure.Figure at 0x2b636cd10>"
      ]
     },
     "metadata": {},
     "output_type": "display_data"
    },
    {
     "name": "stdout",
     "output_type": "stream",
     "text": [
      "Ending class probabilties:  [ 0.11  0.11  0.18  0.11  0.49]\n",
      "6050.0\n"
     ]
    },
    {
     "data": {
      "image/png": "[encoded data removed]",
      "text/plain": [
       "<matplotlib.figure.Figure at 0x2b6403410>"
      ]
     },
     "metadata": {},
     "output_type": "display_data"
    },
    {
     "data": {
      "text/plain": [
       "[u'7qiZfU4dY1lWllzX7mPBI3',\n",
       " u'7MxhtoiYMmro4VyBzUFm0P',\n",
       " u'2miLqfCa1ubJPAa7QtcfYL',\n",
       " u'7MxhtoiYMmro4VyBzUFm0P',\n",
       " u'7qiZfU4dY1lWllzX7mPBI3',\n",
       " u'7MxhtoiYMmro4VyBzUFm0P',\n",
       " u'7MxhtoiYMmro4VyBzUFm0P',\n",
       " u'7qiZfU4dY1lWllzX7mPBI3',\n",
       " u'7MxhtoiYMmro4VyBzUFm0P',\n",
       " u'1JOXtsCnIVcDkVi9SxMIso']"
      ]
     },
     "execution_count": 306,
     "metadata": {},
     "output_type": "execute_result"
    }
   ],
   "source": [
    "runSimulatedAnnealing(bucket3, schedules[2], num_runs=1)"
   ]
  },
  {
   "cell_type": "code",
   "execution_count": 216,
   "metadata": {
    "collapsed": false
   },
   "outputs": [
    {
     "data": {
      "text/plain": [
       "{u'steps': 990.0, u'tmax': 1300.0, u'tmin': 4.5, 'updates': 99.0}"
      ]
     },
     "execution_count": 216,
     "metadata": {},
     "output_type": "execute_result"
    }
   ],
   "source": [
    "# This got good results for all buckets\n",
    "auto_schedule"
   ]
  },
  {
   "cell_type": "markdown",
   "metadata": {},
   "source": [
    "### Alternatively, mix buckets together (e.g. take 60% similar songs, 40% top tracks)"
   ]
  },
  {
   "cell_type": "markdown",
   "metadata": {},
   "source": [
    "## loss function over time, decay of temperature"
   ]
  },
  {
   "cell_type": "code",
   "execution_count": 307,
   "metadata": {
    "collapsed": true
   },
   "outputs": [],
   "source": [
    "def mixBuckets(bucket_one, bucket_two, bucket_two_ratio):\n",
    "    n_sample_bucket_two = len(bucket_one)*bucket_two_ratio/(1-bucket_two_ratio)\n",
    "    sample_bucket_two = np.random.choice(bucket_two, replace=False,size= n_sample_bucket_two)\n",
    "    mixed_bucket = np.concatenate((bucket_one, bucket_two))\n",
    "    return np.unique(mixed_bucket)"
   ]
  },
  {
   "cell_type": "code",
   "execution_count": 308,
   "metadata": {
    "collapsed": false
   },
   "outputs": [
    {
     "name": "stderr",
     "output_type": "stream",
     "text": [
      "/Users/lw20302/anaconda/lib/python2.7/site-packages/ipykernel/__main__.py:3: VisibleDeprecationWarning: using a non-integer number instead of an integer will result in an error in the future\n",
      "  app.launch_new_instance()\n"
     ]
    }
   ],
   "source": [
    "mixed_bucket = mixBuckets(bucket1,bucket3,0.6)"
   ]
  },
  {
   "cell_type": "code",
   "execution_count": 309,
   "metadata": {
    "collapsed": false
   },
   "outputs": [
    {
     "name": "stderr",
     "output_type": "stream",
     "text": [
      "/Users/lw20302/anaconda/lib/python2.7/site-packages/ipykernel/__main__.py:299: FutureWarning: reshape is deprecated and will raise in a subsequent release. Please use .values.reshape(...) instead\n",
      " Temperature        Energy    Accept   Improve     Elapsed   Remaining\n",
      "    26.00000       6300.00     0.00%     0.00%     0:01:33     1:21:41"
     ]
    },
    {
     "name": "stdout",
     "output_type": "stream",
     "text": [
      "\n"
     ]
    }
   ],
   "source": [
    "schedule_mixed = tuneSimAnneal(mixed_bucket)"
   ]
  },
  {
   "cell_type": "code",
   "execution_count": 310,
   "metadata": {
    "collapsed": false
   },
   "outputs": [
    {
     "name": "stderr",
     "output_type": "stream",
     "text": [
      "/Users/lw20302/anaconda/lib/python2.7/site-packages/ipykernel/__main__.py:299: FutureWarning: reshape is deprecated and will raise in a subsequent release. Please use .values.reshape(...) instead\n",
      " Temperature        Energy    Accept   Improve     Elapsed   Remaining\n",
      "    26.00000       6250.00     0.00%     0.00%     0:01:28     0:00:00"
     ]
    },
    {
     "name": "stdout",
     "output_type": "stream",
     "text": [
      "\n",
      "{u'steps': 900.0, u'tmax': 12000.0, u'tmin': 26.0, 'updates': 90.0}\n",
      "Starting class probabilties:  [ 0.28  0.3   0.2   0.18  0.04]\n",
      "9250.0\n"
     ]
    },
    {
     "data": {
      "image/png": "[encoded data removed]",
      "text/plain": [
       "<matplotlib.figure.Figure at 0x11747a410>"
      ]
     },
     "metadata": {},
     "output_type": "display_data"
    },
    {
     "name": "stdout",
     "output_type": "stream",
     "text": [
      "Ending class probabilties:  [ 0.17  0.12  0.15  0.09  0.47]\n",
      "6250.0\n"
     ]
    },
    {
     "data": {
      "image/png": "[encoded data removed]",
      "text/plain": [
       "<matplotlib.figure.Figure at 0x117257f10>"
      ]
     },
     "metadata": {},
     "output_type": "display_data"
    }
   ],
   "source": [
    "resulting_mixed = runSimulatedAnnealing(mixed_bucket, schedule_mixed)"
   ]
  },
  {
   "cell_type": "code",
   "execution_count": null,
   "metadata": {
    "collapsed": true
   },
   "outputs": [],
   "source": [
    "#sp.user_playlist_create(\"lware09\", \"capstone_demo\", public=True)"
   ]
  },
  {
   "cell_type": "code",
   "execution_count": 282,
   "metadata": {
    "collapsed": false
   },
   "outputs": [
    {
     "name": "stdout",
     "output_type": "stream",
     "text": [
      "\n",
      "            You need to set your Spotify API credentials. You can do this by\n",
      "            setting environment variables like so:\n",
      "\n",
      "            export SPOTIPY_CLIENT_ID='your-spotify-client-id'\n",
      "            export SPOTIPY_CLIENT_SECRET='your-spotify-client-secret'\n",
      "            export SPOTIPY_REDIRECT_URI='your-app-redirect-url'\n",
      "\n",
      "            Get your credentials at     \n",
      "                https://developer.spotify.com/my-applications\n",
      "        \n"
     ]
    },
    {
     "ename": "SpotifyException",
     "evalue": "http status: 550, code:-1 - no credentials set",
     "output_type": "error",
     "traceback": [
      "\u001b[0;31m---------------------------------------------------------------------------\u001b[0m",
      "\u001b[0;31mSpotifyException\u001b[0m                          Traceback (most recent call last)",
      "\u001b[0;32m<ipython-input-282-d2f7ee7b8e2f>\u001b[0m in \u001b[0;36m<module>\u001b[0;34m()\u001b[0m\n\u001b[1;32m      1\u001b[0m \u001b[0;32mimport\u001b[0m \u001b[0msys\u001b[0m\u001b[0;34m\u001b[0m\u001b[0m\n\u001b[1;32m      2\u001b[0m \u001b[0;32mimport\u001b[0m \u001b[0mspotipy\u001b[0m\u001b[0;34m.\u001b[0m\u001b[0mutil\u001b[0m \u001b[0;32mas\u001b[0m \u001b[0mutil\u001b[0m\u001b[0;34m\u001b[0m\u001b[0m\n\u001b[0;32m----> 3\u001b[0;31m \u001b[0mutil\u001b[0m\u001b[0;34m.\u001b[0m\u001b[0mprompt_for_user_token\u001b[0m\u001b[0;34m(\u001b[0m\u001b[0;34m\"lware09\"\u001b[0m\u001b[0;34m,\u001b[0m\u001b[0mscope\u001b[0m\u001b[0;34m=\u001b[0m\u001b[0;34m\"playlist-modify-private\"\u001b[0m\u001b[0;34m)\u001b[0m\u001b[0;34m\u001b[0m\u001b[0m\n\u001b[0m",
      "\u001b[0;32m/Users/lw20302/anaconda/lib/python2.7/site-packages/spotipy/util.pyc\u001b[0m in \u001b[0;36mprompt_for_user_token\u001b[0;34m(username, scope, client_id, client_secret, redirect_uri)\u001b[0m\n\u001b[1;32m     45\u001b[0m                 \u001b[0mhttps\u001b[0m\u001b[0;34m:\u001b[0m\u001b[0;34m//\u001b[0m\u001b[0mdeveloper\u001b[0m\u001b[0;34m.\u001b[0m\u001b[0mspotify\u001b[0m\u001b[0;34m.\u001b[0m\u001b[0mcom\u001b[0m\u001b[0;34m/\u001b[0m\u001b[0mmy\u001b[0m\u001b[0;34m-\u001b[0m\u001b[0mapplications\u001b[0m\u001b[0;34m\u001b[0m\u001b[0m\n\u001b[1;32m     46\u001b[0m         ''')\n\u001b[0;32m---> 47\u001b[0;31m         \u001b[0;32mraise\u001b[0m \u001b[0mspotipy\u001b[0m\u001b[0;34m.\u001b[0m\u001b[0mSpotifyException\u001b[0m\u001b[0;34m(\u001b[0m\u001b[0;36m550\u001b[0m\u001b[0;34m,\u001b[0m \u001b[0;34m-\u001b[0m\u001b[0;36m1\u001b[0m\u001b[0;34m,\u001b[0m \u001b[0;34m'no credentials set'\u001b[0m\u001b[0;34m)\u001b[0m\u001b[0;34m\u001b[0m\u001b[0m\n\u001b[0m\u001b[1;32m     48\u001b[0m \u001b[0;34m\u001b[0m\u001b[0m\n\u001b[1;32m     49\u001b[0m     sp_oauth = oauth2.SpotifyOAuth(client_id, client_secret, redirect_uri, \n",
      "\u001b[0;31mSpotifyException\u001b[0m: http status: 550, code:-1 - no credentials set"
     ]
    }
   ],
   "source": [
    "import sys\n",
    "import spotipy.util as util\n",
    "util.prompt_for_user_token(\"lware09\",scope=\"playlist-modify-private\")"
   ]
  },
  {
   "cell_type": "code",
   "execution_count": 281,
   "metadata": {
    "collapsed": false
   },
   "outputs": [
    {
     "ename": "AttributeError",
     "evalue": "'Spotify' object has no attribute 'util'",
     "output_type": "error",
     "traceback": [
      "\u001b[0;31m---------------------------------------------------------------------------\u001b[0m",
      "\u001b[0;31mAttributeError\u001b[0m                            Traceback (most recent call last)",
      "\u001b[0;32m<ipython-input-281-c542e160bc8e>\u001b[0m in \u001b[0;36m<module>\u001b[0;34m()\u001b[0m\n\u001b[0;32m----> 1\u001b[0;31m \u001b[0msp\u001b[0m\u001b[0;34m.\u001b[0m\u001b[0mutil\u001b[0m\u001b[0;34m.\u001b[0m\u001b[0mprompt_for_user_token\u001b[0m\u001b[0;34m(\u001b[0m\u001b[0;34m)\u001b[0m\u001b[0;34m\u001b[0m\u001b[0m\n\u001b[0m",
      "\u001b[0;31mAttributeError\u001b[0m: 'Spotify' object has no attribute 'util'"
     ]
    }
   ],
   "source": [
    "\n",
    "\n",
    "scope = 'user-library-read'\n",
    "\n",
    "if len(sys.argv) > 1:\n",
    "    username = sys.argv[1]\n",
    "else:\n",
    "    print \"Usage: %s username\" % (sys.argv[0],)\n",
    "    sys.exit()\n",
    "\n",
    "token = util.prompt_for_user_token(username, scope)\n",
    "\n",
    "if token:\n",
    "    sp = spotipy.Spotify(auth=token)\n",
    "    results = sp.current_user_saved_tracks()\n",
    "    for item in results['items']:\n",
    "        track = item['track']\n",
    "        print track['name'] + ' - ' + track['artists'][0]['name']\n",
    "else:\n",
    "    print \"Can't get token for\", username"
   ]
  },
  {
   "cell_type": "markdown",
   "metadata": {},
   "source": [
    "### Resulting playlist!"
   ]
  },
  {
   "cell_type": "code",
   "execution_count": 259,
   "metadata": {
    "collapsed": false,
    "scrolled": false
   },
   "outputs": [
    {
     "name": "stdout",
     "output_type": "stream",
     "text": [
      "Ellie Goulding\n"
     ]
    },
    {
     "data": {
      "text/html": [
       "<iframe src=\"https://open.spotify.com/embed?uri=spotify:track:2mN9PvVZX0thvOclMwQAju\"frameborder=\"0\" allowtransparency=\"true\"></iframe>"
      ],
      "text/plain": [
       "<IPython.core.display.HTML object>"
      ]
     },
     "metadata": {},
     "output_type": "display_data"
    },
    {
     "name": "stdout",
     "output_type": "stream",
     "text": [
      "One Direction\n"
     ]
    },
    {
     "data": {
      "text/html": [
       "<iframe src=\"https://open.spotify.com/embed?uri=spotify:track:5omYVLodGmaxnhua99xIE8\"frameborder=\"0\" allowtransparency=\"true\"></iframe>"
      ],
      "text/plain": [
       "<IPython.core.display.HTML object>"
      ]
     },
     "metadata": {},
     "output_type": "display_data"
    },
    {
     "name": "stdout",
     "output_type": "stream",
     "text": [
      "Olly Murs\n"
     ]
    },
    {
     "data": {
      "text/html": [
       "<iframe src=\"https://open.spotify.com/embed?uri=spotify:track:3ZeszLrkylVDyAFS9MLajv\"frameborder=\"0\" allowtransparency=\"true\"></iframe>"
      ],
      "text/plain": [
       "<IPython.core.display.HTML object>"
      ]
     },
     "metadata": {},
     "output_type": "display_data"
    },
    {
     "name": "stdout",
     "output_type": "stream",
     "text": [
      "Olly Murs\n"
     ]
    },
    {
     "data": {
      "text/html": [
       "<iframe src=\"https://open.spotify.com/embed?uri=spotify:track:1Xf5Kh1BUTMXBGu7uet53p\"frameborder=\"0\" allowtransparency=\"true\"></iframe>"
      ],
      "text/plain": [
       "<IPython.core.display.HTML object>"
      ]
     },
     "metadata": {},
     "output_type": "display_data"
    },
    {
     "name": "stdout",
     "output_type": "stream",
     "text": [
      "James Blunt\n"
     ]
    },
    {
     "data": {
      "text/html": [
       "<iframe src=\"https://open.spotify.com/embed?uri=spotify:track:5Og7kvYFqSbAbsTAXlDQb2\"frameborder=\"0\" allowtransparency=\"true\"></iframe>"
      ],
      "text/plain": [
       "<IPython.core.display.HTML object>"
      ]
     },
     "metadata": {},
     "output_type": "display_data"
    },
    {
     "name": "stdout",
     "output_type": "stream",
     "text": [
      "James Bay\n"
     ]
    },
    {
     "data": {
      "text/html": [
       "<iframe src=\"https://open.spotify.com/embed?uri=spotify:track:13HVjjWUZFaWilh2QUJKsP\"frameborder=\"0\" allowtransparency=\"true\"></iframe>"
      ],
      "text/plain": [
       "<IPython.core.display.HTML object>"
      ]
     },
     "metadata": {},
     "output_type": "display_data"
    },
    {
     "name": "stdout",
     "output_type": "stream",
     "text": [
      "ZAYN\n"
     ]
    },
    {
     "data": {
      "text/html": [
       "<iframe src=\"https://open.spotify.com/embed?uri=spotify:track:7iCeaYJSEdGWeFNTAEqUzJ\"frameborder=\"0\" allowtransparency=\"true\"></iframe>"
      ],
      "text/plain": [
       "<IPython.core.display.HTML object>"
      ]
     },
     "metadata": {},
     "output_type": "display_data"
    },
    {
     "name": "stdout",
     "output_type": "stream",
     "text": [
      "Birdy\n"
     ]
    },
    {
     "data": {
      "text/html": [
       "<iframe src=\"https://open.spotify.com/embed?uri=spotify:track:1D4XFKolp63mNqqMXJJL1V\"frameborder=\"0\" allowtransparency=\"true\"></iframe>"
      ],
      "text/plain": [
       "<IPython.core.display.HTML object>"
      ]
     },
     "metadata": {},
     "output_type": "display_data"
    },
    {
     "name": "stdout",
     "output_type": "stream",
     "text": [
      "Clean Bandit\n"
     ]
    },
    {
     "data": {
      "text/html": [
       "<iframe src=\"https://open.spotify.com/embed?uri=spotify:track:6aHqV0UAuIxz596UmGAszz\"frameborder=\"0\" allowtransparency=\"true\"></iframe>"
      ],
      "text/plain": [
       "<IPython.core.display.HTML object>"
      ]
     },
     "metadata": {},
     "output_type": "display_data"
    },
    {
     "name": "stdout",
     "output_type": "stream",
     "text": [
      "Sam Smith\n"
     ]
    },
    {
     "data": {
      "text/html": [
       "<iframe src=\"https://open.spotify.com/embed?uri=spotify:track:1PWnAEQcbwQwK759otUbta\"frameborder=\"0\" allowtransparency=\"true\"></iframe>"
      ],
      "text/plain": [
       "<IPython.core.display.HTML object>"
      ]
     },
     "metadata": {},
     "output_type": "display_data"
    }
   ],
   "source": [
    "from IPython.core.display import display, HTML\n",
    "\n",
    "for each in resulting_mixed:\n",
    "    song_id = related_all_features_with_seed[related_all_features_with_seed['id']==each]['id'].values[0]\n",
    "    link='<a href=' + related_all_features_with_seed[related_all_features_with_seed['id']==each]['preview_url'].values[0] + '>preview related song</a>'\n",
    "    print(related_all_features_with_seed[related_all_features_with_seed['id']==each]['artists'].values[0])\n",
    "    link = \"<iframe src=\\\"https://open.spotify.com/embed?uri=spotify:track:\" + song_id + \"\\\"frameborder=\\\"0\\\" allowtransparency=\\\"true\\\"></iframe>\"\n",
    "    #print(link)\n",
    "    display(HTML(link))\n"
   ]
  },
  {
   "cell_type": "markdown",
   "metadata": {},
   "source": [
    "### Appendix: Travelling Salesman Example for Simulated Annealing "
   ]
  },
  {
   "cell_type": "code",
   "execution_count": 279,
   "metadata": {
    "collapsed": false
   },
   "outputs": [
    {
     "name": "stderr",
     "output_type": "stream",
     "text": [
      " Temperature        Energy    Accept   Improve     Elapsed   Remaining\n",
      "     2.50000       6883.00     5.20%     0.00%     0:00:01     0:00:00"
     ]
    },
    {
     "name": "stdout",
     "output_type": "stream",
     "text": [
      "\n",
      "6845 mile route:\n",
      "\t New York City\n",
      "\t Philadelphia\n",
      "\t Baltimore\n",
      "\t Charlotte\n",
      "\t Jacksonville\n",
      "\t Houston\n",
      "\t Austin\n",
      "\t San Antonio\n",
      "\t Phoenix\n",
      "\t San Diego\n",
      "\t Los Angeles\n",
      "\t San Jose\n",
      "\t San Francisco\n",
      "\t Fort Worth\n",
      "\t Dallas\n",
      "\t Memphis\n",
      "\t Indianapolis\n",
      "\t Chicago\n",
      "\t Detroit\n",
      "\t Columbus\n"
     ]
    }
   ],
   "source": [
    "from __future__ import print_function\n",
    "import math\n",
    "import random\n",
    "from simanneal import Annealer\n",
    "\n",
    "\n",
    "def distance(a, b):\n",
    "    \"\"\"Calculates distance between two latitude-longitude coordinates.\"\"\"\n",
    "    R = 3963  # radius of Earth (miles)\n",
    "    lat1, lon1 = math.radians(a[0]), math.radians(a[1])\n",
    "    lat2, lon2 = math.radians(b[0]), math.radians(b[1])\n",
    "    return math.acos(math.sin(lat1) * math.sin(lat2) +\n",
    "                     math.cos(lat1) * math.cos(lat2) * math.cos(lon1 - lon2)) * R\n",
    "\n",
    "\n",
    "class TravellingSalesmanProblem(Annealer):\n",
    "\n",
    "    \"\"\"Test annealer with a travelling salesman problem.\n",
    "    \"\"\"\n",
    "    \n",
    "    # pass extra data (the distance matrix) into the constructor\n",
    "    def __init__(self, state, distance_matrix):\n",
    "        self.distance_matrix = distance_matrix\n",
    "        super(TravellingSalesmanProblem, self).__init__(state)  # important! \n",
    "\n",
    "    def move(self):\n",
    "        \"\"\"Swaps two cities in the route.\"\"\"\n",
    "        a = random.randint(0, len(self.state) - 1)\n",
    "        b = random.randint(0, len(self.state) - 1)\n",
    "        self.state[a], self.state[b] = self.state[b], self.state[a]\n",
    "\n",
    "    def energy(self):\n",
    "        \"\"\"Calculates the length of the route.\"\"\"\n",
    "        e = 0\n",
    "        for i in range(len(self.state)):\n",
    "            e += self.distance_matrix[self.state[i-1]][self.state[i]]\n",
    "        return e\n",
    "\n",
    "\n",
    "\n",
    "if __name__ == '__main__':\n",
    "\n",
    "    # latitude and longitude for the twenty largest U.S. cities\n",
    "    cities = {\n",
    "        'New York City': (40.72, 74.00),\n",
    "        'Los Angeles': (34.05, 118.25),\n",
    "        'Chicago': (41.88, 87.63),\n",
    "        'Houston': (29.77, 95.38),\n",
    "        'Phoenix': (33.45, 112.07),\n",
    "        'Philadelphia': (39.95, 75.17),\n",
    "        'San Antonio': (29.53, 98.47),\n",
    "        'Dallas': (32.78, 96.80),\n",
    "        'San Diego': (32.78, 117.15),\n",
    "        'San Jose': (37.30, 121.87),\n",
    "        'Detroit': (42.33, 83.05),\n",
    "        'San Francisco': (37.78, 122.42),\n",
    "        'Jacksonville': (30.32, 81.70),\n",
    "        'Indianapolis': (39.78, 86.15),\n",
    "        'Austin': (30.27, 97.77),\n",
    "        'Columbus': (39.98, 82.98),\n",
    "        'Fort Worth': (32.75, 97.33),\n",
    "        'Charlotte': (35.23, 80.85),\n",
    "        'Memphis': (35.12, 89.97),\n",
    "        'Baltimore': (39.28, 76.62)\n",
    "    }\n",
    "\n",
    "    # initial state, a randomly-ordered itinerary\n",
    "    init_state = list(cities.keys())\n",
    "    random.shuffle(init_state)\n",
    "\n",
    "    # create a distance matrix\n",
    "    distance_matrix = {}\n",
    "    for ka, va in cities.items():\n",
    "        distance_matrix[ka] = {}\n",
    "        for kb, vb in cities.items():\n",
    "            if kb == ka:\n",
    "                distance_matrix[ka][kb] = 0.0\n",
    "            else:\n",
    "                distance_matrix[ka][kb] = distance(va, vb)\n",
    "\n",
    "    tsp = TravellingSalesmanProblem(init_state, distance_matrix)\n",
    "    # since our state is just a list, slice is the fastest way to copy\n",
    "    tsp.copy_strategy = \"slice\"  \n",
    "    state, e = tsp.anneal()\n",
    "\n",
    "    while state[0] != 'New York City':\n",
    "        state = state[1:] + state[:1]  # rotate NYC to start\n",
    "    print(\"%i mile route:\" % e)\n",
    "    for city in state:\n",
    "        print(\"\\t\", city)"
   ]
  }
 ],
 "metadata": {
  "anaconda-cloud": {},
  "kernelspec": {
   "display_name": "Python 2",
   "language": "python",
   "name": "python2"
  },
  "language_info": {
   "codemirror_mode": {
    "name": "ipython",
    "version": 2
   },
   "file_extension": ".py",
   "mimetype": "text/x-python",
   "name": "python",
   "nbconvert_exporter": "python",
   "pygments_lexer": "ipython2",
   "version": "2.7.13"
  }
 },
 "nbformat": 4,
 "nbformat_minor": 1
}
